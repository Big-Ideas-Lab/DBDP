{
 "cells": [
  {
   "cell_type": "markdown",
   "metadata": {},
   "source": [
    "## Import Libraries\n",
    "Dependencies include python time library, numpy, matplotlib, scipy, pandas and sklearn"
   ]
  },
  {
   "cell_type": "code",
   "execution_count": 32,
   "metadata": {},
   "outputs": [
    {
     "name": "stdout",
     "output_type": "stream",
     "text": [
      "The autoreload extension is already loaded. To reload it, use:\n",
      "  %reload_ext autoreload\n"
     ]
    }
   ],
   "source": [
    "# import libraries\n",
    "from time import time\n",
    "import numpy as np\n",
    "import matplotlib.pyplot as plt\n",
    "import scipy\n",
    "import pandas as pd\n",
    "import sklearn\n",
    "from sklearn import metrics\n",
    "from sklearn.metrics import classification_report\n",
    "from sklearn.metrics import roc_curve\n",
    "from sklearn.metrics import roc_auc_score\n",
    "from sklearn.metrics import precision_recall_curve\n",
    "from sklearn.metrics import f1_score\n",
    "from sklearn.metrics import auc\n",
    "from sklearn.model_selection import train_test_split\n",
    "from sklearn.model_selection import GridSearchCV, cross_val_score, KFold\n",
    "from sklearn.model_selection import cross_val_score\n",
    "\n",
    "%matplotlib inline\n",
    "plt.rcParams['figure.figsize'] = (5.0, 4.0) # set default size of plots\n",
    "plt.rcParams['image.interpolation'] = 'nearest'\n",
    "plt.rcParams['image.cmap'] = 'gray'\n",
    "\n",
    "%load_ext autoreload\n",
    "%autoreload 2\n",
    "\n",
    "np.random.seed(1)"
   ]
  },
  {
   "cell_type": "markdown",
   "metadata": {},
   "source": [
    "## Help Functions for Classification"
   ]
  },
  {
   "cell_type": "code",
   "execution_count": 4,
   "metadata": {},
   "outputs": [],
   "source": [
    "def read_subject_sleep(id):\n",
    "###\n",
    "# read csv files of subjects in and output sleeps, epochs and heartrate\n",
    "###\n",
    "    sleepLabelled_fname = \"../sleepLabelled/sleepLabelled_{}.csv\".format(id)\n",
    "    \n",
    "    sleep = pd.read_csv(sleepLabelled_fname)\n",
    "    \n",
    "    return sleep"
   ]
  },
  {
   "cell_type": "code",
   "execution_count": 9,
   "metadata": {},
   "outputs": [],
   "source": [
    "def read_all_subjects_sleep():\n",
    "    # define subject ids here to read all the files\n",
    "    studyIds = [\"CRP{0:03d}\".format(i+1) for i in range(60)]\n",
    "    studyIds.remove(\"CRP013\")\n",
    "    \n",
    "    all_sleeps = []\n",
    "    \n",
    "    for s_id in studyIds:\n",
    "        sleep = read_subject_sleep(s_id)\n",
    "        all_sleeps.append(sleep)\n",
    "    \n",
    "    return all_sleeps"
   ]
  },
  {
   "cell_type": "code",
   "execution_count": 21,
   "metadata": {},
   "outputs": [],
   "source": [
    "def plot_roc_curve(clf, X_test, y_test):\n",
    "    ns_probs = [0 for _ in range(len(y_test))]\n",
    "    lr_probs = clf.predict_proba(X_test)\n",
    "    # keep probabilities for the positive outcome only\n",
    "    lr_probs = lr_probs[:, 1]\n",
    "    # calculate scores\n",
    "    ns_auc = roc_auc_score(y_test, ns_probs)\n",
    "    lr_auc = roc_auc_score(y_test, lr_probs)\n",
    "\n",
    "    # calculate roc curves\n",
    "    ns_fpr, ns_tpr, _ = roc_curve(y_test, ns_probs)\n",
    "    lr_fpr, lr_tpr, _ = roc_curve(y_test, lr_probs)\n",
    "    # plot the roc curve for the model\n",
    "    plt.plot(ns_fpr, ns_tpr, linestyle='--')\n",
    "    plt.plot(lr_fpr, lr_tpr, marker='.', label= str(type(clf).__name__)+' (area = {0:0.2f})'.format(lr_auc ) )\n",
    "    # axis labels\n",
    "    plt.xlabel('False Positive Rate')\n",
    "    plt.ylabel('True Positive Rate')\n",
    "    plt.title('Receiver Operating Characteristic Curve', pad= 20.0, fontdict= {'fontsize':15})\n",
    "    # show the legend\n",
    "    plt.legend()\n",
    "    plt.show()"
   ]
  },
  {
   "cell_type": "code",
   "execution_count": 22,
   "metadata": {},
   "outputs": [],
   "source": [
    "def plot_precision_recall_curve(clf, X_test, y_test):  \n",
    "    ns_probs = [0 for _ in range(len(y_test))]\n",
    "    lr_probs = clf.predict_proba(X_test)\n",
    "    lr_precision, lr_recall, _ = precision_recall_curve(y_test, lr_probs)\n",
    "    lr_f1, lr_auc = f1_score(y_test, y_pred), auc(lr_recall, lr_precision)\n",
    "    # summarize scores\n",
    "    print('f1=%.3f auc=%.3f' % (lr_f1, lr_auc))\n",
    "    # plot the precision-recall curves\n",
    "    no_skill = len(y_test[y_test==1]) / len(y_test)\n",
    "    plt.plot([0, 1], [no_skill, no_skill], linestyle='--', label='No Effect')\n",
    "    pyplot.plot(lr_recall, lr_precision, marker='.', label= str(type(clf).__name__) + '(area = {0:0.2f})'.format(lr_auc ))\n",
    "    # axis labels\n",
    "    plt.xlabel('Recall')\n",
    "    plt.ylabel('Precision')\n",
    "    plt.title('Precision-Recall Curve', pad= 20.0, fontdict= {'fontsize':15})\n",
    "    # show the legend\n",
    "    plt.legend()\n",
    "    # show the plot\n",
    "    plt.show()"
   ]
  },
  {
   "cell_type": "markdown",
   "metadata": {},
   "source": [
    "### Read all subject files\n",
    "Perform test and training split"
   ]
  },
  {
   "cell_type": "code",
   "execution_count": 10,
   "metadata": {},
   "outputs": [],
   "source": [
    "dir_sleep_labelled = \"../sleepLabelled/\"\n",
    "dir_aggregate = \"../aggregateData/\"\n",
    "\n",
    "# read in all subjects labelled sleep csv files\n",
    "all_sleeps = read_all_subjects_sleep()\n",
    "# concatenate all sleep periods\n",
    "sleep_dataset = pd.concat(all_sleeps, ignore_index=True, sort=False)\n",
    "# feature transform\n",
    "colnames = list(sleep_dataset.columns.values)\n",
    "y = sleep_dataset[\"sleepLabel\"].copy()\n",
    "X = sleep_dataset.drop(colnames[0:60]+['sleepLabel', \n",
    "                                       'steps', \n",
    "                                       'distanceInMeters', \n",
    "                                       'studyId', \n",
    "                                       'startDateTime'],axis = 1).copy()\n",
    "X['HRstd'] = X['HRstd']**2\n",
    "X = sklearn.preprocessing.normalize(X, axis = 0)\n",
    "y[y<0]=0\n",
    "y = y.to_numpy()\n",
    "y=y.astype('int')\n",
    "\n",
    "X_train, X_test, y_train, y_test = train_test_split(X, y, test_size=0.20, random_state=0)"
   ]
  },
  {
   "cell_type": "markdown",
   "metadata": {},
   "source": [
    "### Trying models\n"
   ]
  },
  {
   "cell_type": "code",
   "execution_count": 25,
   "metadata": {},
   "outputs": [
    {
     "name": "stdout",
     "output_type": "stream",
     "text": [
      "Training Accuracy\n",
      "0.9443717454064701\n",
      "Testing Accuracy\n",
      "0.943718972587956\n",
      "              precision    recall  f1-score   support\n",
      "\n",
      "           0       0.96      0.92      0.94     17637\n",
      "           1       0.93      0.96      0.95     19427\n",
      "\n",
      "    accuracy                           0.94     37064\n",
      "   macro avg       0.94      0.94      0.94     37064\n",
      "weighted avg       0.94      0.94      0.94     37064\n",
      "\n"
     ]
    },
    {
     "data": {
      "image/png": "[encoded data removed]",
      "text/plain": [
       "<Figure size 360x288 with 1 Axes>"
      ]
     },
     "metadata": {
      "needs_background": "light"
     },
     "output_type": "display_data"
    }
   ],
   "source": [
    "from sklearn.linear_model import LogisticRegressionCV\n",
    "lg = LogisticRegressionCV(cv=5, random_state=0).fit(X_train, y_train)\n",
    "print(\"Training Accuracy\")\n",
    "print(lg.score(X_train, y_train))\n",
    "y_pred = lg.predict(X_test)\n",
    "print(\"Testing Accuracy\")\n",
    "print(lg.score(X_test, y_test))\n",
    "print(classification_report(y_test, y_pred))\n",
    "plot_roc_curve(lg, X_test, y_test)"
   ]
  },
  {
   "cell_type": "code",
   "execution_count": 29,
   "metadata": {},
   "outputs": [
    {
     "name": "stdout",
     "output_type": "stream",
     "text": [
      "Training Accuracy\n",
      "0.9287699322774735\n",
      "Testing Accuracy\n",
      "0.9250215842866393\n",
      "              precision    recall  f1-score   support\n",
      "\n",
      "           0       0.97      0.87      0.92     17637\n",
      "           1       0.89      0.98      0.93     19427\n",
      "\n",
      "    accuracy                           0.93     37064\n",
      "   macro avg       0.93      0.92      0.92     37064\n",
      "weighted avg       0.93      0.93      0.92     37064\n",
      "\n"
     ]
    },
    {
     "data": {
      "text/plain": [
       "0.9224705762489145"
      ]
     },
     "execution_count": 29,
     "metadata": {},
     "output_type": "execute_result"
    }
   ],
   "source": [
    "# ridge regression\n",
    "from sklearn.linear_model import RidgeClassifierCV\n",
    "rgcv = RidgeClassifierCV(alphas=[1e-3, 1e-2, 1e-1, 1, 10]).fit(X_train, y_train)\n",
    "rgcv.score(X, y)\n",
    "print(\"Training Accuracy\")\n",
    "print(rgcv.score(X_train, y_train))\n",
    "y_pred = rgcv.predict(X_test)\n",
    "print(\"Testing Accuracy\")\n",
    "print(rgcv.score(X_test, y_test))\n",
    "print(classification_report(y_test, y_pred))\n",
    "roc_auc_score(y_test, y_pred)"
   ]
  },
  {
   "cell_type": "code",
   "execution_count": 33,
   "metadata": {},
   "outputs": [
    {
     "name": "stdout",
     "output_type": "stream",
     "text": [
      "Training Accuracy\n",
      "0.9475285324987184\n",
      "Testing Accuracy\n",
      "0.9467677530757609\n",
      "              precision    recall  f1-score   support\n",
      "\n",
      "           0       0.95      0.94      0.94     17637\n",
      "           1       0.94      0.96      0.95     19427\n",
      "\n",
      "    accuracy                           0.95     37064\n",
      "   macro avg       0.95      0.95      0.95     37064\n",
      "weighted avg       0.95      0.95      0.95     37064\n",
      "\n",
      "CV Accuracy: 0.94 (+/- 0.05)\n"
     ]
    }
   ],
   "source": [
    "# random forest\n",
    "from sklearn.ensemble import RandomForestClassifier\n",
    "rf = RandomForestClassifier(max_depth=6, random_state=0).fit(X,y)\n",
    "rf.score(X, y)\n",
    "print(\"Training Accuracy\")\n",
    "print(rf.score(X_train, y_train))\n",
    "y_pred = rf.predict(X_test)\n",
    "print(\"Testing Accuracy\")\n",
    "print(rf.score(X_test, y_test))\n",
    "print(classification_report(y_test, y_pred))\n",
    "scores = cross_val_score(rf, X, y, cv=5)\n",
    "print(\"CV Accuracy: %0.2f (+/- %0.2f)\" % (scores.mean(), scores.std() * 2))"
   ]
  },
  {
   "cell_type": "code",
   "execution_count": 23,
   "metadata": {},
   "outputs": [
    {
     "name": "stdout",
     "output_type": "stream",
     "text": [
      "None nested scores:\n",
      "[0.94796698]\n",
      "Nested scores:\n",
      "[0.94798721]\n"
     ]
    }
   ],
   "source": [
    "def random_forest_nested_CV(clf, X_train, y_train):\n",
    "    # Number of random trials\n",
    "    NUM_TRIALS = 1\n",
    "\n",
    "    # Set up possible values of parameters to optimize over\n",
    "    p_grid = {\"max_depth\": [3, 5, 7],\n",
    "              \"n_estimators\": [10, 100]}\n",
    "\n",
    "    # Arrays to store scores\n",
    "    non_nested_scores = np.zeros(NUM_TRIALS)\n",
    "    nested_scores = np.zeros(NUM_TRIALS)\n",
    "\n",
    "    # Loop for each trial\n",
    "    for i in range(NUM_TRIALS):\n",
    "\n",
    "        # Choose cross-validation techniques for the inner and outer loops,\n",
    "        # independently of the dataset.\n",
    "        # E.g \"GroupKFold\", \"LeaveOneOut\", \"LeaveOneGroupOut\", etc.\n",
    "        inner_cv = KFold(n_splits=5, shuffle=True, random_state=i)\n",
    "        outer_cv = KFold(n_splits=5, shuffle=True, random_state=i)\n",
    "\n",
    "        # Non_nested parameter search and scoring\n",
    "        clf = GridSearchCV(estimator=rfc, param_grid=p_grid, cv=inner_cv)\n",
    "        clf.fit(X_train, y_train)\n",
    "        non_nested_scores[i] = clf.best_score_\n",
    "\n",
    "        # Nested CV with parameter optimization\n",
    "        nested_score = cross_val_score(clf, X=X_train, y=y_train, cv=outer_cv)\n",
    "        nested_scores[i] = nested_score.mean()\n",
    "    print(\"None nested scores:\")    \n",
    "    print(non_nested_scores)\n",
    "    print(\"Nested scores:\")\n",
    "    print(nested_scores)\n"
   ]
  },
  {
   "cell_type": "code",
   "execution_count": 36,
   "metadata": {},
   "outputs": [
    {
     "name": "stdout",
     "output_type": "stream",
     "text": [
      "Training Accuracy\n",
      "0.941963683457896\n",
      "Testing Accuracy\n",
      "0.9413986617742284\n",
      "              precision    recall  f1-score   support\n",
      "\n",
      "           0       0.95      0.92      0.94     17637\n",
      "           1       0.93      0.96      0.94     19427\n",
      "\n",
      "    accuracy                           0.94     37064\n",
      "   macro avg       0.94      0.94      0.94     37064\n",
      "weighted avg       0.94      0.94      0.94     37064\n",
      "\n",
      "CV Accuracy: 0.85 (+/- 0.36)\n"
     ]
    }
   ],
   "source": [
    "# adaboost\n",
    "from sklearn.ensemble import AdaBoostClassifier\n",
    "adab = AdaBoostClassifier(n_estimators=25, random_state=0).fit(X_train, y_train)\n",
    "print(\"Training Accuracy\")\n",
    "print(adab.score(X_train, y_train))\n",
    "y_pred = adab.predict(X_test)\n",
    "print(\"Testing Accuracy\")\n",
    "print(adab.score(X_test, y_test))\n",
    "print(classification_report(y_test, y_pred))\n",
    "scores = cross_val_score(adab, X, y, cv=5)\n",
    "print(\"CV Accuracy: %0.2f (+/- %0.2f)\" % (scores.mean(), scores.std() * 2))"
   ]
  },
  {
   "cell_type": "code",
   "execution_count": 38,
   "metadata": {},
   "outputs": [
    {
     "name": "stdout",
     "output_type": "stream",
     "text": [
      "Training Accuracy\n",
      "0.9470631087607587\n",
      "Testing Accuracy\n",
      "0.9464170084178718\n",
      "              precision    recall  f1-score   support\n",
      "\n",
      "           0       0.95      0.93      0.94     17637\n",
      "           1       0.94      0.96      0.95     19427\n",
      "\n",
      "    accuracy                           0.95     37064\n",
      "   macro avg       0.95      0.95      0.95     37064\n",
      "weighted avg       0.95      0.95      0.95     37064\n",
      "\n",
      "Accuracy: 0.95 (+/- 0.03)\n"
     ]
    }
   ],
   "source": [
    "from sklearn import svm\n",
    "svc = svm.SVC(kernel='rbf').fit(X_train, y_train)\n",
    "print(\"Training Accuracy\")\n",
    "print(svc.score(X_train, y_train))\n",
    "y_pred = svc.predict(X_test)\n",
    "print(\"Testing Accuracy\")\n",
    "print(svc.score(X_test, y_test))\n",
    "print(classification_report(y_test, y_pred))\n",
    "scores = cross_val_score(svc, X, y, cv=5)\n",
    "print(\"Accuracy: %0.2f (+/- %0.2f)\" % (scores.mean(), scores.std() * 2))"
   ]
  },
  {
   "cell_type": "markdown",
   "metadata": {},
   "source": [
    "# Predict on all other epochs based on feature engineering"
   ]
  },
  {
   "cell_type": "code",
   "execution_count": 46,
   "metadata": {},
   "outputs": [],
   "source": [
    "def read_all_aggregate():\n",
    "    studyIds = [\"CRP{0:03d}\".format(i+1) for i in range(60)]\n",
    "    studyIds.remove(\"CRP013\")\n",
    "    \n",
    "    all_aggregates= []\n",
    "    \n",
    "    for s_id in studyIds:\n",
    "        a = pd.read_csv(\"../aggregateData/aggregate_fe_{}.csv\".format(s_id))\n",
    "        all_aggregates.append(a)\n",
    "    \n",
    "    return all_aggregates"
   ]
  },
  {
   "cell_type": "code",
   "execution_count": 47,
   "metadata": {},
   "outputs": [],
   "source": [
    "def feature_transform(aggre):\n",
    "    colnames = list(aggre.columns.values)\n",
    "    X = aggre.copy().drop(colnames[0:60]+['sleepLabel', 'steps', 'distanceInMeters', 'studyId', 'startDateTime'],axis = 1)\n",
    "    X['HRstd'] = X['HRstd']**2\n",
    "    X = sklearn.preprocessing.normalize(X, axis = 0)\n",
    "    return X"
   ]
  },
  {
   "cell_type": "code",
   "execution_count": 48,
   "metadata": {},
   "outputs": [],
   "source": [
    "def predict_sleep(clf, aggre):\n",
    "    aggre_fe = feature_transform(aggre)\n",
    "    y_pred = clf.predict(aggre_fe)\n",
    "    studyId = aggre['studyId'][0]\n",
    "    aggre['predictedSleep'] = y_pred\n",
    "    aggre.to_csv(\"../aggregateData/aggregate_fe_predlabel_{}.csv\".format(studyId))"
   ]
  },
  {
   "cell_type": "code",
   "execution_count": 49,
   "metadata": {},
   "outputs": [],
   "source": [
    "all_aggregates = read_all_aggregate()"
   ]
  },
  {
   "cell_type": "code",
   "execution_count": 50,
   "metadata": {},
   "outputs": [],
   "source": [
    "for aggregate in all_aggregates:\n",
    "    predict_sleep(clf, aggregate)"
   ]
  }
 ],
 "metadata": {
  "kernelspec": {
   "display_name": "Python 3",
   "language": "python",
   "name": "python3"
  },
  "language_info": {
   "codemirror_mode": {
    "name": "ipython",
    "version": 3
   },
   "file_extension": ".py",
   "mimetype": "text/x-python",
   "name": "python",
   "nbconvert_exporter": "python",
   "pygments_lexer": "ipython3",
   "version": "3.6.10"
  }
 },
 "nbformat": 4,
 "nbformat_minor": 2
}
