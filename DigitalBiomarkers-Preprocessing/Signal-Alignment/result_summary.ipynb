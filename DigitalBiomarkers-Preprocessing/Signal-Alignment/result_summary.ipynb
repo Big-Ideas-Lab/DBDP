{
 "cells": [
  {
   "cell_type": "code",
   "execution_count": 1,
   "metadata": {},
   "outputs": [],
   "source": [
    "import pandas as pd\n",
    "from scipy.stats import wilcoxon as wil"
   ]
  },
  {
   "cell_type": "code",
   "execution_count": 2,
   "metadata": {},
   "outputs": [],
   "source": [
    "ss_df = pd.read_csv(\"F://360MoveData//Users//admin//Desktop//backup and sync//1Lab//ibeat-edtw//ss_of_DTW.csv\")"
   ]
  },
  {
   "cell_type": "code",
   "execution_count": 3,
   "metadata": {},
   "outputs": [
    {
     "data": {
      "text/plain": [
       "Index(['s_id', 'ss_dtw', 'ss_edtw', 'Unnamed: 3', 'Unnamed: 4'], dtype='object')"
      ]
     },
     "execution_count": 3,
     "metadata": {},
     "output_type": "execute_result"
    }
   ],
   "source": [
    "ss_df.columns"
   ]
  },
  {
   "cell_type": "code",
   "execution_count": 4,
   "metadata": {},
   "outputs": [],
   "source": [
    "ss_dtw = ss_df['ss_dtw'].values\n",
    "ss_edtw = ss_df['ss_edtw'].values"
   ]
  },
  {
   "cell_type": "code",
   "execution_count": 5,
   "metadata": {},
   "outputs": [],
   "source": [
    "ss_diff = []\n",
    "for i in range(len(ss_dtw)):\n",
    "    ss_diff.append(ss_dtw[i]-ss_edtw[i])"
   ]
  },
  {
   "cell_type": "code",
   "execution_count": 6,
   "metadata": {},
   "outputs": [
    {
     "data": {
      "text/plain": [
       "WilcoxonResult(statistic=19.0, pvalue=7.202702593599389e-06)"
      ]
     },
     "execution_count": 6,
     "metadata": {},
     "output_type": "execute_result"
    }
   ],
   "source": [
    "wil(ss_diff)"
   ]
  },
  {
   "cell_type": "code",
   "execution_count": 7,
   "metadata": {},
   "outputs": [
    {
     "data": {
      "text/plain": [
       "[73.52373420000004,\n",
       " 120.52094970000007,\n",
       " 29.077669900000046,\n",
       " 189.09722219999992,\n",
       " 42.265645600000056,\n",
       " 25.044586000000038,\n",
       " 29.006152200000002,\n",
       " 7.0470589000000246,\n",
       " 29.982716100000005,\n",
       " 113.67328240000006,\n",
       " 25.792207770000005,\n",
       " 5.285714299999995,\n",
       " -16.230684300000036,\n",
       " 23.331618799999887,\n",
       " 146.69029649999993,\n",
       " 35.12087909999991,\n",
       " 0.0,\n",
       " 1.741935500000011,\n",
       " -20.189912599999957,\n",
       " 3.5070423000000233,\n",
       " 102.38787500000001,\n",
       " 0.0,\n",
       " 0.0,\n",
       " 21.734806600000013,\n",
       " 22.491829999999993,\n",
       " 0.0,\n",
       " 93.11160719999998,\n",
       " 101.48593419999997,\n",
       " 77.2626703,\n",
       " 0.0,\n",
       " 146.62736600000008,\n",
       " 7.423076899999984,\n",
       " 7.044025200000021,\n",
       " 0.0,\n",
       " 52.65596850000003,\n",
       " 0.0,\n",
       " -2.449987199999896,\n",
       " 29.66962030000002]"
      ]
     },
     "execution_count": 7,
     "metadata": {},
     "output_type": "execute_result"
    }
   ],
   "source": [
    "ss_diff"
   ]
  },
  {
   "cell_type": "code",
   "execution_count": null,
   "metadata": {},
   "outputs": [],
   "source": []
  }
 ],
 "metadata": {
  "kernelspec": {
   "display_name": "Python 3",
   "language": "python",
   "name": "python3"
  },
  "language_info": {
   "codemirror_mode": {
    "name": "ipython",
    "version": 3
   },
   "file_extension": ".py",
   "mimetype": "text/x-python",
   "name": "python",
   "nbconvert_exporter": "python",
   "pygments_lexer": "ipython3",
   "version": "3.7.1"
  }
 },
 "nbformat": 4,
 "nbformat_minor": 2
}
