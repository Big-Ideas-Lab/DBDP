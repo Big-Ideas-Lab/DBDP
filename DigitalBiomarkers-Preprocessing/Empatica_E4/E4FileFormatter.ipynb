{
 "cells": [
  {
   "cell_type": "markdown",
   "metadata": {},
   "source": [
    "# E4FileFormatter\n",
    "The E4FileFormatter is for longitudinal studies with the wearable sensor the Empatica E4. It compiles all .csv of sensors of varying time lengths and merges all into a complete .csv for each sensor for the duration of the study.\n",
    "***\n",
    "\n",
    "##### **Input:** Unzipped files of raw .csv files downloaded from Empatica. (You only need to specify files)\n",
    "##### **Output:** Properly formatted .csv files compiled from all recordings with correct datatimestamps\n",
    "***\n",
    "\n",
    "##### Format of input: \n",
    "Configuration of folders/files: \n",
    "  > Folder for each participant ->\n",
    "  > Folder named Empatica ->\n",
    "  > Downloaded all folders (originally zipped) containing csv files from Empatica session\n",
    "            \n",
    "***\n",
    "\n",
    "**Check:** \n",
    "* Time Zone Correction- may need to change this dependent on time zone the data from the watch was uploaded via the E4 Portal\n",
    "\n",
    "**Sources:**\n",
    "* Empatica Timestamp Explanation: https://support.empatica.com/hc/en-us/articles/202800715-Session-start-time-format-and-synchronization-\n",
    "* GitHub with helpful ideas on E4 Data here: https://github.com/Ev4ngelos/EmpaticaBiophysicalSync/blob/master/E4BioSync.py"
   ]
  },
  {
   "cell_type": "markdown",
   "metadata": {},
   "source": [
    "***\n",
    "***\n",
    "### First, you need to Unzip files: \n",
    "Using Bash/Terminal:\n",
    "* cd to directory then:\n",
    "* find -name '*.zip' -exec sh -c 'unzip -d \"${1%.*}\" \"$1\"' _ {} \\;"
   ]
  },
  {
   "cell_type": "raw",
   "metadata": {},
   "source": [
    "find -name '*.zip' -exec sh -c 'unzip -d \"${1%.*}\" \"$1\"' _ {} \\;"
   ]
  },
  {
   "cell_type": "markdown",
   "metadata": {},
   "source": [
    "***"
   ]
  },
  {
   "cell_type": "markdown",
   "metadata": {},
   "source": [
    "## User-defined Input:"
   ]
  },
  {
   "cell_type": "code",
   "execution_count": null,
   "metadata": {},
   "outputs": [],
   "source": [
    "theid = '00000' #This is the subject ID number (name of file)\n",
    "filesource = 'C:/Users/X/X/' #This is the source folder that contains all of your participant folders"
   ]
  },
  {
   "cell_type": "markdown",
   "metadata": {},
   "source": [
    "***"
   ]
  },
  {
   "cell_type": "code",
   "execution_count": null,
   "metadata": {},
   "outputs": [],
   "source": [
    "import csv\n",
    "import datetime\n",
    "import math\n",
    "import time\n",
    "import collections\n",
    "from collections import OrderedDict\n",
    "import os.path\n",
    "import pandas as pd\n",
    "import glob"
   ]
  },
  {
   "cell_type": "markdown",
   "metadata": {},
   "source": [
    "## Import & Format EDA, TEMP, HR, BVP\n",
    "Functions: \n",
    "* readFile() - reads file into dictionary and corrects for time zone\n",
    "* formatFile() - formats into dataframe with time as timestamp using datetime (ISO8601), formats sensor values to float, writes to .csv\n",
    "* importandexport() - finds all files of sensor type in participant folder and runs formatfile for each input file"
   ]
  },
  {
   "cell_type": "code",
   "execution_count": null,
   "metadata": {},
   "outputs": [],
   "source": [
    "def readFile(file):\n",
    "    dict = OrderedDict()\n",
    "\n",
    "    with open(file, 'rt') as csvfile:\n",
    "        reader = csv.reader(csvfile, delimiter='\\n')\n",
    "        i =0;\n",
    "        for row in reader:\n",
    "            if(i==0):\n",
    "                timestamp=row[0]\n",
    "                #print(timestamp)\n",
    "                timestamp=float(timestamp)-3600*4 #Time Zone Correction - will need to change depending on time zone!\n",
    "                #print(timestamp)\n",
    "            elif(i==1):\n",
    "                hertz = float(row[0])\n",
    "            elif(i==2):\n",
    "                dict[timestamp]=row[0]\n",
    "            else:\n",
    "                timestamp = timestamp + 1.0/hertz\n",
    "                dict[timestamp]=row[0]\n",
    "            i = i+1.0\n",
    "    return dict"
   ]
  },
  {
   "cell_type": "code",
   "execution_count": null,
   "metadata": {},
   "outputs": [],
   "source": [
    "def formatfile(file, idd, typed):\n",
    "    EDA = {}\n",
    "    EDA = readFile(file = file)\n",
    "    EDA =  {datetime.datetime.utcfromtimestamp(k).strftime('%Y-%m-%d %H:%M:%S.%f'): v for k, v in EDA.items()}\n",
    "    EDAdf = pd.DataFrame.from_dict(EDA, orient='index', columns=['EDA'])\n",
    "    EDAdf['EDA'] = EDAdf['EDA'].astype(float)\n",
    "    \n",
    "    EDAdf['Datetime'] =EDAdf.index\n",
    "    EDAdf['Datetime'] = pd.to_datetime(EDAdf['Datetime'], format='%Y-%m-%dT%H:%M:%S.%f')\n",
    "    EDAdf  = EDAdf.set_index('Datetime')\n",
    "    \n",
    "    out_filename = (filesource + idd + '/' + typed + '.csv')\n",
    "    EDAdf.to_csv(out_filename, mode='a', header=False)\n",
    "    print('Done')"
   ]
  },
  {
   "cell_type": "code",
   "execution_count": null,
   "metadata": {},
   "outputs": [],
   "source": [
    "def importandexport(idd, typed):\n",
    "    configfiles = glob.glob((filesource + idd + '/Empatica/*/' + typed + '.csv'))\n",
    "    print(configfiles)\n",
    "    \n",
    "    [formatfile(file, idd, typed) for file in configfiles]\n",
    "    print(('Completed Import and Export of:' + typed))"
   ]
  },
  {
   "cell_type": "code",
   "execution_count": null,
   "metadata": {},
   "outputs": [],
   "source": [
    "listtyped = ['EDA','TEMP', 'HR','BVP'] \n",
    "[importandexport(theid, typed) for typed in listtyped]"
   ]
  },
  {
   "cell_type": "markdown",
   "metadata": {},
   "source": [
    "## Import & Format ACC\n",
    "Functions: \n",
    "* processAcceleration() - converts 3 axis to float values\n",
    "* readAccFile() - reads file into dictionary and corrects for time zone\n",
    "* formatAccFile() - formats into dataframe with time as timestamp using datetime (ISO8601), formats sensor values to float, writes to .csv\n",
    "* importandexport() - finds all files of sensor type 'ACC' in participant folder and runs formatfile for each input file"
   ]
  },
  {
   "cell_type": "code",
   "execution_count": null,
   "metadata": {},
   "outputs": [],
   "source": [
    "def processAcceleration(x,y,z):\n",
    "    x = float(x)\n",
    "    y = float(y)\n",
    "    z = float(z) \n",
    "    return {'x':x,'y':y,'z':z}"
   ]
  },
  {
   "cell_type": "code",
   "execution_count": null,
   "metadata": {},
   "outputs": [],
   "source": [
    "def readAccFile(file):\n",
    "    dict = OrderedDict()\n",
    "    \n",
    "    with open(file, 'rt') as csvfile:\n",
    "        reader = csv.reader(csvfile, delimiter=',')\n",
    "        i=0;\n",
    "        for row in reader:\n",
    "            if(i == 0):\n",
    "                timestamp = float(row[0])-3600*4 #Time Zone Correction\n",
    "            elif(i == 1):    \n",
    "                hertz=float(row[0])\n",
    "            elif(i == 2):\n",
    "                dict[timestamp]= processAcceleration(row[0],row[1],row[2])\n",
    "            else:\n",
    "                timestamp = timestamp + 1.0/hertz \n",
    "                dict[timestamp] = processAcceleration(row[0],row[1],row[2])\n",
    "            i = i + 1\n",
    "        return dict"
   ]
  },
  {
   "cell_type": "code",
   "execution_count": null,
   "metadata": {},
   "outputs": [],
   "source": [
    "def formatAccfile(file, idd, typed):\n",
    "    EDA = {}\n",
    "    EDA = readAccFile(file = file)\n",
    "    EDA =  {datetime.datetime.utcfromtimestamp(k).strftime('%Y-%m-%d %H:%M:%S.%f'): v for k, v in EDA.items()}\n",
    "    EDAdf = pd.DataFrame.from_dict(EDA, orient='index', columns=['x', 'y', 'z'])\n",
    "    \n",
    "    EDAdf['x'] = EDAdf['x'].astype(float)\n",
    "    EDAdf['y'] = EDAdf['y'].astype(float)\n",
    "    EDAdf['z'] = EDAdf['z'].astype(float)\n",
    "    \n",
    "    EDAdf['Datetime'] =EDAdf.index\n",
    "    EDAdf['Datetime'] = pd.to_datetime(EDAdf['Datetime'], format='%Y-%m-%dT%H:%M:%S.%f')\n",
    "    EDAdf  = EDAdf.set_index('Datetime')\n",
    "    \n",
    "    out_filename = (filesource + idd + '/' + typed + '.csv')\n",
    "    EDAdf.to_csv(out_filename, mode='a', header=False)\n",
    "    print('Done')"
   ]
  },
  {
   "cell_type": "code",
   "execution_count": null,
   "metadata": {},
   "outputs": [],
   "source": [
    "def importandexportAcc(idd, typed):\n",
    "    configfiles = glob.glob((filesource + idd + '/Empatica/*/' + typed + '.csv'))\n",
    "    print(configfiles)\n",
    "    \n",
    "    [formatAccfile(file, idd, typed) for file in configfiles]\n",
    "    print(('Completed Import and Export of:' + typed))"
   ]
  },
  {
   "cell_type": "code",
   "execution_count": null,
   "metadata": {},
   "outputs": [],
   "source": [
    "importandexportAcc(theid, 'ACC') "
   ]
  },
  {
   "cell_type": "markdown",
   "metadata": {},
   "source": [
    "## Import & Format IBI\n",
    "Functions: \n",
    "* importIBI() - reads file into dataframe and corrects for time zone, formats time as timestamp using datetime (ISO8601), formats sensor values to float, writes to .csv\n",
    "* importandexportIBI() - finds all files of sensor type 'IBI' in participant folder and runs importIBI() for each input file"
   ]
  },
  {
   "cell_type": "code",
   "execution_count": null,
   "metadata": {},
   "outputs": [],
   "source": [
    "def importIBI(file, idd, typed):\n",
    "    IBI = pd.read_csv(file, header=None)\n",
    "    timestampstart = float(IBI[0][0])-3600*4\n",
    "    IBI[0] = (IBI[0][1:len(IBI)]).astype(float)+timestampstart\n",
    "    IBI = IBI.drop([0])\n",
    "    IBI[0] = IBI[0].apply(lambda x: datetime.datetime.utcfromtimestamp(x).strftime('%Y-%m-%d %H:%M:%S.%f'))\n",
    "    IBI  = IBI.set_index(0)\n",
    "    \n",
    "    out_filename = (filesource + idd + '/' + typed + '.csv')\n",
    "    IBI.to_csv(out_filename, mode='a', header=False)\n",
    "    print('Done')"
   ]
  },
  {
   "cell_type": "code",
   "execution_count": null,
   "metadata": {},
   "outputs": [],
   "source": [
    "def importandexportIBI(idd, typed):\n",
    "    configfiles = glob.glob((filesource + idd + '/Empatica/*/' + typed + '.csv'))\n",
    "    print(configfiles)\n",
    "    \n",
    "    [importIBI(file, idd, typed) for file in configfiles]\n",
    "    print(('Completed Import and Export of:' + typed))"
   ]
  },
  {
   "cell_type": "code",
   "execution_count": null,
   "metadata": {},
   "outputs": [],
   "source": [
    "importandexportIBI(theid, 'IBI') "
   ]
  }
 ],
 "metadata": {
  "kernelspec": {
   "display_name": "Python 3",
   "language": "python",
   "name": "python3"
  },
  "language_info": {
   "codemirror_mode": {
    "name": "ipython",
    "version": 3
   },
   "file_extension": ".py",
   "mimetype": "text/x-python",
   "name": "python",
   "nbconvert_exporter": "python",
   "pygments_lexer": "ipython3",
   "version": "3.6.9"
  }
 },
 "nbformat": 4,
 "nbformat_minor": 4
}
