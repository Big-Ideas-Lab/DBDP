{
 "cells": [
  {
   "cell_type": "markdown",
   "metadata": {},
   "source": [
    "## E4 Sensor Concatenation"
   ]
  },
  {
   "cell_type": "markdown",
   "metadata": {},
   "source": [
    "This sensor concatenation file compiles all .csv files of subjects by sensor type. A column is added with the \"Subject_ID\" and arranges the data in order of ascending ID number. The output of this function is a csv file. "
   ]
  },
  {
   "cell_type": "markdown",
   "metadata": {},
   "source": [
    "***\n",
    "\n",
    "##### **Input:** Properly formatted .csv files from the E4FileFormatter (DBDP preprocessing folder)\n",
    "\n",
    "##### **Output:** Each .csv file will consist of only one type of sensor data. A column for subject ID has been added. Data will be organized numerically, by subject ID. Headers will be based on the column names input into the function. \n",
    "***"
   ]
  },
  {
   "cell_type": "code",
   "execution_count": 1,
   "metadata": {},
   "outputs": [],
   "source": [
    "import pandas as pd\n",
    "import glob\n",
    "import os\n",
    "\n",
    "os.chdir('../00_source')"
   ]
  },
  {
   "cell_type": "markdown",
   "metadata": {},
   "source": [
    "## Import & Concatenate Sensor Data of Choice\n",
    "**Functions:**\n",
    "* $\\underline{data\\_concat()}$ - reads all files in data directory (00_source) and concatenates those of one sensor type. Adds subject ID column to resulting .csv file\n",
    "  > <span style=\"color:blue\">data</span> = data type to be concatenated as a string <br>\n",
    "  > <span style=\"color:blue\">cols</span> = column names in resulting dataframe as a list <br>\n",
    "  > <span style=\"color:blue\">file_name</span> = output .csv file name as a string <br>\n"
   ]
  },
  {
   "cell_type": "code",
   "execution_count": 6,
   "metadata": {},
   "outputs": [
    {
     "data": {
      "text/html": [
       "<div>\n",
       "<style scoped>\n",
       "    .dataframe tbody tr th:only-of-type {\n",
       "        vertical-align: middle;\n",
       "    }\n",
       "\n",
       "    .dataframe tbody tr th {\n",
       "        vertical-align: top;\n",
       "    }\n",
       "\n",
       "    .dataframe thead th {\n",
       "        text-align: right;\n",
       "    }\n",
       "</style>\n",
       "<table border=\"1\" class=\"dataframe\">\n",
       "  <thead>\n",
       "    <tr style=\"text-align: right;\">\n",
       "      <th></th>\n",
       "      <th>Time</th>\n",
       "      <th>TEMP</th>\n",
       "      <th>Subject_ID</th>\n",
       "    </tr>\n",
       "  </thead>\n",
       "  <tbody>\n",
       "    <tr>\n",
       "      <th>0</th>\n",
       "      <td>2019-07-17 11:50:05.000</td>\n",
       "      <td>26.23</td>\n",
       "      <td>19-001</td>\n",
       "    </tr>\n",
       "    <tr>\n",
       "      <th>1</th>\n",
       "      <td>2019-07-17 11:50:05.250</td>\n",
       "      <td>26.23</td>\n",
       "      <td>19-001</td>\n",
       "    </tr>\n",
       "    <tr>\n",
       "      <th>2</th>\n",
       "      <td>2019-07-17 11:50:05.500</td>\n",
       "      <td>26.23</td>\n",
       "      <td>19-001</td>\n",
       "    </tr>\n",
       "    <tr>\n",
       "      <th>3</th>\n",
       "      <td>2019-07-17 11:50:05.750</td>\n",
       "      <td>26.23</td>\n",
       "      <td>19-001</td>\n",
       "    </tr>\n",
       "    <tr>\n",
       "      <th>4</th>\n",
       "      <td>2019-07-17 11:50:06.000</td>\n",
       "      <td>26.23</td>\n",
       "      <td>19-001</td>\n",
       "    </tr>\n",
       "    <tr>\n",
       "      <th>...</th>\n",
       "      <td>...</td>\n",
       "      <td>...</td>\n",
       "      <td>...</td>\n",
       "    </tr>\n",
       "    <tr>\n",
       "      <th>3619</th>\n",
       "      <td>2019-08-16 16:12:48.750</td>\n",
       "      <td>29.91</td>\n",
       "      <td>19-056</td>\n",
       "    </tr>\n",
       "    <tr>\n",
       "      <th>3620</th>\n",
       "      <td>2019-08-16 16:12:49.000</td>\n",
       "      <td>30.11</td>\n",
       "      <td>19-056</td>\n",
       "    </tr>\n",
       "    <tr>\n",
       "      <th>3621</th>\n",
       "      <td>2019-08-16 16:12:49.250</td>\n",
       "      <td>30.11</td>\n",
       "      <td>19-056</td>\n",
       "    </tr>\n",
       "    <tr>\n",
       "      <th>3622</th>\n",
       "      <td>2019-08-16 16:12:49.500</td>\n",
       "      <td>30.11</td>\n",
       "      <td>19-056</td>\n",
       "    </tr>\n",
       "    <tr>\n",
       "      <th>3623</th>\n",
       "      <td>2019-08-16 16:12:49.750</td>\n",
       "      <td>30.11</td>\n",
       "      <td>19-056</td>\n",
       "    </tr>\n",
       "  </tbody>\n",
       "</table>\n",
       "<p>413752 rows × 3 columns</p>\n",
       "</div>"
      ],
      "text/plain": [
       "                         Time   TEMP Subject_ID\n",
       "0     2019-07-17 11:50:05.000  26.23     19-001\n",
       "1     2019-07-17 11:50:05.250  26.23     19-001\n",
       "2     2019-07-17 11:50:05.500  26.23     19-001\n",
       "3     2019-07-17 11:50:05.750  26.23     19-001\n",
       "4     2019-07-17 11:50:06.000  26.23     19-001\n",
       "...                       ...    ...        ...\n",
       "3619  2019-08-16 16:12:48.750  29.91     19-056\n",
       "3620  2019-08-16 16:12:49.000  30.11     19-056\n",
       "3621  2019-08-16 16:12:49.250  30.11     19-056\n",
       "3622  2019-08-16 16:12:49.500  30.11     19-056\n",
       "3623  2019-08-16 16:12:49.750  30.11     19-056\n",
       "\n",
       "[413752 rows x 3 columns]"
      ]
     },
     "execution_count": 6,
     "metadata": {},
     "output_type": "execute_result"
    }
   ],
   "source": [
    "# Select files of specific data and concat to one dataframe\n",
    "\n",
    "def data_concat(data, cols, file_name):\n",
    "    \"\"\"\n",
    "    data = data type to be concatenated as a string\n",
    "    cols = column names in resulting dataframe as a list\n",
    "    file_name = output csv file name as a string\n",
    "    \"\"\"\n",
    "    all_filenames = [i for i in glob.glob(f'*{data}.csv')]\n",
    "    all_filenames = sorted(all_filenames)\n",
    "    df = pd.concat([pd.read_csv(f, header=None).assign(Subject_ID=os.path.basename(f))\n",
    "                    for f in all_filenames])\n",
    "    df['Subject_ID'] = df['Subject_ID'].str[:6]\n",
    "    df.columns = cols\n",
    "    df.to_csv(f\"../20_Intermediate_files/{file_name}.csv\", index = False)\n",
    "    return df\n",
    "\n",
    "\n",
    "cols = ['Time', 'TEMP', 'Subject_ID']\n",
    "\n",
    "data_concat(\"TEMP\", cols, \"20_Temp_Combined\")"
   ]
  },
  {
   "cell_type": "code",
   "execution_count": null,
   "metadata": {},
   "outputs": [],
   "source": []
  }
 ],
 "metadata": {
  "kernelspec": {
   "display_name": "Python 3",
   "language": "python",
   "name": "python3"
  },
  "language_info": {
   "codemirror_mode": {
    "name": "ipython",
    "version": 3
   },
   "file_extension": ".py",
   "mimetype": "text/x-python",
   "name": "python",
   "nbconvert_exporter": "python",
   "pygments_lexer": "ipython3",
   "version": "3.7.0"
  }
 },
 "nbformat": 4,
 "nbformat_minor": 4
}
