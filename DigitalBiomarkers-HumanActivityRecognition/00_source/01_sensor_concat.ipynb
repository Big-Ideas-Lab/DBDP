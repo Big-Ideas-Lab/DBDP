{
 "cells": [
  {
   "cell_type": "markdown",
   "metadata": {},
   "source": [
    "## E4 Sensor Concatenation"
   ]
  },
  {
   "cell_type": "markdown",
   "metadata": {},
   "source": [
    "This sensor concatenation file compiles all .csv files of subjects by sensor type. A column is added with the \"Subject_ID\" and arranges the data in order of ascending ID number. The output of this function is a csv file. "
   ]
  },
  {
   "cell_type": "markdown",
   "metadata": {},
   "source": [
    "**INPUT: Properly formatted .csv files from the E4FileFormatter** (E4_data)\n",
    "\n",
    "\n"
   ]
  },
  {
   "cell_type": "markdown",
   "metadata": {},
   "source": [
    "**OUTPUT:** __Each .csv file will consist of only one type of sensor data. A column for subject ID has been added. Data will be organized numerically, by subject ID. Headers will be based on the column names input into the function.__"
   ]
  },
  {
   "cell_type": "code",
   "execution_count": 1,
   "metadata": {},
   "outputs": [],
   "source": [
    "import pandas as pd\n",
    "import glob\n",
    "import os\n",
    "\n",
    "# Please change the working directory to the folder containing the properly formatted .csv files from the E4 File Formatter. \n",
    "os.chdir('./E4_data/')"
   ]
  },
  {
   "cell_type": "markdown",
   "metadata": {},
   "source": [
    "## Import & Concatenate Sensor Data of Choice\n",
    "**Functions:**\n",
    "* $\\underline{data\\_concat()}$ - reads all files in data directory (00_source) and concatenates those of one sensor type. Adds subject ID column to resulting .csv file\n",
    "  > <span style=\"color:blue\">data</span> = data type to be concatenated as a string <br>\n",
    "  > <span style=\"color:blue\">cols</span> = column names in resulting dataframe as a list <br>\n",
    "  > <span style=\"color:blue\">file_name</span> = output .csv file name as a string <br>\n"
   ]
  },
  {
   "cell_type": "code",
   "execution_count": 3,
   "metadata": {},
   "outputs": [
    {
     "data": {
      "text/html": [
       "<div>\n",
       "<style scoped>\n",
       "    .dataframe tbody tr th:only-of-type {\n",
       "        vertical-align: middle;\n",
       "    }\n",
       "\n",
       "    .dataframe tbody tr th {\n",
       "        vertical-align: top;\n",
       "    }\n",
       "\n",
       "    .dataframe thead th {\n",
       "        text-align: right;\n",
       "    }\n",
       "</style>\n",
       "<table border=\"1\" class=\"dataframe\">\n",
       "  <thead>\n",
       "    <tr style=\"text-align: right;\">\n",
       "      <th></th>\n",
       "      <th>Time</th>\n",
       "      <th>ACC1</th>\n",
       "      <th>ACC2</th>\n",
       "      <th>ACC3</th>\n",
       "      <th>Subject_ID</th>\n",
       "    </tr>\n",
       "  </thead>\n",
       "  <tbody>\n",
       "    <tr>\n",
       "      <th>0</th>\n",
       "      <td>2019-07-17 11:50:05.000000</td>\n",
       "      <td>-38.0</td>\n",
       "      <td>-50.0</td>\n",
       "      <td>8.0</td>\n",
       "      <td>19-001</td>\n",
       "    </tr>\n",
       "    <tr>\n",
       "      <th>1</th>\n",
       "      <td>2019-07-17 11:50:05.031250</td>\n",
       "      <td>-40.0</td>\n",
       "      <td>-50.0</td>\n",
       "      <td>8.0</td>\n",
       "      <td>19-001</td>\n",
       "    </tr>\n",
       "    <tr>\n",
       "      <th>2</th>\n",
       "      <td>2019-07-17 11:50:05.062500</td>\n",
       "      <td>-40.0</td>\n",
       "      <td>-49.0</td>\n",
       "      <td>7.0</td>\n",
       "      <td>19-001</td>\n",
       "    </tr>\n",
       "    <tr>\n",
       "      <th>3</th>\n",
       "      <td>2019-07-17 11:50:05.093750</td>\n",
       "      <td>-42.0</td>\n",
       "      <td>-51.0</td>\n",
       "      <td>7.0</td>\n",
       "      <td>19-001</td>\n",
       "    </tr>\n",
       "    <tr>\n",
       "      <th>4</th>\n",
       "      <td>2019-07-17 11:50:05.125000</td>\n",
       "      <td>-42.0</td>\n",
       "      <td>-51.0</td>\n",
       "      <td>7.0</td>\n",
       "      <td>19-001</td>\n",
       "    </tr>\n",
       "    <tr>\n",
       "      <th>...</th>\n",
       "      <td>...</td>\n",
       "      <td>...</td>\n",
       "      <td>...</td>\n",
       "      <td>...</td>\n",
       "      <td>...</td>\n",
       "    </tr>\n",
       "    <tr>\n",
       "      <th>29023</th>\n",
       "      <td>2019-08-16 16:12:50.968750</td>\n",
       "      <td>10.0</td>\n",
       "      <td>-40.0</td>\n",
       "      <td>-44.0</td>\n",
       "      <td>19-056</td>\n",
       "    </tr>\n",
       "    <tr>\n",
       "      <th>29024</th>\n",
       "      <td>2019-08-16 16:12:51.000000</td>\n",
       "      <td>11.0</td>\n",
       "      <td>-44.0</td>\n",
       "      <td>-47.0</td>\n",
       "      <td>19-056</td>\n",
       "    </tr>\n",
       "    <tr>\n",
       "      <th>29025</th>\n",
       "      <td>2019-08-16 16:12:51.031250</td>\n",
       "      <td>11.0</td>\n",
       "      <td>-43.0</td>\n",
       "      <td>-45.0</td>\n",
       "      <td>19-056</td>\n",
       "    </tr>\n",
       "    <tr>\n",
       "      <th>29026</th>\n",
       "      <td>2019-08-16 16:12:51.062500</td>\n",
       "      <td>10.0</td>\n",
       "      <td>-44.0</td>\n",
       "      <td>-44.0</td>\n",
       "      <td>19-056</td>\n",
       "    </tr>\n",
       "    <tr>\n",
       "      <th>29027</th>\n",
       "      <td>2019-08-16 16:12:51.093750</td>\n",
       "      <td>10.0</td>\n",
       "      <td>-43.0</td>\n",
       "      <td>-46.0</td>\n",
       "      <td>19-056</td>\n",
       "    </tr>\n",
       "  </tbody>\n",
       "</table>\n",
       "<p>3371364 rows × 5 columns</p>\n",
       "</div>"
      ],
      "text/plain": [
       "                             Time  ACC1  ACC2  ACC3 Subject_ID\n",
       "0      2019-07-17 11:50:05.000000 -38.0 -50.0   8.0     19-001\n",
       "1      2019-07-17 11:50:05.031250 -40.0 -50.0   8.0     19-001\n",
       "2      2019-07-17 11:50:05.062500 -40.0 -49.0   7.0     19-001\n",
       "3      2019-07-17 11:50:05.093750 -42.0 -51.0   7.0     19-001\n",
       "4      2019-07-17 11:50:05.125000 -42.0 -51.0   7.0     19-001\n",
       "...                           ...   ...   ...   ...        ...\n",
       "29023  2019-08-16 16:12:50.968750  10.0 -40.0 -44.0     19-056\n",
       "29024  2019-08-16 16:12:51.000000  11.0 -44.0 -47.0     19-056\n",
       "29025  2019-08-16 16:12:51.031250  11.0 -43.0 -45.0     19-056\n",
       "29026  2019-08-16 16:12:51.062500  10.0 -44.0 -44.0     19-056\n",
       "29027  2019-08-16 16:12:51.093750  10.0 -43.0 -46.0     19-056\n",
       "\n",
       "[3371364 rows x 5 columns]"
      ]
     },
     "execution_count": 3,
     "metadata": {},
     "output_type": "execute_result"
    }
   ],
   "source": [
    "# Select files of specific data and concat to one dataframe\n",
    "\n",
    "def data_concat(data, cols, file_name):\n",
    "    \"\"\"\n",
    "    data = data type to be concatenated as a string\n",
    "    cols = column names in resulting dataframe as a list\n",
    "    file_name = output csv file name as a string\n",
    "    \"\"\"\n",
    "    all_filenames = [i for i in glob.glob(f'*{data}.csv')]\n",
    "    all_filenames = sorted(all_filenames)\n",
    "    df = pd.concat([pd.read_csv(f, header=None).assign(Subject_ID=os.path.basename(f))\n",
    "                    for f in all_filenames])\n",
    "    df['Subject_ID'] = df['Subject_ID'].str[:6]\n",
    "    df.columns = cols\n",
    "    # Please edit the following line to output files in directory of choice\n",
    "    df.to_csv(f\"../../10_code/10_pre_outlier_removal_processing/{file_name}.csv\", index = False)\n",
    "    return df\n",
    "\n",
    "\n",
    "cols = ['Time','ACC1','ACC2','ACC3', 'Subject_ID']\n",
    "\n",
    "data_concat(\"ACC\", cols, \"10_ACC_Combined\")"
   ]
  }
 ],
 "metadata": {
  "kernelspec": {
   "display_name": "Python 3",
   "language": "python",
   "name": "python3"
  },
  "language_info": {
   "codemirror_mode": {
    "name": "ipython",
    "version": 3
   },
   "file_extension": ".py",
   "mimetype": "text/x-python",
   "name": "python",
   "nbconvert_exporter": "python",
   "pygments_lexer": "ipython3",
   "version": "3.7.0"
  }
 },
 "nbformat": 4,
 "nbformat_minor": 4
}
