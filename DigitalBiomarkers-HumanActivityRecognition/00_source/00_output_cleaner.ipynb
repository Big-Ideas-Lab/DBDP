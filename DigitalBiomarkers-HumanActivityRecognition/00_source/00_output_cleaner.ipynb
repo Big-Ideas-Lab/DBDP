{
 "cells": [
  {
   "cell_type": "markdown",
   "metadata": {},
   "source": [
    "## Activity Times Outcome File Cleaning"
   ]
  },
  {
   "cell_type": "markdown",
   "metadata": {},
   "source": [
    "__INPUT: Outcomes Dataset Containing Start Times for each Activity__ (activityTimes_Outcome.csv)"
   ]
  },
  {
   "cell_type": "markdown",
   "metadata": {},
   "source": [
    "__OUTPUT: Cleaned Outcomes File__ (10_Outcomes.csv)"
   ]
  },
  {
   "cell_type": "markdown",
   "metadata": {},
   "source": [
    "The output_cleaner is for removing columns that have data that does not originate from the Empatica E4. The activityTimes_Outcomes file is a marker for when activitiy rounds begin and end for each individual participant. \n",
    "\n",
    "In this specific data, there are four activities:\n",
    "- Baseline \n",
    "- Deep Breathing (DB)\n",
    "- Activity\n",
    "- Typing (Type)"
   ]
  },
  {
   "cell_type": "code",
   "execution_count": 9,
   "metadata": {},
   "outputs": [],
   "source": [
    "import pandas as pd\n",
    "import os\n",
    "# Change to source directory where files are located\n",
    "os.chdir('../00_source')\n",
    "outcomes = pd.read_csv(\"Key/activityTimes_Outcome.csv\")"
   ]
  },
  {
   "cell_type": "markdown",
   "metadata": {},
   "source": [
    "In the data shown below, rounds of data for each activity type are shown and numbered. Round 3 is from an apple watch and since we are focusing on E4 data, these columns are removed. "
   ]
  },
  {
   "cell_type": "code",
   "execution_count": 10,
   "metadata": {
    "scrolled": true
   },
   "outputs": [
    {
     "data": {
      "text/html": [
       "<div>\n",
       "<style scoped>\n",
       "    .dataframe tbody tr th:only-of-type {\n",
       "        vertical-align: middle;\n",
       "    }\n",
       "\n",
       "    .dataframe tbody tr th {\n",
       "        vertical-align: top;\n",
       "    }\n",
       "\n",
       "    .dataframe thead th {\n",
       "        text-align: right;\n",
       "    }\n",
       "</style>\n",
       "<table border=\"1\" class=\"dataframe\">\n",
       "  <thead>\n",
       "    <tr style=\"text-align: right;\">\n",
       "      <th></th>\n",
       "      <th>Subject ID</th>\n",
       "      <th>Baseline Start 1</th>\n",
       "      <th>Baseline Start 2</th>\n",
       "      <th>Baseline Start 3</th>\n",
       "      <th>DB Start 1</th>\n",
       "      <th>DB Start 2</th>\n",
       "      <th>DB Start 3</th>\n",
       "      <th>Activity Start 1</th>\n",
       "      <th>Activity Start 2</th>\n",
       "      <th>Activity Start 3</th>\n",
       "      <th>Type Start 1</th>\n",
       "      <th>Type Start 2</th>\n",
       "      <th>Type Start 3</th>\n",
       "      <th>Exception?</th>\n",
       "      <th>Unnamed: 14</th>\n",
       "    </tr>\n",
       "  </thead>\n",
       "  <tbody>\n",
       "    <tr>\n",
       "      <th>0</th>\n",
       "      <td>19-001</td>\n",
       "      <td>7/17/2019 11:52:00</td>\n",
       "      <td>7/17/2019 12:08:00</td>\n",
       "      <td>7/17/2019 12:23:00</td>\n",
       "      <td>7/17/2019 11:56:00</td>\n",
       "      <td>7/17/2019 12:12:00</td>\n",
       "      <td>7/17/2019 12:27:00</td>\n",
       "      <td>7/17/2019 11:58:00</td>\n",
       "      <td>7/17/2019 12:13:00</td>\n",
       "      <td>7/17/2019 12:28:00</td>\n",
       "      <td>7/17/2019 12:05:00</td>\n",
       "      <td>7/17/2019 12:20:00</td>\n",
       "      <td>7/17/2019 12:34:00</td>\n",
       "      <td>N</td>\n",
       "      <td>NaN</td>\n",
       "    </tr>\n",
       "    <tr>\n",
       "      <th>1</th>\n",
       "      <td>19-002</td>\n",
       "      <td>7/17/2019 16:08:00</td>\n",
       "      <td>7/17/2019 16:22:00</td>\n",
       "      <td>7/17/2019 16:38:00</td>\n",
       "      <td>7/17/2019 16:12:00</td>\n",
       "      <td>7/17/2019 16:26:00</td>\n",
       "      <td>7/17/2019 16:42:00</td>\n",
       "      <td>7/17/2019 16:13:00</td>\n",
       "      <td>7/17/2019 16:27:00</td>\n",
       "      <td>7/17/2019 16:43:00</td>\n",
       "      <td>7/17/2019 16:19:00</td>\n",
       "      <td>7/17/2019 16:34:00</td>\n",
       "      <td>7/17/2019 16:49:00</td>\n",
       "      <td>N</td>\n",
       "      <td>NaN</td>\n",
       "    </tr>\n",
       "    <tr>\n",
       "      <th>2</th>\n",
       "      <td>19-003</td>\n",
       "      <td>7/18/2019 8:11:00</td>\n",
       "      <td>7/18/2019 8:26:00</td>\n",
       "      <td>7/18/2019 8:42:00</td>\n",
       "      <td>7/18/2019 8:15:00</td>\n",
       "      <td>7/18/2019 8:31:00</td>\n",
       "      <td>7/18/2019 8:46:00</td>\n",
       "      <td>7/18/2019 8:17:00</td>\n",
       "      <td>7/18/2019 8:32:00</td>\n",
       "      <td>7/18/2019 8:47:00</td>\n",
       "      <td>7/18/2019 8:25:00</td>\n",
       "      <td>7/18/2019 8:40:00</td>\n",
       "      <td>7/18/2019 8:56:00</td>\n",
       "      <td>Y</td>\n",
       "      <td>No ECG until T3, Replaced Miband with Empatica</td>\n",
       "    </tr>\n",
       "  </tbody>\n",
       "</table>\n",
       "</div>"
      ],
      "text/plain": [
       "  Subject ID    Baseline Start 1    Baseline Start 2    Baseline Start 3  \\\n",
       "0     19-001  7/17/2019 11:52:00  7/17/2019 12:08:00  7/17/2019 12:23:00   \n",
       "1     19-002  7/17/2019 16:08:00  7/17/2019 16:22:00  7/17/2019 16:38:00   \n",
       "2     19-003   7/18/2019 8:11:00   7/18/2019 8:26:00   7/18/2019 8:42:00   \n",
       "\n",
       "           DB Start 1          DB Start 2          DB Start 3  \\\n",
       "0  7/17/2019 11:56:00  7/17/2019 12:12:00  7/17/2019 12:27:00   \n",
       "1  7/17/2019 16:12:00  7/17/2019 16:26:00  7/17/2019 16:42:00   \n",
       "2   7/18/2019 8:15:00   7/18/2019 8:31:00   7/18/2019 8:46:00   \n",
       "\n",
       "    Activity Start 1     Activity Start 2    Activity Start 3  \\\n",
       "0  7/17/2019 11:58:00  7/17/2019 12:13:00  7/17/2019 12:28:00   \n",
       "1  7/17/2019 16:13:00  7/17/2019 16:27:00  7/17/2019 16:43:00   \n",
       "2   7/18/2019 8:17:00   7/18/2019 8:32:00   7/18/2019 8:47:00   \n",
       "\n",
       "         Type Start 1        Type Start 2       Type Start 3  Exception?  \\\n",
       "0  7/17/2019 12:05:00  7/17/2019 12:20:00  7/17/2019 12:34:00          N   \n",
       "1  7/17/2019 16:19:00  7/17/2019 16:34:00  7/17/2019 16:49:00          N   \n",
       "2   7/18/2019 8:25:00   7/18/2019 8:40:00   7/18/2019 8:56:00          Y   \n",
       "\n",
       "                                      Unnamed: 14  \n",
       "0                                             NaN  \n",
       "1                                             NaN  \n",
       "2  No ECG until T3, Replaced Miband with Empatica  "
      ]
     },
     "execution_count": 10,
     "metadata": {},
     "output_type": "execute_result"
    }
   ],
   "source": [
    "outcomes.head(3)"
   ]
  },
  {
   "cell_type": "markdown",
   "metadata": {},
   "source": [
    "In this file, specific to our data, participant 19-028 needs to have his activity rounds flipped which is fixed in this file. For this participants data, rounds are reversed so the rounds of interest are rounds 2 and 3, which should be 1 and 2."
   ]
  },
  {
   "cell_type": "code",
   "execution_count": 3,
   "metadata": {},
   "outputs": [],
   "source": [
    "# for subject 19-028, rounds are reversed so the rounds of interest are rounds 2 and 3, which should be 1 and 2\n",
    "\n",
    "outcomes[outcomes['Subject ID'] == '19-028']\n",
    "\n",
    "outcomes.iloc[27,2] = outcomes.iloc[27,1] \n",
    "outcomes.iloc[27,1] = outcomes.iloc[27,3] \n",
    "\n",
    "outcomes.iloc[27,5] = outcomes.iloc[27,4] \n",
    "outcomes.iloc[27,4] = outcomes.iloc[27,6] \n",
    "\n",
    "outcomes.iloc[27,8] = outcomes.iloc[27,7] \n",
    "outcomes.iloc[27,7] = outcomes.iloc[27,9] \n",
    "\n",
    "outcomes.iloc[27,11] = outcomes.iloc[27,10] \n",
    "outcomes.iloc[27,10] = outcomes.iloc[27,12] "
   ]
  },
  {
   "cell_type": "markdown",
   "metadata": {},
   "source": [
    "Below, round 3 data for all participants is dropped and the cleaned file is saved as a csv."
   ]
  },
  {
   "cell_type": "code",
   "execution_count": 5,
   "metadata": {},
   "outputs": [],
   "source": [
    "# Get rid of cols without E4 data\n",
    "outcomes = outcomes.drop(outcomes.columns[[3, 6, 9, 12]],\n",
    "                         axis=1).rename(columns={\"Unnamed: 14\": \"Notes\"})\n",
    "outcomes.to_csv(\"../10_code/10_pre_outlier_removal_processing/10_Outcomes.csv\", index=False)"
   ]
  }
 ],
 "metadata": {
  "kernelspec": {
   "display_name": "Python 3",
   "language": "python",
   "name": "python3"
  },
  "language_info": {
   "codemirror_mode": {
    "name": "ipython",
    "version": 3
   },
   "file_extension": ".py",
   "mimetype": "text/x-python",
   "name": "python",
   "nbconvert_exporter": "python",
   "pygments_lexer": "ipython3",
   "version": "3.7.7"
  }
 },
 "nbformat": 4,
 "nbformat_minor": 4
}
