{
 "cells": [
  {
   "cell_type": "markdown",
   "metadata": {},
   "source": [
    "# Outlier Removal"
   ]
  },
  {
   "cell_type": "markdown",
   "metadata": {},
   "source": [
    "This notebook removes rows of data where the Apple Watch was used instead of the Empatica E4. \n",
    "\n",
    "Future: Invert accel data for 19-029. "
   ]
  },
  {
   "cell_type": "code",
   "execution_count": 41,
   "metadata": {},
   "outputs": [],
   "source": [
    "import pandas as pd\n",
    "import warnings\n",
    "import numpy as np\n",
    "warnings.simplefilter(\"ignore\")"
   ]
  },
  {
   "cell_type": "code",
   "execution_count": 42,
   "metadata": {},
   "outputs": [],
   "source": [
    "df = pd.read_csv(\"../20_intermediate_files/30_all_partic_aggregated_with_activity.csv\")"
   ]
  },
  {
   "cell_type": "code",
   "execution_count": 43,
   "metadata": {},
   "outputs": [],
   "source": [
    "df['Round'] = df['Activity'].str.strip().str[-1]"
   ]
  },
  {
   "cell_type": "code",
   "execution_count": 44,
   "metadata": {},
   "outputs": [],
   "source": [
    "df_round2 = df.loc[(df['Subject_ID'] != '19-021') | (df['Round'] != '2')]\n",
    "df_round2 = df.loc[(df['Subject_ID'] != '19-030') | (df['Round'] != '2')]\n",
    "df_round2 = df.loc[(df['Subject_ID'] != '19-047') | (df['Round'] != '2')]\n",
    "df_round2 = df.loc[(df['Subject_ID'] != '19-056') | (df['Round'] != '2')]"
   ]
  },
  {
   "cell_type": "code",
   "execution_count": 45,
   "metadata": {},
   "outputs": [],
   "source": [
    "df_round2['Magnitude'] = np.sqrt(df['ACC1']**2 + df['ACC2']**2 + df['ACC3']**2)"
   ]
  },
  {
   "cell_type": "code",
   "execution_count": 46,
   "metadata": {},
   "outputs": [],
   "source": [
    "df_round2.to_csv(\"../20_intermediate_files/50_data_no_aw.csv\", index = False)"
   ]
  },
  {
   "cell_type": "code",
   "execution_count": 47,
   "metadata": {
    "scrolled": true
   },
   "outputs": [],
   "source": [
    "#Remove 1 and 2 from Activity Labels, combining rounds\n",
    "df_round2['Activity'] = df_round2['Activity'].str.replace('\\d+', '').str.rstrip()\n",
    "df_round2_combined_rounds = df_round2"
   ]
  },
  {
   "cell_type": "code",
   "execution_count": 48,
   "metadata": {},
   "outputs": [],
   "source": [
    "df_round2_combined_rounds.to_csv(\"../20_intermediate_files/50_no_apple_watch_combined_rounds.csv\", index = False)"
   ]
  }
 ],
 "metadata": {
  "kernelspec": {
   "display_name": "Python 3",
   "language": "python",
   "name": "python3"
  },
  "language_info": {
   "codemirror_mode": {
    "name": "ipython",
    "version": 3
   },
   "file_extension": ".py",
   "mimetype": "text/x-python",
   "name": "python",
   "nbconvert_exporter": "python",
   "pygments_lexer": "ipython3",
   "version": "3.7.6"
  }
 },
 "nbformat": 4,
 "nbformat_minor": 4
}
