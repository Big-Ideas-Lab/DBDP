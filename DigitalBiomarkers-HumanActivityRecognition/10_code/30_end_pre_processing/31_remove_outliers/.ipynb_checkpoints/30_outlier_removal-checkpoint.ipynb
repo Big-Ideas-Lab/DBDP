{
 "cells": [
  {
   "cell_type": "markdown",
   "metadata": {},
   "source": [
    "# Outlier Removal"
   ]
  },
  {
   "cell_type": "markdown",
   "metadata": {},
   "source": [
    "This notebook removes rows of data where the Apple Watch sensors were used instead of the Empatica E4 sensor, to allow for a consistent sampling rate among the data without the need for extra interpolation. "
   ]
  },
  {
   "cell_type": "markdown",
   "metadata": {},
   "source": [
    "__INPUT: Aggregated Patient .csv w/ Activity Label__ (30_all_partic_aggregated_with_activity.csv)"
   ]
  },
  {
   "cell_type": "markdown",
   "metadata": {},
   "source": [
    "__OUTPUT:__\n",
    "1. __.csv without Apple Watch Data: label rounds 1 & 2 separated__ (50_data_no_aw.csv)\n",
    "2. __.csv without Apple Watch Data: label rounds 1 & 2 combined__ (50_no_apple_watch_combined_rounds.csv)"
   ]
  },
  {
   "cell_type": "markdown",
   "metadata": {},
   "source": [
    "## Imports"
   ]
  },
  {
   "cell_type": "code",
   "execution_count": 12,
   "metadata": {},
   "outputs": [],
   "source": [
    "import pandas as pd\n",
    "import warnings\n",
    "import numpy as np\n",
    "warnings.simplefilter(\"ignore\")"
   ]
  },
  {
   "cell_type": "markdown",
   "metadata": {},
   "source": [
    "## Read in Data"
   ]
  },
  {
   "cell_type": "code",
   "execution_count": 19,
   "metadata": {},
   "outputs": [],
   "source": [
    "df = pd.read_csv(\"../../20_intermediate_files/30_all_partic_aggregated_with_activity.csv\")"
   ]
  },
  {
   "cell_type": "code",
   "execution_count": 20,
   "metadata": {},
   "outputs": [
    {
     "data": {
      "text/html": [
       "<div>\n",
       "<style scoped>\n",
       "    .dataframe tbody tr th:only-of-type {\n",
       "        vertical-align: middle;\n",
       "    }\n",
       "\n",
       "    .dataframe tbody tr th {\n",
       "        vertical-align: top;\n",
       "    }\n",
       "\n",
       "    .dataframe thead th {\n",
       "        text-align: right;\n",
       "    }\n",
       "</style>\n",
       "<table border=\"1\" class=\"dataframe\">\n",
       "  <thead>\n",
       "    <tr style=\"text-align: right;\">\n",
       "      <th></th>\n",
       "      <th>Time</th>\n",
       "      <th>ACC1</th>\n",
       "      <th>ACC2</th>\n",
       "      <th>ACC3</th>\n",
       "      <th>TEMP</th>\n",
       "      <th>EDA</th>\n",
       "      <th>BVP</th>\n",
       "      <th>HR</th>\n",
       "      <th>Subject_ID</th>\n",
       "      <th>Activity</th>\n",
       "    </tr>\n",
       "  </thead>\n",
       "  <tbody>\n",
       "    <tr>\n",
       "      <th>0</th>\n",
       "      <td>2019-07-17 11:52:00.000</td>\n",
       "      <td>41.0</td>\n",
       "      <td>27.2</td>\n",
       "      <td>40.0</td>\n",
       "      <td>32.39</td>\n",
       "      <td>0.275354</td>\n",
       "      <td>15.25</td>\n",
       "      <td>78.980</td>\n",
       "      <td>19-001</td>\n",
       "      <td>Baseline 1</td>\n",
       "    </tr>\n",
       "    <tr>\n",
       "      <th>1</th>\n",
       "      <td>2019-07-17 11:52:00.250</td>\n",
       "      <td>41.0</td>\n",
       "      <td>27.3</td>\n",
       "      <td>40.0</td>\n",
       "      <td>32.39</td>\n",
       "      <td>0.276634</td>\n",
       "      <td>-12.75</td>\n",
       "      <td>78.835</td>\n",
       "      <td>19-001</td>\n",
       "      <td>Baseline 1</td>\n",
       "    </tr>\n",
       "    <tr>\n",
       "      <th>2</th>\n",
       "      <td>2019-07-17 11:52:00.500</td>\n",
       "      <td>41.0</td>\n",
       "      <td>27.4</td>\n",
       "      <td>40.0</td>\n",
       "      <td>32.39</td>\n",
       "      <td>0.270231</td>\n",
       "      <td>-42.99</td>\n",
       "      <td>78.690</td>\n",
       "      <td>19-001</td>\n",
       "      <td>Baseline 1</td>\n",
       "    </tr>\n",
       "    <tr>\n",
       "      <th>3</th>\n",
       "      <td>2019-07-17 11:52:00.750</td>\n",
       "      <td>41.0</td>\n",
       "      <td>27.5</td>\n",
       "      <td>40.0</td>\n",
       "      <td>32.39</td>\n",
       "      <td>0.270231</td>\n",
       "      <td>18.39</td>\n",
       "      <td>78.545</td>\n",
       "      <td>19-001</td>\n",
       "      <td>Baseline 1</td>\n",
       "    </tr>\n",
       "    <tr>\n",
       "      <th>4</th>\n",
       "      <td>2019-07-17 11:52:01.000</td>\n",
       "      <td>41.0</td>\n",
       "      <td>27.6</td>\n",
       "      <td>40.0</td>\n",
       "      <td>32.34</td>\n",
       "      <td>0.268950</td>\n",
       "      <td>13.61</td>\n",
       "      <td>78.400</td>\n",
       "      <td>19-001</td>\n",
       "      <td>Baseline 1</td>\n",
       "    </tr>\n",
       "  </tbody>\n",
       "</table>\n",
       "</div>"
      ],
      "text/plain": [
       "                      Time  ACC1  ACC2  ACC3   TEMP       EDA    BVP      HR  \\\n",
       "0  2019-07-17 11:52:00.000  41.0  27.2  40.0  32.39  0.275354  15.25  78.980   \n",
       "1  2019-07-17 11:52:00.250  41.0  27.3  40.0  32.39  0.276634 -12.75  78.835   \n",
       "2  2019-07-17 11:52:00.500  41.0  27.4  40.0  32.39  0.270231 -42.99  78.690   \n",
       "3  2019-07-17 11:52:00.750  41.0  27.5  40.0  32.39  0.270231  18.39  78.545   \n",
       "4  2019-07-17 11:52:01.000  41.0  27.6  40.0  32.34  0.268950  13.61  78.400   \n",
       "\n",
       "  Subject_ID    Activity  \n",
       "0     19-001  Baseline 1  \n",
       "1     19-001  Baseline 1  \n",
       "2     19-001  Baseline 1  \n",
       "3     19-001  Baseline 1  \n",
       "4     19-001  Baseline 1  "
      ]
     },
     "execution_count": 20,
     "metadata": {},
     "output_type": "execute_result"
    }
   ],
   "source": [
    "df.head()"
   ]
  },
  {
   "cell_type": "code",
   "execution_count": 11,
   "metadata": {},
   "outputs": [
    {
     "data": {
      "text/plain": [
       "(296128, 10)"
      ]
     },
     "execution_count": 11,
     "metadata": {},
     "output_type": "execute_result"
    }
   ],
   "source": [
    "df.shape"
   ]
  },
  {
   "cell_type": "markdown",
   "metadata": {},
   "source": [
    "## Outlier Removal Procedure"
   ]
  },
  {
   "cell_type": "markdown",
   "metadata": {},
   "source": [
    "### Create Round Feature from Activity Round Number"
   ]
  },
  {
   "cell_type": "code",
   "execution_count": 15,
   "metadata": {},
   "outputs": [],
   "source": [
    "df['Round'] = df['Activity'].str.strip().str[-1]"
   ]
  },
  {
   "cell_type": "markdown",
   "metadata": {},
   "source": [
    "### Remove Data Taken From Apple Watch "
   ]
  },
  {
   "cell_type": "markdown",
   "metadata": {},
   "source": [
    "Data Taken From Apple Watch\n",
    "\n",
    "| Subject ID  | Round | \n",
    "|---|---|\n",
    "| 19-021  | 2 |\n",
    "| 19-030  | 2  |\n",
    "| 19-047  | 2  |\n",
    "| 19-056  | 2  |"
   ]
  },
  {
   "cell_type": "code",
   "execution_count": 16,
   "metadata": {},
   "outputs": [],
   "source": [
    "df_round2 = df.loc[(df['Subject_ID'] != '19-021') | (df['Round'] != '2')]\n",
    "df_round2 = df_round2.loc[(df['Subject_ID'] != '19-030') | (df_round2['Round'] != '2')]\n",
    "df_round2 = df_round2.loc[(df['Subject_ID'] != '19-047') | (df_round2['Round'] != '2')]\n",
    "df_round2 = df_round2.loc[(df['Subject_ID'] != '19-056') | (df_round2['Round'] != '2')]"
   ]
  },
  {
   "cell_type": "markdown",
   "metadata": {},
   "source": [
    "### Create Magnitude Feature from ACC X,Y,Z Components"
   ]
  },
  {
   "cell_type": "code",
   "execution_count": 17,
   "metadata": {},
   "outputs": [],
   "source": [
    "df_round2['Magnitude'] = np.sqrt(df_round2['ACC1']**2 + df_round2['ACC2']**2 + df_round2['ACC3']**2)"
   ]
  },
  {
   "cell_type": "markdown",
   "metadata": {},
   "source": [
    "### Check Outlier Removal"
   ]
  },
  {
   "cell_type": "code",
   "execution_count": 18,
   "metadata": {},
   "outputs": [
    {
     "data": {
      "text/plain": [
       "19-035    5288\n",
       "19-004    5288\n",
       "19-031    5288\n",
       "19-032    5288\n",
       "19-048    5288\n",
       "19-041    5288\n",
       "19-038    5288\n",
       "19-015    5288\n",
       "19-014    5288\n",
       "19-046    5288\n",
       "19-024    5288\n",
       "19-042    5288\n",
       "19-020    5288\n",
       "19-002    5288\n",
       "19-029    5288\n",
       "19-039    5288\n",
       "19-043    5288\n",
       "19-034    5288\n",
       "19-054    5288\n",
       "19-019    5288\n",
       "19-053    5288\n",
       "19-055    5288\n",
       "19-012    5288\n",
       "19-006    5288\n",
       "19-005    5288\n",
       "19-018    5288\n",
       "19-008    5288\n",
       "19-025    5288\n",
       "19-037    5288\n",
       "19-010    5288\n",
       "19-049    5288\n",
       "19-026    5288\n",
       "19-033    5288\n",
       "19-036    5288\n",
       "19-040    5288\n",
       "19-044    5288\n",
       "19-050    5288\n",
       "19-045    5288\n",
       "19-027    5288\n",
       "19-022    5288\n",
       "19-028    5288\n",
       "19-052    5288\n",
       "19-013    5288\n",
       "19-001    5288\n",
       "19-011    5288\n",
       "19-017    5288\n",
       "19-051    5288\n",
       "19-023    5288\n",
       "19-007    5288\n",
       "19-009    5288\n",
       "19-016    5288\n",
       "19-003    5288\n",
       "19-021    2644\n",
       "19-056    2644\n",
       "19-030    2644\n",
       "19-047    2644\n",
       "Name: Subject_ID, dtype: int64"
      ]
     },
     "execution_count": 18,
     "metadata": {},
     "output_type": "execute_result"
    }
   ],
   "source": [
    "df_round2['Subject_ID'].value_counts()"
   ]
  },
  {
   "cell_type": "markdown",
   "metadata": {},
   "source": [
    "This makes sense because the 4 subjects that had Round 2 AW data (21, 56, 30, 47) have half the data points as the other subjects that have both Round 1 & 2 taken from Empatica data. "
   ]
  },
  {
   "cell_type": "markdown",
   "metadata": {},
   "source": [
    "## Save Output Data to CSV "
   ]
  },
  {
   "cell_type": "code",
   "execution_count": 12,
   "metadata": {},
   "outputs": [],
   "source": [
    "df_round2.to_csv(\"../../20_intermediate_files/30_data_no_aw.csv\", index = False)"
   ]
  },
  {
   "cell_type": "markdown",
   "metadata": {},
   "source": [
    "### Remove 1 and 2 from Activity Labels, combining rounds"
   ]
  },
  {
   "cell_type": "code",
   "execution_count": 13,
   "metadata": {
    "scrolled": true
   },
   "outputs": [],
   "source": [
    "df_round2['Activity'] = df_round2['Activity'].str.replace('\\d+', '').str.rstrip()\n",
    "df_round2_combined_rounds = df_round2"
   ]
  },
  {
   "cell_type": "code",
   "execution_count": 14,
   "metadata": {},
   "outputs": [],
   "source": [
    "df_round2_combined_rounds.to_csv(\"../../20_intermediate_files/30_no_apple_watch_combined_rounds.csv\", index = False)"
   ]
  }
 ],
 "metadata": {
  "kernelspec": {
   "display_name": "Python 3",
   "language": "python",
   "name": "python3"
  },
  "language_info": {
   "codemirror_mode": {
    "name": "ipython",
    "version": 3
   },
   "file_extension": ".py",
   "mimetype": "text/x-python",
   "name": "python",
   "nbconvert_exporter": "python",
   "pygments_lexer": "ipython3",
   "version": "3.7.0"
  }
 },
 "nbformat": 4,
 "nbformat_minor": 4
}
