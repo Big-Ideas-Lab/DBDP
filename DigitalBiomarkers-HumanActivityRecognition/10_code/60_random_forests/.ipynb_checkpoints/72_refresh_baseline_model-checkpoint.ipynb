{
 "cells": [
  {
   "cell_type": "code",
   "execution_count": 1,
   "metadata": {
    "tags": []
   },
   "outputs": [],
   "source": [
    "import numpy as np\n",
    "import pandas as pd"
   ]
  },
  {
   "cell_type": "code",
   "execution_count": 2,
   "metadata": {},
   "outputs": [],
   "source": [
    "def LOOCV_featureselection(data, ids, outcomevar, dropcols, idcolumn, numestimators=1000):\n",
    "    \"\"\"\n",
    "        Intermediate function. \n",
    "            \n",
    "    \"\"\"\n",
    "    # Separate data for leave-one-person-out-cross-validation (LOOCV)\n",
    "    LOOCV_O = ids \n",
    "    data[idcolumn] = data[idcolumn].apply(str)\n",
    "    data_filtered = data[data[idcolumn] != LOOCV_O]\n",
    "    data_cv = data[data[idcolumn] == LOOCV_O]\n",
    "     \n",
    "    \n",
    "    # Train data - all other people in dataframe\n",
    "    data_train = data_filtered.drop(columns=dropcols)\n",
    "    X_train = data_train.drop(columns=[outcomevar])\n",
    "    \n",
    "    feature_list = list(X_train.columns)\n",
    "    X_train= np.array(X_train)\n",
    "    y_train = np.array(data_train[outcomevar]) #Outcome variable here\n",
    "\n",
    "    \n",
    "    from sklearn.ensemble import RandomForestClassifier\n",
    "    # Instantiate model with numestimators decision trees\n",
    "    rf = RandomForestClassifier(n_estimators = numestimators, random_state = 0)\n",
    "    # Train the model on training data\n",
    "    rf.fit(X_train, y_train);\n",
    "    \n",
    "    # Get importances:\n",
    "    importances = list(rf.feature_importances_)# List of tuples with variable and importance\n",
    "    important = pd.DataFrame()\n",
    "    important['value'] = feature_list\n",
    "    important['importances'] = importances\n",
    "    \n",
    "    return important"
   ]
  },
  {
   "cell_type": "code",
   "execution_count": null,
   "metadata": {},
   "outputs": [],
   "source": []
  }
 ],
 "metadata": {
  "kernelspec": {
   "display_name": "Python 3.7.7 64-bit ('pytorch_p37': conda)",
   "language": "python",
   "name": "python37764bitpytorchp37condaee948ba12c11486da1f1ff1ac1e09b05"
  },
  "language_info": {
   "codemirror_mode": {
    "name": "ipython",
    "version": 3
   },
   "file_extension": ".py",
   "mimetype": "text/x-python",
   "name": "python",
   "nbconvert_exporter": "python",
   "pygments_lexer": "ipython3",
   "version": "3.7.7"
  }
 },
 "nbformat": 4,
 "nbformat_minor": 2
}
