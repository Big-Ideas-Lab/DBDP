{
 "cells": [
  {
   "cell_type": "markdown",
   "metadata": {},
   "source": [
    "# Baseline Classification Model: Random Forest "
   ]
  },
  {
   "cell_type": "markdown",
   "metadata": {},
   "source": [
    "This file is composed of a random forest classification model to evaluate a general accuracy level of traditional ML methods in classifying our HAR data based on activity. We also used Leave-One-Out Cross-Validation to validate our models. "
   ]
  },
  {
   "cell_type": "markdown",
   "metadata": {},
   "source": [
    "__INPUT: .csv files containing the rolled sensor data (60_rolled_final_data.csv)__"
   ]
  },
  {
   "cell_type": "markdown",
   "metadata": {},
   "source": [
    "__OUTPUT: Random Forest Multi-Classification Model (average F1 Score w/ LOOCV == 0.69)__"
   ]
  },
  {
   "cell_type": "markdown",
   "metadata": {},
   "source": [
    "## Imports"
   ]
  },
  {
   "cell_type": "code",
   "execution_count": 87,
   "metadata": {},
   "outputs": [],
   "source": [
    "import pandas as pd\n",
    "import numpy as np\n",
    "from sklearn.model_selection import train_test_split\n",
    "from sklearn.preprocessing import StandardScaler\n",
    "from sklearn.ensemble import RandomForestClassifier\n",
    "from sklearn.metrics import confusion_matrix, accuracy_score, f1_score\n",
    "import matplotlib.pyplot as plt\n",
    "import seaborn as sns"
   ]
  },
  {
   "cell_type": "markdown",
   "metadata": {},
   "source": [
    "## Read in Data"
   ]
  },
  {
   "cell_type": "code",
   "execution_count": 39,
   "metadata": {},
   "outputs": [],
   "source": [
    "df = pd.read_csv(\"../20_intermediate_files/60_rolled_final_data.csv\")"
   ]
  },
  {
   "cell_type": "code",
   "execution_count": 40,
   "metadata": {},
   "outputs": [
    {
     "data": {
      "text/html": [
       "<div>\n",
       "<style scoped>\n",
       "    .dataframe tbody tr th:only-of-type {\n",
       "        vertical-align: middle;\n",
       "    }\n",
       "\n",
       "    .dataframe tbody tr th {\n",
       "        vertical-align: top;\n",
       "    }\n",
       "\n",
       "    .dataframe thead th {\n",
       "        text-align: right;\n",
       "    }\n",
       "</style>\n",
       "<table border=\"1\" class=\"dataframe\">\n",
       "  <thead>\n",
       "    <tr style=\"text-align: right;\">\n",
       "      <th></th>\n",
       "      <th>ACC1</th>\n",
       "      <th>ACC2</th>\n",
       "      <th>ACC3</th>\n",
       "      <th>TEMP</th>\n",
       "      <th>EDA</th>\n",
       "      <th>BVP</th>\n",
       "      <th>HR</th>\n",
       "      <th>Round</th>\n",
       "      <th>Magnitude</th>\n",
       "      <th>Activity</th>\n",
       "      <th>Subject_ID</th>\n",
       "    </tr>\n",
       "  </thead>\n",
       "  <tbody>\n",
       "    <tr>\n",
       "      <th>21591</th>\n",
       "      <td>-29.719457</td>\n",
       "      <td>-6.079186</td>\n",
       "      <td>55.400452</td>\n",
       "      <td>32.2820</td>\n",
       "      <td>1.193196</td>\n",
       "      <td>-0.67425</td>\n",
       "      <td>80.024875</td>\n",
       "      <td>2</td>\n",
       "      <td>63.164854</td>\n",
       "      <td>Baseline</td>\n",
       "      <td>19-005</td>\n",
       "    </tr>\n",
       "    <tr>\n",
       "      <th>154154</th>\n",
       "      <td>6.755654</td>\n",
       "      <td>17.786349</td>\n",
       "      <td>57.084006</td>\n",
       "      <td>34.0360</td>\n",
       "      <td>5.100551</td>\n",
       "      <td>1.84300</td>\n",
       "      <td>94.231375</td>\n",
       "      <td>1</td>\n",
       "      <td>60.172105</td>\n",
       "      <td>Baseline</td>\n",
       "      <td>19-032</td>\n",
       "    </tr>\n",
       "    <tr>\n",
       "      <th>203788</th>\n",
       "      <td>78.025943</td>\n",
       "      <td>-13.582547</td>\n",
       "      <td>-0.391509</td>\n",
       "      <td>33.0960</td>\n",
       "      <td>1.129345</td>\n",
       "      <td>-0.09650</td>\n",
       "      <td>78.661875</td>\n",
       "      <td>1</td>\n",
       "      <td>79.200511</td>\n",
       "      <td>Baseline</td>\n",
       "      <td>19-042</td>\n",
       "    </tr>\n",
       "    <tr>\n",
       "      <th>63684</th>\n",
       "      <td>45.912500</td>\n",
       "      <td>41.650000</td>\n",
       "      <td>21.575000</td>\n",
       "      <td>34.5280</td>\n",
       "      <td>0.176045</td>\n",
       "      <td>-0.16625</td>\n",
       "      <td>97.292437</td>\n",
       "      <td>2</td>\n",
       "      <td>67.280730</td>\n",
       "      <td>Activity</td>\n",
       "      <td>19-013</td>\n",
       "    </tr>\n",
       "    <tr>\n",
       "      <th>271291</th>\n",
       "      <td>38.402622</td>\n",
       "      <td>79.061713</td>\n",
       "      <td>4.607867</td>\n",
       "      <td>34.1755</td>\n",
       "      <td>8.165637</td>\n",
       "      <td>5.51050</td>\n",
       "      <td>108.372563</td>\n",
       "      <td>1</td>\n",
       "      <td>88.084785</td>\n",
       "      <td>Activity</td>\n",
       "      <td>19-055</td>\n",
       "    </tr>\n",
       "  </tbody>\n",
       "</table>\n",
       "</div>"
      ],
      "text/plain": [
       "             ACC1       ACC2       ACC3     TEMP       EDA      BVP  \\\n",
       "21591  -29.719457  -6.079186  55.400452  32.2820  1.193196 -0.67425   \n",
       "154154   6.755654  17.786349  57.084006  34.0360  5.100551  1.84300   \n",
       "203788  78.025943 -13.582547  -0.391509  33.0960  1.129345 -0.09650   \n",
       "63684   45.912500  41.650000  21.575000  34.5280  0.176045 -0.16625   \n",
       "271291  38.402622  79.061713   4.607867  34.1755  8.165637  5.51050   \n",
       "\n",
       "                HR  Round  Magnitude  Activity Subject_ID  \n",
       "21591    80.024875      2  63.164854  Baseline     19-005  \n",
       "154154   94.231375      1  60.172105  Baseline     19-032  \n",
       "203788   78.661875      1  79.200511  Baseline     19-042  \n",
       "63684    97.292437      2  67.280730  Activity     19-013  \n",
       "271291  108.372563      1  88.084785  Activity     19-055  "
      ]
     },
     "execution_count": 40,
     "metadata": {},
     "output_type": "execute_result"
    }
   ],
   "source": [
    "df.sample(5)"
   ]
  },
  {
   "cell_type": "markdown",
   "metadata": {},
   "source": [
    "## Initial RF Model"
   ]
  },
  {
   "cell_type": "markdown",
   "metadata": {},
   "source": [
    "### Choose Random Subset of subjects (n=11)"
   ]
  },
  {
   "cell_type": "code",
   "execution_count": 57,
   "metadata": {},
   "outputs": [
    {
     "name": "stdout",
     "output_type": "stream",
     "text": [
      "['19-044' '19-013' '19-018' '19-022' '19-043' '19-005' '19-034' '19-021'\n",
      " '19-056' '19-033' '19-027']\n"
     ]
    }
   ],
   "source": [
    "rands = np.random.choice(df.Subject_ID.unique(),11, replace=False)\n",
    "print(rands)"
   ]
  },
  {
   "cell_type": "markdown",
   "metadata": {},
   "source": [
    "### Split Subjects into Test and Train Sets (n=44,11)"
   ]
  },
  {
   "cell_type": "code",
   "execution_count": 58,
   "metadata": {},
   "outputs": [],
   "source": [
    "test = df[df['Subject_ID'].isin(rands)] \n",
    "train = df[-df['Subject_ID'].isin(rands)]"
   ]
  },
  {
   "cell_type": "markdown",
   "metadata": {},
   "source": [
    "### Feature Selection"
   ]
  },
  {
   "cell_type": "code",
   "execution_count": 59,
   "metadata": {},
   "outputs": [],
   "source": [
    "train = train[['ACC1', 'ACC2', 'ACC3', 'TEMP', 'EDA', 'EDA', 'BVP', 'HR', 'Magnitude','Activity']]\n",
    "test = test[['ACC1', 'ACC2', 'ACC3', 'TEMP', 'EDA', 'EDA', 'BVP', 'HR', 'Magnitude','Activity']]"
   ]
  },
  {
   "cell_type": "markdown",
   "metadata": {},
   "source": [
    "### Test-train Split"
   ]
  },
  {
   "cell_type": "code",
   "execution_count": 60,
   "metadata": {},
   "outputs": [],
   "source": [
    "X_train = train.iloc[:, :-1].values\n",
    "y_train = train.iloc[:, -1].values\n",
    "X_test = test.iloc[:, :-1].values\n",
    "y_test = test.iloc[:, -1].values"
   ]
  },
  {
   "cell_type": "markdown",
   "metadata": {},
   "source": [
    "### Standardize Data"
   ]
  },
  {
   "cell_type": "code",
   "execution_count": 61,
   "metadata": {},
   "outputs": [],
   "source": [
    "sc = StandardScaler()\n",
    "X_train = sc.fit_transform(X_train)\n",
    "X_test = sc.transform(X_test)"
   ]
  },
  {
   "cell_type": "markdown",
   "metadata": {},
   "source": [
    "### Random Forest Classifier Initialization"
   ]
  },
  {
   "cell_type": "code",
   "execution_count": 62,
   "metadata": {},
   "outputs": [],
   "source": [
    "clf = RandomForestClassifier(n_estimators=100,\n",
    "random_state=1337,\n",
    "max_depth=20,\n",
    "min_samples_leaf=1)"
   ]
  },
  {
   "cell_type": "markdown",
   "metadata": {},
   "source": [
    "### Fit and Predict using RF model"
   ]
  },
  {
   "cell_type": "code",
   "execution_count": 63,
   "metadata": {},
   "outputs": [],
   "source": [
    "clf.fit(X_train, y_train)\n",
    "y_pred = clf.predict(X_test)"
   ]
  },
  {
   "cell_type": "markdown",
   "metadata": {},
   "source": [
    "### Confusion Matrix"
   ]
  },
  {
   "cell_type": "code",
   "execution_count": 64,
   "metadata": {},
   "outputs": [
    {
     "name": "stdout",
     "output_type": "stream",
     "text": [
      "[[19600  4505    69   207]\n",
      " [ 2310 15196   443  1392]\n",
      " [  628  2971   622     0]\n",
      " [   51  2844     0  1326]]\n"
     ]
    }
   ],
   "source": [
    "cm = confusion_matrix(y_test, y_pred)\n",
    "print(cm)"
   ]
  },
  {
   "cell_type": "markdown",
   "metadata": {},
   "source": [
    "### Evaluate Accuracy & F1 Score"
   ]
  },
  {
   "cell_type": "code",
   "execution_count": 82,
   "metadata": {},
   "outputs": [],
   "source": [
    "scores = pd.DataFrame([accuracy_score(y_test, y_pred),f1_score(y_test, y_pred,average='weighted')], columns = ['Score'], index = ['Accuracy', 'F1'])"
   ]
  },
  {
   "cell_type": "code",
   "execution_count": 83,
   "metadata": {},
   "outputs": [
    {
     "data": {
      "text/html": [
       "<div>\n",
       "<style scoped>\n",
       "    .dataframe tbody tr th:only-of-type {\n",
       "        vertical-align: middle;\n",
       "    }\n",
       "\n",
       "    .dataframe tbody tr th {\n",
       "        vertical-align: top;\n",
       "    }\n",
       "\n",
       "    .dataframe thead th {\n",
       "        text-align: right;\n",
       "    }\n",
       "</style>\n",
       "<table border=\"1\" class=\"dataframe\">\n",
       "  <thead>\n",
       "    <tr style=\"text-align: right;\">\n",
       "      <th></th>\n",
       "      <th>Score</th>\n",
       "    </tr>\n",
       "  </thead>\n",
       "  <tbody>\n",
       "    <tr>\n",
       "      <th>Accuracy</th>\n",
       "      <td>0.704394</td>\n",
       "    </tr>\n",
       "    <tr>\n",
       "      <th>F1</th>\n",
       "      <td>0.690111</td>\n",
       "    </tr>\n",
       "  </tbody>\n",
       "</table>\n",
       "</div>"
      ],
      "text/plain": [
       "             Score\n",
       "Accuracy  0.704394\n",
       "F1        0.690111"
      ]
     },
     "execution_count": 83,
     "metadata": {},
     "output_type": "execute_result"
    }
   ],
   "source": [
    "scores"
   ]
  },
  {
   "cell_type": "markdown",
   "metadata": {},
   "source": [
    "## LOOCV"
   ]
  },
  {
   "cell_type": "markdown",
   "metadata": {},
   "source": [
    "__Leave One Out CV:__\n",
    "Each observation is considered as a validation set and the rest n-1 observations are a training set. Fit the model and predict using 1 observation validation set. Repeat this for n times for each observation as a validation set.\n",
    "Test-error rate is average of all n errors.\n",
    "\n",
    "__Advantages:__ takes care of both drawbacks of validation-set method\n",
    "1. No randomness of using some observations for training vs. validation set like in validation-set method as each observation is considered for both training and validation. So overall less variability than Validation-set method due to no randomness no matter how many times you run it.\n",
    "2. Less bias than validation-set method as training-set is of n-1 size. Because of this reduced bias, reduced over-estimation of test-error, not as much compared to validation-set method.\n",
    "\n",
    "__Disadvantages:__\n",
    "1. Even though each iterations test-error is un-biased, it has a high variability as only one-observation validation-set was used for prediction.\n",
    "2. Computationally expensive (time and power) especially if dataset is big with large n as it requires fitting the model n times. Also some statistical models have computationally intensive fitting so with large dataset and these models LOOCV might not be a good choice."
   ]
  },
  {
   "cell_type": "markdown",
   "metadata": {},
   "source": [
    "### Initialize Loop Iterator & Lists"
   ]
  },
  {
   "cell_type": "code",
   "execution_count": 23,
   "metadata": {},
   "outputs": [],
   "source": [
    "subject_ids = list(df.Subject_ID.unique())"
   ]
  },
  {
   "cell_type": "code",
   "execution_count": 25,
   "metadata": {},
   "outputs": [],
   "source": [
    "LOOCV_accuracy = []\n",
    "LOOCV_f1 = []"
   ]
  },
  {
   "cell_type": "markdown",
   "metadata": {},
   "source": [
    "### Cross-Validation Algorithm"
   ]
  },
  {
   "cell_type": "code",
   "execution_count": 26,
   "metadata": {},
   "outputs": [
    {
     "name": "stdout",
     "output_type": "stream",
     "text": [
      "Metrics for Subject 19-001\n",
      "[[1491  830    1    0]\n",
      " [   0 1842    0    0]\n",
      " [   0  402    0    0]\n",
      " [  42  284    3   73]]\n",
      "Metrics for Subject 19-002\n",
      "[[1765  384    0  173]\n",
      " [ 208 1244    9  381]\n",
      " [ 208  194    0    0]\n",
      " [  32  220    0  150]]\n",
      "Metrics for Subject 19-003\n",
      "[[2188  134    0    0]\n",
      " [ 475 1353    0   14]\n",
      " [  13  389    0    0]\n",
      " [   0  155    0  247]]\n",
      "Metrics for Subject 19-004\n",
      "[[1606  716    0    0]\n",
      " [ 103 1220  503   16]\n",
      " [   9  292  101    0]\n",
      " [   0  402    0    0]]\n",
      "Metrics for Subject 19-005\n",
      "[[1286  941    0   95]\n",
      " [   7 1834    1    0]\n",
      " [   4  117  281    0]\n",
      " [  27  323    0   52]]\n",
      "Metrics for Subject 19-006\n",
      "[[2322    0    0    0]\n",
      " [ 157 1657    0   28]\n",
      " [  13  389    0    0]\n",
      " [  25  167    0  210]]\n",
      "Metrics for Subject 19-007\n",
      "[[2319    1    2    0]\n",
      " [ 310 1532    0    0]\n",
      " [ 373   29    0    0]\n",
      " [  35   46    0  321]]\n",
      "Metrics for Subject 19-008\n",
      "[[1161 1142   19    0]\n",
      " [   0 1696    0  146]\n",
      " [   0  367   10   25]\n",
      " [   0  242    0  160]]\n",
      "Metrics for Subject 19-009\n",
      "[[2129  174   19    0]\n",
      " [  19 1809    0   14]\n",
      " [   0  384    7   11]\n",
      " [   0  348    0   54]]\n",
      "Metrics for Subject 19-010\n",
      "[[2212  102    8    0]\n",
      " [  34 1808    0    0]\n",
      " [   0  391   11    0]\n",
      " [   0  210    0  192]]\n",
      "Metrics for Subject 19-011\n",
      "[[2171  140   11    0]\n",
      " [ 120 1701   21    0]\n",
      " [  50  265   61   26]\n",
      " [  11  278    0  113]]\n",
      "Metrics for Subject 19-012\n",
      "[[1968  284   70    0]\n",
      " [ 195 1560    0   87]\n",
      " [   0  334    0   68]\n",
      " [  41  206    0  155]]\n",
      "Metrics for Subject 19-013\n",
      "[[2194  128    0    0]\n",
      " [ 260 1582    0    0]\n",
      " [   0  402    0    0]\n",
      " [   0  324    0   78]]\n",
      "Metrics for Subject 19-014\n",
      "[[1953  328   41    0]\n",
      " [  48 1727   67    0]\n",
      " [   5  325   72    0]\n",
      " [   0  386    0   16]]\n",
      "Metrics for Subject 19-015\n",
      "[[1222 1100    0    0]\n",
      " [ 592 1021  210   19]\n",
      " [   0  229  173    0]\n",
      " [   5   34    0  363]]\n",
      "Metrics for Subject 19-016\n",
      "[[2190  131    1    0]\n",
      " [  46 1009  787    0]\n",
      " [   4  236  162    0]\n",
      " [   1  400    1    0]]\n",
      "Metrics for Subject 19-017\n",
      "[[2137  164   21    0]\n",
      " [  79 1735   28    0]\n",
      " [   1  105  296    0]\n",
      " [   0  400    0    2]]\n",
      "Metrics for Subject 19-018\n",
      "[[2174   12  136    0]\n",
      " [ 178 1391  273    0]\n",
      " [  32  369    1    0]\n",
      " [  16  362    0   24]]\n",
      "Metrics for Subject 19-019\n",
      "[[2322    0    0    0]\n",
      " [ 102    8    0 1732]\n",
      " [ 175   66    0  161]\n",
      " [   0    0    0  402]]\n",
      "Metrics for Subject 19-020\n",
      "[[2322    0    0    0]\n",
      " [   0  315 1527    0]\n",
      " [  11    3  388    0]\n",
      " [   0  200    0  202]]\n",
      "Metrics for Subject 19-021\n",
      "[[   0 1161    0 1161]\n",
      " [ 606  300    0  936]\n",
      " [ 177    0   24  201]\n",
      " [   0   34    0  368]]\n",
      "Metrics for Subject 19-022\n",
      "[[1847  451   24    0]\n",
      " [  81 1761    0    0]\n",
      " [ 130  133  139    0]\n",
      " [   4  359    0   39]]\n",
      "Metrics for Subject 19-023\n",
      "[[1674  371  265   12]\n",
      " [ 215 1210  416    1]\n",
      " [   3  221  178    0]\n",
      " [   0  224    0  178]]\n",
      "Metrics for Subject 19-024\n",
      "[[2134   56  132    0]\n",
      " [ 265 1161  343   73]\n",
      " [  42  203  157    0]\n",
      " [   0  126    0  276]]\n",
      "Metrics for Subject 19-025\n",
      "[[2249   46   27    0]\n",
      " [   8 1731    0  103]\n",
      " [   0  117  285    0]\n",
      " [   0  123    0  279]]\n",
      "Metrics for Subject 19-026\n",
      "[[2298   24    0    0]\n",
      " [   9  886    0  947]\n",
      " [  12  377   13    0]\n",
      " [   0   30    0  372]]\n",
      "Metrics for Subject 19-027\n",
      "[[1879  443    0    0]\n",
      " [  27 1510  305    0]\n",
      " [   0   95  307    0]\n",
      " [   0  402    0    0]]\n",
      "Metrics for Subject 19-028\n",
      "[[2097  120  105    0]\n",
      " [  85 1100  657    0]\n",
      " [  12  171  219    0]\n",
      " [ 117   67  116  102]]\n",
      "Metrics for Subject 19-029\n",
      "[[2257   65    0    0]\n",
      " [   0 1842    0    0]\n",
      " [   0  402    0    0]\n",
      " [   0  402    0    0]]\n",
      "Metrics for Subject 19-030\n",
      "[[2264   58    0    0]\n",
      " [ 975  331    0  536]\n",
      " [ 201  151   50    0]\n",
      " [ 201   40    0  161]]\n",
      "Metrics for Subject 19-031\n",
      "[[1982  339    1    0]\n",
      " [   0 1781    2   59]\n",
      " [   0  401    1    0]\n",
      " [   0  200    0  202]]\n",
      "Metrics for Subject 19-032\n",
      "[[2322    0    0    0]\n",
      " [  31 1108    0  703]\n",
      " [ 150  245    7    0]\n",
      " [   0    8    0  394]]\n",
      "Metrics for Subject 19-033\n",
      "[[2322    0    0    0]\n",
      " [   6 1606    0  230]\n",
      " [   3  399    0    0]\n",
      " [   0  219    0  183]]\n",
      "Metrics for Subject 19-034\n",
      "[[2237   85    0    0]\n",
      " [  26  453    0 1363]\n",
      " [  33  369    0    0]\n",
      " [   0    0    0  402]]\n",
      "Metrics for Subject 19-035\n",
      "[[2152   99    0   71]\n",
      " [   1  843    0  998]\n",
      " [  17  385    0    0]\n",
      " [   0  366    0   36]]\n",
      "Metrics for Subject 19-036\n",
      "[[ 203 1311  808    0]\n",
      " [  54  964  776   48]\n",
      " [   0   24  378    0]\n",
      " [   0   91    0  311]]\n",
      "Metrics for Subject 19-037\n",
      "[[2239   83    0    0]\n",
      " [ 909  933    0    0]\n",
      " [ 343   59    0    0]\n",
      " [   0  402    0    0]]\n",
      "Metrics for Subject 19-038\n",
      "[[2268   23    0   31]\n",
      " [ 127 1715    0    0]\n",
      " [   0  402    0    0]\n",
      " [   0  111    0  291]]\n",
      "Metrics for Subject 19-039\n",
      "[[2249   58    0   15]\n",
      " [ 348 1488    0    6]\n",
      " [  56   75  271    0]\n",
      " [   1  291    0  110]]\n",
      "Metrics for Subject 19-040\n",
      "[[1139 1183    0    0]\n",
      " [ 406 1206  230    0]\n",
      " [   0  201  201    0]\n",
      " [   0  402    0    0]]\n",
      "Metrics for Subject 19-041\n",
      "[[2322    0    0    0]\n",
      " [ 229 1104  318  191]\n",
      " [   0    0  402    0]\n",
      " [   0  103    0  299]]\n",
      "Metrics for Subject 19-042\n",
      "[[2226   71    0   25]\n",
      " [  12  946    0  884]\n",
      " [ 253  149    0    0]\n",
      " [   0   16    0  386]]\n",
      "Metrics for Subject 19-043\n",
      "[[2322    0    0    0]\n",
      " [ 732 1024   85    1]\n",
      " [  24  167  211    0]\n",
      " [  13  230    0  159]]\n",
      "Metrics for Subject 19-044\n",
      "[[2322    0    0    0]\n",
      " [ 443  758  641    0]\n",
      " [   1  217  184    0]\n",
      " [   0  272    0  130]]\n",
      "Metrics for Subject 19-045\n",
      "[[2322    0    0    0]\n",
      " [  34 1808    0    0]\n",
      " [   0  387   15    0]\n",
      " [   0  373    0   29]]\n",
      "Metrics for Subject 19-046\n",
      "[[2313    9    0    0]\n",
      " [ 423 1419    0    0]\n",
      " [   0  297  105    0]\n",
      " [   0   83    0  319]]\n",
      "Metrics for Subject 19-047\n",
      "[[1139 1183    0    0]\n",
      " [ 131 1711    0    0]\n",
      " [  28  374    0    0]\n",
      " [   0  343    0   59]]\n",
      "Metrics for Subject 19-048\n",
      "[[2322    0    0    0]\n",
      " [   7 1828    7    0]\n",
      " [ 205  197    0    0]\n",
      " [   0  295    0  107]]\n",
      "Metrics for Subject 19-049\n",
      "[[2322    0    0    0]\n",
      " [  54 1787    0    1]\n",
      " [  81  201  120    0]\n",
      " [   0   91    0  311]]\n",
      "Metrics for Subject 19-050\n",
      "[[1850  456   16    0]\n",
      " [  36 1766   31    9]\n",
      " [  97  281   24    0]\n",
      " [   0  302    0  100]]\n",
      "Metrics for Subject 19-051\n",
      "[[1148 1078   96    0]\n",
      " [  67 1037  738    0]\n",
      " [   0  279  123    0]\n",
      " [   0  369    0   33]]\n",
      "Metrics for Subject 19-052\n",
      "[[2322    0    0    0]\n",
      " [  42 1743   31   26]\n",
      " [   0  201  201    0]\n",
      " [   0  373    0   29]]\n",
      "Metrics for Subject 19-053\n",
      "[[1993  320    0    9]\n",
      " [ 197 1046    0  599]\n",
      " [   0  298   98    6]\n",
      " [   0   22    0  380]]\n",
      "Metrics for Subject 19-054\n",
      "[[2270   45    7    0]\n",
      " [   3 1285    0  554]\n",
      " [  90    8  304    0]\n",
      " [   0  176    0  226]]\n",
      "Metrics for Subject 19-055\n",
      "[[1927  105  285    5]\n",
      " [ 294  713  777   58]\n",
      " [ 178    0  224    0]\n",
      " [   0  278    0  124]]\n",
      "Metrics for Subject 19-056\n",
      "[[656 505   0   0]\n",
      " [  0 921   0   0]\n",
      " [  0 183  18   0]\n",
      " [  0 120   0  81]]\n"
     ]
    }
   ],
   "source": [
    "for subject in subject_ids:\n",
    "    #Read in data\n",
    "    df = pd.read_csv(\"../20_intermediate_files/60_rolled_final_data.csv\")\n",
    "    \n",
    "    #Split into test and train based on subject\n",
    "    test = df.loc[df['Subject_ID']==subject]\n",
    "    train = df.loc[df['Subject_ID']!=subject]\n",
    "    \n",
    "    #Feature selection\n",
    "    train = train[['ACC1', 'ACC2', 'ACC3', 'TEMP', 'EDA', 'EDA', 'BVP', 'HR', 'Magnitude','Activity']]\n",
    "    test = test[['ACC1', 'ACC2', 'ACC3', 'TEMP', 'EDA', 'EDA', 'BVP', 'HR', 'Magnitude','Activity']]\n",
    "    \n",
    "    #Test-train split\n",
    "    X_train = train.iloc[:, :-1].values\n",
    "    y_train = train.iloc[:, -1].values\n",
    "    X_test = test.iloc[:, :-1].values\n",
    "    y_test = test.iloc[:, -1].values\n",
    "    \n",
    "    #Standardize data\n",
    "    sc = StandardScaler()\n",
    "    X_train = sc.fit_transform(X_train)\n",
    "    X_test = sc.transform(X_test)\n",
    "    \n",
    "    #Random Forest model\n",
    "    clf = RandomForestClassifier(n_estimators=100,\n",
    "    random_state=1337,\n",
    "    max_depth=13,\n",
    "    min_samples_leaf=1)\n",
    "    \n",
    "    #Fit and Predict using RF model\n",
    "    clf.fit(X_train, y_train)\n",
    "    y_pred = clf.predict(X_test)\n",
    "    \n",
    "    #Print Accuracy Score\n",
    "    print('Metrics for Subject '+ subject)\n",
    "    #Confusion Matrix\n",
    "    cm = confusion_matrix(y_test, y_pred)\n",
    "    print(cm)\n",
    "    \n",
    "    #Add to Lists\n",
    "    LOOCV_accuracy.append(accuracy_score(y_test, y_pred))\n",
    "    LOOCV_f1.append(f1_score(y_test, y_pred,average='weighted'))\n",
    "    \n",
    "    \n",
    "    "
   ]
  },
  {
   "cell_type": "markdown",
   "metadata": {},
   "source": [
    "### Plot LOOCV Metric Results "
   ]
  },
  {
   "cell_type": "code",
   "execution_count": 27,
   "metadata": {},
   "outputs": [
    {
     "data": {
      "image/png": "[encoded data removed]",
      "text/plain": [
       "<Figure size 2160x1440 with 1 Axes>"
      ]
     },
     "metadata": {
      "needs_background": "light"
     },
     "output_type": "display_data"
    }
   ],
   "source": [
    "fig, ax = plt.subplots(figsize=(30, 20))\n",
    "\n",
    "x=np.arange(1,57)\n",
    "width=.3\n",
    "rect1 = ax.bar(x-width/2, LOOCV_accuracy,width, label = 'Accuracy Score')\n",
    "rect2 = ax.bar(x+width/2, LOOCV_f1,width,label = 'F1 Score')\n",
    "# Add some text for labels, title and custom x-axis tick labels, etc.\n",
    "ax.set_ylabel('Score')\n",
    "ax.set_title('Accuracy and F1 scores for LOOCV')\n",
    "ax.set_xticks(x)\n",
    "ax.set_xticklabels(x)\n",
    "ax.set_xlabel('Subject_ID left out')\n",
    "ax.legend()\n",
    "\n",
    "\n",
    "fig.tight_layout()\n",
    "\n",
    "\n",
    "plt.show()\n"
   ]
  },
  {
   "cell_type": "markdown",
   "metadata": {},
   "source": [
    "### Create Dataframes to show Error Metrics"
   ]
  },
  {
   "cell_type": "code",
   "execution_count": 28,
   "metadata": {},
   "outputs": [],
   "source": [
    "loocv_df = pd.DataFrame(columns = ['Accuracy Score', 'F1 Score'])"
   ]
  },
  {
   "cell_type": "code",
   "execution_count": 29,
   "metadata": {},
   "outputs": [],
   "source": [
    "loocv_df['Accuracy Score'] = LOOCV_accuracy \n",
    "loocv_df['F1 Score'] = LOOCV_f1"
   ]
  },
  {
   "cell_type": "code",
   "execution_count": 30,
   "metadata": {},
   "outputs": [],
   "source": [
    "loocv_df.index = subject_ids"
   ]
  },
  {
   "cell_type": "code",
   "execution_count": 1,
   "metadata": {
    "scrolled": true
   },
   "outputs": [
    {
     "ename": "NameError",
     "evalue": "name 'loocv_df' is not defined",
     "output_type": "error",
     "traceback": [
      "\u001b[0;31m---------------------------------------------------------------------------\u001b[0m",
      "\u001b[0;31mNameError\u001b[0m                                 Traceback (most recent call last)",
      "\u001b[0;32m<ipython-input-1-d5e95e063786>\u001b[0m in \u001b[0;36m<module>\u001b[0;34m\u001b[0m\n\u001b[0;32m----> 1\u001b[0;31m \u001b[0mloocv_df\u001b[0m\u001b[0;34m.\u001b[0m\u001b[0msort_values\u001b[0m\u001b[0;34m(\u001b[0m\u001b[0mby\u001b[0m\u001b[0;34m=\u001b[0m\u001b[0;34m'F1 Score'\u001b[0m\u001b[0;34m,\u001b[0m \u001b[0mascending\u001b[0m \u001b[0;34m=\u001b[0m \u001b[0;32mTrue\u001b[0m\u001b[0;34m)\u001b[0m\u001b[0;34m.\u001b[0m\u001b[0mhead\u001b[0m\u001b[0;34m(\u001b[0m\u001b[0;34m)\u001b[0m\u001b[0;34m\u001b[0m\u001b[0;34m\u001b[0m\u001b[0m\n\u001b[0m",
      "\u001b[0;31mNameError\u001b[0m: name 'loocv_df' is not defined"
     ]
    }
   ],
   "source": [
    "loocv_df.sort_values(by='F1 Score', ascending = True).head()"
   ]
  },
  {
   "cell_type": "markdown",
   "metadata": {},
   "source": [
    "## LOOCV Results"
   ]
  },
  {
   "cell_type": "code",
   "execution_count": 100,
   "metadata": {},
   "outputs": [
    {
     "data": {
      "text/html": [
       "<div>\n",
       "<style scoped>\n",
       "    .dataframe tbody tr th:only-of-type {\n",
       "        vertical-align: middle;\n",
       "    }\n",
       "\n",
       "    .dataframe tbody tr th {\n",
       "        vertical-align: top;\n",
       "    }\n",
       "\n",
       "    .dataframe thead th {\n",
       "        text-align: right;\n",
       "    }\n",
       "</style>\n",
       "<table border=\"1\" class=\"dataframe\">\n",
       "  <thead>\n",
       "    <tr style=\"text-align: right;\">\n",
       "      <th></th>\n",
       "      <th>Accuracy Score</th>\n",
       "      <th>F1 Score</th>\n",
       "    </tr>\n",
       "  </thead>\n",
       "  <tbody>\n",
       "    <tr>\n",
       "      <th>mean</th>\n",
       "      <td>0.713053</td>\n",
       "      <td>0.691433</td>\n",
       "    </tr>\n",
       "    <tr>\n",
       "      <th>std</th>\n",
       "      <td>0.139454</td>\n",
       "      <td>0.140185</td>\n",
       "    </tr>\n",
       "  </tbody>\n",
       "</table>\n",
       "</div>"
      ],
      "text/plain": [
       "      Accuracy Score  F1 Score\n",
       "mean        0.713053  0.691433\n",
       "std         0.139454  0.140185"
      ]
     },
     "execution_count": 100,
     "metadata": {},
     "output_type": "execute_result"
    }
   ],
   "source": [
    "results = loocv_df.describe()\n",
    "results.loc[['mean','std']]"
   ]
  },
  {
   "cell_type": "code",
   "execution_count": 94,
   "metadata": {},
   "outputs": [
    {
     "data": {
      "text/plain": [
       "<matplotlib.axes._subplots.AxesSubplot at 0x7f804d330ad0>"
      ]
     },
     "execution_count": 94,
     "metadata": {},
     "output_type": "execute_result"
    },
    {
     "data": {
      "image/png": "[encoded data removed]",
      "text/plain": [
       "<Figure size 432x288 with 1 Axes>"
      ]
     },
     "metadata": {
      "needs_background": "light"
     },
     "output_type": "display_data"
    }
   ],
   "source": [
    "sns.distplot(loocv_df['Accuracy Score'], rug=True, bins=20)"
   ]
  },
  {
   "cell_type": "code",
   "execution_count": 95,
   "metadata": {},
   "outputs": [
    {
     "data": {
      "text/plain": [
       "<matplotlib.axes._subplots.AxesSubplot at 0x7f804d432690>"
      ]
     },
     "execution_count": 95,
     "metadata": {},
     "output_type": "execute_result"
    },
    {
     "data": {
      "image/png": "[encoded data removed]",
      "text/plain": [
       "<Figure size 432x288 with 1 Axes>"
      ]
     },
     "metadata": {
      "needs_background": "light"
     },
     "output_type": "display_data"
    }
   ],
   "source": [
    "sns.distplot(loocv_df['F1 Score'], rug=True,bins=20)"
   ]
  }
 ],
 "metadata": {
  "kernelspec": {
   "display_name": "Python 3",
   "language": "python",
   "name": "python3"
  },
  "language_info": {
   "codemirror_mode": {
    "name": "ipython",
    "version": 3
   },
   "file_extension": ".py",
   "mimetype": "text/x-python",
   "name": "python",
   "nbconvert_exporter": "python",
   "pygments_lexer": "ipython3",
   "version": "3.7.7"
  }
 },
 "nbformat": 4,
 "nbformat_minor": 4
}
