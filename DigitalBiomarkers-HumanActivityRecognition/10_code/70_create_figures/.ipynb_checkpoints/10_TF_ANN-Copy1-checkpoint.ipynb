{
 "cells": [
  {
   "cell_type": "code",
   "execution_count": 2,
   "metadata": {},
   "outputs": [],
   "source": [
    "import numpy as np\n",
    "import pandas as pd\n",
    "import tensorflow as tf\n",
    "import random\n",
    "import keras\n",
    "from keras import models\n",
    "from keras import layers\n",
    "import numpy as np\n",
    "from keras.utils import np_utils"
   ]
  },
  {
   "cell_type": "code",
   "execution_count": 6,
   "metadata": {},
   "outputs": [],
   "source": [
    "df  = pd.read_csv('../40_usable_data_for_models/Duke_Data/super_rows.csv')"
   ]
  },
  {
   "cell_type": "code",
   "execution_count": 7,
   "metadata": {},
   "outputs": [
    {
     "data": {
      "text/html": [
       "<div>\n",
       "<style scoped>\n",
       "    .dataframe tbody tr th:only-of-type {\n",
       "        vertical-align: middle;\n",
       "    }\n",
       "\n",
       "    .dataframe tbody tr th {\n",
       "        vertical-align: top;\n",
       "    }\n",
       "\n",
       "    .dataframe thead th {\n",
       "        text-align: right;\n",
       "    }\n",
       "</style>\n",
       "<table border=\"1\" class=\"dataframe\">\n",
       "  <thead>\n",
       "    <tr style=\"text-align: right;\">\n",
       "      <th></th>\n",
       "      <th>ACC1</th>\n",
       "      <th>ACC2</th>\n",
       "      <th>ACC3</th>\n",
       "      <th>TEMP</th>\n",
       "      <th>EDA</th>\n",
       "      <th>BVP</th>\n",
       "      <th>HR</th>\n",
       "      <th>Magnitude</th>\n",
       "      <th>Activity</th>\n",
       "      <th>Subject_ID</th>\n",
       "      <th>...</th>\n",
       "      <th>ACC2+1</th>\n",
       "      <th>ACC3+1</th>\n",
       "      <th>TEMP+1</th>\n",
       "      <th>EDA+1</th>\n",
       "      <th>BVP+1</th>\n",
       "      <th>HR+1</th>\n",
       "      <th>Magnitude+1</th>\n",
       "      <th>Activity+1</th>\n",
       "      <th>Subject_ID+1</th>\n",
       "      <th>Round+1</th>\n",
       "    </tr>\n",
       "  </thead>\n",
       "  <tbody>\n",
       "    <tr>\n",
       "      <th>0</th>\n",
       "      <td>41.000000</td>\n",
       "      <td>27.200000</td>\n",
       "      <td>40.000000</td>\n",
       "      <td>32.39</td>\n",
       "      <td>0.275354</td>\n",
       "      <td>15.25</td>\n",
       "      <td>78.9800</td>\n",
       "      <td>63.410094</td>\n",
       "      <td>Baseline</td>\n",
       "      <td>19-001</td>\n",
       "      <td>...</td>\n",
       "      <td>27</td>\n",
       "      <td>40</td>\n",
       "      <td>32</td>\n",
       "      <td>0</td>\n",
       "      <td>-12</td>\n",
       "      <td>78</td>\n",
       "      <td>63</td>\n",
       "      <td>Baseline</td>\n",
       "      <td>19-001</td>\n",
       "      <td>1</td>\n",
       "    </tr>\n",
       "    <tr>\n",
       "      <th>1</th>\n",
       "      <td>41.000000</td>\n",
       "      <td>27.300000</td>\n",
       "      <td>40.000000</td>\n",
       "      <td>32.39</td>\n",
       "      <td>0.276634</td>\n",
       "      <td>-12.75</td>\n",
       "      <td>78.8350</td>\n",
       "      <td>63.453054</td>\n",
       "      <td>Baseline</td>\n",
       "      <td>19-001</td>\n",
       "      <td>...</td>\n",
       "      <td>27</td>\n",
       "      <td>40</td>\n",
       "      <td>32</td>\n",
       "      <td>0</td>\n",
       "      <td>-42</td>\n",
       "      <td>78</td>\n",
       "      <td>63</td>\n",
       "      <td>Baseline</td>\n",
       "      <td>19-001</td>\n",
       "      <td>1</td>\n",
       "    </tr>\n",
       "    <tr>\n",
       "      <th>2</th>\n",
       "      <td>41.000000</td>\n",
       "      <td>27.400000</td>\n",
       "      <td>40.000000</td>\n",
       "      <td>32.39</td>\n",
       "      <td>0.270231</td>\n",
       "      <td>-42.99</td>\n",
       "      <td>78.6900</td>\n",
       "      <td>63.496142</td>\n",
       "      <td>Baseline</td>\n",
       "      <td>19-001</td>\n",
       "      <td>...</td>\n",
       "      <td>27</td>\n",
       "      <td>40</td>\n",
       "      <td>32</td>\n",
       "      <td>0</td>\n",
       "      <td>18</td>\n",
       "      <td>78</td>\n",
       "      <td>63</td>\n",
       "      <td>Baseline</td>\n",
       "      <td>19-001</td>\n",
       "      <td>1</td>\n",
       "    </tr>\n",
       "    <tr>\n",
       "      <th>3</th>\n",
       "      <td>41.000000</td>\n",
       "      <td>27.500000</td>\n",
       "      <td>40.000000</td>\n",
       "      <td>32.39</td>\n",
       "      <td>0.270231</td>\n",
       "      <td>18.39</td>\n",
       "      <td>78.5450</td>\n",
       "      <td>63.539358</td>\n",
       "      <td>Baseline</td>\n",
       "      <td>19-001</td>\n",
       "      <td>...</td>\n",
       "      <td>27</td>\n",
       "      <td>40</td>\n",
       "      <td>32</td>\n",
       "      <td>0</td>\n",
       "      <td>13</td>\n",
       "      <td>78</td>\n",
       "      <td>63</td>\n",
       "      <td>Baseline</td>\n",
       "      <td>19-001</td>\n",
       "      <td>1</td>\n",
       "    </tr>\n",
       "    <tr>\n",
       "      <th>4</th>\n",
       "      <td>41.000000</td>\n",
       "      <td>27.600000</td>\n",
       "      <td>40.000000</td>\n",
       "      <td>32.34</td>\n",
       "      <td>0.268950</td>\n",
       "      <td>13.61</td>\n",
       "      <td>78.4000</td>\n",
       "      <td>63.582702</td>\n",
       "      <td>Baseline</td>\n",
       "      <td>19-001</td>\n",
       "      <td>...</td>\n",
       "      <td>27</td>\n",
       "      <td>40</td>\n",
       "      <td>32</td>\n",
       "      <td>0</td>\n",
       "      <td>-9</td>\n",
       "      <td>78</td>\n",
       "      <td>63</td>\n",
       "      <td>Baseline</td>\n",
       "      <td>19-001</td>\n",
       "      <td>1</td>\n",
       "    </tr>\n",
       "    <tr>\n",
       "      <th>...</th>\n",
       "      <td>...</td>\n",
       "      <td>...</td>\n",
       "      <td>...</td>\n",
       "      <td>...</td>\n",
       "      <td>...</td>\n",
       "      <td>...</td>\n",
       "      <td>...</td>\n",
       "      <td>...</td>\n",
       "      <td>...</td>\n",
       "      <td>...</td>\n",
       "      <td>...</td>\n",
       "      <td>...</td>\n",
       "      <td>...</td>\n",
       "      <td>...</td>\n",
       "      <td>...</td>\n",
       "      <td>...</td>\n",
       "      <td>...</td>\n",
       "      <td>...</td>\n",
       "      <td>...</td>\n",
       "      <td>...</td>\n",
       "      <td>...</td>\n",
       "    </tr>\n",
       "    <tr>\n",
       "      <th>279833</th>\n",
       "      <td>15.058824</td>\n",
       "      <td>-9.058824</td>\n",
       "      <td>68.941176</td>\n",
       "      <td>32.09</td>\n",
       "      <td>0.727712</td>\n",
       "      <td>3.66</td>\n",
       "      <td>92.7225</td>\n",
       "      <td>71.145740</td>\n",
       "      <td>Type</td>\n",
       "      <td>19-056</td>\n",
       "      <td>...</td>\n",
       "      <td>-10</td>\n",
       "      <td>66</td>\n",
       "      <td>32</td>\n",
       "      <td>0</td>\n",
       "      <td>-2</td>\n",
       "      <td>92</td>\n",
       "      <td>70</td>\n",
       "      <td>Type</td>\n",
       "      <td>19-056</td>\n",
       "      <td>1</td>\n",
       "    </tr>\n",
       "    <tr>\n",
       "      <th>279834</th>\n",
       "      <td>18.117647</td>\n",
       "      <td>-10.117647</td>\n",
       "      <td>66.882353</td>\n",
       "      <td>32.09</td>\n",
       "      <td>0.722590</td>\n",
       "      <td>-2.54</td>\n",
       "      <td>92.7750</td>\n",
       "      <td>70.027602</td>\n",
       "      <td>Type</td>\n",
       "      <td>19-056</td>\n",
       "      <td>...</td>\n",
       "      <td>-11</td>\n",
       "      <td>64</td>\n",
       "      <td>32</td>\n",
       "      <td>0</td>\n",
       "      <td>0</td>\n",
       "      <td>92</td>\n",
       "      <td>69</td>\n",
       "      <td>Type</td>\n",
       "      <td>19-056</td>\n",
       "      <td>1</td>\n",
       "    </tr>\n",
       "    <tr>\n",
       "      <th>279835</th>\n",
       "      <td>21.176471</td>\n",
       "      <td>-11.176471</td>\n",
       "      <td>64.823529</td>\n",
       "      <td>32.09</td>\n",
       "      <td>0.708502</td>\n",
       "      <td>0.85</td>\n",
       "      <td>92.8275</td>\n",
       "      <td>69.104605</td>\n",
       "      <td>Type</td>\n",
       "      <td>19-056</td>\n",
       "      <td>...</td>\n",
       "      <td>-12</td>\n",
       "      <td>62</td>\n",
       "      <td>32</td>\n",
       "      <td>0</td>\n",
       "      <td>-1</td>\n",
       "      <td>92</td>\n",
       "      <td>68</td>\n",
       "      <td>Type</td>\n",
       "      <td>19-056</td>\n",
       "      <td>1</td>\n",
       "    </tr>\n",
       "    <tr>\n",
       "      <th>279836</th>\n",
       "      <td>24.235294</td>\n",
       "      <td>-12.235294</td>\n",
       "      <td>62.764706</td>\n",
       "      <td>32.09</td>\n",
       "      <td>0.694414</td>\n",
       "      <td>-1.00</td>\n",
       "      <td>92.8800</td>\n",
       "      <td>68.384649</td>\n",
       "      <td>Type</td>\n",
       "      <td>19-056</td>\n",
       "      <td>...</td>\n",
       "      <td>-13</td>\n",
       "      <td>60</td>\n",
       "      <td>32</td>\n",
       "      <td>0</td>\n",
       "      <td>5</td>\n",
       "      <td>92</td>\n",
       "      <td>67</td>\n",
       "      <td>Type</td>\n",
       "      <td>19-056</td>\n",
       "      <td>1</td>\n",
       "    </tr>\n",
       "    <tr>\n",
       "      <th>279837</th>\n",
       "      <td>27.294118</td>\n",
       "      <td>-13.294118</td>\n",
       "      <td>60.705882</td>\n",
       "      <td>32.09</td>\n",
       "      <td>0.672642</td>\n",
       "      <td>5.22</td>\n",
       "      <td>92.9400</td>\n",
       "      <td>67.874197</td>\n",
       "      <td>Type</td>\n",
       "      <td>19-056</td>\n",
       "      <td>...</td>\n",
       "      <td>-14</td>\n",
       "      <td>58</td>\n",
       "      <td>32</td>\n",
       "      <td>0</td>\n",
       "      <td>-1</td>\n",
       "      <td>93</td>\n",
       "      <td>67</td>\n",
       "      <td>Type</td>\n",
       "      <td>19-056</td>\n",
       "      <td>1</td>\n",
       "    </tr>\n",
       "  </tbody>\n",
       "</table>\n",
       "<p>279838 rows × 22 columns</p>\n",
       "</div>"
      ],
      "text/plain": [
       "             ACC1       ACC2       ACC3   TEMP       EDA    BVP       HR  \\\n",
       "0       41.000000  27.200000  40.000000  32.39  0.275354  15.25  78.9800   \n",
       "1       41.000000  27.300000  40.000000  32.39  0.276634 -12.75  78.8350   \n",
       "2       41.000000  27.400000  40.000000  32.39  0.270231 -42.99  78.6900   \n",
       "3       41.000000  27.500000  40.000000  32.39  0.270231  18.39  78.5450   \n",
       "4       41.000000  27.600000  40.000000  32.34  0.268950  13.61  78.4000   \n",
       "...           ...        ...        ...    ...       ...    ...      ...   \n",
       "279833  15.058824  -9.058824  68.941176  32.09  0.727712   3.66  92.7225   \n",
       "279834  18.117647 -10.117647  66.882353  32.09  0.722590  -2.54  92.7750   \n",
       "279835  21.176471 -11.176471  64.823529  32.09  0.708502   0.85  92.8275   \n",
       "279836  24.235294 -12.235294  62.764706  32.09  0.694414  -1.00  92.8800   \n",
       "279837  27.294118 -13.294118  60.705882  32.09  0.672642   5.22  92.9400   \n",
       "\n",
       "        Magnitude  Activity Subject_ID  ...  ACC2+1  ACC3+1  TEMP+1  EDA+1  \\\n",
       "0       63.410094  Baseline     19-001  ...      27      40      32      0   \n",
       "1       63.453054  Baseline     19-001  ...      27      40      32      0   \n",
       "2       63.496142  Baseline     19-001  ...      27      40      32      0   \n",
       "3       63.539358  Baseline     19-001  ...      27      40      32      0   \n",
       "4       63.582702  Baseline     19-001  ...      27      40      32      0   \n",
       "...           ...       ...        ...  ...     ...     ...     ...    ...   \n",
       "279833  71.145740      Type     19-056  ...     -10      66      32      0   \n",
       "279834  70.027602      Type     19-056  ...     -11      64      32      0   \n",
       "279835  69.104605      Type     19-056  ...     -12      62      32      0   \n",
       "279836  68.384649      Type     19-056  ...     -13      60      32      0   \n",
       "279837  67.874197      Type     19-056  ...     -14      58      32      0   \n",
       "\n",
       "        BVP+1  HR+1  Magnitude+1  Activity+1  Subject_ID+1 Round+1  \n",
       "0         -12    78           63    Baseline        19-001       1  \n",
       "1         -42    78           63    Baseline        19-001       1  \n",
       "2          18    78           63    Baseline        19-001       1  \n",
       "3          13    78           63    Baseline        19-001       1  \n",
       "4          -9    78           63    Baseline        19-001       1  \n",
       "...       ...   ...          ...         ...           ...     ...  \n",
       "279833     -2    92           70        Type        19-056       1  \n",
       "279834      0    92           69        Type        19-056       1  \n",
       "279835     -1    92           68        Type        19-056       1  \n",
       "279836      5    92           67        Type        19-056       1  \n",
       "279837     -1    93           67        Type        19-056       1  \n",
       "\n",
       "[279838 rows x 22 columns]"
      ]
     },
     "execution_count": 7,
     "metadata": {},
     "output_type": "execute_result"
    }
   ],
   "source": [
    "df"
   ]
  },
  {
   "cell_type": "code",
   "execution_count": 8,
   "metadata": {},
   "outputs": [],
   "source": [
    "random.seed(321)"
   ]
  },
  {
   "cell_type": "code",
   "execution_count": 9,
   "metadata": {},
   "outputs": [],
   "source": [
    "ID_list = list(df['Subject_ID'].unique())\n",
    "random.shuffle(ID_list)\n",
    "train = pd.DataFrame()\n",
    "test = pd.DataFrame()\n",
    "#val = pd.DataFrame()"
   ]
  },
  {
   "cell_type": "code",
   "execution_count": 10,
   "metadata": {},
   "outputs": [],
   "source": [
    "#change size of train/test split\n",
    "train = df[df['Subject_ID'].isin(ID_list[:45])]\n",
    "test = df[df['Subject_ID'].isin(ID_list[45:])]\n",
    "#val = df[df['Subject_ID'].isin(ID_list[50:56])]"
   ]
  },
  {
   "cell_type": "code",
   "execution_count": 11,
   "metadata": {},
   "outputs": [
    {
     "data": {
      "text/plain": [
       "array(['19-009', '19-016', '19-018', '19-022', '19-024', '19-026',\n",
       "       '19-030', '19-037', '19-040', '19-048'], dtype=object)"
      ]
     },
     "execution_count": 11,
     "metadata": {},
     "output_type": "execute_result"
    }
   ],
   "source": [
    "test.Subject_ID.unique()"
   ]
  },
  {
   "cell_type": "code",
   "execution_count": 12,
   "metadata": {
    "scrolled": true
   },
   "outputs": [
    {
     "name": "stdout",
     "output_type": "stream",
     "text": [
      "(229678, 22) (50160, 22)\n"
     ]
    }
   ],
   "source": [
    "print(train.shape, test.shape)"
   ]
  },
  {
   "cell_type": "code",
   "execution_count": 15,
   "metadata": {},
   "outputs": [],
   "source": [
    "X_train = train.drop(['Activity', 'Subject_ID', 'Round', 'Activity+1', 'Subject_ID+1', 'Round+1'], axis = 1).values\n",
    "X_test = test.drop(['Activity', 'Subject_ID', 'Round', 'Activity+1', 'Subject_ID+1', 'Round+1'], axis = 1).values"
   ]
  },
  {
   "cell_type": "code",
   "execution_count": 16,
   "metadata": {},
   "outputs": [],
   "source": [
    "y_train = train['Activity'].values\n",
    "y_test = test['Activity'].values"
   ]
  },
  {
   "cell_type": "code",
   "execution_count": 17,
   "metadata": {},
   "outputs": [
    {
     "name": "stdout",
     "output_type": "stream",
     "text": [
      "(229678, 16) (229678,) (50160, 16) (50160,)\n"
     ]
    }
   ],
   "source": [
    "print(X_train.shape,  y_train.shape, X_test.shape, y_test.shape)"
   ]
  },
  {
   "cell_type": "code",
   "execution_count": 18,
   "metadata": {},
   "outputs": [
    {
     "data": {
      "text/plain": [
       "array([[ 37.33333333,  11.33333333,  46.5       , ..., -44.        ,\n",
       "         89.        ,  60.        ],\n",
       "       [ 37.26666667,  11.26666667,  46.4       , ...,  18.        ,\n",
       "         89.        ,  60.        ],\n",
       "       [ 37.2       ,  11.2       ,  46.3       , ...,  12.        ,\n",
       "         89.        ,  60.        ],\n",
       "       ...,\n",
       "       [-16.36893204,  -7.60194175,  66.30097087, ...,  28.        ,\n",
       "         93.        ,  68.        ],\n",
       "       [-16.57281553,  -7.77669903,  66.38834951, ...,  51.        ,\n",
       "         93.        ,  69.        ],\n",
       "       [-16.77669903,  -7.95145631,  66.47572816, ...,  17.        ,\n",
       "         96.        ,  72.        ]])"
      ]
     },
     "execution_count": 18,
     "metadata": {},
     "output_type": "execute_result"
    }
   ],
   "source": [
    "X_test"
   ]
  },
  {
   "cell_type": "code",
   "execution_count": 19,
   "metadata": {},
   "outputs": [
    {
     "data": {
      "text/plain": [
       "array([[ 41.        ,  27.2       ,  40.        , ..., -12.        ,\n",
       "         78.        ,  63.        ],\n",
       "       [ 41.        ,  27.3       ,  40.        , ..., -42.        ,\n",
       "         78.        ,  63.        ],\n",
       "       [ 41.        ,  27.4       ,  40.        , ...,  18.        ,\n",
       "         78.        ,  63.        ],\n",
       "       ...,\n",
       "       [ 21.17647059, -11.17647059,  64.82352941, ...,  -1.        ,\n",
       "         92.        ,  68.        ],\n",
       "       [ 24.23529412, -12.23529412,  62.76470588, ...,   5.        ,\n",
       "         92.        ,  67.        ],\n",
       "       [ 27.29411765, -13.29411765,  60.70588235, ...,  -1.        ,\n",
       "         93.        ,  67.        ]])"
      ]
     },
     "execution_count": 19,
     "metadata": {},
     "output_type": "execute_result"
    }
   ],
   "source": [
    "X_train"
   ]
  },
  {
   "cell_type": "code",
   "execution_count": 20,
   "metadata": {},
   "outputs": [],
   "source": [
    "from sklearn.preprocessing import StandardScaler\n",
    "from sklearn.preprocessing import LabelEncoder"
   ]
  },
  {
   "cell_type": "code",
   "execution_count": 21,
   "metadata": {},
   "outputs": [],
   "source": [
    "ss = StandardScaler()"
   ]
  },
  {
   "cell_type": "code",
   "execution_count": 22,
   "metadata": {},
   "outputs": [],
   "source": [
    "X_train = ss.fit_transform(X_train)\n",
    "X_test = ss.transform(X_test)"
   ]
  },
  {
   "cell_type": "code",
   "execution_count": 23,
   "metadata": {},
   "outputs": [],
   "source": [
    "le = LabelEncoder()\n",
    "y_train = le.fit_transform(y_train)\n",
    "y_test = le.transform(y_test)"
   ]
  },
  {
   "cell_type": "code",
   "execution_count": 24,
   "metadata": {},
   "outputs": [
    {
     "name": "stdout",
     "output_type": "stream",
     "text": [
      "[1 2 0 3] [1 2 0 3]\n"
     ]
    }
   ],
   "source": [
    "print(pd.unique(y_train), pd.unique(y_test))"
   ]
  },
  {
   "cell_type": "code",
   "execution_count": 25,
   "metadata": {},
   "outputs": [],
   "source": [
    "y_train_dummy = np_utils.to_categorical(y_train)"
   ]
  },
  {
   "cell_type": "code",
   "execution_count": 26,
   "metadata": {},
   "outputs": [
    {
     "data": {
      "text/plain": [
       "array([[0., 1., 0., 0.],\n",
       "       [0., 1., 0., 0.],\n",
       "       [0., 1., 0., 0.],\n",
       "       ...,\n",
       "       [0., 0., 0., 1.],\n",
       "       [0., 0., 0., 1.],\n",
       "       [0., 0., 0., 1.]], dtype=float32)"
      ]
     },
     "execution_count": 26,
     "metadata": {},
     "output_type": "execute_result"
    }
   ],
   "source": [
    "y_train_dummy"
   ]
  },
  {
   "cell_type": "code",
   "execution_count": 27,
   "metadata": {},
   "outputs": [],
   "source": [
    "y_test_dummy = np_utils.to_categorical(y_test)"
   ]
  },
  {
   "cell_type": "code",
   "execution_count": 34,
   "metadata": {},
   "outputs": [],
   "source": [
    "network1 = models.Sequential()\n",
    "network1.add(layers.Dense(128, activation='relu', input_dim = 16))\n",
    "network1.add(layers.Dense(128, activation='relu', input_dim = 16))\n",
    "network1.add(layers.Dense(128, activation='relu', input_dim = 16))\n",
    "network1.add(layers.Dense(128, activation='relu', input_dim = 16))\n",
    "network1.add(layers.Dense(128, activation='relu', input_dim = 16))\n",
    "network1.add(layers.Dense(128, activation='relu', input_dim = 16))\n",
    "network1.add(layers.Dense(128, activation='relu', input_dim = 16))\n",
    "network1.add(layers.Dense(4, activation='softmax'))"
   ]
  },
  {
   "cell_type": "code",
   "execution_count": 35,
   "metadata": {},
   "outputs": [],
   "source": [
    "network1.compile(optimizer='adam', loss='categorical_crossentropy', metrics=['accuracy'])"
   ]
  },
  {
   "cell_type": "code",
   "execution_count": 36,
   "metadata": {},
   "outputs": [
    {
     "name": "stdout",
     "output_type": "stream",
     "text": [
      "Epoch 1/10\n",
      "2297/2297 [==============================] - 17s 8ms/step - loss: 0.3610 - accuracy: 0.8709\n",
      "Epoch 2/10\n",
      "2297/2297 [==============================] - 23s 10ms/step - loss: 0.1981 - accuracy: 0.9311\n",
      "Epoch 3/10\n",
      "2297/2297 [==============================] - 15s 6ms/step - loss: 0.1556 - accuracy: 0.9447\n",
      "Epoch 4/10\n",
      "2297/2297 [==============================] - 15s 6ms/step - loss: 0.1328 - accuracy: 0.9520\n",
      "Epoch 5/10\n",
      "2297/2297 [==============================] - 15s 6ms/step - loss: 0.1169 - accuracy: 0.9570\n",
      "Epoch 6/10\n",
      "2297/2297 [==============================] - 14s 6ms/step - loss: 0.1046 - accuracy: 0.9607\n",
      "Epoch 7/10\n",
      "2297/2297 [==============================] - 19s 8ms/step - loss: 0.0965 - accuracy: 0.9637\n",
      "Epoch 8/10\n",
      "2297/2297 [==============================] - 13s 6ms/step - loss: 0.0887 - accuracy: 0.9660\n",
      "Epoch 9/10\n",
      "2297/2297 [==============================] - 16s 7ms/step - loss: 0.0836 - accuracy: 0.9679\n",
      "Epoch 10/10\n",
      "2297/2297 [==============================] - 16s 7ms/step - loss: 0.0787 - accuracy: 0.9697\n"
     ]
    },
    {
     "data": {
      "text/plain": [
       "<tensorflow.python.keras.callbacks.History at 0x1a508a50d0>"
      ]
     },
     "execution_count": 36,
     "metadata": {},
     "output_type": "execute_result"
    }
   ],
   "source": [
    "network1.fit(X_train, y_train_dummy, batch_size = 100, epochs = 10, verbose = 1)"
   ]
  },
  {
   "cell_type": "code",
   "execution_count": 37,
   "metadata": {},
   "outputs": [],
   "source": [
    "y_pred = np.argmax(network.predict(X_test), axis=-1)"
   ]
  },
  {
   "cell_type": "code",
   "execution_count": 52,
   "metadata": {},
   "outputs": [
    {
     "data": {
      "text/plain": [
       "array([0, 0, 0, ..., 1, 1, 1])"
      ]
     },
     "execution_count": 52,
     "metadata": {},
     "output_type": "execute_result"
    }
   ],
   "source": [
    "y_pred"
   ]
  },
  {
   "cell_type": "code",
   "execution_count": 38,
   "metadata": {},
   "outputs": [
    {
     "name": "stdout",
     "output_type": "stream",
     "text": [
      "1568/1568 [==============================] - 2s 2ms/step - loss: 1.8957 - accuracy: 0.6452: 0s - loss: 1\n"
     ]
    },
    {
     "data": {
      "text/plain": [
       "[1.8957064151763916, 0.6451754570007324]"
      ]
     },
     "execution_count": 38,
     "metadata": {},
     "output_type": "execute_result"
    }
   ],
   "source": [
    "network.evaluate(X_test, y_test_dummy)"
   ]
  },
  {
   "cell_type": "code",
   "execution_count": 40,
   "metadata": {},
   "outputs": [],
   "source": [
    "from sklearn.metrics import confusion_matrix, accuracy_score, f1_score"
   ]
  },
  {
   "cell_type": "code",
   "execution_count": 41,
   "metadata": {},
   "outputs": [
    {
     "data": {
      "text/plain": [
       "array([[19647,  1980,   514,   659],\n",
       "       [ 4112,  8935,  2857,  2336],\n",
       "       [  871,  1058,  2178,   453],\n",
       "       [  426,  2479,    53,  1602]])"
      ]
     },
     "execution_count": 41,
     "metadata": {},
     "output_type": "execute_result"
    }
   ],
   "source": [
    "confusion_matrix(y_test, y_pred)"
   ]
  },
  {
   "cell_type": "code",
   "execution_count": 42,
   "metadata": {},
   "outputs": [
    {
     "data": {
      "text/plain": [
       "0.6451754385964912"
      ]
     },
     "execution_count": 42,
     "metadata": {},
     "output_type": "execute_result"
    }
   ],
   "source": [
    "accuracy_score(y_test, y_pred)"
   ]
  },
  {
   "cell_type": "code",
   "execution_count": 43,
   "metadata": {},
   "outputs": [
    {
     "data": {
      "text/plain": [
       "0.6412697675683126"
      ]
     },
     "execution_count": 43,
     "metadata": {},
     "output_type": "execute_result"
    }
   ],
   "source": [
    "f1_score(y_test, y_pred, average = 'weighted')"
   ]
  },
  {
   "cell_type": "code",
   "execution_count": null,
   "metadata": {},
   "outputs": [],
   "source": []
  }
 ],
 "metadata": {
  "kernelspec": {
   "display_name": "Python 3",
   "language": "python",
   "name": "python3"
  },
  "language_info": {
   "codemirror_mode": {
    "name": "ipython",
    "version": 3
   },
   "file_extension": ".py",
   "mimetype": "text/x-python",
   "name": "python",
   "nbconvert_exporter": "python",
   "pygments_lexer": "ipython3",
   "version": "3.7.6"
  }
 },
 "nbformat": 4,
 "nbformat_minor": 4
}
