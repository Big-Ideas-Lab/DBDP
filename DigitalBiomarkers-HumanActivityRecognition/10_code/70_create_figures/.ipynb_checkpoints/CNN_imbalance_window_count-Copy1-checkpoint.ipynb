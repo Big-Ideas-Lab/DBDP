{
 "cells": [
  {
   "cell_type": "markdown",
   "metadata": {},
   "source": [
    "# CNN-RNN"
   ]
  },
  {
   "cell_type": "code",
   "execution_count": 16,
   "metadata": {},
   "outputs": [],
   "source": [
    "import pandas as pd\n",
    "import numpy as np\n",
    "import more_itertools\n",
    "import random"
   ]
  },
  {
   "cell_type": "code",
   "execution_count": 17,
   "metadata": {
    "scrolled": false
   },
   "outputs": [
    {
     "data": {
      "text/html": [
       "<div>\n",
       "<style scoped>\n",
       "    .dataframe tbody tr th:only-of-type {\n",
       "        vertical-align: middle;\n",
       "    }\n",
       "\n",
       "    .dataframe tbody tr th {\n",
       "        vertical-align: top;\n",
       "    }\n",
       "\n",
       "    .dataframe thead th {\n",
       "        text-align: right;\n",
       "    }\n",
       "</style>\n",
       "<table border=\"1\" class=\"dataframe\">\n",
       "  <thead>\n",
       "    <tr style=\"text-align: right;\">\n",
       "      <th></th>\n",
       "      <th>ACC1</th>\n",
       "      <th>ACC2</th>\n",
       "      <th>ACC3</th>\n",
       "      <th>TEMP</th>\n",
       "      <th>EDA</th>\n",
       "      <th>BVP</th>\n",
       "      <th>HR</th>\n",
       "      <th>Magnitude</th>\n",
       "      <th>Activity</th>\n",
       "      <th>Subject_ID</th>\n",
       "      <th>Round</th>\n",
       "    </tr>\n",
       "  </thead>\n",
       "  <tbody>\n",
       "    <tr>\n",
       "      <th>0</th>\n",
       "      <td>41.000000</td>\n",
       "      <td>27.200000</td>\n",
       "      <td>40.000000</td>\n",
       "      <td>32.39</td>\n",
       "      <td>0.275354</td>\n",
       "      <td>15.25</td>\n",
       "      <td>78.9800</td>\n",
       "      <td>63.410094</td>\n",
       "      <td>Baseline</td>\n",
       "      <td>19-001</td>\n",
       "      <td>1</td>\n",
       "    </tr>\n",
       "    <tr>\n",
       "      <th>1</th>\n",
       "      <td>41.000000</td>\n",
       "      <td>27.300000</td>\n",
       "      <td>40.000000</td>\n",
       "      <td>32.39</td>\n",
       "      <td>0.276634</td>\n",
       "      <td>-12.75</td>\n",
       "      <td>78.8350</td>\n",
       "      <td>63.453054</td>\n",
       "      <td>Baseline</td>\n",
       "      <td>19-001</td>\n",
       "      <td>1</td>\n",
       "    </tr>\n",
       "    <tr>\n",
       "      <th>2</th>\n",
       "      <td>41.000000</td>\n",
       "      <td>27.400000</td>\n",
       "      <td>40.000000</td>\n",
       "      <td>32.39</td>\n",
       "      <td>0.270231</td>\n",
       "      <td>-42.99</td>\n",
       "      <td>78.6900</td>\n",
       "      <td>63.496142</td>\n",
       "      <td>Baseline</td>\n",
       "      <td>19-001</td>\n",
       "      <td>1</td>\n",
       "    </tr>\n",
       "    <tr>\n",
       "      <th>3</th>\n",
       "      <td>41.000000</td>\n",
       "      <td>27.500000</td>\n",
       "      <td>40.000000</td>\n",
       "      <td>32.39</td>\n",
       "      <td>0.270231</td>\n",
       "      <td>18.39</td>\n",
       "      <td>78.5450</td>\n",
       "      <td>63.539358</td>\n",
       "      <td>Baseline</td>\n",
       "      <td>19-001</td>\n",
       "      <td>1</td>\n",
       "    </tr>\n",
       "    <tr>\n",
       "      <th>4</th>\n",
       "      <td>41.000000</td>\n",
       "      <td>27.600000</td>\n",
       "      <td>40.000000</td>\n",
       "      <td>32.34</td>\n",
       "      <td>0.268950</td>\n",
       "      <td>13.61</td>\n",
       "      <td>78.4000</td>\n",
       "      <td>63.582702</td>\n",
       "      <td>Baseline</td>\n",
       "      <td>19-001</td>\n",
       "      <td>1</td>\n",
       "    </tr>\n",
       "    <tr>\n",
       "      <th>...</th>\n",
       "      <td>...</td>\n",
       "      <td>...</td>\n",
       "      <td>...</td>\n",
       "      <td>...</td>\n",
       "      <td>...</td>\n",
       "      <td>...</td>\n",
       "      <td>...</td>\n",
       "      <td>...</td>\n",
       "      <td>...</td>\n",
       "      <td>...</td>\n",
       "      <td>...</td>\n",
       "    </tr>\n",
       "    <tr>\n",
       "      <th>279835</th>\n",
       "      <td>21.176471</td>\n",
       "      <td>-11.176471</td>\n",
       "      <td>64.823529</td>\n",
       "      <td>32.09</td>\n",
       "      <td>0.708502</td>\n",
       "      <td>0.85</td>\n",
       "      <td>92.8275</td>\n",
       "      <td>69.104605</td>\n",
       "      <td>Type</td>\n",
       "      <td>19-056</td>\n",
       "      <td>1</td>\n",
       "    </tr>\n",
       "    <tr>\n",
       "      <th>279836</th>\n",
       "      <td>24.235294</td>\n",
       "      <td>-12.235294</td>\n",
       "      <td>62.764706</td>\n",
       "      <td>32.09</td>\n",
       "      <td>0.694414</td>\n",
       "      <td>-1.00</td>\n",
       "      <td>92.8800</td>\n",
       "      <td>68.384649</td>\n",
       "      <td>Type</td>\n",
       "      <td>19-056</td>\n",
       "      <td>1</td>\n",
       "    </tr>\n",
       "    <tr>\n",
       "      <th>279837</th>\n",
       "      <td>27.294118</td>\n",
       "      <td>-13.294118</td>\n",
       "      <td>60.705882</td>\n",
       "      <td>32.09</td>\n",
       "      <td>0.672642</td>\n",
       "      <td>5.22</td>\n",
       "      <td>92.9400</td>\n",
       "      <td>67.874197</td>\n",
       "      <td>Type</td>\n",
       "      <td>19-056</td>\n",
       "      <td>1</td>\n",
       "    </tr>\n",
       "    <tr>\n",
       "      <th>279838</th>\n",
       "      <td>30.352941</td>\n",
       "      <td>-14.352941</td>\n",
       "      <td>58.647059</td>\n",
       "      <td>32.09</td>\n",
       "      <td>0.664957</td>\n",
       "      <td>-1.47</td>\n",
       "      <td>93.0000</td>\n",
       "      <td>67.577995</td>\n",
       "      <td>Type</td>\n",
       "      <td>19-056</td>\n",
       "      <td>1</td>\n",
       "    </tr>\n",
       "    <tr>\n",
       "      <th>279839</th>\n",
       "      <td>33.411765</td>\n",
       "      <td>-15.411765</td>\n",
       "      <td>56.588235</td>\n",
       "      <td>32.09</td>\n",
       "      <td>0.648308</td>\n",
       "      <td>1.37</td>\n",
       "      <td>93.0600</td>\n",
       "      <td>67.498866</td>\n",
       "      <td>Type</td>\n",
       "      <td>19-056</td>\n",
       "      <td>1</td>\n",
       "    </tr>\n",
       "  </tbody>\n",
       "</table>\n",
       "<p>279840 rows × 11 columns</p>\n",
       "</div>"
      ],
      "text/plain": [
       "             ACC1       ACC2       ACC3   TEMP       EDA    BVP       HR  \\\n",
       "0       41.000000  27.200000  40.000000  32.39  0.275354  15.25  78.9800   \n",
       "1       41.000000  27.300000  40.000000  32.39  0.276634 -12.75  78.8350   \n",
       "2       41.000000  27.400000  40.000000  32.39  0.270231 -42.99  78.6900   \n",
       "3       41.000000  27.500000  40.000000  32.39  0.270231  18.39  78.5450   \n",
       "4       41.000000  27.600000  40.000000  32.34  0.268950  13.61  78.4000   \n",
       "...           ...        ...        ...    ...       ...    ...      ...   \n",
       "279835  21.176471 -11.176471  64.823529  32.09  0.708502   0.85  92.8275   \n",
       "279836  24.235294 -12.235294  62.764706  32.09  0.694414  -1.00  92.8800   \n",
       "279837  27.294118 -13.294118  60.705882  32.09  0.672642   5.22  92.9400   \n",
       "279838  30.352941 -14.352941  58.647059  32.09  0.664957  -1.47  93.0000   \n",
       "279839  33.411765 -15.411765  56.588235  32.09  0.648308   1.37  93.0600   \n",
       "\n",
       "        Magnitude  Activity Subject_ID  Round  \n",
       "0       63.410094  Baseline     19-001      1  \n",
       "1       63.453054  Baseline     19-001      1  \n",
       "2       63.496142  Baseline     19-001      1  \n",
       "3       63.539358  Baseline     19-001      1  \n",
       "4       63.582702  Baseline     19-001      1  \n",
       "...           ...       ...        ...    ...  \n",
       "279835  69.104605      Type     19-056      1  \n",
       "279836  68.384649      Type     19-056      1  \n",
       "279837  67.874197      Type     19-056      1  \n",
       "279838  67.577995      Type     19-056      1  \n",
       "279839  67.498866      Type     19-056      1  \n",
       "\n",
       "[279840 rows x 11 columns]"
      ]
     },
     "execution_count": 17,
     "metadata": {},
     "output_type": "execute_result"
    }
   ],
   "source": [
    "df = pd.read_csv('/Users/N1/Data-2020/10_code/csv/no_aw_no_28.csv') #read in the csv file\n",
    "df"
   ]
  },
  {
   "cell_type": "markdown",
   "metadata": {},
   "source": [
    "### Label Encode"
   ]
  },
  {
   "cell_type": "code",
   "execution_count": 18,
   "metadata": {},
   "outputs": [],
   "source": [
    "from sklearn.preprocessing import LabelEncoder\n",
    "le = LabelEncoder()\n",
    "df['Subject_ID'] = le.fit_transform(df['Subject_ID'])"
   ]
  },
  {
   "cell_type": "code",
   "execution_count": 19,
   "metadata": {},
   "outputs": [
    {
     "name": "stdout",
     "output_type": "stream",
     "text": [
      "{'Activity': 0, 'Baseline': 1, 'DB': 2, 'Type': 3}\n"
     ]
    }
   ],
   "source": [
    "le1 = LabelEncoder()\n",
    "df['Activity'] = le1.fit_transform(df['Activity'])\n",
    "\n",
    "activity_name_mapping = dict(zip(le1.classes_, le1.transform(le1.classes_)))\n",
    "print(activity_name_mapping)"
   ]
  },
  {
   "cell_type": "markdown",
   "metadata": {},
   "source": [
    "### Sliding Window"
   ]
  },
  {
   "cell_type": "code",
   "execution_count": 20,
   "metadata": {},
   "outputs": [],
   "source": [
    "activity_list = list(df['Activity'].unique()) \n",
    "sub_id_list = list(df['Subject_ID'].unique())\n",
    "round_list = list(df['Round'].unique())"
   ]
  },
  {
   "cell_type": "code",
   "execution_count": 21,
   "metadata": {},
   "outputs": [],
   "source": [
    "from window_slider import Slider\n",
    "\n",
    "def make_windows(df, bucket_size, overlap_count):\n",
    "    window_list = []\n",
    "    final = pd.DataFrame()\n",
    "    activity_list = list(df['Activity'].unique()) #list of the four activities\n",
    "    sub_id_list = list(df['Subject_ID'].unique()) #list of the subject ids\n",
    "    round_list = list(df['Round'].unique())\n",
    "    df_list = []\n",
    "\n",
    "\n",
    "    for i in sub_id_list:\n",
    "        df_subject = df[df['Subject_ID'] == i] #isolate a single subject id\n",
    "        for j in activity_list:\n",
    "            df_subject_activity = df_subject[df_subject['Activity'] == j] #isolate by activity\n",
    "            for k in round_list:\n",
    "                df_subject_activity_round = df_subject_activity[df_subject_activity['Round'] == k]\n",
    "                final_df = pd.DataFrame()\n",
    "                if df_subject_activity_round.empty:\n",
    "                      pass\n",
    "                else:\n",
    "                    df_flat = df_subject_activity_round[['ACC1', 'ACC2','ACC3','TEMP','EDA','BVP','HR','Magnitude', 'Subject_ID']].T.values #array of arrays, each row is every single reading in an array for a sensor in that isolation \n",
    "\n",
    "                    slider = Slider(bucket_size,overlap_count)\n",
    "                    slider.fit(df_flat)\n",
    "                    while True:\n",
    "                        window_data = slider.slide()\n",
    "\n",
    "                        if slider.reached_end_of_list(): break\n",
    "                        window_list.append(list(window_data))\n",
    "                    final_df = final.append(window_list)\n",
    "                    final_df.columns = [['ACC1', 'ACC2','ACC3','TEMP','EDA','BVP','HR','Magnitude', 'SID']]\n",
    "                    final_df.insert(9, \"Subject_ID\", [i]*len(final_df), True)\n",
    "                    final_df.insert(10, \"Activity\", [j]*len(final_df), True)\n",
    "                    final_df.insert(11, \"Round\", [k]*len(final_df), True)\n",
    "                    df_list.append(final_df)\n",
    "                    window_list = []\n",
    "\n",
    "    final = pd.DataFrame(columns = df_list[0].columns)\n",
    "\n",
    "    for l in df_list:\n",
    "        final = final.append(l)\n",
    "\n",
    "\n",
    "    final\n",
    "    final.columns = final.columns.map(''.join)\n",
    "    return final\n"
   ]
  },
  {
   "cell_type": "markdown",
   "metadata": {},
   "source": [
    "#### Please edit the cell below to change windows"
   ]
  },
  {
   "cell_type": "code",
   "execution_count": 22,
   "metadata": {},
   "outputs": [],
   "source": [
    "window_size = 40\n",
    "window_overlap = 20 "
   ]
  },
  {
   "cell_type": "code",
   "execution_count": 23,
   "metadata": {},
   "outputs": [],
   "source": [
    "windowed = make_windows(df, window_size, window_overlap)"
   ]
  },
  {
   "cell_type": "code",
   "execution_count": 24,
   "metadata": {},
   "outputs": [],
   "source": [
    "windowed=windowed.assign(count=windowed.groupby(windowed.Activity.ne(windowed.Activity.shift()).cumsum()).cumcount().add(1))"
   ]
  },
  {
   "cell_type": "code",
   "execution_count": 25,
   "metadata": {},
   "outputs": [],
   "source": [
    "rep_arr = []\n",
    "for i in range(len(windowed)):\n",
    "    rep_arr.append(np.repeat(np.array(windowed['count'].iloc[i]),window_size))\n",
    "windowed['count'] = rep_arr"
   ]
  },
  {
   "cell_type": "markdown",
   "metadata": {},
   "source": [
    "### Split Train Test"
   ]
  },
  {
   "cell_type": "code",
   "execution_count": 26,
   "metadata": {},
   "outputs": [
    {
     "name": "stdout",
     "output_type": "stream",
     "text": [
      "(11136, 13) (2432, 13)\n"
     ]
    }
   ],
   "source": [
    "ID_list = list(windowed['Subject_ID'].unique())\n",
    "random.shuffle(ID_list)\n",
    "train = pd.DataFrame()\n",
    "test = pd.DataFrame()\n",
    "\n",
    "#change size of train/test split\n",
    "train = windowed[windowed['Subject_ID'].isin(ID_list[:45])]\n",
    "test = windowed[windowed['Subject_ID'].isin(ID_list[45:])]\n",
    "\n",
    "train = train.sample(frac=1).reset_index(drop=True)\n",
    "print(train.shape, test.shape)"
   ]
  },
  {
   "cell_type": "code",
   "execution_count": 27,
   "metadata": {
    "scrolled": false
   },
   "outputs": [
    {
     "data": {
      "text/plain": [
       "0    5133\n",
       "1    4089\n",
       "3     957\n",
       "2     957\n",
       "Name: Activity, dtype: int64"
      ]
     },
     "execution_count": 27,
     "metadata": {},
     "output_type": "execute_result"
    }
   ],
   "source": [
    "train['Activity'].value_counts()"
   ]
  },
  {
   "cell_type": "code",
   "execution_count": 28,
   "metadata": {},
   "outputs": [],
   "source": [
    "zero = train[train['Activity'] == 0]\n",
    "one = train[train['Activity'] == 1]\n",
    "two = train[train['Activity'] == 2]\n",
    "three = train[train['Activity'] == 3]"
   ]
  },
  {
   "cell_type": "code",
   "execution_count": 30,
   "metadata": {},
   "outputs": [],
   "source": [
    "zero_samp = zero.sample(957, axis = 0)\n",
    "one_samp = one.sample(957, axis = 0)"
   ]
  },
  {
   "cell_type": "code",
   "execution_count": 31,
   "metadata": {},
   "outputs": [],
   "source": [
    "train = pd.concat([zero_samp, one_samp, two, three], axis =0)"
   ]
  },
  {
   "cell_type": "code",
   "execution_count": 32,
   "metadata": {},
   "outputs": [],
   "source": [
    "X_train = train[['TEMP', 'EDA', 'HR', 'BVP', 'Magnitude', 'ACC1', 'ACC2', 'ACC3', 'count']]\n",
    "X_test = test[['TEMP', 'EDA', 'HR', 'BVP', 'Magnitude', 'ACC1', 'ACC2', 'ACC3', 'count']]"
   ]
  },
  {
   "cell_type": "code",
   "execution_count": 33,
   "metadata": {},
   "outputs": [
    {
     "name": "stdout",
     "output_type": "stream",
     "text": [
      "(153120, 9) (97280, 9) 250400\n"
     ]
    }
   ],
   "source": [
    "X_train = X_train.apply(pd.Series.explode).reset_index().drop('index', axis =1)\n",
    "X_test = X_test.apply(pd.Series.explode).reset_index().drop('index', axis =1)\n",
    "\n",
    "print(X_train.shape, X_test.shape, X_train.shape[0] + X_test.shape[0])"
   ]
  },
  {
   "cell_type": "code",
   "execution_count": 34,
   "metadata": {},
   "outputs": [
    {
     "name": "stdout",
     "output_type": "stream",
     "text": [
      "(3828,) (2432,) 6260\n"
     ]
    }
   ],
   "source": [
    "y_train = train['Activity'].values\n",
    "y_test = test['Activity'].values\n",
    "print(y_train.shape, y_test.shape, y_train.shape[0] + y_test.shape[0])"
   ]
  },
  {
   "cell_type": "markdown",
   "metadata": {},
   "source": [
    "### One-Hot Encoding Subject_ID"
   ]
  },
  {
   "cell_type": "code",
   "execution_count": 35,
   "metadata": {},
   "outputs": [],
   "source": [
    "X_train['train'] =1\n",
    "X_test['train'] = 0"
   ]
  },
  {
   "cell_type": "code",
   "execution_count": 36,
   "metadata": {},
   "outputs": [],
   "source": [
    "combined = pd.concat([X_train, X_test])"
   ]
  },
  {
   "cell_type": "code",
   "execution_count": 37,
   "metadata": {
    "scrolled": true
   },
   "outputs": [],
   "source": [
    "combined = pd.concat([combined, pd.get_dummies(combined['count'])], axis =1).drop('count', axis = 1)"
   ]
  },
  {
   "cell_type": "code",
   "execution_count": 38,
   "metadata": {},
   "outputs": [
    {
     "name": "stdout",
     "output_type": "stream",
     "text": [
      "(153120, 126) (97280, 126) 250400\n"
     ]
    },
    {
     "name": "stderr",
     "output_type": "stream",
     "text": [
      "/Users/N1/opt/anaconda3/lib/python3.7/site-packages/pandas/core/frame.py:3997: SettingWithCopyWarning: \n",
      "A value is trying to be set on a copy of a slice from a DataFrame\n",
      "\n",
      "See the caveats in the documentation: https://pandas.pydata.org/pandas-docs/stable/user_guide/indexing.html#returning-a-view-versus-a-copy\n",
      "  errors=errors,\n"
     ]
    }
   ],
   "source": [
    "X_train = combined[combined['train'] == 1]\n",
    "X_test = combined[combined['train'] == 0]\n",
    "\n",
    "X_train.drop([\"train\"], axis = 1, inplace = True)\n",
    "X_test.drop([\"train\"], axis = 1, inplace = True)\n",
    "#X_train.drop([\"SID\"], axis = 1, inplace = True)\n",
    "#X_test.drop([\"SID\"], axis = 1, inplace = True)\n",
    "print(X_train.shape, X_test.shape, X_train.shape[0] + X_test.shape[0])"
   ]
  },
  {
   "cell_type": "code",
   "execution_count": 39,
   "metadata": {},
   "outputs": [
    {
     "data": {
      "text/html": [
       "<div>\n",
       "<style scoped>\n",
       "    .dataframe tbody tr th:only-of-type {\n",
       "        vertical-align: middle;\n",
       "    }\n",
       "\n",
       "    .dataframe tbody tr th {\n",
       "        vertical-align: top;\n",
       "    }\n",
       "\n",
       "    .dataframe thead th {\n",
       "        text-align: right;\n",
       "    }\n",
       "</style>\n",
       "<table border=\"1\" class=\"dataframe\">\n",
       "  <thead>\n",
       "    <tr style=\"text-align: right;\">\n",
       "      <th></th>\n",
       "      <th>TEMP</th>\n",
       "      <th>EDA</th>\n",
       "      <th>HR</th>\n",
       "      <th>BVP</th>\n",
       "      <th>Magnitude</th>\n",
       "      <th>ACC1</th>\n",
       "      <th>ACC2</th>\n",
       "      <th>ACC3</th>\n",
       "      <th>1</th>\n",
       "      <th>2</th>\n",
       "      <th>...</th>\n",
       "      <th>109</th>\n",
       "      <th>110</th>\n",
       "      <th>111</th>\n",
       "      <th>112</th>\n",
       "      <th>113</th>\n",
       "      <th>114</th>\n",
       "      <th>115</th>\n",
       "      <th>116</th>\n",
       "      <th>117</th>\n",
       "      <th>118</th>\n",
       "    </tr>\n",
       "  </thead>\n",
       "  <tbody>\n",
       "    <tr>\n",
       "      <th>0</th>\n",
       "      <td>33.27</td>\n",
       "      <td>0.248459</td>\n",
       "      <td>103.23</td>\n",
       "      <td>-25.44</td>\n",
       "      <td>64.4515</td>\n",
       "      <td>61</td>\n",
       "      <td>-12</td>\n",
       "      <td>17</td>\n",
       "      <td>0</td>\n",
       "      <td>0</td>\n",
       "      <td>...</td>\n",
       "      <td>0</td>\n",
       "      <td>0</td>\n",
       "      <td>0</td>\n",
       "      <td>0</td>\n",
       "      <td>0</td>\n",
       "      <td>0</td>\n",
       "      <td>0</td>\n",
       "      <td>0</td>\n",
       "      <td>0</td>\n",
       "      <td>0</td>\n",
       "    </tr>\n",
       "  </tbody>\n",
       "</table>\n",
       "<p>1 rows × 126 columns</p>\n",
       "</div>"
      ],
      "text/plain": [
       "    TEMP       EDA      HR    BVP Magnitude ACC1 ACC2 ACC3  1  2  ...  109  \\\n",
       "0  33.27  0.248459  103.23 -25.44   64.4515   61  -12   17  0  0  ...    0   \n",
       "\n",
       "   110  111  112  113  114  115  116  117  118  \n",
       "0    0    0    0    0    0    0    0    0    0  \n",
       "\n",
       "[1 rows x 126 columns]"
      ]
     },
     "execution_count": 39,
     "metadata": {},
     "output_type": "execute_result"
    }
   ],
   "source": [
    "X_train.head(1)"
   ]
  },
  {
   "cell_type": "markdown",
   "metadata": {},
   "source": [
    "### Reshaping windows as arrays"
   ]
  },
  {
   "cell_type": "code",
   "execution_count": 40,
   "metadata": {},
   "outputs": [],
   "source": [
    "# Convert to transposed arrays\n",
    "X_test = X_test.T.values\n",
    "X_train = X_train.T.values"
   ]
  },
  {
   "cell_type": "code",
   "execution_count": 41,
   "metadata": {
    "scrolled": true
   },
   "outputs": [
    {
     "name": "stdout",
     "output_type": "stream",
     "text": [
      "(3828, 40, 126) (3828,) (2432, 40, 126) (2432,)\n"
     ]
    }
   ],
   "source": [
    "X_test = X_test.astype('float64')\n",
    "X_train = X_train.astype('float64')\n",
    "\n",
    "# Reshape to -1, window_size, # features\n",
    "X_train = X_train.reshape((-1, window_size, X_train.shape[0]))\n",
    "X_test = X_test.reshape((-1, window_size, X_test.shape[0])) \n",
    "\n",
    "print(X_train.shape,  y_train.shape, X_test.shape, y_test.shape)"
   ]
  },
  {
   "cell_type": "markdown",
   "metadata": {},
   "source": [
    "#### If using TF convert y_train and y_test to One-Hot"
   ]
  },
  {
   "cell_type": "code",
   "execution_count": 42,
   "metadata": {},
   "outputs": [],
   "source": [
    "from keras.utils import np_utils\n",
    "y_train_dummy = np_utils.to_categorical(y_train)\n",
    "y_test_dummy = np_utils.to_categorical(y_test)"
   ]
  },
  {
   "cell_type": "markdown",
   "metadata": {},
   "source": [
    "### Model"
   ]
  },
  {
   "cell_type": "code",
   "execution_count": 43,
   "metadata": {},
   "outputs": [],
   "source": [
    "import keras\n",
    "from keras.models import Sequential\n",
    "from keras.layers import Dense, Flatten, Dropout, LSTM, TimeDistributed, Conv1D, AveragePooling1D, Conv2D, MaxPooling2D, MaxPool2D, Lambda, GlobalAveragePooling1D, Reshape, MaxPooling1D\n",
    "from keras.layers import Flatten\n",
    "from keras.layers import Dropout\n",
    "from keras.layers import LSTM\n",
    "import tensorflow as tf\n",
    "import tensorflow.signal"
   ]
  },
  {
   "cell_type": "code",
   "execution_count": 44,
   "metadata": {},
   "outputs": [],
   "source": [
    "model = Sequential()\n",
    "model.add(Conv1D(filters=64, kernel_size=3, activation='relu'))\n",
    "model.add(Conv1D(filters=64, kernel_size=2, activation='relu'))\n",
    "model.add(AveragePooling1D(pool_size=2))\n",
    "model.add(Lambda(lambda v: tf.cast(tf.signal.fft(tf.cast(v,dtype=tf.complex64)),tf.float32)))\n",
    "model.add(Conv1D(160, 2, activation='relu'))\n",
    "model.add(Conv1D(160, 3, activation='relu'))\n",
    "model.add(GlobalAveragePooling1D())\n",
    "model.add(Dropout(0.5))\n",
    "model.add(Dense(4, activation='softmax')) #4 outputs are possible \n",
    "model.compile(loss='categorical_crossentropy', optimizer='adam', metrics=['accuracy'])"
   ]
  },
  {
   "cell_type": "code",
   "execution_count": 45,
   "metadata": {
    "scrolled": true
   },
   "outputs": [
    {
     "name": "stdout",
     "output_type": "stream",
     "text": [
      "Epoch 1/100\n",
      "60/60 [==============================] - 1s 22ms/step - loss: 1.5577 - accuracy: 0.3738 - val_loss: 96.6399 - val_accuracy: 0.3396\n",
      "Epoch 2/100\n",
      "60/60 [==============================] - 1s 19ms/step - loss: 1.1670 - accuracy: 0.4138 - val_loss: 118.5745 - val_accuracy: 0.1480\n",
      "Epoch 3/100\n",
      "60/60 [==============================] - 1s 19ms/step - loss: 1.1602 - accuracy: 0.4114 - val_loss: 113.8008 - val_accuracy: 0.2430\n",
      "Epoch 4/100\n",
      "60/60 [==============================] - 1s 21ms/step - loss: 1.1557 - accuracy: 0.4130 - val_loss: 119.6147 - val_accuracy: 0.1871\n",
      "Epoch 5/100\n",
      "60/60 [==============================] - 1s 21ms/step - loss: 1.1559 - accuracy: 0.4232 - val_loss: 128.9964 - val_accuracy: 0.3569\n",
      "Epoch 6/100\n",
      "60/60 [==============================] - 1s 19ms/step - loss: 1.1484 - accuracy: 0.4127 - val_loss: 144.4039 - val_accuracy: 0.1431\n",
      "Epoch 7/100\n",
      "60/60 [==============================] - 1s 22ms/step - loss: 1.1491 - accuracy: 0.4164 - val_loss: 157.0671 - val_accuracy: 0.1752\n",
      "Epoch 8/100\n",
      "60/60 [==============================] - 1s 21ms/step - loss: 1.1482 - accuracy: 0.4255 - val_loss: 171.3263 - val_accuracy: 0.3232\n",
      "Epoch 9/100\n",
      "60/60 [==============================] - 1s 22ms/step - loss: 1.1494 - accuracy: 0.4156 - val_loss: 196.1536 - val_accuracy: 0.3183\n",
      "Epoch 10/100\n",
      "60/60 [==============================] - 1s 21ms/step - loss: 1.1511 - accuracy: 0.4151 - val_loss: 161.2452 - val_accuracy: 0.3035\n",
      "Epoch 11/100\n",
      "60/60 [==============================] - 1s 23ms/step - loss: 1.1486 - accuracy: 0.4154 - val_loss: 179.5243 - val_accuracy: 0.1587\n",
      "Epoch 12/100\n",
      "60/60 [==============================] - 1s 20ms/step - loss: 1.1478 - accuracy: 0.4180 - val_loss: 179.5761 - val_accuracy: 0.2401\n",
      "Epoch 13/100\n",
      "60/60 [==============================] - 1s 21ms/step - loss: 1.1411 - accuracy: 0.4248 - val_loss: 221.1586 - val_accuracy: 0.1879\n",
      "Epoch 14/100\n",
      "60/60 [==============================] - 2s 26ms/step - loss: 1.1407 - accuracy: 0.4279 - val_loss: 216.2312 - val_accuracy: 0.2274\n",
      "Epoch 15/100\n",
      "60/60 [==============================] - 1s 22ms/step - loss: 1.1420 - accuracy: 0.4156 - val_loss: 251.2464 - val_accuracy: 0.2068\n",
      "Epoch 16/100\n",
      "60/60 [==============================] - 1s 20ms/step - loss: 1.1412 - accuracy: 0.4201 - val_loss: 247.4516 - val_accuracy: 0.2447\n",
      "Epoch 17/100\n",
      "60/60 [==============================] - 1s 20ms/step - loss: 1.1418 - accuracy: 0.4266 - val_loss: 275.3629 - val_accuracy: 0.2525\n",
      "Epoch 18/100\n",
      "60/60 [==============================] - 2s 28ms/step - loss: 1.1351 - accuracy: 0.4376 - val_loss: 304.2400 - val_accuracy: 0.2216\n",
      "Epoch 19/100\n",
      "60/60 [==============================] - 3s 55ms/step - loss: 1.1359 - accuracy: 0.4336 - val_loss: 301.9791 - val_accuracy: 0.2233\n",
      "Epoch 20/100\n",
      "60/60 [==============================] - 2s 26ms/step - loss: 1.1334 - accuracy: 0.4292 - val_loss: 337.3085 - val_accuracy: 0.2578\n",
      "Epoch 21/100\n",
      "60/60 [==============================] - 1s 22ms/step - loss: 1.1318 - accuracy: 0.4318 - val_loss: 311.5706 - val_accuracy: 0.2488\n",
      "Epoch 22/100\n",
      "60/60 [==============================] - 1s 22ms/step - loss: 1.1312 - accuracy: 0.4415 - val_loss: 322.8283 - val_accuracy: 0.1904\n",
      "Epoch 23/100\n",
      "60/60 [==============================] - 1s 22ms/step - loss: 1.1238 - accuracy: 0.4407 - val_loss: 321.1180 - val_accuracy: 0.2763\n",
      "Epoch 24/100\n",
      "60/60 [==============================] - 1s 23ms/step - loss: 1.1299 - accuracy: 0.4318 - val_loss: 313.4385 - val_accuracy: 0.2377\n",
      "Epoch 25/100\n",
      "60/60 [==============================] - 1s 23ms/step - loss: 1.1249 - accuracy: 0.4389 - val_loss: 364.3545 - val_accuracy: 0.2175\n",
      "Epoch 26/100\n",
      "60/60 [==============================] - 1s 22ms/step - loss: 1.1301 - accuracy: 0.4365 - val_loss: 380.5163 - val_accuracy: 0.2323\n",
      "Epoch 27/100\n",
      "60/60 [==============================] - 1s 21ms/step - loss: 1.1214 - accuracy: 0.4480 - val_loss: 424.1620 - val_accuracy: 0.2541\n",
      "Epoch 28/100\n",
      "60/60 [==============================] - 1s 21ms/step - loss: 1.1221 - accuracy: 0.4352 - val_loss: 425.6335 - val_accuracy: 0.2410\n",
      "Epoch 29/100\n",
      "60/60 [==============================] - 1s 22ms/step - loss: 1.1206 - accuracy: 0.4404 - val_loss: 494.7753 - val_accuracy: 0.2356\n",
      "Epoch 30/100\n",
      "60/60 [==============================] - 1s 22ms/step - loss: 1.1171 - accuracy: 0.4454 - val_loss: 533.0934 - val_accuracy: 0.2138\n",
      "Epoch 31/100\n",
      "60/60 [==============================] - 1s 22ms/step - loss: 1.1128 - accuracy: 0.4485 - val_loss: 535.7762 - val_accuracy: 0.1846\n",
      "Epoch 32/100\n",
      "60/60 [==============================] - 1s 21ms/step - loss: 1.1187 - accuracy: 0.4431 - val_loss: 613.3026 - val_accuracy: 0.2270\n",
      "Epoch 33/100\n",
      "60/60 [==============================] - 2s 27ms/step - loss: 1.1126 - accuracy: 0.4485 - val_loss: 615.8809 - val_accuracy: 0.1838\n",
      "Epoch 34/100\n",
      "60/60 [==============================] - 1s 24ms/step - loss: 1.1108 - accuracy: 0.4543 - val_loss: 634.4536 - val_accuracy: 0.2447\n",
      "Epoch 35/100\n",
      "60/60 [==============================] - 1s 22ms/step - loss: 1.1055 - accuracy: 0.4559 - val_loss: 744.3330 - val_accuracy: 0.2233\n",
      "Epoch 36/100\n",
      "60/60 [==============================] - 1s 21ms/step - loss: 1.1019 - accuracy: 0.4551 - val_loss: 798.3450 - val_accuracy: 0.2508\n",
      "Epoch 37/100\n",
      "60/60 [==============================] - 1s 21ms/step - loss: 1.1079 - accuracy: 0.4522 - val_loss: 778.5760 - val_accuracy: 0.2447\n",
      "Epoch 38/100\n",
      "60/60 [==============================] - 1s 23ms/step - loss: 1.1043 - accuracy: 0.4579 - val_loss: 903.1762 - val_accuracy: 0.2595\n",
      "Epoch 39/100\n",
      "60/60 [==============================] - 1s 22ms/step - loss: 1.1049 - accuracy: 0.4564 - val_loss: 784.2918 - val_accuracy: 0.2212\n",
      "Epoch 40/100\n",
      "60/60 [==============================] - 2s 26ms/step - loss: 1.0949 - accuracy: 0.4590 - val_loss: 849.7811 - val_accuracy: 0.2035\n",
      "Epoch 41/100\n",
      "60/60 [==============================] - 1s 24ms/step - loss: 1.0951 - accuracy: 0.4579 - val_loss: 945.5529 - val_accuracy: 0.2467\n",
      "Epoch 42/100\n",
      "60/60 [==============================] - 1s 24ms/step - loss: 1.0956 - accuracy: 0.4548 - val_loss: 1177.0892 - val_accuracy: 0.1916\n",
      "Epoch 43/100\n",
      "60/60 [==============================] - 1s 24ms/step - loss: 1.0910 - accuracy: 0.4561 - val_loss: 947.2469 - val_accuracy: 0.1789\n",
      "Epoch 44/100\n",
      "60/60 [==============================] - 1s 23ms/step - loss: 1.0876 - accuracy: 0.4684 - val_loss: 1034.3605 - val_accuracy: 0.2545\n",
      "Epoch 45/100\n",
      "60/60 [==============================] - 1s 23ms/step - loss: 1.0929 - accuracy: 0.4608 - val_loss: 1332.9025 - val_accuracy: 0.2200\n",
      "Epoch 46/100\n",
      "60/60 [==============================] - 1s 25ms/step - loss: 1.0866 - accuracy: 0.4629 - val_loss: 1269.8241 - val_accuracy: 0.1867\n",
      "Epoch 47/100\n",
      "60/60 [==============================] - 1s 24ms/step - loss: 1.0825 - accuracy: 0.4613 - val_loss: 1424.4857 - val_accuracy: 0.2500\n",
      "Epoch 48/100\n",
      "60/60 [==============================] - 1s 23ms/step - loss: 1.0842 - accuracy: 0.4642 - val_loss: 1590.8571 - val_accuracy: 0.2488\n",
      "Epoch 49/100\n",
      "60/60 [==============================] - 1s 23ms/step - loss: 1.0794 - accuracy: 0.4671 - val_loss: 1730.0598 - val_accuracy: 0.2089\n",
      "Epoch 50/100\n",
      "60/60 [==============================] - 1s 21ms/step - loss: 1.0802 - accuracy: 0.4653 - val_loss: 1493.8782 - val_accuracy: 0.2072\n",
      "Epoch 51/100\n",
      "60/60 [==============================] - 1s 22ms/step - loss: 1.0765 - accuracy: 0.4697 - val_loss: 1753.8240 - val_accuracy: 0.1986\n",
      "Epoch 52/100\n",
      "60/60 [==============================] - 1s 22ms/step - loss: 1.0771 - accuracy: 0.4655 - val_loss: 1695.9978 - val_accuracy: 0.2541\n",
      "Epoch 53/100\n",
      "60/60 [==============================] - 2s 26ms/step - loss: 1.0701 - accuracy: 0.4726 - val_loss: 1767.2686 - val_accuracy: 0.1978\n",
      "Epoch 54/100\n",
      "60/60 [==============================] - 2s 25ms/step - loss: 1.0715 - accuracy: 0.4726 - val_loss: 2033.1635 - val_accuracy: 0.2319\n",
      "Epoch 55/100\n",
      "60/60 [==============================] - 1s 22ms/step - loss: 1.0689 - accuracy: 0.4710 - val_loss: 1958.2893 - val_accuracy: 0.2208\n",
      "Epoch 56/100\n",
      "60/60 [==============================] - 1s 21ms/step - loss: 1.0659 - accuracy: 0.4765 - val_loss: 2300.6025 - val_accuracy: 0.1871\n",
      "Epoch 57/100\n"
     ]
    },
    {
     "name": "stdout",
     "output_type": "stream",
     "text": [
      "60/60 [==============================] - 1s 23ms/step - loss: 1.0695 - accuracy: 0.4715 - val_loss: 2203.7371 - val_accuracy: 0.1998\n",
      "Epoch 58/100\n",
      "60/60 [==============================] - 1s 23ms/step - loss: 1.0647 - accuracy: 0.4796 - val_loss: 2150.5852 - val_accuracy: 0.2183\n",
      "Epoch 59/100\n",
      "60/60 [==============================] - 1s 23ms/step - loss: 1.0676 - accuracy: 0.4754 - val_loss: 2426.5994 - val_accuracy: 0.2023\n",
      "Epoch 60/100\n",
      "60/60 [==============================] - 2s 30ms/step - loss: 1.0639 - accuracy: 0.4786 - val_loss: 2524.3792 - val_accuracy: 0.2331\n",
      "Epoch 61/100\n",
      "60/60 [==============================] - 2s 27ms/step - loss: 1.0604 - accuracy: 0.4804 - val_loss: 2710.8096 - val_accuracy: 0.2233\n",
      "Epoch 62/100\n",
      "60/60 [==============================] - 1s 24ms/step - loss: 1.0531 - accuracy: 0.4809 - val_loss: 2691.1130 - val_accuracy: 0.2418\n",
      "Epoch 63/100\n",
      "60/60 [==============================] - 1s 24ms/step - loss: 1.0573 - accuracy: 0.4794 - val_loss: 2971.6052 - val_accuracy: 0.1719\n",
      "Epoch 64/100\n",
      "60/60 [==============================] - 2s 27ms/step - loss: 1.0593 - accuracy: 0.4754 - val_loss: 2670.3586 - val_accuracy: 0.2159\n",
      "Epoch 65/100\n",
      "60/60 [==============================] - 2s 26ms/step - loss: 1.0548 - accuracy: 0.4804 - val_loss: 3103.4670 - val_accuracy: 0.1965\n",
      "Epoch 66/100\n",
      "60/60 [==============================] - 2s 27ms/step - loss: 1.0561 - accuracy: 0.4817 - val_loss: 2722.6646 - val_accuracy: 0.2262\n",
      "Epoch 67/100\n",
      "60/60 [==============================] - 2s 26ms/step - loss: 1.0513 - accuracy: 0.4791 - val_loss: 2811.0603 - val_accuracy: 0.2340\n",
      "Epoch 68/100\n",
      "60/60 [==============================] - 2s 26ms/step - loss: 1.0463 - accuracy: 0.4843 - val_loss: 3181.5154 - val_accuracy: 0.1998\n",
      "Epoch 69/100\n",
      "60/60 [==============================] - 2s 26ms/step - loss: 1.0503 - accuracy: 0.4848 - val_loss: 3255.0957 - val_accuracy: 0.2200\n",
      "Epoch 70/100\n",
      "60/60 [==============================] - 1s 24ms/step - loss: 1.0453 - accuracy: 0.4862 - val_loss: 3171.3047 - val_accuracy: 0.2011\n",
      "Epoch 71/100\n",
      "60/60 [==============================] - 1s 25ms/step - loss: 1.0460 - accuracy: 0.4864 - val_loss: 3283.6348 - val_accuracy: 0.2286\n",
      "Epoch 72/100\n",
      "60/60 [==============================] - 1s 25ms/step - loss: 1.0466 - accuracy: 0.4828 - val_loss: 3758.8840 - val_accuracy: 0.2105\n",
      "Epoch 73/100\n",
      "60/60 [==============================] - 2s 28ms/step - loss: 1.0523 - accuracy: 0.4828 - val_loss: 3029.9185 - val_accuracy: 0.2175\n",
      "Epoch 74/100\n",
      "60/60 [==============================] - 2s 25ms/step - loss: 1.0452 - accuracy: 0.4869 - val_loss: 3547.7908 - val_accuracy: 0.2311\n",
      "Epoch 75/100\n",
      "60/60 [==============================] - 1s 23ms/step - loss: 1.0377 - accuracy: 0.4877 - val_loss: 3714.9458 - val_accuracy: 0.2237\n",
      "Epoch 76/100\n",
      "60/60 [==============================] - 2s 25ms/step - loss: 1.0365 - accuracy: 0.4838 - val_loss: 4063.0229 - val_accuracy: 0.2220\n",
      "Epoch 77/100\n",
      "60/60 [==============================] - 1s 22ms/step - loss: 1.0402 - accuracy: 0.4875 - val_loss: 4066.3208 - val_accuracy: 0.2290\n",
      "Epoch 78/100\n",
      "60/60 [==============================] - 1s 22ms/step - loss: 1.0364 - accuracy: 0.4877 - val_loss: 3842.1426 - val_accuracy: 0.1838\n",
      "Epoch 79/100\n",
      "60/60 [==============================] - 1s 22ms/step - loss: 1.0461 - accuracy: 0.4843 - val_loss: 4290.5977 - val_accuracy: 0.2208\n",
      "Epoch 80/100\n",
      "60/60 [==============================] - 1s 24ms/step - loss: 1.0399 - accuracy: 0.4862 - val_loss: 4207.2632 - val_accuracy: 0.1982\n",
      "Epoch 81/100\n",
      "60/60 [==============================] - 1s 24ms/step - loss: 1.0315 - accuracy: 0.4893 - val_loss: 4362.6094 - val_accuracy: 0.2385\n",
      "Epoch 82/100\n",
      "60/60 [==============================] - 1s 24ms/step - loss: 1.0463 - accuracy: 0.4846 - val_loss: 4288.0332 - val_accuracy: 0.2155\n",
      "Epoch 83/100\n",
      "60/60 [==============================] - 1s 25ms/step - loss: 1.0390 - accuracy: 0.4828 - val_loss: 4471.0776 - val_accuracy: 0.2220\n",
      "Epoch 84/100\n",
      "60/60 [==============================] - 1s 24ms/step - loss: 1.0307 - accuracy: 0.4919 - val_loss: 4885.9546 - val_accuracy: 0.2126\n",
      "Epoch 85/100\n",
      "60/60 [==============================] - 1s 24ms/step - loss: 1.0336 - accuracy: 0.4880 - val_loss: 4357.5615 - val_accuracy: 0.2118\n",
      "Epoch 86/100\n",
      "60/60 [==============================] - 2s 31ms/step - loss: 1.0295 - accuracy: 0.4896 - val_loss: 4509.0757 - val_accuracy: 0.1982\n",
      "Epoch 87/100\n",
      "60/60 [==============================] - 2s 37ms/step - loss: 1.0276 - accuracy: 0.4911 - val_loss: 5261.4463 - val_accuracy: 0.2216\n",
      "Epoch 88/100\n",
      "60/60 [==============================] - 2s 33ms/step - loss: 1.0266 - accuracy: 0.4893 - val_loss: 4889.9424 - val_accuracy: 0.2002\n",
      "Epoch 89/100\n",
      "60/60 [==============================] - 2s 26ms/step - loss: 1.0221 - accuracy: 0.4924 - val_loss: 4407.3428 - val_accuracy: 0.1797\n",
      "Epoch 90/100\n",
      "60/60 [==============================] - 2s 27ms/step - loss: 1.0293 - accuracy: 0.4940 - val_loss: 5164.6016 - val_accuracy: 0.1994\n",
      "Epoch 91/100\n",
      "60/60 [==============================] - 2s 26ms/step - loss: 1.0220 - accuracy: 0.4984 - val_loss: 5021.1240 - val_accuracy: 0.2118\n",
      "Epoch 92/100\n",
      " 7/60 [==>...........................] - ETA: 0s - loss: 0.9867 - accuracy: 0.5022"
     ]
    },
    {
     "ename": "KeyboardInterrupt",
     "evalue": "",
     "output_type": "error",
     "traceback": [
      "\u001b[0;31m---------------------------------------------------------------------------\u001b[0m",
      "\u001b[0;31mKeyboardInterrupt\u001b[0m                         Traceback (most recent call last)",
      "\u001b[0;32m<ipython-input-45-92b5dd16277d>\u001b[0m in \u001b[0;36m<module>\u001b[0;34m\u001b[0m\n\u001b[0;32m----> 1\u001b[0;31m \u001b[0mmFIT\u001b[0m \u001b[0;34m=\u001b[0m \u001b[0mmodel\u001b[0m\u001b[0;34m.\u001b[0m\u001b[0mfit\u001b[0m\u001b[0;34m(\u001b[0m\u001b[0mX_train\u001b[0m\u001b[0;34m,\u001b[0m \u001b[0my_train_dummy\u001b[0m\u001b[0;34m,\u001b[0m \u001b[0mepochs\u001b[0m \u001b[0;34m=\u001b[0m \u001b[0;36m100\u001b[0m\u001b[0;34m,\u001b[0m \u001b[0mvalidation_data\u001b[0m \u001b[0;34m=\u001b[0m \u001b[0;34m(\u001b[0m\u001b[0mX_test\u001b[0m\u001b[0;34m,\u001b[0m \u001b[0my_test_dummy\u001b[0m\u001b[0;34m)\u001b[0m\u001b[0;34m,\u001b[0m \u001b[0mbatch_size\u001b[0m \u001b[0;34m=\u001b[0m \u001b[0;36m64\u001b[0m\u001b[0;34m,\u001b[0m \u001b[0mverbose\u001b[0m \u001b[0;34m=\u001b[0m \u001b[0;36m1\u001b[0m\u001b[0;34m)\u001b[0m\u001b[0;34m\u001b[0m\u001b[0;34m\u001b[0m\u001b[0m\n\u001b[0m",
      "\u001b[0;32m~/opt/anaconda3/lib/python3.7/site-packages/tensorflow/python/keras/engine/training.py\u001b[0m in \u001b[0;36m_method_wrapper\u001b[0;34m(self, *args, **kwargs)\u001b[0m\n\u001b[1;32m     64\u001b[0m   \u001b[0;32mdef\u001b[0m \u001b[0m_method_wrapper\u001b[0m\u001b[0;34m(\u001b[0m\u001b[0mself\u001b[0m\u001b[0;34m,\u001b[0m \u001b[0;34m*\u001b[0m\u001b[0margs\u001b[0m\u001b[0;34m,\u001b[0m \u001b[0;34m**\u001b[0m\u001b[0mkwargs\u001b[0m\u001b[0;34m)\u001b[0m\u001b[0;34m:\u001b[0m\u001b[0;34m\u001b[0m\u001b[0;34m\u001b[0m\u001b[0m\n\u001b[1;32m     65\u001b[0m     \u001b[0;32mif\u001b[0m \u001b[0;32mnot\u001b[0m \u001b[0mself\u001b[0m\u001b[0;34m.\u001b[0m\u001b[0m_in_multi_worker_mode\u001b[0m\u001b[0;34m(\u001b[0m\u001b[0;34m)\u001b[0m\u001b[0;34m:\u001b[0m  \u001b[0;31m# pylint: disable=protected-access\u001b[0m\u001b[0;34m\u001b[0m\u001b[0;34m\u001b[0m\u001b[0m\n\u001b[0;32m---> 66\u001b[0;31m       \u001b[0;32mreturn\u001b[0m \u001b[0mmethod\u001b[0m\u001b[0;34m(\u001b[0m\u001b[0mself\u001b[0m\u001b[0;34m,\u001b[0m \u001b[0;34m*\u001b[0m\u001b[0margs\u001b[0m\u001b[0;34m,\u001b[0m \u001b[0;34m**\u001b[0m\u001b[0mkwargs\u001b[0m\u001b[0;34m)\u001b[0m\u001b[0;34m\u001b[0m\u001b[0;34m\u001b[0m\u001b[0m\n\u001b[0m\u001b[1;32m     67\u001b[0m \u001b[0;34m\u001b[0m\u001b[0m\n\u001b[1;32m     68\u001b[0m     \u001b[0;31m# Running inside `run_distribute_coordinator` already.\u001b[0m\u001b[0;34m\u001b[0m\u001b[0;34m\u001b[0m\u001b[0;34m\u001b[0m\u001b[0m\n",
      "\u001b[0;32m~/opt/anaconda3/lib/python3.7/site-packages/tensorflow/python/keras/engine/training.py\u001b[0m in \u001b[0;36mfit\u001b[0;34m(self, x, y, batch_size, epochs, verbose, callbacks, validation_split, validation_data, shuffle, class_weight, sample_weight, initial_epoch, steps_per_epoch, validation_steps, validation_batch_size, validation_freq, max_queue_size, workers, use_multiprocessing)\u001b[0m\n\u001b[1;32m    846\u001b[0m                 batch_size=batch_size):\n\u001b[1;32m    847\u001b[0m               \u001b[0mcallbacks\u001b[0m\u001b[0;34m.\u001b[0m\u001b[0mon_train_batch_begin\u001b[0m\u001b[0;34m(\u001b[0m\u001b[0mstep\u001b[0m\u001b[0;34m)\u001b[0m\u001b[0;34m\u001b[0m\u001b[0;34m\u001b[0m\u001b[0m\n\u001b[0;32m--> 848\u001b[0;31m               \u001b[0mtmp_logs\u001b[0m \u001b[0;34m=\u001b[0m \u001b[0mtrain_function\u001b[0m\u001b[0;34m(\u001b[0m\u001b[0miterator\u001b[0m\u001b[0;34m)\u001b[0m\u001b[0;34m\u001b[0m\u001b[0;34m\u001b[0m\u001b[0m\n\u001b[0m\u001b[1;32m    849\u001b[0m               \u001b[0;31m# Catch OutOfRangeError for Datasets of unknown size.\u001b[0m\u001b[0;34m\u001b[0m\u001b[0;34m\u001b[0m\u001b[0;34m\u001b[0m\u001b[0m\n\u001b[1;32m    850\u001b[0m               \u001b[0;31m# This blocks until the batch has finished executing.\u001b[0m\u001b[0;34m\u001b[0m\u001b[0;34m\u001b[0m\u001b[0;34m\u001b[0m\u001b[0m\n",
      "\u001b[0;32m~/opt/anaconda3/lib/python3.7/site-packages/tensorflow/python/eager/def_function.py\u001b[0m in \u001b[0;36m__call__\u001b[0;34m(self, *args, **kwds)\u001b[0m\n\u001b[1;32m    578\u001b[0m         \u001b[0mxla_context\u001b[0m\u001b[0;34m.\u001b[0m\u001b[0mExit\u001b[0m\u001b[0;34m(\u001b[0m\u001b[0;34m)\u001b[0m\u001b[0;34m\u001b[0m\u001b[0;34m\u001b[0m\u001b[0m\n\u001b[1;32m    579\u001b[0m     \u001b[0;32melse\u001b[0m\u001b[0;34m:\u001b[0m\u001b[0;34m\u001b[0m\u001b[0;34m\u001b[0m\u001b[0m\n\u001b[0;32m--> 580\u001b[0;31m       \u001b[0mresult\u001b[0m \u001b[0;34m=\u001b[0m \u001b[0mself\u001b[0m\u001b[0;34m.\u001b[0m\u001b[0m_call\u001b[0m\u001b[0;34m(\u001b[0m\u001b[0;34m*\u001b[0m\u001b[0margs\u001b[0m\u001b[0;34m,\u001b[0m \u001b[0;34m**\u001b[0m\u001b[0mkwds\u001b[0m\u001b[0;34m)\u001b[0m\u001b[0;34m\u001b[0m\u001b[0;34m\u001b[0m\u001b[0m\n\u001b[0m\u001b[1;32m    581\u001b[0m \u001b[0;34m\u001b[0m\u001b[0m\n\u001b[1;32m    582\u001b[0m     \u001b[0;32mif\u001b[0m \u001b[0mtracing_count\u001b[0m \u001b[0;34m==\u001b[0m \u001b[0mself\u001b[0m\u001b[0;34m.\u001b[0m\u001b[0m_get_tracing_count\u001b[0m\u001b[0;34m(\u001b[0m\u001b[0;34m)\u001b[0m\u001b[0;34m:\u001b[0m\u001b[0;34m\u001b[0m\u001b[0;34m\u001b[0m\u001b[0m\n",
      "\u001b[0;32m~/opt/anaconda3/lib/python3.7/site-packages/tensorflow/python/eager/def_function.py\u001b[0m in \u001b[0;36m_call\u001b[0;34m(self, *args, **kwds)\u001b[0m\n\u001b[1;32m    609\u001b[0m       \u001b[0;31m# In this case we have created variables on the first call, so we run the\u001b[0m\u001b[0;34m\u001b[0m\u001b[0;34m\u001b[0m\u001b[0;34m\u001b[0m\u001b[0m\n\u001b[1;32m    610\u001b[0m       \u001b[0;31m# defunned version which is guaranteed to never create variables.\u001b[0m\u001b[0;34m\u001b[0m\u001b[0;34m\u001b[0m\u001b[0;34m\u001b[0m\u001b[0m\n\u001b[0;32m--> 611\u001b[0;31m       \u001b[0;32mreturn\u001b[0m \u001b[0mself\u001b[0m\u001b[0;34m.\u001b[0m\u001b[0m_stateless_fn\u001b[0m\u001b[0;34m(\u001b[0m\u001b[0;34m*\u001b[0m\u001b[0margs\u001b[0m\u001b[0;34m,\u001b[0m \u001b[0;34m**\u001b[0m\u001b[0mkwds\u001b[0m\u001b[0;34m)\u001b[0m  \u001b[0;31m# pylint: disable=not-callable\u001b[0m\u001b[0;34m\u001b[0m\u001b[0;34m\u001b[0m\u001b[0m\n\u001b[0m\u001b[1;32m    612\u001b[0m     \u001b[0;32melif\u001b[0m \u001b[0mself\u001b[0m\u001b[0;34m.\u001b[0m\u001b[0m_stateful_fn\u001b[0m \u001b[0;32mis\u001b[0m \u001b[0;32mnot\u001b[0m \u001b[0;32mNone\u001b[0m\u001b[0;34m:\u001b[0m\u001b[0;34m\u001b[0m\u001b[0;34m\u001b[0m\u001b[0m\n\u001b[1;32m    613\u001b[0m       \u001b[0;31m# Release the lock early so that multiple threads can perform the call\u001b[0m\u001b[0;34m\u001b[0m\u001b[0;34m\u001b[0m\u001b[0;34m\u001b[0m\u001b[0m\n",
      "\u001b[0;32m~/opt/anaconda3/lib/python3.7/site-packages/tensorflow/python/eager/function.py\u001b[0m in \u001b[0;36m__call__\u001b[0;34m(self, *args, **kwargs)\u001b[0m\n\u001b[1;32m   2418\u001b[0m     \u001b[0;32mwith\u001b[0m \u001b[0mself\u001b[0m\u001b[0;34m.\u001b[0m\u001b[0m_lock\u001b[0m\u001b[0;34m:\u001b[0m\u001b[0;34m\u001b[0m\u001b[0;34m\u001b[0m\u001b[0m\n\u001b[1;32m   2419\u001b[0m       \u001b[0mgraph_function\u001b[0m\u001b[0;34m,\u001b[0m \u001b[0margs\u001b[0m\u001b[0;34m,\u001b[0m \u001b[0mkwargs\u001b[0m \u001b[0;34m=\u001b[0m \u001b[0mself\u001b[0m\u001b[0;34m.\u001b[0m\u001b[0m_maybe_define_function\u001b[0m\u001b[0;34m(\u001b[0m\u001b[0margs\u001b[0m\u001b[0;34m,\u001b[0m \u001b[0mkwargs\u001b[0m\u001b[0;34m)\u001b[0m\u001b[0;34m\u001b[0m\u001b[0;34m\u001b[0m\u001b[0m\n\u001b[0;32m-> 2420\u001b[0;31m     \u001b[0;32mreturn\u001b[0m \u001b[0mgraph_function\u001b[0m\u001b[0;34m.\u001b[0m\u001b[0m_filtered_call\u001b[0m\u001b[0;34m(\u001b[0m\u001b[0margs\u001b[0m\u001b[0;34m,\u001b[0m \u001b[0mkwargs\u001b[0m\u001b[0;34m)\u001b[0m  \u001b[0;31m# pylint: disable=protected-access\u001b[0m\u001b[0;34m\u001b[0m\u001b[0;34m\u001b[0m\u001b[0m\n\u001b[0m\u001b[1;32m   2421\u001b[0m \u001b[0;34m\u001b[0m\u001b[0m\n\u001b[1;32m   2422\u001b[0m   \u001b[0;34m@\u001b[0m\u001b[0mproperty\u001b[0m\u001b[0;34m\u001b[0m\u001b[0;34m\u001b[0m\u001b[0m\n",
      "\u001b[0;32m~/opt/anaconda3/lib/python3.7/site-packages/tensorflow/python/eager/function.py\u001b[0m in \u001b[0;36m_filtered_call\u001b[0;34m(self, args, kwargs)\u001b[0m\n\u001b[1;32m   1663\u001b[0m          if isinstance(t, (ops.Tensor,\n\u001b[1;32m   1664\u001b[0m                            resource_variable_ops.BaseResourceVariable))),\n\u001b[0;32m-> 1665\u001b[0;31m         self.captured_inputs)\n\u001b[0m\u001b[1;32m   1666\u001b[0m \u001b[0;34m\u001b[0m\u001b[0m\n\u001b[1;32m   1667\u001b[0m   \u001b[0;32mdef\u001b[0m \u001b[0m_call_flat\u001b[0m\u001b[0;34m(\u001b[0m\u001b[0mself\u001b[0m\u001b[0;34m,\u001b[0m \u001b[0margs\u001b[0m\u001b[0;34m,\u001b[0m \u001b[0mcaptured_inputs\u001b[0m\u001b[0;34m,\u001b[0m \u001b[0mcancellation_manager\u001b[0m\u001b[0;34m=\u001b[0m\u001b[0;32mNone\u001b[0m\u001b[0;34m)\u001b[0m\u001b[0;34m:\u001b[0m\u001b[0;34m\u001b[0m\u001b[0;34m\u001b[0m\u001b[0m\n",
      "\u001b[0;32m~/opt/anaconda3/lib/python3.7/site-packages/tensorflow/python/eager/function.py\u001b[0m in \u001b[0;36m_call_flat\u001b[0;34m(self, args, captured_inputs, cancellation_manager)\u001b[0m\n\u001b[1;32m   1744\u001b[0m       \u001b[0;31m# No tape is watching; skip to running the function.\u001b[0m\u001b[0;34m\u001b[0m\u001b[0;34m\u001b[0m\u001b[0;34m\u001b[0m\u001b[0m\n\u001b[1;32m   1745\u001b[0m       return self._build_call_outputs(self._inference_function.call(\n\u001b[0;32m-> 1746\u001b[0;31m           ctx, args, cancellation_manager=cancellation_manager))\n\u001b[0m\u001b[1;32m   1747\u001b[0m     forward_backward = self._select_forward_and_backward_functions(\n\u001b[1;32m   1748\u001b[0m         \u001b[0margs\u001b[0m\u001b[0;34m,\u001b[0m\u001b[0;34m\u001b[0m\u001b[0;34m\u001b[0m\u001b[0m\n",
      "\u001b[0;32m~/opt/anaconda3/lib/python3.7/site-packages/tensorflow/python/eager/function.py\u001b[0m in \u001b[0;36mcall\u001b[0;34m(self, ctx, args, cancellation_manager)\u001b[0m\n\u001b[1;32m    596\u001b[0m               \u001b[0minputs\u001b[0m\u001b[0;34m=\u001b[0m\u001b[0margs\u001b[0m\u001b[0;34m,\u001b[0m\u001b[0;34m\u001b[0m\u001b[0;34m\u001b[0m\u001b[0m\n\u001b[1;32m    597\u001b[0m               \u001b[0mattrs\u001b[0m\u001b[0;34m=\u001b[0m\u001b[0mattrs\u001b[0m\u001b[0;34m,\u001b[0m\u001b[0;34m\u001b[0m\u001b[0;34m\u001b[0m\u001b[0m\n\u001b[0;32m--> 598\u001b[0;31m               ctx=ctx)\n\u001b[0m\u001b[1;32m    599\u001b[0m         \u001b[0;32melse\u001b[0m\u001b[0;34m:\u001b[0m\u001b[0;34m\u001b[0m\u001b[0;34m\u001b[0m\u001b[0m\n\u001b[1;32m    600\u001b[0m           outputs = execute.execute_with_cancellation(\n",
      "\u001b[0;32m~/opt/anaconda3/lib/python3.7/site-packages/tensorflow/python/eager/execute.py\u001b[0m in \u001b[0;36mquick_execute\u001b[0;34m(op_name, num_outputs, inputs, attrs, ctx, name)\u001b[0m\n\u001b[1;32m     58\u001b[0m     \u001b[0mctx\u001b[0m\u001b[0;34m.\u001b[0m\u001b[0mensure_initialized\u001b[0m\u001b[0;34m(\u001b[0m\u001b[0;34m)\u001b[0m\u001b[0;34m\u001b[0m\u001b[0;34m\u001b[0m\u001b[0m\n\u001b[1;32m     59\u001b[0m     tensors = pywrap_tfe.TFE_Py_Execute(ctx._handle, device_name, op_name,\n\u001b[0;32m---> 60\u001b[0;31m                                         inputs, attrs, num_outputs)\n\u001b[0m\u001b[1;32m     61\u001b[0m   \u001b[0;32mexcept\u001b[0m \u001b[0mcore\u001b[0m\u001b[0;34m.\u001b[0m\u001b[0m_NotOkStatusException\u001b[0m \u001b[0;32mas\u001b[0m \u001b[0me\u001b[0m\u001b[0;34m:\u001b[0m\u001b[0;34m\u001b[0m\u001b[0;34m\u001b[0m\u001b[0m\n\u001b[1;32m     62\u001b[0m     \u001b[0;32mif\u001b[0m \u001b[0mname\u001b[0m \u001b[0;32mis\u001b[0m \u001b[0;32mnot\u001b[0m \u001b[0;32mNone\u001b[0m\u001b[0;34m:\u001b[0m\u001b[0;34m\u001b[0m\u001b[0;34m\u001b[0m\u001b[0m\n",
      "\u001b[0;31mKeyboardInterrupt\u001b[0m: "
     ]
    }
   ],
   "source": [
    "mFIT = model.fit(X_train, y_train_dummy, epochs = 100, validation_data = (X_test, y_test_dummy), batch_size = 64, verbose = 1)"
   ]
  },
  {
   "cell_type": "code",
   "execution_count": 46,
   "metadata": {},
   "outputs": [],
   "source": [
    "model = Sequential()\n",
    "model.add(Conv1D(filters=64, kernel_size=2, activation='relu'))\n",
    "model.add(Conv1D(filters=64, kernel_size=2, activation='relu'))\n",
    "model.add(MaxPooling1D(pool_size=2))\n",
    "model.add(Flatten())\n",
    "model.add(Dense(100, activation='relu'))\n",
    "model.add(Dense(4, activation='softmax')) #4 outputs are possible \n",
    "model.compile(loss='categorical_crossentropy', optimizer='adam', metrics=['accuracy'])"
   ]
  },
  {
   "cell_type": "code",
   "execution_count": 47,
   "metadata": {},
   "outputs": [
    {
     "name": "stdout",
     "output_type": "stream",
     "text": [
      "Epoch 1/10\n",
      "60/60 [==============================] - 1s 12ms/step - loss: 1.2923 - accuracy: 0.3762 - val_loss: 49.1287 - val_accuracy: 0.4030\n",
      "Epoch 2/10\n",
      "60/60 [==============================] - 1s 12ms/step - loss: 1.1571 - accuracy: 0.4248 - val_loss: 57.1857 - val_accuracy: 0.2677\n",
      "Epoch 3/10\n",
      "60/60 [==============================] - 1s 11ms/step - loss: 1.1184 - accuracy: 0.4517 - val_loss: 65.2625 - val_accuracy: 0.2492\n",
      "Epoch 4/10\n",
      "60/60 [==============================] - 1s 11ms/step - loss: 1.0972 - accuracy: 0.4572 - val_loss: 66.1306 - val_accuracy: 0.2438\n",
      "Epoch 5/10\n",
      "60/60 [==============================] - 1s 11ms/step - loss: 1.0918 - accuracy: 0.4660 - val_loss: 79.5631 - val_accuracy: 0.2393\n",
      "Epoch 6/10\n",
      "60/60 [==============================] - 1s 11ms/step - loss: 1.0770 - accuracy: 0.4684 - val_loss: 85.1615 - val_accuracy: 0.2212\n",
      "Epoch 7/10\n",
      "60/60 [==============================] - 1s 11ms/step - loss: 1.0617 - accuracy: 0.4749 - val_loss: 85.4734 - val_accuracy: 0.2229\n",
      "Epoch 8/10\n",
      "60/60 [==============================] - 1s 11ms/step - loss: 1.0473 - accuracy: 0.4833 - val_loss: 89.0453 - val_accuracy: 0.2516\n",
      "Epoch 9/10\n",
      "60/60 [==============================] - 1s 11ms/step - loss: 1.0317 - accuracy: 0.4982 - val_loss: 92.5406 - val_accuracy: 0.2060\n",
      "Epoch 10/10\n",
      "60/60 [==============================] - 1s 11ms/step - loss: 1.0167 - accuracy: 0.5078 - val_loss: 86.5567 - val_accuracy: 0.2286\n"
     ]
    }
   ],
   "source": [
    "mFIT = model.fit(X_train, y_train_dummy, epochs = 10, validation_data = (X_test, y_test_dummy), batch_size = 64, verbose = 1)"
   ]
  },
  {
   "cell_type": "raw",
   "metadata": {},
   "source": [
    "model.summary()"
   ]
  },
  {
   "cell_type": "code",
   "execution_count": 26,
   "metadata": {},
   "outputs": [
    {
     "data": {
      "image/png": "[encoded data removed]",
      "text/plain": [
       "<Figure size 720x432 with 1 Axes>"
      ]
     },
     "metadata": {
      "needs_background": "light"
     },
     "output_type": "display_data"
    }
   ],
   "source": [
    "import matplotlib.pyplot as plt\n",
    "plt.figure(figsize=(10, 6))\n",
    "plt.plot(mFIT.history['accuracy'], 'r', label='Accuracy of training data')\n",
    "plt.plot(mFIT.history['val_accuracy'], 'b', label='Accuracy of validation data')\n",
    "plt.plot(mFIT.history['loss'], 'r--', label='Loss of training data')\n",
    "plt.plot(mFIT.history['val_loss'], 'b--', label='Loss of validation data')\n",
    "plt.title('Model Accuracy and Loss')\n",
    "plt.ylabel('Accuracy and Loss')\n",
    "plt.xlabel('Training Epoch')\n",
    "plt.ylim(0)\n",
    "plt.legend()\n",
    "plt.show()"
   ]
  },
  {
   "cell_type": "code",
   "execution_count": 27,
   "metadata": {},
   "outputs": [],
   "source": [
    "y_pred = np.argmax(model.predict(X_test), axis=-1)"
   ]
  },
  {
   "cell_type": "code",
   "execution_count": 28,
   "metadata": {},
   "outputs": [
    {
     "data": {
      "text/plain": [
       "array([0, 1])"
      ]
     },
     "execution_count": 28,
     "metadata": {},
     "output_type": "execute_result"
    }
   ],
   "source": [
    "pd.unique(y_pred)"
   ]
  },
  {
   "cell_type": "code",
   "execution_count": 29,
   "metadata": {},
   "outputs": [
    {
     "data": {
      "text/plain": [
       "array([0, 0, 0, 0, 0, 0, 0, 0, 0, 0, 0, 0, 0, 0, 0, 0, 0, 0, 0, 0, 0, 0,\n",
       "       0, 0, 0, 0, 0, 0, 0, 0, 0, 0, 0, 0, 0, 0, 0, 0, 0, 0, 0, 0, 0, 1,\n",
       "       1, 1, 1, 1, 1, 1, 1, 1, 1, 1, 1, 1, 0, 1, 0, 0, 0, 0, 0, 0, 0, 0,\n",
       "       0, 0, 0, 0, 0, 0, 1, 1, 0, 0, 0, 1, 1, 0, 1, 1, 1, 0, 0, 0, 0, 1,\n",
       "       1, 0, 1, 0, 1, 1, 0, 1, 1, 0, 0, 0, 0, 0, 0, 0, 0, 1, 1, 0, 1, 0,\n",
       "       0, 0, 0, 0, 0, 0, 0, 0, 0, 0, 0, 0, 0, 0, 0, 0, 0, 0, 0, 0, 0, 0,\n",
       "       0, 0, 0, 0, 0, 0, 0, 0, 0, 0, 0, 0, 0, 0, 0, 0, 0, 0, 0, 0, 0, 0,\n",
       "       0, 0, 0, 0, 0, 0, 0, 0, 0, 0, 0, 0, 0, 0, 0, 0, 0, 0, 0, 0, 0, 0,\n",
       "       0, 0, 0, 0, 0, 0, 0, 0, 0, 0, 0, 0, 0, 0, 0, 0, 0, 0, 0, 0, 0, 0,\n",
       "       0, 0, 0, 0, 0, 0, 0, 0, 0, 0, 0, 0, 0, 0, 0, 0, 0, 0, 0, 0, 0, 0,\n",
       "       0, 0, 0, 0, 0, 0, 0, 0, 0, 0, 0, 0, 0, 0, 0, 0, 0, 0, 0, 0, 0, 0,\n",
       "       0, 0, 0, 0, 0, 0, 0, 0, 0, 0, 0, 0, 0, 0, 0, 0, 0, 0, 0, 0, 0, 0,\n",
       "       0, 0, 0, 0, 0, 0, 0, 0, 0, 0, 0, 0, 0, 0, 0, 0, 0, 0, 0, 0, 0, 0,\n",
       "       0, 0, 0, 0, 0, 0, 0, 0, 0, 0, 0, 0, 0, 0, 0, 0, 0, 0, 0, 0, 0, 0,\n",
       "       0, 0, 0, 0, 0, 0, 0, 0, 0, 0, 0, 0, 0, 0, 0, 0, 0, 0, 0, 0, 0, 0,\n",
       "       0, 0, 0, 0, 0, 0, 0, 0, 0, 0, 0, 0, 0, 0, 0, 0, 0, 0, 0, 0, 0, 0,\n",
       "       0, 0, 0, 0, 0, 0, 0, 0, 0, 0, 0, 0, 0, 0, 0, 0, 0, 0, 0, 0, 0, 0,\n",
       "       0, 0, 0, 0, 0, 0, 0, 0, 0, 0, 0, 0, 0, 0, 0, 0, 0, 0, 0, 0, 0, 0,\n",
       "       0, 0, 0, 0, 0, 0, 0, 0, 0, 0, 0, 0, 0, 0, 0, 0, 0, 0, 0, 0, 0, 0,\n",
       "       0, 0, 0, 0, 0, 0, 0, 0, 0, 0, 0, 0, 0, 0, 0, 0, 0, 0, 0, 0, 0, 0,\n",
       "       0, 0, 0, 0, 0, 0, 0, 0, 0, 0, 0, 0, 0, 0, 0, 0, 0, 0, 0, 0, 0, 0,\n",
       "       0, 0, 0, 0, 0, 0, 0, 0, 0, 0, 0, 0, 0, 0, 0, 0, 0, 0, 0, 0, 0, 0,\n",
       "       0, 0, 0, 0, 0, 0, 0, 0, 0, 0, 0, 0, 0, 0, 0, 0, 0, 0, 0, 0, 0, 0,\n",
       "       0, 0, 0, 0, 0, 0, 0, 0, 0, 0, 0, 0, 0, 0, 0, 0])"
      ]
     },
     "execution_count": 29,
     "metadata": {},
     "output_type": "execute_result"
    }
   ],
   "source": [
    "y_pred"
   ]
  },
  {
   "cell_type": "code",
   "execution_count": 30,
   "metadata": {},
   "outputs": [
    {
     "name": "stdout",
     "output_type": "stream",
     "text": [
      "[[0 1]\n",
      " [0 1]\n",
      " [0 1]\n",
      " ...\n",
      " [0 0]\n",
      " [0 3]\n",
      " [0 3]]\n"
     ]
    }
   ],
   "source": [
    "# col 1 = y_pred\n",
    "# col 2 = y_test ground truth labels\n",
    "print(np.concatenate((y_pred.reshape(-1, 1), y_test.reshape(-1,1)),1))"
   ]
  },
  {
   "cell_type": "code",
   "execution_count": 31,
   "metadata": {},
   "outputs": [
    {
     "data": {
      "text/plain": [
       "array([[231, 194,  33,  33],\n",
       "       [ 21,   4,   3,   3],\n",
       "       [  0,   0,   0,   0],\n",
       "       [  0,   0,   0,   0]])"
      ]
     },
     "execution_count": 31,
     "metadata": {},
     "output_type": "execute_result"
    }
   ],
   "source": [
    "from sklearn.metrics import confusion_matrix, accuracy_score, f1_score\n",
    "confusion_matrix(y_pred, y_test.astype(\"int\"))"
   ]
  },
  {
   "cell_type": "code",
   "execution_count": 32,
   "metadata": {},
   "outputs": [],
   "source": [
    "def plot_confusion_matrix(cm, classes,\n",
    "                          normalize=False,\n",
    "                          title='Confusion matrix',\n",
    "                          cmap=plt.cm.Blues):\n",
    "    \"\"\"\n",
    "    This function prints and plots the confusion matrix.\n",
    "    Normalization can be applied by setting `normalize=True`.\n",
    "    \"\"\"\n",
    "    import itertools\n",
    "    if normalize:\n",
    "        cm = cm.astype('float') / cm.sum(axis=1)[:, np.newaxis]\n",
    "        print(\"Normalized confusion matrix\")\n",
    "    else:\n",
    "        print('Confusion matrix, without normalization')\n",
    "\n",
    "    print(cm)\n",
    "\n",
    "    plt.imshow(cm, interpolation='nearest', cmap=cmap)\n",
    "    plt.title(title)\n",
    "    plt.colorbar()\n",
    "    tick_marks = np.arange(len(classes))\n",
    "    plt.xticks(tick_marks, classes, rotation=45)\n",
    "    plt.yticks(tick_marks, classes)\n",
    "\n",
    "    fmt = '.2f' if normalize else 'd'\n",
    "    thresh = cm.max() / 2.\n",
    "    for i, j in itertools.product(range(cm.shape[0]), range(cm.shape[1])):\n",
    "        plt.text(j, i, format(cm[i, j], fmt),\n",
    "                 horizontalalignment=\"center\",\n",
    "                 color=\"white\" if cm[i, j] > thresh else \"black\")\n",
    "\n",
    "    plt.ylabel('True label')\n",
    "    plt.xlabel('Predicted label')\n",
    "    plt.tight_layout()"
   ]
  },
  {
   "cell_type": "code",
   "execution_count": 33,
   "metadata": {},
   "outputs": [],
   "source": [
    "cnf_matrix = confusion_matrix(y_test.astype('int'), y_pred)"
   ]
  },
  {
   "cell_type": "code",
   "execution_count": 34,
   "metadata": {},
   "outputs": [
    {
     "name": "stdout",
     "output_type": "stream",
     "text": [
      "Confusion matrix, without normalization\n",
      "[[231  21   0   0]\n",
      " [194   4   0   0]\n",
      " [ 33   3   0   0]\n",
      " [ 33   3   0   0]]\n"
     ]
    },
    {
     "data": {
      "image/png": "[encoded data removed]",
      "text/plain": [
       "<Figure size 432x288 with 2 Axes>"
      ]
     },
     "metadata": {
      "needs_background": "light"
     },
     "output_type": "display_data"
    }
   ],
   "source": [
    "plot_confusion_matrix(cnf_matrix, classes = le1.classes_)"
   ]
  },
  {
   "cell_type": "code",
   "execution_count": 90,
   "metadata": {},
   "outputs": [
    {
     "data": {
      "text/plain": [
       "array([1, 1, 1, ..., 0, 0, 0])"
      ]
     },
     "execution_count": 90,
     "metadata": {},
     "output_type": "execute_result"
    }
   ],
   "source": [
    "y_pred"
   ]
  },
  {
   "cell_type": "code",
   "execution_count": null,
   "metadata": {},
   "outputs": [],
   "source": []
  }
 ],
 "metadata": {
  "kernelspec": {
   "display_name": "Python 3",
   "language": "python",
   "name": "python3"
  },
  "language_info": {
   "codemirror_mode": {
    "name": "ipython",
    "version": 3
   },
   "file_extension": ".py",
   "mimetype": "text/x-python",
   "name": "python",
   "nbconvert_exporter": "python",
   "pygments_lexer": "ipython3",
   "version": "3.7.6"
  }
 },
 "nbformat": 4,
 "nbformat_minor": 4
}
