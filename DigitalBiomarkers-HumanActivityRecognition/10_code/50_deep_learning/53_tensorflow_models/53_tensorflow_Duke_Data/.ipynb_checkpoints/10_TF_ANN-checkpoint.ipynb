{
 "cells": [
  {
   "cell_type": "code",
   "execution_count": 4,
   "metadata": {},
   "outputs": [
    {
     "name": "stdout",
     "output_type": "stream",
     "text": [
      "Collecting keras\n",
      "  Downloading Keras-2.4.3-py2.py3-none-any.whl (36 kB)\n",
      "Requirement already satisfied: scipy>=0.14 in /opt/anaconda3/envs/pytorch_p37/lib/python3.7/site-packages (from keras) (1.4.1)\n",
      "Requirement already satisfied: h5py in /opt/anaconda3/envs/pytorch_p37/lib/python3.7/site-packages (from keras) (2.10.0)\n",
      "Requirement already satisfied: numpy>=1.9.1 in /opt/anaconda3/envs/pytorch_p37/lib/python3.7/site-packages (from keras) (1.18.1)\n",
      "Collecting pyyaml\n",
      "  Downloading PyYAML-5.3.1.tar.gz (269 kB)\n",
      "\u001b[K     |████████████████████████████████| 269 kB 3.3 MB/s eta 0:00:01\n",
      "\u001b[?25hRequirement already satisfied: six in /opt/anaconda3/envs/pytorch_p37/lib/python3.7/site-packages (from h5py->keras) (1.14.0)\n",
      "Building wheels for collected packages: pyyaml\n",
      "  Building wheel for pyyaml (setup.py) ... \u001b[?25ldone\n",
      "\u001b[?25h  Created wheel for pyyaml: filename=PyYAML-5.3.1-cp37-cp37m-macosx_10_9_x86_64.whl size=44625 sha256=6e0fb8f8e2b7dd29f4add40be3abef25b7fcfef9c5716220cf8015d0331deff2\n",
      "  Stored in directory: /Users/kushgulati/Library/Caches/pip/wheels/5e/03/1e/e1e954795d6f35dfc7b637fe2277bff021303bd9570ecea653\n",
      "Successfully built pyyaml\n",
      "Installing collected packages: pyyaml, keras\n",
      "Successfully installed keras-2.4.3 pyyaml-5.3.1\n"
     ]
    }
   ],
   "source": [
    "!pip install keras"
   ]
  },
  {
   "cell_type": "code",
   "execution_count": 5,
   "metadata": {},
   "outputs": [],
   "source": [
    "import numpy as np\n",
    "import pandas as pd\n",
    "import tensorflow as tf\n",
    "import random\n",
    "import keras\n",
    "from keras import models\n",
    "from keras import layers\n",
    "import numpy as np\n",
    "from keras.utils import np_utils"
   ]
  },
  {
   "cell_type": "code",
   "execution_count": 6,
   "metadata": {},
   "outputs": [
    {
     "data": {
      "text/plain": [
       "'2.2.0'"
      ]
     },
     "execution_count": 6,
     "metadata": {},
     "output_type": "execute_result"
    }
   ],
   "source": [
    "tf.__version__"
   ]
  },
  {
   "cell_type": "code",
   "execution_count": 7,
   "metadata": {},
   "outputs": [],
   "source": [
    "df  = pd.read_csv('../20_intermediate_files/60_final_data.csv')"
   ]
  },
  {
   "cell_type": "code",
   "execution_count": 8,
   "metadata": {
    "scrolled": false
   },
   "outputs": [
    {
     "data": {
      "text/html": [
       "<div>\n",
       "<style scoped>\n",
       "    .dataframe tbody tr th:only-of-type {\n",
       "        vertical-align: middle;\n",
       "    }\n",
       "\n",
       "    .dataframe tbody tr th {\n",
       "        vertical-align: top;\n",
       "    }\n",
       "\n",
       "    .dataframe thead th {\n",
       "        text-align: right;\n",
       "    }\n",
       "</style>\n",
       "<table border=\"1\" class=\"dataframe\">\n",
       "  <thead>\n",
       "    <tr style=\"text-align: right;\">\n",
       "      <th></th>\n",
       "      <th>ACC1</th>\n",
       "      <th>ACC2</th>\n",
       "      <th>ACC3</th>\n",
       "      <th>TEMP</th>\n",
       "      <th>EDA</th>\n",
       "      <th>BVP</th>\n",
       "      <th>HR</th>\n",
       "      <th>Magnitude</th>\n",
       "      <th>Activity</th>\n",
       "      <th>Subject_ID</th>\n",
       "    </tr>\n",
       "  </thead>\n",
       "  <tbody>\n",
       "    <tr>\n",
       "      <th>0</th>\n",
       "      <td>41.000000</td>\n",
       "      <td>27.200000</td>\n",
       "      <td>40.000000</td>\n",
       "      <td>32.39</td>\n",
       "      <td>0.275354</td>\n",
       "      <td>15.25</td>\n",
       "      <td>78.9800</td>\n",
       "      <td>63.410094</td>\n",
       "      <td>Baseline</td>\n",
       "      <td>19-001</td>\n",
       "    </tr>\n",
       "    <tr>\n",
       "      <th>1</th>\n",
       "      <td>41.000000</td>\n",
       "      <td>27.300000</td>\n",
       "      <td>40.000000</td>\n",
       "      <td>32.39</td>\n",
       "      <td>0.276634</td>\n",
       "      <td>-12.75</td>\n",
       "      <td>78.8350</td>\n",
       "      <td>63.453054</td>\n",
       "      <td>Baseline</td>\n",
       "      <td>19-001</td>\n",
       "    </tr>\n",
       "    <tr>\n",
       "      <th>2</th>\n",
       "      <td>41.000000</td>\n",
       "      <td>27.400000</td>\n",
       "      <td>40.000000</td>\n",
       "      <td>32.39</td>\n",
       "      <td>0.270231</td>\n",
       "      <td>-42.99</td>\n",
       "      <td>78.6900</td>\n",
       "      <td>63.496142</td>\n",
       "      <td>Baseline</td>\n",
       "      <td>19-001</td>\n",
       "    </tr>\n",
       "    <tr>\n",
       "      <th>3</th>\n",
       "      <td>41.000000</td>\n",
       "      <td>27.500000</td>\n",
       "      <td>40.000000</td>\n",
       "      <td>32.39</td>\n",
       "      <td>0.270231</td>\n",
       "      <td>18.39</td>\n",
       "      <td>78.5450</td>\n",
       "      <td>63.539358</td>\n",
       "      <td>Baseline</td>\n",
       "      <td>19-001</td>\n",
       "    </tr>\n",
       "    <tr>\n",
       "      <th>4</th>\n",
       "      <td>41.000000</td>\n",
       "      <td>27.600000</td>\n",
       "      <td>40.000000</td>\n",
       "      <td>32.34</td>\n",
       "      <td>0.268950</td>\n",
       "      <td>13.61</td>\n",
       "      <td>78.4000</td>\n",
       "      <td>63.582702</td>\n",
       "      <td>Baseline</td>\n",
       "      <td>19-001</td>\n",
       "    </tr>\n",
       "    <tr>\n",
       "      <th>...</th>\n",
       "      <td>...</td>\n",
       "      <td>...</td>\n",
       "      <td>...</td>\n",
       "      <td>...</td>\n",
       "      <td>...</td>\n",
       "      <td>...</td>\n",
       "      <td>...</td>\n",
       "      <td>...</td>\n",
       "      <td>...</td>\n",
       "      <td>...</td>\n",
       "    </tr>\n",
       "    <tr>\n",
       "      <th>293035</th>\n",
       "      <td>21.176471</td>\n",
       "      <td>-11.176471</td>\n",
       "      <td>64.823529</td>\n",
       "      <td>32.09</td>\n",
       "      <td>0.708502</td>\n",
       "      <td>0.85</td>\n",
       "      <td>92.8275</td>\n",
       "      <td>69.104605</td>\n",
       "      <td>Type</td>\n",
       "      <td>19-056</td>\n",
       "    </tr>\n",
       "    <tr>\n",
       "      <th>293036</th>\n",
       "      <td>24.235294</td>\n",
       "      <td>-12.235294</td>\n",
       "      <td>62.764706</td>\n",
       "      <td>32.09</td>\n",
       "      <td>0.694414</td>\n",
       "      <td>-1.00</td>\n",
       "      <td>92.8800</td>\n",
       "      <td>68.384649</td>\n",
       "      <td>Type</td>\n",
       "      <td>19-056</td>\n",
       "    </tr>\n",
       "    <tr>\n",
       "      <th>293037</th>\n",
       "      <td>27.294118</td>\n",
       "      <td>-13.294118</td>\n",
       "      <td>60.705882</td>\n",
       "      <td>32.09</td>\n",
       "      <td>0.672642</td>\n",
       "      <td>5.22</td>\n",
       "      <td>92.9400</td>\n",
       "      <td>67.874197</td>\n",
       "      <td>Type</td>\n",
       "      <td>19-056</td>\n",
       "    </tr>\n",
       "    <tr>\n",
       "      <th>293038</th>\n",
       "      <td>30.352941</td>\n",
       "      <td>-14.352941</td>\n",
       "      <td>58.647059</td>\n",
       "      <td>32.09</td>\n",
       "      <td>0.664957</td>\n",
       "      <td>-1.47</td>\n",
       "      <td>93.0000</td>\n",
       "      <td>67.577995</td>\n",
       "      <td>Type</td>\n",
       "      <td>19-056</td>\n",
       "    </tr>\n",
       "    <tr>\n",
       "      <th>293039</th>\n",
       "      <td>33.411765</td>\n",
       "      <td>-15.411765</td>\n",
       "      <td>56.588235</td>\n",
       "      <td>32.09</td>\n",
       "      <td>0.648308</td>\n",
       "      <td>1.37</td>\n",
       "      <td>93.0600</td>\n",
       "      <td>67.498866</td>\n",
       "      <td>Type</td>\n",
       "      <td>19-056</td>\n",
       "    </tr>\n",
       "  </tbody>\n",
       "</table>\n",
       "<p>293040 rows × 10 columns</p>\n",
       "</div>"
      ],
      "text/plain": [
       "             ACC1       ACC2       ACC3   TEMP       EDA    BVP       HR  \\\n",
       "0       41.000000  27.200000  40.000000  32.39  0.275354  15.25  78.9800   \n",
       "1       41.000000  27.300000  40.000000  32.39  0.276634 -12.75  78.8350   \n",
       "2       41.000000  27.400000  40.000000  32.39  0.270231 -42.99  78.6900   \n",
       "3       41.000000  27.500000  40.000000  32.39  0.270231  18.39  78.5450   \n",
       "4       41.000000  27.600000  40.000000  32.34  0.268950  13.61  78.4000   \n",
       "...           ...        ...        ...    ...       ...    ...      ...   \n",
       "293035  21.176471 -11.176471  64.823529  32.09  0.708502   0.85  92.8275   \n",
       "293036  24.235294 -12.235294  62.764706  32.09  0.694414  -1.00  92.8800   \n",
       "293037  27.294118 -13.294118  60.705882  32.09  0.672642   5.22  92.9400   \n",
       "293038  30.352941 -14.352941  58.647059  32.09  0.664957  -1.47  93.0000   \n",
       "293039  33.411765 -15.411765  56.588235  32.09  0.648308   1.37  93.0600   \n",
       "\n",
       "        Magnitude  Activity Subject_ID  \n",
       "0       63.410094  Baseline     19-001  \n",
       "1       63.453054  Baseline     19-001  \n",
       "2       63.496142  Baseline     19-001  \n",
       "3       63.539358  Baseline     19-001  \n",
       "4       63.582702  Baseline     19-001  \n",
       "...           ...       ...        ...  \n",
       "293035  69.104605      Type     19-056  \n",
       "293036  68.384649      Type     19-056  \n",
       "293037  67.874197      Type     19-056  \n",
       "293038  67.577995      Type     19-056  \n",
       "293039  67.498866      Type     19-056  \n",
       "\n",
       "[293040 rows x 10 columns]"
      ]
     },
     "execution_count": 8,
     "metadata": {},
     "output_type": "execute_result"
    }
   ],
   "source": [
    "df"
   ]
  },
  {
   "cell_type": "code",
   "execution_count": 9,
   "metadata": {},
   "outputs": [],
   "source": [
    "random.seed(321)"
   ]
  },
  {
   "cell_type": "code",
   "execution_count": 10,
   "metadata": {},
   "outputs": [],
   "source": [
    "ID_list = list(df['Subject_ID'].unique())\n",
    "random.shuffle(ID_list)\n",
    "train = pd.DataFrame()\n",
    "test = pd.DataFrame()\n",
    "#val = pd.DataFrame()"
   ]
  },
  {
   "cell_type": "code",
   "execution_count": 11,
   "metadata": {},
   "outputs": [],
   "source": [
    "#change size of train/test split\n",
    "train = df[df['Subject_ID'].isin(ID_list[:45])]\n",
    "test = df[df['Subject_ID'].isin(ID_list[45:])]\n",
    "#val = df[df['Subject_ID'].isin(ID_list[50:56])]"
   ]
  },
  {
   "cell_type": "code",
   "execution_count": 12,
   "metadata": {},
   "outputs": [
    {
     "data": {
      "text/plain": [
       "array(['19-009', '19-016', '19-018', '19-022', '19-024', '19-026',\n",
       "       '19-029', '19-030', '19-036', '19-039', '19-047'], dtype=object)"
      ]
     },
     "execution_count": 12,
     "metadata": {},
     "output_type": "execute_result"
    }
   ],
   "source": [
    "test.Subject_ID.unique()"
   ]
  },
  {
   "cell_type": "code",
   "execution_count": 13,
   "metadata": {
    "scrolled": true
   },
   "outputs": [
    {
     "name": "stdout",
     "output_type": "stream",
     "text": [
      "(234960, 10) (58080, 10)\n"
     ]
    }
   ],
   "source": [
    "print(train.shape, test.shape)"
   ]
  },
  {
   "cell_type": "code",
   "execution_count": 14,
   "metadata": {},
   "outputs": [
    {
     "data": {
      "text/html": [
       "<div>\n",
       "<style scoped>\n",
       "    .dataframe tbody tr th:only-of-type {\n",
       "        vertical-align: middle;\n",
       "    }\n",
       "\n",
       "    .dataframe tbody tr th {\n",
       "        vertical-align: top;\n",
       "    }\n",
       "\n",
       "    .dataframe thead th {\n",
       "        text-align: right;\n",
       "    }\n",
       "</style>\n",
       "<table border=\"1\" class=\"dataframe\">\n",
       "  <thead>\n",
       "    <tr style=\"text-align: right;\">\n",
       "      <th></th>\n",
       "      <th>ACC1</th>\n",
       "      <th>ACC2</th>\n",
       "      <th>ACC3</th>\n",
       "      <th>TEMP</th>\n",
       "      <th>EDA</th>\n",
       "      <th>BVP</th>\n",
       "      <th>HR</th>\n",
       "      <th>Magnitude</th>\n",
       "    </tr>\n",
       "  </thead>\n",
       "  <tbody>\n",
       "    <tr>\n",
       "      <th>0</th>\n",
       "      <td>41.000000</td>\n",
       "      <td>27.200000</td>\n",
       "      <td>40.000000</td>\n",
       "      <td>32.39</td>\n",
       "      <td>0.275354</td>\n",
       "      <td>15.25</td>\n",
       "      <td>78.9800</td>\n",
       "      <td>63.410094</td>\n",
       "    </tr>\n",
       "    <tr>\n",
       "      <th>1</th>\n",
       "      <td>41.000000</td>\n",
       "      <td>27.300000</td>\n",
       "      <td>40.000000</td>\n",
       "      <td>32.39</td>\n",
       "      <td>0.276634</td>\n",
       "      <td>-12.75</td>\n",
       "      <td>78.8350</td>\n",
       "      <td>63.453054</td>\n",
       "    </tr>\n",
       "    <tr>\n",
       "      <th>2</th>\n",
       "      <td>41.000000</td>\n",
       "      <td>27.400000</td>\n",
       "      <td>40.000000</td>\n",
       "      <td>32.39</td>\n",
       "      <td>0.270231</td>\n",
       "      <td>-42.99</td>\n",
       "      <td>78.6900</td>\n",
       "      <td>63.496142</td>\n",
       "    </tr>\n",
       "    <tr>\n",
       "      <th>3</th>\n",
       "      <td>41.000000</td>\n",
       "      <td>27.500000</td>\n",
       "      <td>40.000000</td>\n",
       "      <td>32.39</td>\n",
       "      <td>0.270231</td>\n",
       "      <td>18.39</td>\n",
       "      <td>78.5450</td>\n",
       "      <td>63.539358</td>\n",
       "    </tr>\n",
       "    <tr>\n",
       "      <th>4</th>\n",
       "      <td>41.000000</td>\n",
       "      <td>27.600000</td>\n",
       "      <td>40.000000</td>\n",
       "      <td>32.34</td>\n",
       "      <td>0.268950</td>\n",
       "      <td>13.61</td>\n",
       "      <td>78.4000</td>\n",
       "      <td>63.582702</td>\n",
       "    </tr>\n",
       "    <tr>\n",
       "      <th>...</th>\n",
       "      <td>...</td>\n",
       "      <td>...</td>\n",
       "      <td>...</td>\n",
       "      <td>...</td>\n",
       "      <td>...</td>\n",
       "      <td>...</td>\n",
       "      <td>...</td>\n",
       "      <td>...</td>\n",
       "    </tr>\n",
       "    <tr>\n",
       "      <th>293035</th>\n",
       "      <td>21.176471</td>\n",
       "      <td>-11.176471</td>\n",
       "      <td>64.823529</td>\n",
       "      <td>32.09</td>\n",
       "      <td>0.708502</td>\n",
       "      <td>0.85</td>\n",
       "      <td>92.8275</td>\n",
       "      <td>69.104605</td>\n",
       "    </tr>\n",
       "    <tr>\n",
       "      <th>293036</th>\n",
       "      <td>24.235294</td>\n",
       "      <td>-12.235294</td>\n",
       "      <td>62.764706</td>\n",
       "      <td>32.09</td>\n",
       "      <td>0.694414</td>\n",
       "      <td>-1.00</td>\n",
       "      <td>92.8800</td>\n",
       "      <td>68.384649</td>\n",
       "    </tr>\n",
       "    <tr>\n",
       "      <th>293037</th>\n",
       "      <td>27.294118</td>\n",
       "      <td>-13.294118</td>\n",
       "      <td>60.705882</td>\n",
       "      <td>32.09</td>\n",
       "      <td>0.672642</td>\n",
       "      <td>5.22</td>\n",
       "      <td>92.9400</td>\n",
       "      <td>67.874197</td>\n",
       "    </tr>\n",
       "    <tr>\n",
       "      <th>293038</th>\n",
       "      <td>30.352941</td>\n",
       "      <td>-14.352941</td>\n",
       "      <td>58.647059</td>\n",
       "      <td>32.09</td>\n",
       "      <td>0.664957</td>\n",
       "      <td>-1.47</td>\n",
       "      <td>93.0000</td>\n",
       "      <td>67.577995</td>\n",
       "    </tr>\n",
       "    <tr>\n",
       "      <th>293039</th>\n",
       "      <td>33.411765</td>\n",
       "      <td>-15.411765</td>\n",
       "      <td>56.588235</td>\n",
       "      <td>32.09</td>\n",
       "      <td>0.648308</td>\n",
       "      <td>1.37</td>\n",
       "      <td>93.0600</td>\n",
       "      <td>67.498866</td>\n",
       "    </tr>\n",
       "  </tbody>\n",
       "</table>\n",
       "<p>234960 rows × 8 columns</p>\n",
       "</div>"
      ],
      "text/plain": [
       "             ACC1       ACC2       ACC3   TEMP       EDA    BVP       HR  \\\n",
       "0       41.000000  27.200000  40.000000  32.39  0.275354  15.25  78.9800   \n",
       "1       41.000000  27.300000  40.000000  32.39  0.276634 -12.75  78.8350   \n",
       "2       41.000000  27.400000  40.000000  32.39  0.270231 -42.99  78.6900   \n",
       "3       41.000000  27.500000  40.000000  32.39  0.270231  18.39  78.5450   \n",
       "4       41.000000  27.600000  40.000000  32.34  0.268950  13.61  78.4000   \n",
       "...           ...        ...        ...    ...       ...    ...      ...   \n",
       "293035  21.176471 -11.176471  64.823529  32.09  0.708502   0.85  92.8275   \n",
       "293036  24.235294 -12.235294  62.764706  32.09  0.694414  -1.00  92.8800   \n",
       "293037  27.294118 -13.294118  60.705882  32.09  0.672642   5.22  92.9400   \n",
       "293038  30.352941 -14.352941  58.647059  32.09  0.664957  -1.47  93.0000   \n",
       "293039  33.411765 -15.411765  56.588235  32.09  0.648308   1.37  93.0600   \n",
       "\n",
       "        Magnitude  \n",
       "0       63.410094  \n",
       "1       63.453054  \n",
       "2       63.496142  \n",
       "3       63.539358  \n",
       "4       63.582702  \n",
       "...           ...  \n",
       "293035  69.104605  \n",
       "293036  68.384649  \n",
       "293037  67.874197  \n",
       "293038  67.577995  \n",
       "293039  67.498866  \n",
       "\n",
       "[234960 rows x 8 columns]"
      ]
     },
     "execution_count": 14,
     "metadata": {},
     "output_type": "execute_result"
    }
   ],
   "source": [
    "train.iloc[:,0:8]"
   ]
  },
  {
   "cell_type": "code",
   "execution_count": 15,
   "metadata": {},
   "outputs": [
    {
     "data": {
      "text/html": [
       "<div>\n",
       "<style scoped>\n",
       "    .dataframe tbody tr th:only-of-type {\n",
       "        vertical-align: middle;\n",
       "    }\n",
       "\n",
       "    .dataframe tbody tr th {\n",
       "        vertical-align: top;\n",
       "    }\n",
       "\n",
       "    .dataframe thead th {\n",
       "        text-align: right;\n",
       "    }\n",
       "</style>\n",
       "<table border=\"1\" class=\"dataframe\">\n",
       "  <thead>\n",
       "    <tr style=\"text-align: right;\">\n",
       "      <th></th>\n",
       "      <th>ACC1</th>\n",
       "      <th>ACC2</th>\n",
       "      <th>ACC3</th>\n",
       "      <th>TEMP</th>\n",
       "      <th>EDA</th>\n",
       "      <th>BVP</th>\n",
       "      <th>HR</th>\n",
       "      <th>Magnitude</th>\n",
       "    </tr>\n",
       "  </thead>\n",
       "  <tbody>\n",
       "    <tr>\n",
       "      <th>42240</th>\n",
       "      <td>37.333333</td>\n",
       "      <td>11.333333</td>\n",
       "      <td>46.500000</td>\n",
       "      <td>34.970000</td>\n",
       "      <td>0.161370</td>\n",
       "      <td>-6.220000</td>\n",
       "      <td>89.800000</td>\n",
       "      <td>60.699854</td>\n",
       "    </tr>\n",
       "    <tr>\n",
       "      <th>42241</th>\n",
       "      <td>37.266667</td>\n",
       "      <td>11.266667</td>\n",
       "      <td>46.400000</td>\n",
       "      <td>34.970000</td>\n",
       "      <td>0.161370</td>\n",
       "      <td>-44.070000</td>\n",
       "      <td>89.717500</td>\n",
       "      <td>60.569813</td>\n",
       "    </tr>\n",
       "    <tr>\n",
       "      <th>42242</th>\n",
       "      <td>37.200000</td>\n",
       "      <td>11.200000</td>\n",
       "      <td>46.300000</td>\n",
       "      <td>34.970000</td>\n",
       "      <td>0.161370</td>\n",
       "      <td>18.590000</td>\n",
       "      <td>89.635000</td>\n",
       "      <td>60.439805</td>\n",
       "    </tr>\n",
       "    <tr>\n",
       "      <th>42243</th>\n",
       "      <td>37.133333</td>\n",
       "      <td>11.133333</td>\n",
       "      <td>46.200000</td>\n",
       "      <td>34.970000</td>\n",
       "      <td>0.162651</td>\n",
       "      <td>12.580000</td>\n",
       "      <td>89.552500</td>\n",
       "      <td>60.309830</td>\n",
       "    </tr>\n",
       "    <tr>\n",
       "      <th>42244</th>\n",
       "      <td>37.066667</td>\n",
       "      <td>11.066667</td>\n",
       "      <td>46.100000</td>\n",
       "      <td>34.970000</td>\n",
       "      <td>0.163931</td>\n",
       "      <td>11.050000</td>\n",
       "      <td>89.470000</td>\n",
       "      <td>60.179888</td>\n",
       "    </tr>\n",
       "    <tr>\n",
       "      <th>...</th>\n",
       "      <td>...</td>\n",
       "      <td>...</td>\n",
       "      <td>...</td>\n",
       "      <td>...</td>\n",
       "      <td>...</td>\n",
       "      <td>...</td>\n",
       "      <td>...</td>\n",
       "      <td>...</td>\n",
       "    </tr>\n",
       "    <tr>\n",
       "      <th>248155</th>\n",
       "      <td>20.368738</td>\n",
       "      <td>-46.958831</td>\n",
       "      <td>-36.725538</td>\n",
       "      <td>30.721876</td>\n",
       "      <td>0.008841</td>\n",
       "      <td>349.516812</td>\n",
       "      <td>81.742077</td>\n",
       "      <td>62.998273</td>\n",
       "    </tr>\n",
       "    <tr>\n",
       "      <th>248156</th>\n",
       "      <td>20.368557</td>\n",
       "      <td>-46.958819</td>\n",
       "      <td>-36.725460</td>\n",
       "      <td>30.721856</td>\n",
       "      <td>0.008841</td>\n",
       "      <td>349.515421</td>\n",
       "      <td>81.741955</td>\n",
       "      <td>62.998160</td>\n",
       "    </tr>\n",
       "    <tr>\n",
       "      <th>248157</th>\n",
       "      <td>20.368377</td>\n",
       "      <td>-46.958807</td>\n",
       "      <td>-36.725381</td>\n",
       "      <td>30.721837</td>\n",
       "      <td>0.008841</td>\n",
       "      <td>349.514030</td>\n",
       "      <td>81.741833</td>\n",
       "      <td>62.998047</td>\n",
       "    </tr>\n",
       "    <tr>\n",
       "      <th>248158</th>\n",
       "      <td>20.368196</td>\n",
       "      <td>-46.958795</td>\n",
       "      <td>-36.725303</td>\n",
       "      <td>30.721817</td>\n",
       "      <td>0.008841</td>\n",
       "      <td>349.512640</td>\n",
       "      <td>81.741710</td>\n",
       "      <td>62.997934</td>\n",
       "    </tr>\n",
       "    <tr>\n",
       "      <th>248159</th>\n",
       "      <td>20.368016</td>\n",
       "      <td>-46.958784</td>\n",
       "      <td>-36.725224</td>\n",
       "      <td>30.721798</td>\n",
       "      <td>0.008841</td>\n",
       "      <td>349.511249</td>\n",
       "      <td>81.741588</td>\n",
       "      <td>62.997822</td>\n",
       "    </tr>\n",
       "  </tbody>\n",
       "</table>\n",
       "<p>58080 rows × 8 columns</p>\n",
       "</div>"
      ],
      "text/plain": [
       "             ACC1       ACC2       ACC3       TEMP       EDA         BVP  \\\n",
       "42240   37.333333  11.333333  46.500000  34.970000  0.161370   -6.220000   \n",
       "42241   37.266667  11.266667  46.400000  34.970000  0.161370  -44.070000   \n",
       "42242   37.200000  11.200000  46.300000  34.970000  0.161370   18.590000   \n",
       "42243   37.133333  11.133333  46.200000  34.970000  0.162651   12.580000   \n",
       "42244   37.066667  11.066667  46.100000  34.970000  0.163931   11.050000   \n",
       "...           ...        ...        ...        ...       ...         ...   \n",
       "248155  20.368738 -46.958831 -36.725538  30.721876  0.008841  349.516812   \n",
       "248156  20.368557 -46.958819 -36.725460  30.721856  0.008841  349.515421   \n",
       "248157  20.368377 -46.958807 -36.725381  30.721837  0.008841  349.514030   \n",
       "248158  20.368196 -46.958795 -36.725303  30.721817  0.008841  349.512640   \n",
       "248159  20.368016 -46.958784 -36.725224  30.721798  0.008841  349.511249   \n",
       "\n",
       "               HR  Magnitude  \n",
       "42240   89.800000  60.699854  \n",
       "42241   89.717500  60.569813  \n",
       "42242   89.635000  60.439805  \n",
       "42243   89.552500  60.309830  \n",
       "42244   89.470000  60.179888  \n",
       "...           ...        ...  \n",
       "248155  81.742077  62.998273  \n",
       "248156  81.741955  62.998160  \n",
       "248157  81.741833  62.998047  \n",
       "248158  81.741710  62.997934  \n",
       "248159  81.741588  62.997822  \n",
       "\n",
       "[58080 rows x 8 columns]"
      ]
     },
     "execution_count": 15,
     "metadata": {},
     "output_type": "execute_result"
    }
   ],
   "source": [
    "test.iloc[:,0:8]"
   ]
  },
  {
   "cell_type": "code",
   "execution_count": 16,
   "metadata": {},
   "outputs": [],
   "source": [
    "X_train = train.iloc[:,0:8].values\n",
    "X_test = test.iloc[:,0:8].values"
   ]
  },
  {
   "cell_type": "code",
   "execution_count": 17,
   "metadata": {},
   "outputs": [],
   "source": [
    "y_train = train.iloc[:,8].values\n",
    "y_test = test.iloc[:,8].values"
   ]
  },
  {
   "cell_type": "code",
   "execution_count": 18,
   "metadata": {},
   "outputs": [
    {
     "name": "stdout",
     "output_type": "stream",
     "text": [
      "(234960, 8) (234960,) (58080, 8) (58080,)\n"
     ]
    }
   ],
   "source": [
    "print(X_train.shape,  y_train.shape, X_test.shape, y_test.shape)"
   ]
  },
  {
   "cell_type": "code",
   "execution_count": 19,
   "metadata": {},
   "outputs": [
    {
     "data": {
      "text/plain": [
       "array([[ 37.33333333,  11.33333333,  46.5       , ...,  -6.22      ,\n",
       "         89.8       ,  60.69985356],\n",
       "       [ 37.26666667,  11.26666667,  46.4       , ..., -44.07      ,\n",
       "         89.7175    ,  60.5698128 ],\n",
       "       [ 37.2       ,  11.2       ,  46.3       , ...,  18.59      ,\n",
       "         89.635     ,  60.43980476],\n",
       "       ...,\n",
       "       [ 20.36837685, -46.95880719, -36.72538124, ..., 349.5140302 ,\n",
       "         81.7418326 ,  62.99804739],\n",
       "       [ 20.36819634, -46.95879541, -36.72530276, ..., 349.51263953,\n",
       "         81.7417103 ,  62.9979345 ],\n",
       "       [ 20.36801582, -46.95878364, -36.72522427, ..., 349.51124885,\n",
       "         81.741588  ,  62.99782161]])"
      ]
     },
     "execution_count": 19,
     "metadata": {},
     "output_type": "execute_result"
    }
   ],
   "source": [
    "X_test"
   ]
  },
  {
   "cell_type": "code",
   "execution_count": 20,
   "metadata": {},
   "outputs": [
    {
     "data": {
      "text/plain": [
       "array([[ 41.        ,  27.2       ,  40.        , ...,  15.25      ,\n",
       "         78.98      ,  63.41009383],\n",
       "       [ 41.        ,  27.3       ,  40.        , ..., -12.75      ,\n",
       "         78.835     ,  63.45305351],\n",
       "       [ 41.        ,  27.4       ,  40.        , ..., -42.99      ,\n",
       "         78.69      ,  63.49614162],\n",
       "       ...,\n",
       "       [ 27.29411765, -13.29411765,  60.70588235, ...,   5.22      ,\n",
       "         92.94      ,  67.87419668],\n",
       "       [ 30.35294118, -14.35294118,  58.64705882, ...,  -1.47      ,\n",
       "         93.        ,  67.57799544],\n",
       "       [ 33.41176471, -15.41176471,  56.58823529, ...,   1.37      ,\n",
       "         93.06      ,  67.49886581]])"
      ]
     },
     "execution_count": 20,
     "metadata": {},
     "output_type": "execute_result"
    }
   ],
   "source": [
    "X_train"
   ]
  },
  {
   "cell_type": "code",
   "execution_count": 21,
   "metadata": {},
   "outputs": [],
   "source": [
    "from sklearn.preprocessing import StandardScaler\n",
    "from sklearn.preprocessing import LabelEncoder"
   ]
  },
  {
   "cell_type": "code",
   "execution_count": 22,
   "metadata": {},
   "outputs": [],
   "source": [
    "ss = StandardScaler()"
   ]
  },
  {
   "cell_type": "code",
   "execution_count": 23,
   "metadata": {},
   "outputs": [],
   "source": [
    "X_train = ss.fit_transform(X_train)\n",
    "X_test = ss.transform(X_test)"
   ]
  },
  {
   "cell_type": "code",
   "execution_count": 24,
   "metadata": {},
   "outputs": [],
   "source": [
    "le = LabelEncoder()\n",
    "y_train = le.fit_transform(y_train)\n",
    "y_test = le.transform(y_test)"
   ]
  },
  {
   "cell_type": "code",
   "execution_count": 25,
   "metadata": {},
   "outputs": [
    {
     "name": "stdout",
     "output_type": "stream",
     "text": [
      "[1 2 0 3] [1 2 0 3]\n"
     ]
    }
   ],
   "source": [
    "print(pd.unique(y_train), pd.unique(y_test))"
   ]
  },
  {
   "cell_type": "code",
   "execution_count": 26,
   "metadata": {},
   "outputs": [],
   "source": [
    "y_train_dummy = np_utils.to_categorical(y_train)"
   ]
  },
  {
   "cell_type": "code",
   "execution_count": 33,
   "metadata": {},
   "outputs": [
    {
     "data": {
      "text/plain": [
       "array([[0., 1., 0., 0.],\n",
       "       [0., 1., 0., 0.],\n",
       "       [0., 1., 0., 0.],\n",
       "       ...,\n",
       "       [0., 0., 0., 1.],\n",
       "       [0., 0., 0., 1.],\n",
       "       [0., 0., 0., 1.]], dtype=float32)"
      ]
     },
     "execution_count": 33,
     "metadata": {},
     "output_type": "execute_result"
    }
   ],
   "source": [
    "y_train_dummy"
   ]
  },
  {
   "cell_type": "code",
   "execution_count": 31,
   "metadata": {},
   "outputs": [],
   "source": [
    "y_test_dummy = np_utils.to_categorical(y_test)"
   ]
  },
  {
   "cell_type": "code",
   "execution_count": 48,
   "metadata": {},
   "outputs": [],
   "source": [
    "network = models.Sequential()\n",
    "network.add(layers.Dense(128, activation='relu', input_dim = 8))\n",
    "network.add(layers.Dense(128, activation='relu', input_dim = 8))\n",
    "network.add(layers.Dense(128, activation='relu', input_dim = 8))\n",
    "network.add(layers.Dense(128, activation='relu', input_dim = 8))\n",
    "network.add(layers.Dense(128, activation='relu', input_dim = 8))\n",
    "network.add(layers.Dense(128, activation='relu', input_dim = 8))\n",
    "network.add(layers.Dense(128, activation='relu', input_dim = 8))\n",
    "network.add(layers.Dense(4, activation='softmax'))"
   ]
  },
  {
   "cell_type": "code",
   "execution_count": 49,
   "metadata": {},
   "outputs": [],
   "source": [
    "network.compile(optimizer='adam', loss='categorical_crossentropy', metrics=['accuracy'])"
   ]
  },
  {
   "cell_type": "code",
   "execution_count": 50,
   "metadata": {},
   "outputs": [
    {
     "name": "stdout",
     "output_type": "stream",
     "text": [
      "Epoch 1/10\n",
      "2350/2350 [==============================] - 3s 1ms/step - loss: 0.3908 - accuracy: 0.8579\n",
      "Epoch 2/10\n",
      "2350/2350 [==============================] - 3s 1ms/step - loss: 0.2276 - accuracy: 0.9196\n",
      "Epoch 3/10\n",
      "2350/2350 [==============================] - 3s 1ms/step - loss: 0.1824 - accuracy: 0.9344\n",
      "Epoch 4/10\n",
      "2350/2350 [==============================] - 3s 1ms/step - loss: 0.1586 - accuracy: 0.9423\n",
      "Epoch 5/10\n",
      "2350/2350 [==============================] - 3s 1ms/step - loss: 0.1403 - accuracy: 0.9480\n",
      "Epoch 6/10\n",
      "2350/2350 [==============================] - 3s 1ms/step - loss: 0.1293 - accuracy: 0.9520\n",
      "Epoch 7/10\n",
      "2350/2350 [==============================] - 3s 1ms/step - loss: 0.1190 - accuracy: 0.9553\n",
      "Epoch 8/10\n",
      "2350/2350 [==============================] - 4s 2ms/step - loss: 0.1110 - accuracy: 0.9579\n",
      "Epoch 9/10\n",
      "2350/2350 [==============================] - 4s 2ms/step - loss: 0.1056 - accuracy: 0.9600\n",
      "Epoch 10/10\n",
      "2350/2350 [==============================] - 4s 2ms/step - loss: 0.1002 - accuracy: 0.9616\n"
     ]
    },
    {
     "data": {
      "text/plain": [
       "<tensorflow.python.keras.callbacks.History at 0x7fc090d05b10>"
      ]
     },
     "execution_count": 50,
     "metadata": {},
     "output_type": "execute_result"
    }
   ],
   "source": [
    "network.fit(X_train, y_train_dummy, batch_size = 100, epochs = 10, verbose = 1)"
   ]
  },
  {
   "cell_type": "code",
   "execution_count": 51,
   "metadata": {},
   "outputs": [],
   "source": [
    "y_pred = np.argmax(network.predict(X_test), axis=-1)"
   ]
  },
  {
   "cell_type": "code",
   "execution_count": 52,
   "metadata": {},
   "outputs": [
    {
     "data": {
      "text/plain": [
       "array([0, 0, 0, ..., 1, 1, 1])"
      ]
     },
     "execution_count": 52,
     "metadata": {},
     "output_type": "execute_result"
    }
   ],
   "source": [
    "y_pred"
   ]
  },
  {
   "cell_type": "code",
   "execution_count": 53,
   "metadata": {},
   "outputs": [
    {
     "name": "stdout",
     "output_type": "stream",
     "text": [
      "1815/1815 [==============================] - 1s 545us/step - loss: 2.0508 - accuracy: 0.5430\n"
     ]
    },
    {
     "data": {
      "text/plain": [
       "[2.0507652759552, 0.5429751873016357]"
      ]
     },
     "execution_count": 53,
     "metadata": {},
     "output_type": "execute_result"
    }
   ],
   "source": [
    "network.evaluate(X_test, y_test_dummy)"
   ]
  },
  {
   "cell_type": "code",
   "execution_count": 54,
   "metadata": {},
   "outputs": [],
   "source": [
    "from sklearn.metrics import confusion_matrix, accuracy_score, f1_score"
   ]
  },
  {
   "cell_type": "code",
   "execution_count": 55,
   "metadata": {},
   "outputs": [
    {
     "data": {
      "text/plain": [
       "array([[19026,  6555,   597,   222],\n",
       "       [ 6592,  9909,  3014,  1605],\n",
       "       [ 1339,  1597,  1935,   409],\n",
       "       [  959,  3364,   291,   666]])"
      ]
     },
     "execution_count": 55,
     "metadata": {},
     "output_type": "execute_result"
    }
   ],
   "source": [
    "confusion_matrix(y_test, y_pred)"
   ]
  },
  {
   "cell_type": "code",
   "execution_count": 56,
   "metadata": {},
   "outputs": [
    {
     "data": {
      "text/plain": [
       "0.5429752066115703"
      ]
     },
     "execution_count": 56,
     "metadata": {},
     "output_type": "execute_result"
    }
   ],
   "source": [
    "accuracy_score(y_test, y_pred)"
   ]
  },
  {
   "cell_type": "code",
   "execution_count": 57,
   "metadata": {},
   "outputs": [
    {
     "data": {
      "text/plain": [
       "0.534272528833799"
      ]
     },
     "execution_count": 57,
     "metadata": {},
     "output_type": "execute_result"
    }
   ],
   "source": [
    "f1_score(y_test, y_pred, average = 'weighted')"
   ]
  },
  {
   "cell_type": "code",
   "execution_count": null,
   "metadata": {},
   "outputs": [],
   "source": []
  }
 ],
 "metadata": {
  "kernelspec": {
   "display_name": "Python 3",
   "language": "python",
   "name": "python3"
  },
  "language_info": {
   "codemirror_mode": {
    "name": "ipython",
    "version": 3
   },
   "file_extension": ".py",
   "mimetype": "text/x-python",
   "name": "python",
   "nbconvert_exporter": "python",
   "pygments_lexer": "ipython3",
   "version": "3.7.7"
  }
 },
 "nbformat": 4,
 "nbformat_minor": 4
}
