{
 "cells": [
  {
   "cell_type": "markdown",
   "metadata": {},
   "source": [
    "# HAR RNN"
   ]
  },
  {
   "cell_type": "markdown",
   "metadata": {},
   "source": [
    "notes: Still need to normalize features"
   ]
  },
  {
   "cell_type": "code",
   "execution_count": 1,
   "metadata": {},
   "outputs": [],
   "source": [
    "import pandas as pd\n",
    "import numpy as np\n",
    "import tensorflow as tf\n",
    "import random\n",
    "from numpy import mean\n",
    "from numpy import std\n",
    "from numpy import dstack\n",
    "from pandas import read_csv\n",
    "import keras\n",
    "from keras.models import Sequential\n",
    "from keras.layers import Dense\n",
    "from keras.layers import Flatten\n",
    "from keras.layers import Dropout\n",
    "from keras.layers import LSTM\n",
    "from keras.utils import to_categorical\n",
    "from keras.utils import np_utils\n",
    "\n",
    "\n",
    "from sklearn.compose import ColumnTransformer\n",
    "from sklearn.preprocessing import OneHotEncoder, LabelEncoder\n",
    "\n",
    "random.seed(321)"
   ]
  },
  {
   "cell_type": "markdown",
   "metadata": {},
   "source": [
    "### Prepare data"
   ]
  },
  {
   "cell_type": "code",
   "execution_count": 6,
   "metadata": {},
   "outputs": [
    {
     "data": {
      "text/plain": [
       "'/Users/kushgulati/Desktop/Data-2020/10_code/Kush_DL'"
      ]
     },
     "execution_count": 6,
     "metadata": {},
     "output_type": "execute_result"
    }
   ],
   "source": [
    "pwd"
   ]
  },
  {
   "cell_type": "code",
   "execution_count": 7,
   "metadata": {},
   "outputs": [
    {
     "name": "stdout",
     "output_type": "stream",
     "text": [
      "/Users/kushgulati/Desktop/Data-2020/10_code\n"
     ]
    }
   ],
   "source": [
    "cd .."
   ]
  },
  {
   "cell_type": "code",
   "execution_count": 8,
   "metadata": {},
   "outputs": [
    {
     "name": "stdout",
     "output_type": "stream",
     "text": [
      "/Users/kushgulati/Desktop/Data-2020\n"
     ]
    }
   ],
   "source": [
    "cd .."
   ]
  },
  {
   "cell_type": "code",
   "execution_count": 5,
   "metadata": {},
   "outputs": [
    {
     "ename": "FileNotFoundError",
     "evalue": "[Errno 2] File ../20_intermediate_files/60_final_data_include_rounds.csv does not exist: '../20_intermediate_files/60_final_data_include_rounds.csv'",
     "output_type": "error",
     "traceback": [
      "\u001b[0;31m---------------------------------------------------------------------------\u001b[0m",
      "\u001b[0;31mFileNotFoundError\u001b[0m                         Traceback (most recent call last)",
      "\u001b[0;32m<ipython-input-5-dc3e5e84dadb>\u001b[0m in \u001b[0;36m<module>\u001b[0;34m\u001b[0m\n\u001b[0;32m----> 1\u001b[0;31m \u001b[0mdf\u001b[0m  \u001b[0;34m=\u001b[0m \u001b[0mpd\u001b[0m\u001b[0;34m.\u001b[0m\u001b[0mread_csv\u001b[0m\u001b[0;34m(\u001b[0m\u001b[0;34m'../20_intermediate_files/60_final_data_include_rounds.csv'\u001b[0m\u001b[0;34m)\u001b[0m\u001b[0;34m\u001b[0m\u001b[0;34m\u001b[0m\u001b[0m\n\u001b[0m",
      "\u001b[0;32m/opt/anaconda3/envs/pytorch_p37/lib/python3.7/site-packages/pandas/io/parsers.py\u001b[0m in \u001b[0;36mparser_f\u001b[0;34m(filepath_or_buffer, sep, delimiter, header, names, index_col, usecols, squeeze, prefix, mangle_dupe_cols, dtype, engine, converters, true_values, false_values, skipinitialspace, skiprows, skipfooter, nrows, na_values, keep_default_na, na_filter, verbose, skip_blank_lines, parse_dates, infer_datetime_format, keep_date_col, date_parser, dayfirst, cache_dates, iterator, chunksize, compression, thousands, decimal, lineterminator, quotechar, quoting, doublequote, escapechar, comment, encoding, dialect, error_bad_lines, warn_bad_lines, delim_whitespace, low_memory, memory_map, float_precision)\u001b[0m\n\u001b[1;32m    674\u001b[0m         )\n\u001b[1;32m    675\u001b[0m \u001b[0;34m\u001b[0m\u001b[0m\n\u001b[0;32m--> 676\u001b[0;31m         \u001b[0;32mreturn\u001b[0m \u001b[0m_read\u001b[0m\u001b[0;34m(\u001b[0m\u001b[0mfilepath_or_buffer\u001b[0m\u001b[0;34m,\u001b[0m \u001b[0mkwds\u001b[0m\u001b[0;34m)\u001b[0m\u001b[0;34m\u001b[0m\u001b[0;34m\u001b[0m\u001b[0m\n\u001b[0m\u001b[1;32m    677\u001b[0m \u001b[0;34m\u001b[0m\u001b[0m\n\u001b[1;32m    678\u001b[0m     \u001b[0mparser_f\u001b[0m\u001b[0;34m.\u001b[0m\u001b[0m__name__\u001b[0m \u001b[0;34m=\u001b[0m \u001b[0mname\u001b[0m\u001b[0;34m\u001b[0m\u001b[0;34m\u001b[0m\u001b[0m\n",
      "\u001b[0;32m/opt/anaconda3/envs/pytorch_p37/lib/python3.7/site-packages/pandas/io/parsers.py\u001b[0m in \u001b[0;36m_read\u001b[0;34m(filepath_or_buffer, kwds)\u001b[0m\n\u001b[1;32m    446\u001b[0m \u001b[0;34m\u001b[0m\u001b[0m\n\u001b[1;32m    447\u001b[0m     \u001b[0;31m# Create the parser.\u001b[0m\u001b[0;34m\u001b[0m\u001b[0;34m\u001b[0m\u001b[0;34m\u001b[0m\u001b[0m\n\u001b[0;32m--> 448\u001b[0;31m     \u001b[0mparser\u001b[0m \u001b[0;34m=\u001b[0m \u001b[0mTextFileReader\u001b[0m\u001b[0;34m(\u001b[0m\u001b[0mfp_or_buf\u001b[0m\u001b[0;34m,\u001b[0m \u001b[0;34m**\u001b[0m\u001b[0mkwds\u001b[0m\u001b[0;34m)\u001b[0m\u001b[0;34m\u001b[0m\u001b[0;34m\u001b[0m\u001b[0m\n\u001b[0m\u001b[1;32m    449\u001b[0m \u001b[0;34m\u001b[0m\u001b[0m\n\u001b[1;32m    450\u001b[0m     \u001b[0;32mif\u001b[0m \u001b[0mchunksize\u001b[0m \u001b[0;32mor\u001b[0m \u001b[0miterator\u001b[0m\u001b[0;34m:\u001b[0m\u001b[0;34m\u001b[0m\u001b[0;34m\u001b[0m\u001b[0m\n",
      "\u001b[0;32m/opt/anaconda3/envs/pytorch_p37/lib/python3.7/site-packages/pandas/io/parsers.py\u001b[0m in \u001b[0;36m__init__\u001b[0;34m(self, f, engine, **kwds)\u001b[0m\n\u001b[1;32m    878\u001b[0m             \u001b[0mself\u001b[0m\u001b[0;34m.\u001b[0m\u001b[0moptions\u001b[0m\u001b[0;34m[\u001b[0m\u001b[0;34m\"has_index_names\"\u001b[0m\u001b[0;34m]\u001b[0m \u001b[0;34m=\u001b[0m \u001b[0mkwds\u001b[0m\u001b[0;34m[\u001b[0m\u001b[0;34m\"has_index_names\"\u001b[0m\u001b[0;34m]\u001b[0m\u001b[0;34m\u001b[0m\u001b[0;34m\u001b[0m\u001b[0m\n\u001b[1;32m    879\u001b[0m \u001b[0;34m\u001b[0m\u001b[0m\n\u001b[0;32m--> 880\u001b[0;31m         \u001b[0mself\u001b[0m\u001b[0;34m.\u001b[0m\u001b[0m_make_engine\u001b[0m\u001b[0;34m(\u001b[0m\u001b[0mself\u001b[0m\u001b[0;34m.\u001b[0m\u001b[0mengine\u001b[0m\u001b[0;34m)\u001b[0m\u001b[0;34m\u001b[0m\u001b[0;34m\u001b[0m\u001b[0m\n\u001b[0m\u001b[1;32m    881\u001b[0m \u001b[0;34m\u001b[0m\u001b[0m\n\u001b[1;32m    882\u001b[0m     \u001b[0;32mdef\u001b[0m \u001b[0mclose\u001b[0m\u001b[0;34m(\u001b[0m\u001b[0mself\u001b[0m\u001b[0;34m)\u001b[0m\u001b[0;34m:\u001b[0m\u001b[0;34m\u001b[0m\u001b[0;34m\u001b[0m\u001b[0m\n",
      "\u001b[0;32m/opt/anaconda3/envs/pytorch_p37/lib/python3.7/site-packages/pandas/io/parsers.py\u001b[0m in \u001b[0;36m_make_engine\u001b[0;34m(self, engine)\u001b[0m\n\u001b[1;32m   1112\u001b[0m     \u001b[0;32mdef\u001b[0m \u001b[0m_make_engine\u001b[0m\u001b[0;34m(\u001b[0m\u001b[0mself\u001b[0m\u001b[0;34m,\u001b[0m \u001b[0mengine\u001b[0m\u001b[0;34m=\u001b[0m\u001b[0;34m\"c\"\u001b[0m\u001b[0;34m)\u001b[0m\u001b[0;34m:\u001b[0m\u001b[0;34m\u001b[0m\u001b[0;34m\u001b[0m\u001b[0m\n\u001b[1;32m   1113\u001b[0m         \u001b[0;32mif\u001b[0m \u001b[0mengine\u001b[0m \u001b[0;34m==\u001b[0m \u001b[0;34m\"c\"\u001b[0m\u001b[0;34m:\u001b[0m\u001b[0;34m\u001b[0m\u001b[0;34m\u001b[0m\u001b[0m\n\u001b[0;32m-> 1114\u001b[0;31m             \u001b[0mself\u001b[0m\u001b[0;34m.\u001b[0m\u001b[0m_engine\u001b[0m \u001b[0;34m=\u001b[0m \u001b[0mCParserWrapper\u001b[0m\u001b[0;34m(\u001b[0m\u001b[0mself\u001b[0m\u001b[0;34m.\u001b[0m\u001b[0mf\u001b[0m\u001b[0;34m,\u001b[0m \u001b[0;34m**\u001b[0m\u001b[0mself\u001b[0m\u001b[0;34m.\u001b[0m\u001b[0moptions\u001b[0m\u001b[0;34m)\u001b[0m\u001b[0;34m\u001b[0m\u001b[0;34m\u001b[0m\u001b[0m\n\u001b[0m\u001b[1;32m   1115\u001b[0m         \u001b[0;32melse\u001b[0m\u001b[0;34m:\u001b[0m\u001b[0;34m\u001b[0m\u001b[0;34m\u001b[0m\u001b[0m\n\u001b[1;32m   1116\u001b[0m             \u001b[0;32mif\u001b[0m \u001b[0mengine\u001b[0m \u001b[0;34m==\u001b[0m \u001b[0;34m\"python\"\u001b[0m\u001b[0;34m:\u001b[0m\u001b[0;34m\u001b[0m\u001b[0;34m\u001b[0m\u001b[0m\n",
      "\u001b[0;32m/opt/anaconda3/envs/pytorch_p37/lib/python3.7/site-packages/pandas/io/parsers.py\u001b[0m in \u001b[0;36m__init__\u001b[0;34m(self, src, **kwds)\u001b[0m\n\u001b[1;32m   1889\u001b[0m         \u001b[0mkwds\u001b[0m\u001b[0;34m[\u001b[0m\u001b[0;34m\"usecols\"\u001b[0m\u001b[0;34m]\u001b[0m \u001b[0;34m=\u001b[0m \u001b[0mself\u001b[0m\u001b[0;34m.\u001b[0m\u001b[0musecols\u001b[0m\u001b[0;34m\u001b[0m\u001b[0;34m\u001b[0m\u001b[0m\n\u001b[1;32m   1890\u001b[0m \u001b[0;34m\u001b[0m\u001b[0m\n\u001b[0;32m-> 1891\u001b[0;31m         \u001b[0mself\u001b[0m\u001b[0;34m.\u001b[0m\u001b[0m_reader\u001b[0m \u001b[0;34m=\u001b[0m \u001b[0mparsers\u001b[0m\u001b[0;34m.\u001b[0m\u001b[0mTextReader\u001b[0m\u001b[0;34m(\u001b[0m\u001b[0msrc\u001b[0m\u001b[0;34m,\u001b[0m \u001b[0;34m**\u001b[0m\u001b[0mkwds\u001b[0m\u001b[0;34m)\u001b[0m\u001b[0;34m\u001b[0m\u001b[0;34m\u001b[0m\u001b[0m\n\u001b[0m\u001b[1;32m   1892\u001b[0m         \u001b[0mself\u001b[0m\u001b[0;34m.\u001b[0m\u001b[0munnamed_cols\u001b[0m \u001b[0;34m=\u001b[0m \u001b[0mself\u001b[0m\u001b[0;34m.\u001b[0m\u001b[0m_reader\u001b[0m\u001b[0;34m.\u001b[0m\u001b[0munnamed_cols\u001b[0m\u001b[0;34m\u001b[0m\u001b[0;34m\u001b[0m\u001b[0m\n\u001b[1;32m   1893\u001b[0m \u001b[0;34m\u001b[0m\u001b[0m\n",
      "\u001b[0;32mpandas/_libs/parsers.pyx\u001b[0m in \u001b[0;36mpandas._libs.parsers.TextReader.__cinit__\u001b[0;34m()\u001b[0m\n",
      "\u001b[0;32mpandas/_libs/parsers.pyx\u001b[0m in \u001b[0;36mpandas._libs.parsers.TextReader._setup_parser_source\u001b[0;34m()\u001b[0m\n",
      "\u001b[0;31mFileNotFoundError\u001b[0m: [Errno 2] File ../20_intermediate_files/60_final_data_include_rounds.csv does not exist: '../20_intermediate_files/60_final_data_include_rounds.csv'"
     ]
    }
   ],
   "source": [
    "df  = pd.read_csv('../20_intermediate_files/60_final_data_include_rounds.csv')"
   ]
  },
  {
   "cell_type": "code",
   "execution_count": 5,
   "metadata": {},
   "outputs": [],
   "source": [
    "le2 = LabelEncoder()\n",
    "df['Subject_ID'] = le2.fit_transform(df['Subject_ID'])"
   ]
  },
  {
   "cell_type": "code",
   "execution_count": 6,
   "metadata": {},
   "outputs": [
    {
     "data": {
      "text/html": [
       "<div>\n",
       "<style scoped>\n",
       "    .dataframe tbody tr th:only-of-type {\n",
       "        vertical-align: middle;\n",
       "    }\n",
       "\n",
       "    .dataframe tbody tr th {\n",
       "        vertical-align: top;\n",
       "    }\n",
       "\n",
       "    .dataframe thead th {\n",
       "        text-align: right;\n",
       "    }\n",
       "</style>\n",
       "<table border=\"1\" class=\"dataframe\">\n",
       "  <thead>\n",
       "    <tr style=\"text-align: right;\">\n",
       "      <th></th>\n",
       "      <th>ACC1</th>\n",
       "      <th>ACC2</th>\n",
       "      <th>ACC3</th>\n",
       "      <th>TEMP</th>\n",
       "      <th>EDA</th>\n",
       "      <th>BVP</th>\n",
       "      <th>HR</th>\n",
       "      <th>Magnitude</th>\n",
       "      <th>Activity</th>\n",
       "      <th>Subject_ID</th>\n",
       "      <th>Round</th>\n",
       "    </tr>\n",
       "  </thead>\n",
       "  <tbody>\n",
       "    <tr>\n",
       "      <th>293037</th>\n",
       "      <td>27.294118</td>\n",
       "      <td>-13.294118</td>\n",
       "      <td>60.705882</td>\n",
       "      <td>32.09</td>\n",
       "      <td>0.672642</td>\n",
       "      <td>5.22</td>\n",
       "      <td>92.94</td>\n",
       "      <td>67.874197</td>\n",
       "      <td>Type</td>\n",
       "      <td>55</td>\n",
       "      <td>1</td>\n",
       "    </tr>\n",
       "    <tr>\n",
       "      <th>293038</th>\n",
       "      <td>30.352941</td>\n",
       "      <td>-14.352941</td>\n",
       "      <td>58.647059</td>\n",
       "      <td>32.09</td>\n",
       "      <td>0.664957</td>\n",
       "      <td>-1.47</td>\n",
       "      <td>93.00</td>\n",
       "      <td>67.577995</td>\n",
       "      <td>Type</td>\n",
       "      <td>55</td>\n",
       "      <td>1</td>\n",
       "    </tr>\n",
       "    <tr>\n",
       "      <th>293039</th>\n",
       "      <td>33.411765</td>\n",
       "      <td>-15.411765</td>\n",
       "      <td>56.588235</td>\n",
       "      <td>32.09</td>\n",
       "      <td>0.648308</td>\n",
       "      <td>1.37</td>\n",
       "      <td>93.06</td>\n",
       "      <td>67.498866</td>\n",
       "      <td>Type</td>\n",
       "      <td>55</td>\n",
       "      <td>1</td>\n",
       "    </tr>\n",
       "  </tbody>\n",
       "</table>\n",
       "</div>"
      ],
      "text/plain": [
       "             ACC1       ACC2       ACC3   TEMP       EDA   BVP     HR  \\\n",
       "293037  27.294118 -13.294118  60.705882  32.09  0.672642  5.22  92.94   \n",
       "293038  30.352941 -14.352941  58.647059  32.09  0.664957 -1.47  93.00   \n",
       "293039  33.411765 -15.411765  56.588235  32.09  0.648308  1.37  93.06   \n",
       "\n",
       "        Magnitude Activity  Subject_ID  Round  \n",
       "293037  67.874197     Type          55      1  \n",
       "293038  67.577995     Type          55      1  \n",
       "293039  67.498866     Type          55      1  "
      ]
     },
     "execution_count": 6,
     "metadata": {},
     "output_type": "execute_result"
    }
   ],
   "source": [
    "df.tail(3)"
   ]
  },
  {
   "cell_type": "code",
   "execution_count": 7,
   "metadata": {},
   "outputs": [],
   "source": [
    "from window_slider import Slider\n",
    "window_list = []\n",
    "final = pd.DataFrame()\n",
    "activity_list = list(df['Activity'].unique()) #list of the four activities\n",
    "sub_id_list = list(df['Subject_ID'].unique()) #list of the subject ids\n",
    "round_list = list(df['Round'].unique())\n",
    "df_list = []\n",
    "bucket_size = 80\n",
    "overlap_count = 0\n",
    "    \n",
    "\n",
    "    \n",
    "for i in sub_id_list:\n",
    "    df_subject = df[df['Subject_ID'] == i] #isolate a single subject id\n",
    "    for j in activity_list:\n",
    "        df_subject_activity = df_subject[df_subject['Activity'] == j] #isolate by activity\n",
    "        for k in round_list:\n",
    "            final_df = pd.DataFrame()\n",
    "            df_subject_activity_round = df_subject_activity[df_subject_activity['Round'] == k]\n",
    "            if df_subject_activity_round.empty:\n",
    "              pass\n",
    "            else:\n",
    "              df_flat = df_subject_activity_round[['ACC1', 'ACC2','ACC3','TEMP','EDA','BVP','HR','Magnitude', 'Subject_ID']].T.values #array of arrays, each row is every single reading in an array for a sensor in that isolation \n",
    "            \n",
    "              slider = Slider(bucket_size,overlap_count)\n",
    "              slider.fit(df_flat)\n",
    "              while True:\n",
    "                  window_data = slider.slide()\n",
    "                  window_list.append(list(window_data))\n",
    "                \n",
    "                  if slider.reached_end_of_list(): break\n",
    "              final_df = final.append(window_list)\n",
    "              final_df.columns = [['ACC1', 'ACC2','ACC3','TEMP','EDA','BVP','HR','Magnitude', 'SID']]\n",
    "              final_df.insert(9, \"Subject_ID\", [i]*len(final_df), True)\n",
    "              final_df.insert(10, \"Activity\", [j]*len(final_df), True)\n",
    "              final_df.insert(11, \"Round\", [k]*len(final_df), True)  \n",
    "              df_list.append(final_df)\n",
    "              window_list = []\n",
    "    \n",
    "final = pd.DataFrame(columns = df_list[0].columns)\n",
    "\n",
    "for l in df_list:\n",
    "        final = final.append(l)\n",
    "        \n",
    "\n",
    "final\n",
    "final.columns = final.columns.map(''.join)\n",
    "            "
   ]
  },
  {
   "cell_type": "code",
   "execution_count": 8,
   "metadata": {},
   "outputs": [
    {
     "data": {
      "text/html": [
       "<div>\n",
       "<style scoped>\n",
       "    .dataframe tbody tr th:only-of-type {\n",
       "        vertical-align: middle;\n",
       "    }\n",
       "\n",
       "    .dataframe tbody tr th {\n",
       "        vertical-align: top;\n",
       "    }\n",
       "\n",
       "    .dataframe thead th {\n",
       "        text-align: right;\n",
       "    }\n",
       "</style>\n",
       "<table border=\"1\" class=\"dataframe\">\n",
       "  <thead>\n",
       "    <tr style=\"text-align: right;\">\n",
       "      <th></th>\n",
       "      <th>ACC1</th>\n",
       "      <th>ACC2</th>\n",
       "      <th>ACC3</th>\n",
       "      <th>TEMP</th>\n",
       "      <th>EDA</th>\n",
       "      <th>BVP</th>\n",
       "      <th>HR</th>\n",
       "      <th>Magnitude</th>\n",
       "      <th>SID</th>\n",
       "      <th>Subject_ID</th>\n",
       "      <th>Activity</th>\n",
       "      <th>Round</th>\n",
       "    </tr>\n",
       "  </thead>\n",
       "  <tbody>\n",
       "    <tr>\n",
       "      <th>0</th>\n",
       "      <td>[41.0, 41.0, 41.0, 41.0, 41.0, 41.0, 41.0, 41....</td>\n",
       "      <td>[27.2, 27.3, 27.4, 27.5, 27.6, 27.7, 27.8, 27....</td>\n",
       "      <td>[40.0, 40.0, 40.0, 40.0, 40.0, 40.0, 40.0, 40....</td>\n",
       "      <td>[32.39, 32.39, 32.39, 32.39, 32.34, 32.34, 32....</td>\n",
       "      <td>[0.275354, 0.276634, 0.270231, 0.270231, 0.268...</td>\n",
       "      <td>[15.25, -12.75, -42.99, 18.39, 13.61, -9.66, -...</td>\n",
       "      <td>[78.98, 78.83500000000002, 78.69, 78.545, 78.4...</td>\n",
       "      <td>[63.410093833710725, 63.453053512025726, 63.49...</td>\n",
       "      <td>[0.0, 0.0, 0.0, 0.0, 0.0, 0.0, 0.0, 0.0, 0.0, ...</td>\n",
       "      <td>0</td>\n",
       "      <td>Baseline</td>\n",
       "      <td>1</td>\n",
       "    </tr>\n",
       "    <tr>\n",
       "      <th>1</th>\n",
       "      <td>[41.60869565217392, 41.67391304347826, 41.7391...</td>\n",
       "      <td>[26.39130434782609, 26.32608695652174, 26.2608...</td>\n",
       "      <td>[38.869565217391305, 38.89130434782609, 38.913...</td>\n",
       "      <td>[32.34, 32.34, 32.34, 32.34, 32.33, 32.33, 32....</td>\n",
       "      <td>[0.265108, 0.263827, 0.266389, 0.265108, 0.266...</td>\n",
       "      <td>[-27.69, 30.51, 14.64, 1.97, -13.65, -48.52, 1...</td>\n",
       "      <td>[69.63, 69.515, 69.4, 69.285, 69.17, 69.04, 68...</td>\n",
       "      <td>[62.758486272725364, 62.78782873035957, 62.817...</td>\n",
       "      <td>[0.0, 0.0, 0.0, 0.0, 0.0, 0.0, 0.0, 0.0, 0.0, ...</td>\n",
       "      <td>0</td>\n",
       "      <td>Baseline</td>\n",
       "      <td>1</td>\n",
       "    </tr>\n",
       "  </tbody>\n",
       "</table>\n",
       "</div>"
      ],
      "text/plain": [
       "                                                ACC1  \\\n",
       "0  [41.0, 41.0, 41.0, 41.0, 41.0, 41.0, 41.0, 41....   \n",
       "1  [41.60869565217392, 41.67391304347826, 41.7391...   \n",
       "\n",
       "                                                ACC2  \\\n",
       "0  [27.2, 27.3, 27.4, 27.5, 27.6, 27.7, 27.8, 27....   \n",
       "1  [26.39130434782609, 26.32608695652174, 26.2608...   \n",
       "\n",
       "                                                ACC3  \\\n",
       "0  [40.0, 40.0, 40.0, 40.0, 40.0, 40.0, 40.0, 40....   \n",
       "1  [38.869565217391305, 38.89130434782609, 38.913...   \n",
       "\n",
       "                                                TEMP  \\\n",
       "0  [32.39, 32.39, 32.39, 32.39, 32.34, 32.34, 32....   \n",
       "1  [32.34, 32.34, 32.34, 32.34, 32.33, 32.33, 32....   \n",
       "\n",
       "                                                 EDA  \\\n",
       "0  [0.275354, 0.276634, 0.270231, 0.270231, 0.268...   \n",
       "1  [0.265108, 0.263827, 0.266389, 0.265108, 0.266...   \n",
       "\n",
       "                                                 BVP  \\\n",
       "0  [15.25, -12.75, -42.99, 18.39, 13.61, -9.66, -...   \n",
       "1  [-27.69, 30.51, 14.64, 1.97, -13.65, -48.52, 1...   \n",
       "\n",
       "                                                  HR  \\\n",
       "0  [78.98, 78.83500000000002, 78.69, 78.545, 78.4...   \n",
       "1  [69.63, 69.515, 69.4, 69.285, 69.17, 69.04, 68...   \n",
       "\n",
       "                                           Magnitude  \\\n",
       "0  [63.410093833710725, 63.453053512025726, 63.49...   \n",
       "1  [62.758486272725364, 62.78782873035957, 62.817...   \n",
       "\n",
       "                                                 SID Subject_ID  Activity  \\\n",
       "0  [0.0, 0.0, 0.0, 0.0, 0.0, 0.0, 0.0, 0.0, 0.0, ...          0  Baseline   \n",
       "1  [0.0, 0.0, 0.0, 0.0, 0.0, 0.0, 0.0, 0.0, 0.0, ...          0  Baseline   \n",
       "\n",
       "  Round  \n",
       "0     1  \n",
       "1     1  "
      ]
     },
     "execution_count": 8,
     "metadata": {},
     "output_type": "execute_result"
    }
   ],
   "source": [
    "final.head(2)"
   ]
  },
  {
   "cell_type": "code",
   "execution_count": 9,
   "metadata": {},
   "outputs": [
    {
     "name": "stdout",
     "output_type": "stream",
     "text": [
      "(2937, 12) (726, 12)\n"
     ]
    }
   ],
   "source": [
    "ID_list = list(final['Subject_ID'].unique())\n",
    "random.shuffle(ID_list)\n",
    "train = pd.DataFrame()\n",
    "test = pd.DataFrame()\n",
    "#val = pd.DataFrame()\n",
    "\n",
    "#change size of train/test split\n",
    "train = final[final['Subject_ID'].isin(ID_list[:45])]\n",
    "test = final[final['Subject_ID'].isin(ID_list[45:])]\n",
    "#val = final[final['Subject_ID'].isin(ID_list[45:])]\n",
    "\n",
    "print(train.shape, test.shape)"
   ]
  },
  {
   "cell_type": "code",
   "execution_count": 10,
   "metadata": {},
   "outputs": [
    {
     "name": "stdout",
     "output_type": "stream",
     "text": [
      "(234960, 9) (58080, 9)\n"
     ]
    },
    {
     "data": {
      "text/html": [
       "<div>\n",
       "<style scoped>\n",
       "    .dataframe tbody tr th:only-of-type {\n",
       "        vertical-align: middle;\n",
       "    }\n",
       "\n",
       "    .dataframe tbody tr th {\n",
       "        vertical-align: top;\n",
       "    }\n",
       "\n",
       "    .dataframe thead th {\n",
       "        text-align: right;\n",
       "    }\n",
       "</style>\n",
       "<table border=\"1\" class=\"dataframe\">\n",
       "  <thead>\n",
       "    <tr style=\"text-align: right;\">\n",
       "      <th></th>\n",
       "      <th>TEMP</th>\n",
       "      <th>EDA</th>\n",
       "      <th>HR</th>\n",
       "      <th>BVP</th>\n",
       "      <th>Magnitude</th>\n",
       "      <th>ACC1</th>\n",
       "      <th>ACC2</th>\n",
       "      <th>ACC3</th>\n",
       "      <th>SID</th>\n",
       "    </tr>\n",
       "  </thead>\n",
       "  <tbody>\n",
       "    <tr>\n",
       "      <th>0</th>\n",
       "      <td>32.39</td>\n",
       "      <td>0.275354</td>\n",
       "      <td>78.98</td>\n",
       "      <td>15.25</td>\n",
       "      <td>63.4101</td>\n",
       "      <td>41</td>\n",
       "      <td>27.2</td>\n",
       "      <td>40</td>\n",
       "      <td>0</td>\n",
       "    </tr>\n",
       "    <tr>\n",
       "      <th>1</th>\n",
       "      <td>32.39</td>\n",
       "      <td>0.276634</td>\n",
       "      <td>78.835</td>\n",
       "      <td>-12.75</td>\n",
       "      <td>63.4531</td>\n",
       "      <td>41</td>\n",
       "      <td>27.3</td>\n",
       "      <td>40</td>\n",
       "      <td>0</td>\n",
       "    </tr>\n",
       "    <tr>\n",
       "      <th>2</th>\n",
       "      <td>32.39</td>\n",
       "      <td>0.270231</td>\n",
       "      <td>78.69</td>\n",
       "      <td>-42.99</td>\n",
       "      <td>63.4961</td>\n",
       "      <td>41</td>\n",
       "      <td>27.4</td>\n",
       "      <td>40</td>\n",
       "      <td>0</td>\n",
       "    </tr>\n",
       "    <tr>\n",
       "      <th>3</th>\n",
       "      <td>32.39</td>\n",
       "      <td>0.270231</td>\n",
       "      <td>78.545</td>\n",
       "      <td>18.39</td>\n",
       "      <td>63.5394</td>\n",
       "      <td>41</td>\n",
       "      <td>27.5</td>\n",
       "      <td>40</td>\n",
       "      <td>0</td>\n",
       "    </tr>\n",
       "    <tr>\n",
       "      <th>4</th>\n",
       "      <td>32.34</td>\n",
       "      <td>0.26895</td>\n",
       "      <td>78.4</td>\n",
       "      <td>13.61</td>\n",
       "      <td>63.5827</td>\n",
       "      <td>41</td>\n",
       "      <td>27.6</td>\n",
       "      <td>40</td>\n",
       "      <td>0</td>\n",
       "    </tr>\n",
       "    <tr>\n",
       "      <th>...</th>\n",
       "      <td>...</td>\n",
       "      <td>...</td>\n",
       "      <td>...</td>\n",
       "      <td>...</td>\n",
       "      <td>...</td>\n",
       "      <td>...</td>\n",
       "      <td>...</td>\n",
       "      <td>...</td>\n",
       "      <td>...</td>\n",
       "    </tr>\n",
       "    <tr>\n",
       "      <th>234955</th>\n",
       "      <td>32.09</td>\n",
       "      <td>0.708502</td>\n",
       "      <td>92.8275</td>\n",
       "      <td>0.85</td>\n",
       "      <td>69.1046</td>\n",
       "      <td>21.1765</td>\n",
       "      <td>-11.1765</td>\n",
       "      <td>64.8235</td>\n",
       "      <td>55</td>\n",
       "    </tr>\n",
       "    <tr>\n",
       "      <th>234956</th>\n",
       "      <td>32.09</td>\n",
       "      <td>0.694414</td>\n",
       "      <td>92.88</td>\n",
       "      <td>-1</td>\n",
       "      <td>68.3846</td>\n",
       "      <td>24.2353</td>\n",
       "      <td>-12.2353</td>\n",
       "      <td>62.7647</td>\n",
       "      <td>55</td>\n",
       "    </tr>\n",
       "    <tr>\n",
       "      <th>234957</th>\n",
       "      <td>32.09</td>\n",
       "      <td>0.672642</td>\n",
       "      <td>92.94</td>\n",
       "      <td>5.22</td>\n",
       "      <td>67.8742</td>\n",
       "      <td>27.2941</td>\n",
       "      <td>-13.2941</td>\n",
       "      <td>60.7059</td>\n",
       "      <td>55</td>\n",
       "    </tr>\n",
       "    <tr>\n",
       "      <th>234958</th>\n",
       "      <td>32.09</td>\n",
       "      <td>0.664957</td>\n",
       "      <td>93</td>\n",
       "      <td>-1.47</td>\n",
       "      <td>67.578</td>\n",
       "      <td>30.3529</td>\n",
       "      <td>-14.3529</td>\n",
       "      <td>58.6471</td>\n",
       "      <td>55</td>\n",
       "    </tr>\n",
       "    <tr>\n",
       "      <th>234959</th>\n",
       "      <td>32.09</td>\n",
       "      <td>0.648308</td>\n",
       "      <td>93.06</td>\n",
       "      <td>1.37</td>\n",
       "      <td>67.4989</td>\n",
       "      <td>33.4118</td>\n",
       "      <td>-15.4118</td>\n",
       "      <td>56.5882</td>\n",
       "      <td>55</td>\n",
       "    </tr>\n",
       "  </tbody>\n",
       "</table>\n",
       "<p>234960 rows × 9 columns</p>\n",
       "</div>"
      ],
      "text/plain": [
       "         TEMP       EDA       HR    BVP Magnitude     ACC1     ACC2     ACC3  \\\n",
       "0       32.39  0.275354    78.98  15.25   63.4101       41     27.2       40   \n",
       "1       32.39  0.276634   78.835 -12.75   63.4531       41     27.3       40   \n",
       "2       32.39  0.270231    78.69 -42.99   63.4961       41     27.4       40   \n",
       "3       32.39  0.270231   78.545  18.39   63.5394       41     27.5       40   \n",
       "4       32.34   0.26895     78.4  13.61   63.5827       41     27.6       40   \n",
       "...       ...       ...      ...    ...       ...      ...      ...      ...   \n",
       "234955  32.09  0.708502  92.8275   0.85   69.1046  21.1765 -11.1765  64.8235   \n",
       "234956  32.09  0.694414    92.88     -1   68.3846  24.2353 -12.2353  62.7647   \n",
       "234957  32.09  0.672642    92.94   5.22   67.8742  27.2941 -13.2941  60.7059   \n",
       "234958  32.09  0.664957       93  -1.47    67.578  30.3529 -14.3529  58.6471   \n",
       "234959  32.09  0.648308    93.06   1.37   67.4989  33.4118 -15.4118  56.5882   \n",
       "\n",
       "       SID  \n",
       "0        0  \n",
       "1        0  \n",
       "2        0  \n",
       "3        0  \n",
       "4        0  \n",
       "...     ..  \n",
       "234955  55  \n",
       "234956  55  \n",
       "234957  55  \n",
       "234958  55  \n",
       "234959  55  \n",
       "\n",
       "[234960 rows x 9 columns]"
      ]
     },
     "execution_count": 10,
     "metadata": {},
     "output_type": "execute_result"
    }
   ],
   "source": [
    "X_train = train[['TEMP', 'EDA', 'HR', 'BVP', 'Magnitude', 'ACC1', 'ACC2', 'ACC3', 'SID']] #get only sensor values\n",
    "X_train = X_train.apply(pd.Series.explode).reset_index()\n",
    "\n",
    "X_test = test[['TEMP', 'EDA', 'HR', 'BVP', 'Magnitude', 'ACC1', 'ACC2', 'ACC3', 'SID']]\n",
    "X_test = X_test.apply(pd.Series.explode).reset_index()\n",
    "\n",
    "#X_val = val[['TEMP', 'EDA', 'HR', 'BVP', 'Magnitude', 'ACC1', 'ACC2', 'ACC3']]\n",
    "#X_val = X_val.apply(pd.Series.explode).reset_index()\n",
    "\n",
    "X_test = X_test.drop(['index'], axis = 1)\n",
    "X_train = X_train.drop(['index'], axis = 1)\n",
    "#X_val = X_val.drop(['index'], axis = 1)\n",
    "print(X_train.shape, X_test.shape)\n",
    "X_train"
   ]
  },
  {
   "cell_type": "code",
   "execution_count": null,
   "metadata": {},
   "outputs": [],
   "source": []
  },
  {
   "cell_type": "code",
   "execution_count": 11,
   "metadata": {},
   "outputs": [
    {
     "data": {
      "text/plain": [
       "(293040, 63)"
      ]
     },
     "execution_count": 11,
     "metadata": {},
     "output_type": "execute_result"
    }
   ],
   "source": [
    "full_df = X_train.append(X_test)\n",
    "full_df_dummy = pd.concat([full_df, pd.get_dummies(full_df['SID'], prefix='SID', drop_first = True)],axis=1)\n",
    "full_df_dummy = full_df_dummy.drop(['SID'], axis = 1)\n",
    "full_df_dummy.shape"
   ]
  },
  {
   "cell_type": "code",
   "execution_count": 12,
   "metadata": {},
   "outputs": [
    {
     "name": "stdout",
     "output_type": "stream",
     "text": [
      "(234960, 63) (58080, 63)\n"
     ]
    }
   ],
   "source": [
    "X_train = full_df_dummy.iloc[:234960]\n",
    "X_test = full_df_dummy.iloc[234960:]\n",
    "print(X_train.shape, X_test.shape)"
   ]
  },
  {
   "cell_type": "code",
   "execution_count": 13,
   "metadata": {},
   "outputs": [
    {
     "name": "stdout",
     "output_type": "stream",
     "text": [
      "(63, 234960) (2937,) (63, 58080) (726,)\n"
     ]
    }
   ],
   "source": [
    "X_test = X_test.T.values\n",
    "X_train = X_train.T.values\n",
    "#X_val = X_val.T.values\n",
    "\n",
    "y_train = train['Activity'].values\n",
    "y_test = test['Activity'].values\n",
    "#y_val = val['Activity'].values\n",
    "\n",
    "le = LabelEncoder()\n",
    "y_train = le.fit_transform(y_train)\n",
    "y_test = le.transform(y_test)\n",
    "#y_val = le.transform(y_test)\n",
    "\n",
    "print(X_train.shape,  y_train.shape, X_test.shape, y_test.shape)"
   ]
  },
  {
   "cell_type": "code",
   "execution_count": 14,
   "metadata": {},
   "outputs": [
    {
     "data": {
      "text/plain": [
       "array([[32.39, 32.39, 32.39, ..., 32.09, 32.09, 32.09],\n",
       "       [0.275354, 0.276634, 0.270231, ..., 0.672642, 0.664957, 0.648308],\n",
       "       [78.98, 78.83500000000002, 78.69, ..., 92.94, 93.0, 93.06],\n",
       "       ...,\n",
       "       [0, 0, 0, ..., 0, 0, 0],\n",
       "       [0, 0, 0, ..., 0, 0, 0],\n",
       "       [0, 0, 0, ..., 1, 1, 1]], dtype=object)"
      ]
     },
     "execution_count": 14,
     "metadata": {},
     "output_type": "execute_result"
    }
   ],
   "source": [
    "X_train"
   ]
  },
  {
   "cell_type": "code",
   "execution_count": 15,
   "metadata": {},
   "outputs": [],
   "source": [
    "X_test = X_test.astype('float64')\n",
    "X_train = X_train.astype('float64')\n",
    "#X_val = X_val.astype('float64')\n",
    "\n",
    "X_train = X_train.reshape((-1,80,63))\n",
    "X_test = X_test.reshape((-1, 80, 63)) \n",
    "#X_val = X_val.reshape((-1, 40, 8))"
   ]
  },
  {
   "cell_type": "code",
   "execution_count": 16,
   "metadata": {},
   "outputs": [
    {
     "name": "stdout",
     "output_type": "stream",
     "text": [
      "(2937, 80, 63) (2937,) (726, 80, 63) (726,)\n"
     ]
    }
   ],
   "source": [
    "print(X_train.shape, y_train.shape, X_test.shape, y_test.shape)"
   ]
  },
  {
   "cell_type": "markdown",
   "metadata": {},
   "source": [
    "y_train_fit = [0 for i in range(int(len(y_train)/80))]\n",
    "for i in range(int(len(X_train)/80)):\n",
    "  y_train_fit[i] = y_train[i*80]\n",
    "\n",
    "y_test_fit = [0 for i in range(int(len(y_test)/80))]\n",
    "for i in range(int(len(y_test)/80)):\n",
    "  y_test_fit[i] = y_test[i*80]\n",
    "\n",
    "y_train_fit = np.array(y_train_fit)\n",
    "y_test_fit = np.array(y_test_fit)\n",
    "\n",
    "len(y_train_fit)"
   ]
  },
  {
   "cell_type": "code",
   "execution_count": 17,
   "metadata": {},
   "outputs": [
    {
     "name": "stdout",
     "output_type": "stream",
     "text": [
      "(2937, 80, 63) (2937, 4) (726, 80, 63) (726, 4)\n"
     ]
    }
   ],
   "source": [
    "y_train_dummy = np_utils.to_categorical(y_train)\n",
    "y_test_dummy = np_utils.to_categorical(y_test)\n",
    "\n",
    "print(X_train.shape,  y_train_dummy.shape, X_test.shape, y_test_dummy.shape)"
   ]
  },
  {
   "cell_type": "code",
   "execution_count": 18,
   "metadata": {},
   "outputs": [],
   "source": [
    "n_timesteps, n_features, n_outputs = X_train.shape[1], X_train.shape[2], y_train_dummy.shape[1]"
   ]
  },
  {
   "cell_type": "code",
   "execution_count": 19,
   "metadata": {},
   "outputs": [
    {
     "name": "stdout",
     "output_type": "stream",
     "text": [
      "3\n"
     ]
    }
   ],
   "source": [
    "print(y_train[2936])"
   ]
  },
  {
   "cell_type": "code",
   "execution_count": 20,
   "metadata": {},
   "outputs": [
    {
     "name": "stdout",
     "output_type": "stream",
     "text": [
      "[[32.39 32.39 32.39 ... 32.33 32.33 32.33]\n",
      " [32.33 32.34 32.34 ... 32.33 32.34 32.34]\n",
      " [32.34 32.34 32.34 ... 32.39 32.39 32.41]\n",
      " ...\n",
      " [32.89 32.87 32.87 ... 32.87 32.87 32.87]\n",
      " [32.87 32.87 32.87 ... 32.83 32.83 32.83]\n",
      " [32.83 32.83 32.83 ... 32.81 32.81 32.81]]\n"
     ]
    }
   ],
   "source": [
    "print(X_train[0])"
   ]
  },
  {
   "cell_type": "code",
   "execution_count": 21,
   "metadata": {},
   "outputs": [],
   "source": [
    "#!rm -rf ./logs/"
   ]
  },
  {
   "cell_type": "code",
   "execution_count": 22,
   "metadata": {
    "scrolled": true
   },
   "outputs": [
    {
     "data": {
      "text/plain": [
       "Reusing TensorBoard on port 6006 (pid 14012), started 2 days, 13:54:51 ago. (Use '!kill 14012' to kill it.)"
      ]
     },
     "metadata": {},
     "output_type": "display_data"
    },
    {
     "data": {
      "text/html": [
       "\n",
       "      <iframe id=\"tensorboard-frame-e9678c723a263b3\" width=\"100%\" height=\"800\" frameborder=\"0\">\n",
       "      </iframe>\n",
       "      <script>\n",
       "        (function() {\n",
       "          const frame = document.getElementById(\"tensorboard-frame-e9678c723a263b3\");\n",
       "          const url = new URL(\"/\", window.location);\n",
       "          const port = 6006;\n",
       "          if (port) {\n",
       "            url.port = port;\n",
       "          }\n",
       "          frame.src = url;\n",
       "        })();\n",
       "      </script>\n",
       "    "
      ],
      "text/plain": [
       "<IPython.core.display.HTML object>"
      ]
     },
     "metadata": {},
     "output_type": "display_data"
    }
   ],
   "source": [
    "#%tensorboard --logdir logs/fit"
   ]
  },
  {
   "cell_type": "code",
   "execution_count": 26,
   "metadata": {},
   "outputs": [],
   "source": [
    "model = Sequential()\n",
    "model.add(Dense(32, activation='relu'))\n",
    "model.add(Dense(64, activation='relu'))\n",
    "model.add(LSTM(100, input_shape=(n_timesteps,n_features))) #40 for windows, 8 for sensors\n",
    "model.add(Dropout(0.5))\n",
    "model.add(Dense(16, activation='relu'))\n",
    "model.add(Dense(n_outputs, activation='softmax')) #6 outputs are possible \n",
    "model.compile(loss='categorical_crossentropy', optimizer='adam', metrics=['accuracy'])"
   ]
  },
  {
   "cell_type": "code",
   "execution_count": 24,
   "metadata": {},
   "outputs": [],
   "source": [
    "from keras.callbacks import ModelCheckpoint\n",
    "import datetime\n",
    "model_checkpoint = ModelCheckpoint('./models/HARnet.hdf5', monitor='val_loss', verbose=1, save_best_only=True)\n",
    "log_dir = \"logs/fit/\" + datetime.datetime.now().strftime(\"%Y%m%d-%H%M%S\")\n",
    "tensorboard_callback = tf.keras.callbacks.TensorBoard(log_dir=log_dir, histogram_freq=1)"
   ]
  },
  {
   "cell_type": "code",
   "execution_count": 25,
   "metadata": {
    "scrolled": false
   },
   "outputs": [
    {
     "name": "stdout",
     "output_type": "stream",
     "text": [
      "Epoch 1/30\n",
      " 1/92 [..............................] - ETA: 0s - loss: 1.3614 - accuracy: 0.4688WARNING:tensorflow:From /opt/anaconda3/envs/pytorch_p37/lib/python3.7/site-packages/tensorflow/python/ops/summary_ops_v2.py:1277: stop (from tensorflow.python.eager.profiler) is deprecated and will be removed after 2020-07-01.\n",
      "Instructions for updating:\n",
      "use `tf.profiler.experimental.stop` instead.\n",
      " 2/92 [..............................] - ETA: 17s - loss: 1.3586 - accuracy: 0.4062WARNING:tensorflow:Callbacks method `on_train_batch_end` is slow compared to the batch time (batch time: 0.1045s vs `on_train_batch_end` time: 0.2915s). Check your callbacks.\n",
      "92/92 [==============================] - 9s 101ms/step - loss: 1.2106 - accuracy: 0.4345 - val_loss: 1.1609 - val_accuracy: 0.4569\n",
      "Epoch 2/30\n",
      "92/92 [==============================] - 10s 104ms/step - loss: 1.1734 - accuracy: 0.4515 - val_loss: 1.1618 - val_accuracy: 0.4549\n",
      "Epoch 3/30\n",
      "92/92 [==============================] - 11s 120ms/step - loss: 1.1758 - accuracy: 0.4542 - val_loss: 1.1636 - val_accuracy: 0.4515\n",
      "Epoch 4/30\n",
      "92/92 [==============================] - 12s 126ms/step - loss: 1.1714 - accuracy: 0.4515 - val_loss: 1.1594 - val_accuracy: 0.4545\n",
      "Epoch 5/30\n",
      "92/92 [==============================] - 11s 120ms/step - loss: 1.1668 - accuracy: 0.4549 - val_loss: 1.1580 - val_accuracy: 0.4552\n",
      "Epoch 6/30\n",
      "92/92 [==============================] - 10s 112ms/step - loss: 1.1658 - accuracy: 0.4515 - val_loss: 1.1573 - val_accuracy: 0.4562\n",
      "Epoch 7/30\n",
      "92/92 [==============================] - 10s 105ms/step - loss: 1.1664 - accuracy: 0.4542 - val_loss: 1.1565 - val_accuracy: 0.4583\n",
      "Epoch 8/30\n",
      "92/92 [==============================] - 10s 110ms/step - loss: 1.1698 - accuracy: 0.4535 - val_loss: 1.1581 - val_accuracy: 0.4573\n",
      "Epoch 9/30\n",
      "92/92 [==============================] - 9s 102ms/step - loss: 1.1660 - accuracy: 0.4600 - val_loss: 1.1567 - val_accuracy: 0.4620\n",
      "Epoch 10/30\n",
      "92/92 [==============================] - 9s 96ms/step - loss: 1.1646 - accuracy: 0.4539 - val_loss: 1.1533 - val_accuracy: 0.4614\n",
      "Epoch 11/30\n",
      "92/92 [==============================] - 8s 88ms/step - loss: 1.1628 - accuracy: 0.4597 - val_loss: 1.1528 - val_accuracy: 0.4637\n",
      "Epoch 12/30\n",
      "92/92 [==============================] - 8s 87ms/step - loss: 1.1588 - accuracy: 0.4576 - val_loss: 1.1512 - val_accuracy: 0.4620\n",
      "Epoch 13/30\n",
      "92/92 [==============================] - 8s 88ms/step - loss: 1.1648 - accuracy: 0.4556 - val_loss: 1.1504 - val_accuracy: 0.4658\n",
      "Epoch 14/30\n",
      "92/92 [==============================] - 8s 88ms/step - loss: 1.1608 - accuracy: 0.4593 - val_loss: 1.1495 - val_accuracy: 0.4682\n",
      "Epoch 15/30\n",
      "92/92 [==============================] - 8s 92ms/step - loss: 1.1573 - accuracy: 0.4610 - val_loss: 1.1510 - val_accuracy: 0.4631\n",
      "Epoch 16/30\n",
      "92/92 [==============================] - 9s 95ms/step - loss: 1.1538 - accuracy: 0.4648 - val_loss: 1.1479 - val_accuracy: 0.4651\n",
      "Epoch 17/30\n",
      "92/92 [==============================] - 11s 121ms/step - loss: 1.1551 - accuracy: 0.4586 - val_loss: 1.1487 - val_accuracy: 0.4614\n",
      "Epoch 18/30\n",
      "92/92 [==============================] - 14s 147ms/step - loss: 1.1580 - accuracy: 0.4603 - val_loss: 1.1484 - val_accuracy: 0.4644\n",
      "Epoch 19/30\n",
      "92/92 [==============================] - 15s 167ms/step - loss: 1.1574 - accuracy: 0.4603 - val_loss: 1.1464 - val_accuracy: 0.4665\n",
      "Epoch 20/30\n",
      "92/92 [==============================] - 16s 177ms/step - loss: 1.1558 - accuracy: 0.4620 - val_loss: 1.1437 - val_accuracy: 0.4695\n",
      "Epoch 21/30\n",
      "92/92 [==============================] - 14s 151ms/step - loss: 1.1513 - accuracy: 0.4627 - val_loss: 1.1421 - val_accuracy: 0.4685\n",
      "Epoch 22/30\n",
      "92/92 [==============================] - 14s 157ms/step - loss: 1.1486 - accuracy: 0.4665 - val_loss: 1.1415 - val_accuracy: 0.4702\n",
      "Epoch 23/30\n",
      "92/92 [==============================] - 15s 159ms/step - loss: 1.1508 - accuracy: 0.4661 - val_loss: 1.1422 - val_accuracy: 0.4688\n",
      "Epoch 24/30\n",
      "92/92 [==============================] - 15s 161ms/step - loss: 1.1508 - accuracy: 0.4654 - val_loss: 1.1406 - val_accuracy: 0.4678\n",
      "Epoch 25/30\n",
      "92/92 [==============================] - 15s 158ms/step - loss: 1.1503 - accuracy: 0.4624 - val_loss: 1.1399 - val_accuracy: 0.4699\n",
      "Epoch 26/30\n",
      "92/92 [==============================] - 11s 117ms/step - loss: 1.1481 - accuracy: 0.4637 - val_loss: 1.1409 - val_accuracy: 0.4705\n",
      "Epoch 27/30\n",
      "92/92 [==============================] - 10s 112ms/step - loss: 1.1500 - accuracy: 0.4634 - val_loss: 1.1409 - val_accuracy: 0.4665\n",
      "Epoch 28/30\n",
      "92/92 [==============================] - 13s 140ms/step - loss: 1.1517 - accuracy: 0.4624 - val_loss: 1.1391 - val_accuracy: 0.4699\n",
      "Epoch 29/30\n",
      "92/92 [==============================] - 14s 147ms/step - loss: 1.1520 - accuracy: 0.4637 - val_loss: 1.1376 - val_accuracy: 0.4709\n",
      "Epoch 30/30\n",
      "92/92 [==============================] - 13s 146ms/step - loss: 1.1477 - accuracy: 0.4651 - val_loss: 1.1381 - val_accuracy: 0.4688\n"
     ]
    },
    {
     "data": {
      "text/plain": [
       "<tensorflow.python.keras.callbacks.History at 0x7f98a5c21190>"
      ]
     },
     "execution_count": 25,
     "metadata": {},
     "output_type": "execute_result"
    }
   ],
   "source": [
    "#Using test data as val data for now, we will be using LOOCV so dont need to worry about creating validation set\n",
    "model.fit(X_train, y_train_dummy, epochs = 30, validation_data = (X_train, y_train_dummy), batch_size = 32, verbose = 1, callbacks =[tensorboard_callback])"
   ]
  },
  {
   "cell_type": "code",
   "execution_count": null,
   "metadata": {},
   "outputs": [],
   "source": [
    "model.summary()"
   ]
  },
  {
   "cell_type": "code",
   "execution_count": null,
   "metadata": {},
   "outputs": [],
   "source": [
    "model.save(\"./model/TF_RNN.hdf5\")"
   ]
  },
  {
   "cell_type": "markdown",
   "metadata": {},
   "source": [
    "### Ignore everything below here since the test set was used for validation"
   ]
  },
  {
   "cell_type": "code",
   "execution_count": 20,
   "metadata": {},
   "outputs": [
    {
     "name": "stdout",
     "output_type": "stream",
     "text": [
      "1452/1452 [==============================] - 0s 238us/step\n",
      "[2.037001400939689, 0.43250688910484314]\n"
     ]
    }
   ],
   "source": [
    "accuracy = model.evaluate(X_test, y_test_dummy, batch_size = 32, verbose = 1)\n",
    "print(accuracy)"
   ]
  },
  {
   "cell_type": "code",
   "execution_count": 21,
   "metadata": {},
   "outputs": [],
   "source": [
    "y_pred = np.argmax(model.predict(X_test), axis=-1)"
   ]
  },
  {
   "cell_type": "code",
   "execution_count": 22,
   "metadata": {},
   "outputs": [
    {
     "data": {
      "text/plain": [
       "array([1, 0, 3, 2])"
      ]
     },
     "execution_count": 22,
     "metadata": {},
     "output_type": "execute_result"
    }
   ],
   "source": [
    "pd.unique(y_pred)"
   ]
  },
  {
   "cell_type": "code",
   "execution_count": 23,
   "metadata": {},
   "outputs": [
    {
     "name": "stdout",
     "output_type": "stream",
     "text": [
      "[[1 1]\n",
      " [1 1]\n",
      " [1 1]\n",
      " ...\n",
      " [1 3]\n",
      " [0 3]\n",
      " [0 3]]\n"
     ]
    }
   ],
   "source": [
    "# col 1 = y_pred\n",
    "# col 2 = y_test ground truth labels\n",
    "print(np.concatenate((y_pred.reshape(-1, 1), y_test.reshape(-1,1)),1))"
   ]
  },
  {
   "cell_type": "code",
   "execution_count": 24,
   "metadata": {},
   "outputs": [
    {
     "data": {
      "text/plain": [
       "array([[396, 268,  81,  77],\n",
       "       [234, 227,  44,  51],\n",
       "       [ 13,  12,   2,   1],\n",
       "       [ 17,  21,   5,   3]])"
      ]
     },
     "execution_count": 24,
     "metadata": {},
     "output_type": "execute_result"
    }
   ],
   "source": [
    "from sklearn.metrics import confusion_matrix, accuracy_score, f1_score\n",
    "confusion_matrix(y_pred, y_test)"
   ]
  },
  {
   "cell_type": "code",
   "execution_count": 25,
   "metadata": {},
   "outputs": [
    {
     "data": {
      "text/plain": [
       "0.4325068870523416"
      ]
     },
     "execution_count": 25,
     "metadata": {},
     "output_type": "execute_result"
    }
   ],
   "source": [
    "accuracy_score(y_pred, y_test)"
   ]
  },
  {
   "cell_type": "code",
   "execution_count": 26,
   "metadata": {},
   "outputs": [
    {
     "data": {
      "text/plain": [
       "0.46446382908068307"
      ]
     },
     "execution_count": 26,
     "metadata": {},
     "output_type": "execute_result"
    }
   ],
   "source": [
    "f1_score(y_pred, y_test, average = 'weighted')"
   ]
  },
  {
   "cell_type": "code",
   "execution_count": null,
   "metadata": {},
   "outputs": [],
   "source": []
  }
 ],
 "metadata": {
  "kernelspec": {
   "display_name": "Python 3",
   "language": "python",
   "name": "python3"
  },
  "language_info": {
   "codemirror_mode": {
    "name": "ipython",
    "version": 3
   },
   "file_extension": ".py",
   "mimetype": "text/x-python",
   "name": "python",
   "nbconvert_exporter": "python",
   "pygments_lexer": "ipython3",
   "version": "3.7.7"
  }
 },
 "nbformat": 4,
 "nbformat_minor": 4
}
