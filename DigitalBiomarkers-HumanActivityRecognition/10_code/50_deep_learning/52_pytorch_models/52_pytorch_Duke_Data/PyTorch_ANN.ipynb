{
 "cells": [
  {
   "cell_type": "markdown",
   "metadata": {},
   "source": [
    "# PyTorch ANN on Individual Timepoints"
   ]
  },
  {
   "cell_type": "markdown",
   "metadata": {},
   "source": [
    "This notebook uses an artificial neural network in Pytorch to classify individual timepoints of activity rounds"
   ]
  },
  {
   "cell_type": "markdown",
   "metadata": {},
   "source": [
    "__INPUT: .csv files containing individual timepoints sampled at .25 seconds (plain_data.csv)__"
   ]
  },
  {
   "cell_type": "markdown",
   "metadata": {},
   "source": [
    "## Imports"
   ]
  },
  {
   "cell_type": "code",
   "execution_count": 1,
   "metadata": {},
   "outputs": [],
   "source": [
    "import pandas as pd\n",
    "import numpy as np\n",
    "import matplotlib.pyplot as plt\n",
    "import pandas as pd\n",
    "import sklearn.metrics as metrics\n",
    "import random\n",
    "import torch\n",
    "from torch import nn\n",
    "import torch.nn.functional as F\n",
    "from keras.utils import to_categorical\n",
    "from keras.utils import np_utils\n",
    "import random\n",
    "import seaborn as sns\n",
    "import matplotlib.pyplot as plt\n",
    "import sklearn\n",
    "random.seed(999)"
   ]
  },
  {
   "cell_type": "markdown",
   "metadata": {},
   "source": [
    "## Read in data"
   ]
  },
  {
   "cell_type": "markdown",
   "metadata": {},
   "source": [
    "This dataset contains the individual timepoints of the sensors. As you can see, there is an imbalance of activity classes."
   ]
  },
  {
   "cell_type": "code",
   "execution_count": 2,
   "metadata": {},
   "outputs": [
    {
     "data": {
      "text/plain": [
       "Activity    127200\n",
       "Baseline    101760\n",
       "DB           25440\n",
       "Type         25440\n",
       "Name: Activity, dtype: int64"
      ]
     },
     "execution_count": 2,
     "metadata": {},
     "output_type": "execute_result"
    }
   ],
   "source": [
    "df  = pd.read_csv('plain_data.csv')\n",
    "df['Activity'].value_counts()"
   ]
  },
  {
   "cell_type": "markdown",
   "metadata": {},
   "source": [
    "Here, we attempt to balance the classes so that model performance is not biased towards the more prevalent classes. Unfortunately, even after many different attempts to balance classes by undersampling by various amounts, there was not one undersampling ratio that was clearly better than another.\n",
    "\n",
    "However, balancing the classes like this gives better results than leaving the classes as they originally stand, so it is still important to balance."
   ]
  },
  {
   "cell_type": "code",
   "execution_count": 3,
   "metadata": {},
   "outputs": [],
   "source": [
    "df_a = df[df['Activity'] == 'Activity'].sample(35440)\n",
    "df_b = df[df['Activity'] == 'Baseline'].sample(45440)\n",
    "df_t = df[df['Activity'] == 'Type']\n",
    "df_d = df[df['Activity'] == 'DB']\n",
    "df = pd.concat([df_a, df_b, df_t, df_d])"
   ]
  },
  {
   "cell_type": "markdown",
   "metadata": {},
   "source": [
    "### Make train/val/test split"
   ]
  },
  {
   "cell_type": "markdown",
   "metadata": {},
   "source": [
    "The validation and testing scheme for this notebook is to take a random sample of 45 subjects for the training set, validate on 5 subjects during training to assess overfitting during training epochs, and then to test on 6 subjects.\n",
    "\n",
    "Cross validation was not performed, but may be implemented in a future edition of this notebook."
   ]
  },
  {
   "cell_type": "code",
   "execution_count": 4,
   "metadata": {},
   "outputs": [],
   "source": [
    "#make a list of ID's in a random order\n",
    "ID_list = list(df['Subject_ID'].unique())\n",
    "random.shuffle(ID_list)\n",
    "\n",
    "#initialize dataframes the splits go into\n",
    "train = pd.DataFrame()\n",
    "val = pd.DataFrame()\n",
    "test = pd.DataFrame()\n",
    "\n",
    "#decide sizes of splits by indexing into randomly ordered ID list. index != ID.\n",
    "#splitting on ID allows us to generalize better if we were to have another subject's data\n",
    "train = df[df['Subject_ID'].isin(ID_list[:45])]\n",
    "val = df[df['Subject_ID'].isin(ID_list[45:50])]\n",
    "test = df[df['Subject_ID'].isin(ID_list[50:])]"
   ]
  },
  {
   "cell_type": "markdown",
   "metadata": {},
   "source": [
    "### Seperate data from labels"
   ]
  },
  {
   "cell_type": "code",
   "execution_count": 5,
   "metadata": {},
   "outputs": [],
   "source": [
    "#put the sensors that you want to use in here. see comment at bottom of cell for full list and legend\n",
    "activity_list = ['ACC1', 'ACC2', 'ACC3','TEMP', 'EDA', 'HR', 'BVP', 'Magnitude',]\n",
    "num_sensors = len(activity_list)\n",
    "\n",
    "#splitting the splits into data and labels\n",
    "#first, isolate the data\n",
    "X_train = train[activity_list] \n",
    "X_val = val[activity_list]\n",
    "X_test = test[activity_list]\n",
    "\n",
    "\n",
    "#then, isolate the labels\n",
    "y_train = train['Activity']\n",
    "y_val = val['Activity']\n",
    "y_test = test['Activity']\n",
    "\n",
    "\n",
    "#the data (X) is used to predict the labels (y) in each split (train, val, test)\n",
    "\n",
    "#what the sensor names correspond to\n",
    "#['ACC1', 'ACC2', 'ACC3','TEMP', 'EDA', 'HR', 'BVP', 'Magnitude',] \n",
    "#Accelerometry Axes, Body Temperature, Electrodermal Activity, Heart Rate, Blood Volume Pulse, Magnitude of Axes\n",
    "\n",
    "#this model uses all of the sensor data. please see the User Guide for a comparison between using all of...\n",
    "#...the features, just the ACC and Magnitude, and just the Physiological sensor data"
   ]
  },
  {
   "cell_type": "markdown",
   "metadata": {},
   "source": [
    "### Scale data"
   ]
  },
  {
   "cell_type": "code",
   "execution_count": 6,
   "metadata": {},
   "outputs": [
    {
     "name": "stderr",
     "output_type": "stream",
     "text": [
      "/Users/noahlanier/opt/anaconda3/lib/python3.7/site-packages/ipykernel_launcher.py:10: SettingWithCopyWarning: \n",
      "A value is trying to be set on a copy of a slice from a DataFrame.\n",
      "Try using .loc[row_indexer,col_indexer] = value instead\n",
      "\n",
      "See the caveats in the documentation: https://pandas.pydata.org/pandas-docs/stable/user_guide/indexing.html#returning-a-view-versus-a-copy\n",
      "  # Remove the CWD from sys.path while we load stuff.\n",
      "/Users/noahlanier/opt/anaconda3/lib/python3.7/site-packages/ipykernel_launcher.py:14: SettingWithCopyWarning: \n",
      "A value is trying to be set on a copy of a slice from a DataFrame.\n",
      "Try using .loc[row_indexer,col_indexer] = value instead\n",
      "\n",
      "See the caveats in the documentation: https://pandas.pydata.org/pandas-docs/stable/user_guide/indexing.html#returning-a-view-versus-a-copy\n",
      "  \n",
      "/Users/noahlanier/opt/anaconda3/lib/python3.7/site-packages/ipykernel_launcher.py:18: SettingWithCopyWarning: \n",
      "A value is trying to be set on a copy of a slice from a DataFrame.\n",
      "Try using .loc[row_indexer,col_indexer] = value instead\n",
      "\n",
      "See the caveats in the documentation: https://pandas.pydata.org/pandas-docs/stable/user_guide/indexing.html#returning-a-view-versus-a-copy\n",
      "/Users/noahlanier/opt/anaconda3/lib/python3.7/site-packages/ipykernel_launcher.py:10: SettingWithCopyWarning: \n",
      "A value is trying to be set on a copy of a slice from a DataFrame.\n",
      "Try using .loc[row_indexer,col_indexer] = value instead\n",
      "\n",
      "See the caveats in the documentation: https://pandas.pydata.org/pandas-docs/stable/user_guide/indexing.html#returning-a-view-versus-a-copy\n",
      "  # Remove the CWD from sys.path while we load stuff.\n",
      "/Users/noahlanier/opt/anaconda3/lib/python3.7/site-packages/ipykernel_launcher.py:14: SettingWithCopyWarning: \n",
      "A value is trying to be set on a copy of a slice from a DataFrame.\n",
      "Try using .loc[row_indexer,col_indexer] = value instead\n",
      "\n",
      "See the caveats in the documentation: https://pandas.pydata.org/pandas-docs/stable/user_guide/indexing.html#returning-a-view-versus-a-copy\n",
      "  \n",
      "/Users/noahlanier/opt/anaconda3/lib/python3.7/site-packages/ipykernel_launcher.py:18: SettingWithCopyWarning: \n",
      "A value is trying to be set on a copy of a slice from a DataFrame.\n",
      "Try using .loc[row_indexer,col_indexer] = value instead\n",
      "\n",
      "See the caveats in the documentation: https://pandas.pydata.org/pandas-docs/stable/user_guide/indexing.html#returning-a-view-versus-a-copy\n",
      "/Users/noahlanier/opt/anaconda3/lib/python3.7/site-packages/ipykernel_launcher.py:10: SettingWithCopyWarning: \n",
      "A value is trying to be set on a copy of a slice from a DataFrame.\n",
      "Try using .loc[row_indexer,col_indexer] = value instead\n",
      "\n",
      "See the caveats in the documentation: https://pandas.pydata.org/pandas-docs/stable/user_guide/indexing.html#returning-a-view-versus-a-copy\n",
      "  # Remove the CWD from sys.path while we load stuff.\n",
      "/Users/noahlanier/opt/anaconda3/lib/python3.7/site-packages/ipykernel_launcher.py:14: SettingWithCopyWarning: \n",
      "A value is trying to be set on a copy of a slice from a DataFrame.\n",
      "Try using .loc[row_indexer,col_indexer] = value instead\n",
      "\n",
      "See the caveats in the documentation: https://pandas.pydata.org/pandas-docs/stable/user_guide/indexing.html#returning-a-view-versus-a-copy\n",
      "  \n",
      "/Users/noahlanier/opt/anaconda3/lib/python3.7/site-packages/ipykernel_launcher.py:18: SettingWithCopyWarning: \n",
      "A value is trying to be set on a copy of a slice from a DataFrame.\n",
      "Try using .loc[row_indexer,col_indexer] = value instead\n",
      "\n",
      "See the caveats in the documentation: https://pandas.pydata.org/pandas-docs/stable/user_guide/indexing.html#returning-a-view-versus-a-copy\n",
      "/Users/noahlanier/opt/anaconda3/lib/python3.7/site-packages/ipykernel_launcher.py:10: SettingWithCopyWarning: \n",
      "A value is trying to be set on a copy of a slice from a DataFrame.\n",
      "Try using .loc[row_indexer,col_indexer] = value instead\n",
      "\n",
      "See the caveats in the documentation: https://pandas.pydata.org/pandas-docs/stable/user_guide/indexing.html#returning-a-view-versus-a-copy\n",
      "  # Remove the CWD from sys.path while we load stuff.\n",
      "/Users/noahlanier/opt/anaconda3/lib/python3.7/site-packages/ipykernel_launcher.py:14: SettingWithCopyWarning: \n",
      "A value is trying to be set on a copy of a slice from a DataFrame.\n",
      "Try using .loc[row_indexer,col_indexer] = value instead\n",
      "\n",
      "See the caveats in the documentation: https://pandas.pydata.org/pandas-docs/stable/user_guide/indexing.html#returning-a-view-versus-a-copy\n",
      "  \n",
      "/Users/noahlanier/opt/anaconda3/lib/python3.7/site-packages/ipykernel_launcher.py:18: SettingWithCopyWarning: \n",
      "A value is trying to be set on a copy of a slice from a DataFrame.\n",
      "Try using .loc[row_indexer,col_indexer] = value instead\n",
      "\n",
      "See the caveats in the documentation: https://pandas.pydata.org/pandas-docs/stable/user_guide/indexing.html#returning-a-view-versus-a-copy\n",
      "/Users/noahlanier/opt/anaconda3/lib/python3.7/site-packages/ipykernel_launcher.py:10: SettingWithCopyWarning: \n",
      "A value is trying to be set on a copy of a slice from a DataFrame.\n",
      "Try using .loc[row_indexer,col_indexer] = value instead\n",
      "\n",
      "See the caveats in the documentation: https://pandas.pydata.org/pandas-docs/stable/user_guide/indexing.html#returning-a-view-versus-a-copy\n",
      "  # Remove the CWD from sys.path while we load stuff.\n",
      "/Users/noahlanier/opt/anaconda3/lib/python3.7/site-packages/ipykernel_launcher.py:14: SettingWithCopyWarning: \n",
      "A value is trying to be set on a copy of a slice from a DataFrame.\n",
      "Try using .loc[row_indexer,col_indexer] = value instead\n",
      "\n",
      "See the caveats in the documentation: https://pandas.pydata.org/pandas-docs/stable/user_guide/indexing.html#returning-a-view-versus-a-copy\n",
      "  \n",
      "/Users/noahlanier/opt/anaconda3/lib/python3.7/site-packages/ipykernel_launcher.py:18: SettingWithCopyWarning: \n",
      "A value is trying to be set on a copy of a slice from a DataFrame.\n",
      "Try using .loc[row_indexer,col_indexer] = value instead\n",
      "\n",
      "See the caveats in the documentation: https://pandas.pydata.org/pandas-docs/stable/user_guide/indexing.html#returning-a-view-versus-a-copy\n",
      "/Users/noahlanier/opt/anaconda3/lib/python3.7/site-packages/ipykernel_launcher.py:10: SettingWithCopyWarning: \n",
      "A value is trying to be set on a copy of a slice from a DataFrame.\n",
      "Try using .loc[row_indexer,col_indexer] = value instead\n",
      "\n",
      "See the caveats in the documentation: https://pandas.pydata.org/pandas-docs/stable/user_guide/indexing.html#returning-a-view-versus-a-copy\n",
      "  # Remove the CWD from sys.path while we load stuff.\n",
      "/Users/noahlanier/opt/anaconda3/lib/python3.7/site-packages/ipykernel_launcher.py:14: SettingWithCopyWarning: \n",
      "A value is trying to be set on a copy of a slice from a DataFrame.\n",
      "Try using .loc[row_indexer,col_indexer] = value instead\n",
      "\n",
      "See the caveats in the documentation: https://pandas.pydata.org/pandas-docs/stable/user_guide/indexing.html#returning-a-view-versus-a-copy\n",
      "  \n",
      "/Users/noahlanier/opt/anaconda3/lib/python3.7/site-packages/ipykernel_launcher.py:18: SettingWithCopyWarning: \n",
      "A value is trying to be set on a copy of a slice from a DataFrame.\n",
      "Try using .loc[row_indexer,col_indexer] = value instead\n",
      "\n",
      "See the caveats in the documentation: https://pandas.pydata.org/pandas-docs/stable/user_guide/indexing.html#returning-a-view-versus-a-copy\n",
      "/Users/noahlanier/opt/anaconda3/lib/python3.7/site-packages/ipykernel_launcher.py:10: SettingWithCopyWarning: \n",
      "A value is trying to be set on a copy of a slice from a DataFrame.\n",
      "Try using .loc[row_indexer,col_indexer] = value instead\n",
      "\n",
      "See the caveats in the documentation: https://pandas.pydata.org/pandas-docs/stable/user_guide/indexing.html#returning-a-view-versus-a-copy\n",
      "  # Remove the CWD from sys.path while we load stuff.\n",
      "/Users/noahlanier/opt/anaconda3/lib/python3.7/site-packages/ipykernel_launcher.py:14: SettingWithCopyWarning: \n",
      "A value is trying to be set on a copy of a slice from a DataFrame.\n",
      "Try using .loc[row_indexer,col_indexer] = value instead\n",
      "\n",
      "See the caveats in the documentation: https://pandas.pydata.org/pandas-docs/stable/user_guide/indexing.html#returning-a-view-versus-a-copy\n",
      "  \n",
      "/Users/noahlanier/opt/anaconda3/lib/python3.7/site-packages/ipykernel_launcher.py:18: SettingWithCopyWarning: \n",
      "A value is trying to be set on a copy of a slice from a DataFrame.\n",
      "Try using .loc[row_indexer,col_indexer] = value instead\n",
      "\n",
      "See the caveats in the documentation: https://pandas.pydata.org/pandas-docs/stable/user_guide/indexing.html#returning-a-view-versus-a-copy\n",
      "/Users/noahlanier/opt/anaconda3/lib/python3.7/site-packages/ipykernel_launcher.py:10: SettingWithCopyWarning: \n",
      "A value is trying to be set on a copy of a slice from a DataFrame.\n",
      "Try using .loc[row_indexer,col_indexer] = value instead\n",
      "\n",
      "See the caveats in the documentation: https://pandas.pydata.org/pandas-docs/stable/user_guide/indexing.html#returning-a-view-versus-a-copy\n",
      "  # Remove the CWD from sys.path while we load stuff.\n",
      "/Users/noahlanier/opt/anaconda3/lib/python3.7/site-packages/ipykernel_launcher.py:14: SettingWithCopyWarning: \n",
      "A value is trying to be set on a copy of a slice from a DataFrame.\n",
      "Try using .loc[row_indexer,col_indexer] = value instead\n",
      "\n",
      "See the caveats in the documentation: https://pandas.pydata.org/pandas-docs/stable/user_guide/indexing.html#returning-a-view-versus-a-copy\n",
      "  \n",
      "/Users/noahlanier/opt/anaconda3/lib/python3.7/site-packages/ipykernel_launcher.py:18: SettingWithCopyWarning: \n",
      "A value is trying to be set on a copy of a slice from a DataFrame.\n",
      "Try using .loc[row_indexer,col_indexer] = value instead\n",
      "\n",
      "See the caveats in the documentation: https://pandas.pydata.org/pandas-docs/stable/user_guide/indexing.html#returning-a-view-versus-a-copy\n"
     ]
    },
    {
     "data": {
      "text/plain": [
       "254097    Activity\n",
       "19705     Activity\n",
       "94279     Activity\n",
       "275647    Activity\n",
       "89120     Activity\n",
       "            ...   \n",
       "278395          DB\n",
       "278396          DB\n",
       "278397          DB\n",
       "278398          DB\n",
       "278399          DB\n",
       "Name: Activity, Length: 106730, dtype: object"
      ]
     },
     "execution_count": 6,
     "metadata": {},
     "output_type": "execute_result"
    }
   ],
   "source": [
    "#ignore pink box of suggestions when this runs\n",
    "\n",
    "#scales the data to have a min of 0 and a max of 1\n",
    "\n",
    "from sklearn.preprocessing import MinMaxScaler\n",
    "scaler = MinMaxScaler(feature_range=(-1,1))\n",
    "for activity in activity_list:\n",
    "    #scale train data\n",
    "    temp_x_train = X_train[activity].to_numpy() \n",
    "    X_train[activity] = scaler.fit_transform(temp_x_train.reshape(-1, 1))\n",
    "    \n",
    "    #scale validation data\n",
    "    temp_x_val = X_val[activity].to_numpy()\n",
    "    X_val[activity] = scaler.fit_transform(temp_x_val.reshape(-1, 1))\n",
    "    \n",
    "    #scale test data\n",
    "    temp_x_test = X_test[activity].to_numpy()\n",
    "    X_test[activity] = scaler.fit_transform(temp_x_test.reshape(-1, 1))\n",
    "    \n",
    "y_train #what it turns into"
   ]
  },
  {
   "cell_type": "markdown",
   "metadata": {},
   "source": [
    "### Encode labels"
   ]
  },
  {
   "cell_type": "code",
   "execution_count": 7,
   "metadata": {},
   "outputs": [
    {
     "data": {
      "text/plain": [
       "array([0, 1, 2, 3])"
      ]
     },
     "execution_count": 7,
     "metadata": {},
     "output_type": "execute_result"
    }
   ],
   "source": [
    "#assigns the labels, which are currently strings, to numerical values, the form required for model interpretation\n",
    "\n",
    "from sklearn.preprocessing import LabelEncoder\n",
    "\n",
    "le = LabelEncoder()\n",
    "y_train = le.fit_transform(y_train)\n",
    "y_test = le.transform(y_test)\n",
    "y_val = le.transform(y_val)\n",
    "\n",
    "\n",
    "np.unique(y_train) #here's what it turns into"
   ]
  },
  {
   "cell_type": "markdown",
   "metadata": {},
   "source": [
    "### Initializing the model"
   ]
  },
  {
   "cell_type": "markdown",
   "metadata": {},
   "source": [
    "The model is a fully connected (dense) feedforward neural network, or an artificial neural network. This code initializes the model, it does not run it."
   ]
  },
  {
   "cell_type": "code",
   "execution_count": 8,
   "metadata": {},
   "outputs": [
    {
     "name": "stdout",
     "output_type": "stream",
     "text": [
      "DenseHAR(\n",
      "  (fc1): Linear(in_features=8, out_features=16, bias=True)\n",
      "  (fc2): Linear(in_features=16, out_features=32, bias=True)\n",
      "  (fc3): Linear(in_features=32, out_features=64, bias=True)\n",
      "  (fc4): Linear(in_features=64, out_features=32, bias=True)\n",
      "  (fc5): Linear(in_features=32, out_features=4, bias=True)\n",
      ")\n"
     ]
    }
   ],
   "source": [
    "# define the network class\n",
    "class DenseHAR(nn.Module):\n",
    "    \n",
    "    def __init__(self):\n",
    "        # call constructor from superclass\n",
    "        super().__init__()\n",
    "        \n",
    "        # define network layers\n",
    "        self.fc1 = nn.Linear(num_sensors, 16) #num_sensors is a variable defined where the activity list is\n",
    "        self.fc2 = nn.Linear(16, 32)\n",
    "        self.fc3 = nn.Linear(32, 64)\n",
    "        self.fc4 = nn.Linear(64, 32)  \n",
    "        self.fc5 = nn.Linear(32,4)\n",
    "        \n",
    "    def forward(self, x):\n",
    "        # define forward pass\n",
    "        x = F.relu(self.fc1(x))\n",
    "        x = F.relu(self.fc2(x))\n",
    "        x = F.relu(self.fc3(x))\n",
    "        x = F.relu(self.fc4(x))\n",
    "        x = self.fc5(x)\n",
    "        return x\n",
    "\n",
    "# instantiate the model\n",
    "model = DenseHAR()\n",
    "\n",
    "# print model architecture\n",
    "print(model)"
   ]
  },
  {
   "cell_type": "markdown",
   "metadata": {},
   "source": [
    "### Further format data and check what we did"
   ]
  },
  {
   "cell_type": "code",
   "execution_count": 9,
   "metadata": {},
   "outputs": [],
   "source": [
    "#needs to be like this to input to DataLoader later\n",
    "X_train = X_train.values\n",
    "X_test = X_test.values\n",
    "X_val = X_val.values"
   ]
  },
  {
   "cell_type": "code",
   "execution_count": 10,
   "metadata": {},
   "outputs": [
    {
     "name": "stdout",
     "output_type": "stream",
     "text": [
      "(106730, 8) (106730,)\n"
     ]
    }
   ],
   "source": [
    "print(X_train.shape, y_train.shape) #verify that amount of datapoints matches the amount of labels "
   ]
  },
  {
   "cell_type": "code",
   "execution_count": 11,
   "metadata": {},
   "outputs": [
    {
     "name": "stdout",
     "output_type": "stream",
     "text": [
      "[-0.22689076 -0.13389356  0.34728033  0.49723145 -0.99352715 -0.48789078\n",
      " -0.05434525 -0.48792587]\n",
      "\n",
      "0\n"
     ]
    }
   ],
   "source": [
    "#here's what a datapoint and label pair looks like\n",
    "#the array as a whole corresponds to the single label\n",
    "\n",
    "print(X_train[0])\n",
    "print()\n",
    "print(y_train[0])\n"
   ]
  },
  {
   "cell_type": "markdown",
   "metadata": {},
   "source": [
    "### Make Dataloader"
   ]
  },
  {
   "cell_type": "markdown",
   "metadata": {},
   "source": [
    "The DataLoader is a tool specific to Pytorch that allows one to seemlessly feed in their data to their model."
   ]
  },
  {
   "cell_type": "code",
   "execution_count": 12,
   "metadata": {},
   "outputs": [],
   "source": [
    "import torch\n",
    "import torchvision\n",
    "from torch.utils.data import Dataset, DataLoader\n",
    "import numpy as np\n",
    "import math\n",
    "from torch.autograd import Variable\n",
    "\n",
    "#a dataloader sets up our data to be input into a pytorch model\n",
    "\n",
    "def make_loader(X_dataset, y_dataset, batch_size, shuffle): #function to make a dataloader\n",
    "    \n",
    "    class LOAD_UP(Dataset): #turns function input dataset into an object the DataLoader constructor can understand\n",
    "                            \n",
    "        def __init__(self):\n",
    "            self.x = torch.from_numpy(X_dataset[:, 0:])\n",
    "            self.y = torch.from_numpy(y_dataset)\n",
    "            self.n_samples = X_dataset.shape[0]\n",
    "    \n",
    "        def __getitem__(self,index):\n",
    "            return self.x[index], self.y[index]\n",
    "    \n",
    "        def __len__(self):\n",
    "            return self.n_samples\n",
    "\n",
    "    dataset = LOAD_UP() #makes the DataLoader object\n",
    "    return DataLoader(dataset = dataset, \n",
    "                      shuffle = shuffle, #if you want inputs to be in a random order. we want this.\n",
    "                      batch_size = batch_size, #how many the dataloader feeds in at a time\n",
    "                      num_workers = 4)\n",
    "\n",
    "\n",
    "train_loader = make_loader(X_train, y_train, 40, True) #making loaders for each dataset that will go into the model\n",
    "test_loader = make_loader(X_test, y_test, len(X_test), True) #batch size for the following is the same as the length because we want everything fed in at once\n",
    "val_loader = make_loader(X_val, y_val, len(X_val), True)"
   ]
  },
  {
   "cell_type": "markdown",
   "metadata": {},
   "source": [
    "### Training and validating"
   ]
  },
  {
   "cell_type": "markdown",
   "metadata": {},
   "source": [
    "Running the model through more than one epoch immediately results in overfitting where the training accuracy increases and the validation accuracy decreases, so we only run it for one epoch. The TensorFlow model does not do this, yet has the same architecture, which is curious. This is something that ought to be addressed if there is a future iteration of this notebook."
   ]
  },
  {
   "cell_type": "code",
   "execution_count": 13,
   "metadata": {},
   "outputs": [
    {
     "name": "stdout",
     "output_type": "stream",
     "text": [
      "Epoch: 1\n",
      " training loss: 0.80358, training acc: 0.6593179049939099\n",
      "validation loss: 0.93259, validation acc: 0.6140505115089514\n",
      "tensor([1, 2, 3,  ..., 1, 1, 0])\n",
      "Finished Traning\n"
     ]
    }
   ],
   "source": [
    "# Loss\n",
    "criterion = nn.CrossEntropyLoss()\n",
    "\n",
    "# Optimizer\n",
    "opt = torch.optim.Adam(model.parameters(), lr=0.001)\n",
    "\n",
    "#initialize variables\n",
    "train_total = 0 \n",
    "train_correct = 0\n",
    "train_acc = 0\n",
    "running_loss = 0\n",
    "\n",
    "for epoch in range(1): #how many times we go through the data\n",
    "    \n",
    "    for v, val_data in enumerate(val_loader):\n",
    "        \n",
    "        for i, data in enumerate(train_loader):\n",
    "            # unpack data in dataloader to the inputs and labels\n",
    "            inputs, labels = data\n",
    "        \n",
    "            # variable\n",
    "            inputs, labels = Variable(inputs), Variable(labels)\n",
    "       \n",
    "            # Forward pass: Compute predic y by passing x through model\n",
    "            y_pred = model(inputs.float())\n",
    "        \n",
    "            # Loss\n",
    "            loss = criterion(y_pred, labels)\n",
    "            #print(epoch, i, loss.data[0])\n",
    "        \n",
    "            # Zero the gradients, backward pass, update weights\n",
    "            opt.zero_grad()\n",
    "            loss.backward()\n",
    "            opt.step()\n",
    "\n",
    "            # Compute Loss and Accuracy      \n",
    "            running_loss += loss.item()\n",
    "            \n",
    "            #get the actual prediction\n",
    "            scores, prediction = torch.max(y_pred.data, 1)\n",
    "            \n",
    "            \n",
    "            #add the amount got right in the batch to the total got right for the epoch\n",
    "            train_correct += int(sum(prediction == labels))\n",
    "            \n",
    "            \n",
    "        train_acc = train_correct/len(y_train) #calcualte training accuracy: amount right/amount of labels\n",
    "        \n",
    "        #using the validation dataloader, first unpacking the data\n",
    "        val_inputs, val_labels = val_data\n",
    "        \n",
    "        #variable?\n",
    "        val_inputs, val_labels = Variable(val_inputs), Variable(val_labels)\n",
    "        \n",
    "        #use the model to get \n",
    "        y_val_pred = model(val_inputs.float())\n",
    "        \n",
    "        #calculate\n",
    "        val_loss = criterion(y_val_pred, val_labels) #y_val_pred has 4 values, one for each potential class\n",
    "        val_scores, val_prediction = torch.max(y_val_pred.data, 1) #taking softmax of the model's output to get most likely class\n",
    "        val_acc = int(sum(val_prediction == val_labels))/len(val_labels) #how many predictions match up with labels divided by total number of labels\n",
    "\n",
    "    # Print training and validation accuracy per epoch \n",
    "    print(f'Epoch: {epoch+1}\\n training loss: {running_loss/len(train_loader):.5f}, training acc: {train_acc}')\n",
    "    print(f'validation loss: {val_loss:.5f}, validation acc: {val_acc}')\n",
    "    print(val_prediction)\n",
    "    train_total = 0\n",
    "    train_correct = 0\n",
    "    train_acc = 0\n",
    "    running_loss = 0\n",
    "\n",
    "print('Finished Traning')"
   ]
  },
  {
   "cell_type": "markdown",
   "metadata": {},
   "source": [
    "### Demonstration of output of model before softmax"
   ]
  },
  {
   "cell_type": "code",
   "execution_count": 14,
   "metadata": {},
   "outputs": [
    {
     "name": "stdout",
     "output_type": "stream",
     "text": [
      "tensor([-1.1306,  0.6093, -1.1616, -1.3673], grad_fn=<SelectBackward>)\n",
      "tensor(0)\n"
     ]
    }
   ],
   "source": [
    "#for educational purposes\n",
    "\n",
    "def check_validation(index): #shows how the biggest value position in the model output usually corresponds to what label the data actually has\n",
    "    print(y_val_pred[index])\n",
    "    print(val_labels[index])\n",
    "check_validation(3) #change this around to explore what the model did with individual validation datapoints\n",
    "\n",
    "#see how the prediction (1) matches up with the index of the largest value of the tensor"
   ]
  },
  {
   "cell_type": "markdown",
   "metadata": {},
   "source": [
    "### Validation Confusion Matrix"
   ]
  },
  {
   "cell_type": "code",
   "execution_count": 15,
   "metadata": {},
   "outputs": [
    {
     "data": {
      "text/plain": [
       "Text(0.5, 1.0, 'Duke Data Rolled ANN - Confusion Matrix')"
      ]
     },
     "execution_count": 15,
     "metadata": {},
     "output_type": "execute_result"
    },
    {
     "data": {
      "image/png": "[encoded data removed]",
      "text/plain": [
       "<Figure size 432x288 with 2 Axes>"
      ]
     },
     "metadata": {
      "needs_background": "light"
     },
     "output_type": "display_data"
    }
   ],
   "source": [
    "cm = sklearn.metrics.confusion_matrix(val_labels, val_prediction)\n",
    "cm= cm.astype('float')/cm.sum(axis=1)[:,np.newaxis]\n",
    "\n",
    "ax = plt.subplot()\n",
    "sns.heatmap(cm, annot = True, fmt = '.2f',cmap = 'Blues', xticklabels = le.classes_, yticklabels = le.classes_)\n",
    "ax.set_xlabel(\"Predicted labels\")\n",
    "ax.set_ylabel('Actual labels')\n",
    "plt.title('Duke Data Rolled ANN - Confusion Matrix')\n"
   ]
  },
  {
   "cell_type": "markdown",
   "metadata": {},
   "source": [
    "### Run model on the test set"
   ]
  },
  {
   "cell_type": "code",
   "execution_count": 16,
   "metadata": {},
   "outputs": [],
   "source": [
    "test_total = 0\n",
    "test_correct = 0\n",
    "test_acc = []\n",
    "for i, data in enumerate(test_loader):\n",
    "        # inputs\n",
    "        test_inputs, test_labels = data\n",
    "        \n",
    "        # variable\n",
    "        test_inputs, test_labels = Variable(test_inputs), Variable(test_labels)\n",
    "       \n",
    "        # Forward pass: predict labels by passing inputs through model for test set\n",
    "        y_pred = model(test_inputs.float())\n",
    "        \n",
    "        test_scores, test_prediction = torch.max(y_pred.data, 1)\n",
    "        \n",
    "        test_total += test_labels.size(0)\n",
    "        test_correct += int(sum(test_prediction == test_labels))\n",
    "        test_acc = test_correct/test_total"
   ]
  },
  {
   "cell_type": "markdown",
   "metadata": {},
   "source": [
    "### Test Accuracy and Confusion Matrix"
   ]
  },
  {
   "cell_type": "code",
   "execution_count": 17,
   "metadata": {},
   "outputs": [
    {
     "data": {
      "text/plain": [
       "0.6198274484741971"
      ]
     },
     "execution_count": 17,
     "metadata": {},
     "output_type": "execute_result"
    }
   ],
   "source": [
    "test_acc"
   ]
  },
  {
   "cell_type": "code",
   "execution_count": 18,
   "metadata": {},
   "outputs": [
    {
     "data": {
      "text/plain": [
       "Text(0.5, 1.0, 'Duke Data Rolled ANN - Confusion Matrix')"
      ]
     },
     "execution_count": 18,
     "metadata": {},
     "output_type": "execute_result"
    },
    {
     "data": {
      "image/png": "[encoded data removed]",
      "text/plain": [
       "<Figure size 432x288 with 2 Axes>"
      ]
     },
     "metadata": {
      "needs_background": "light"
     },
     "output_type": "display_data"
    }
   ],
   "source": [
    "cm = metrics.confusion_matrix(test_labels, test_prediction.numpy())\n",
    "cm = cm.astype('float')/cm.sum(axis=1)[:,np.newaxis]\n",
    "\n",
    "\n",
    "ax = plt.subplot()\n",
    "sns.heatmap(cm, annot = True, fmt = '.2f',cmap = 'Blues', xticklabels = le.classes_, yticklabels = le.classes_)\n",
    "ax.set_xlabel(\"Predicted labels\")\n",
    "ax.set_ylabel('Actual labels')\n",
    "plt.title('Duke Data Rolled ANN - Confusion Matrix')"
   ]
  },
  {
   "cell_type": "markdown",
   "metadata": {},
   "source": [
    "## General Notes"
   ]
  },
  {
   "cell_type": "markdown",
   "metadata": {},
   "source": [
    "These results vary between different runs. If you were to have the data and run this notebook multiple times, you would get different metrics each time. For an accurate depiction of what a typical model does, one would have to run the model many times and get an average. We do not do this for this model, but do have results for what the TensorFlow model has.\n",
    "\n",
    "The TensorFlow model results are likely more indicative of the metrics that come from classifying individual timepoints because that model's training does not overfit after 1 epoch.\n",
    "\n",
    "We still decided to include the Pytorch model in this module of the DBDP because there are a dearth of Pytorch resources available and it "
   ]
  }
 ],
 "metadata": {
  "kernelspec": {
   "display_name": "Python 3",
   "language": "python",
   "name": "python3"
  },
  "language_info": {
   "codemirror_mode": {
    "name": "ipython",
    "version": 3
   },
   "file_extension": ".py",
   "mimetype": "text/x-python",
   "name": "python",
   "nbconvert_exporter": "python",
   "pygments_lexer": "ipython3",
   "version": "3.7.7"
  }
 },
 "nbformat": 4,
 "nbformat_minor": 4
}
