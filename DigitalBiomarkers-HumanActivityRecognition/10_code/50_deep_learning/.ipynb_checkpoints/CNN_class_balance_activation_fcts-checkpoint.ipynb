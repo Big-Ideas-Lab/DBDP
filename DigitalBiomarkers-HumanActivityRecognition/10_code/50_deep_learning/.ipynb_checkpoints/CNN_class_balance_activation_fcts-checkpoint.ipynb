{
 "cells": [
  {
   "cell_type": "markdown",
   "metadata": {},
   "source": [
    "# CNN-RNN"
   ]
  },
  {
   "cell_type": "code",
   "execution_count": 51,
   "metadata": {},
   "outputs": [],
   "source": [
    "import pandas as pd\n",
    "import numpy as np\n",
    "import more_itertools\n",
    "import random"
   ]
  },
  {
   "cell_type": "code",
   "execution_count": 52,
   "metadata": {
    "scrolled": false
   },
   "outputs": [
    {
     "data": {
      "text/html": [
       "<div>\n",
       "<style scoped>\n",
       "    .dataframe tbody tr th:only-of-type {\n",
       "        vertical-align: middle;\n",
       "    }\n",
       "\n",
       "    .dataframe tbody tr th {\n",
       "        vertical-align: top;\n",
       "    }\n",
       "\n",
       "    .dataframe thead th {\n",
       "        text-align: right;\n",
       "    }\n",
       "</style>\n",
       "<table border=\"1\" class=\"dataframe\">\n",
       "  <thead>\n",
       "    <tr style=\"text-align: right;\">\n",
       "      <th></th>\n",
       "      <th>ACC1</th>\n",
       "      <th>ACC2</th>\n",
       "      <th>ACC3</th>\n",
       "      <th>TEMP</th>\n",
       "      <th>EDA</th>\n",
       "      <th>BVP</th>\n",
       "      <th>HR</th>\n",
       "      <th>Magnitude</th>\n",
       "      <th>Activity</th>\n",
       "      <th>Subject_ID</th>\n",
       "      <th>Round</th>\n",
       "    </tr>\n",
       "  </thead>\n",
       "  <tbody>\n",
       "    <tr>\n",
       "      <th>0</th>\n",
       "      <td>41.000000</td>\n",
       "      <td>27.200000</td>\n",
       "      <td>40.000000</td>\n",
       "      <td>32.39</td>\n",
       "      <td>0.275354</td>\n",
       "      <td>15.25</td>\n",
       "      <td>78.9800</td>\n",
       "      <td>63.410094</td>\n",
       "      <td>Baseline</td>\n",
       "      <td>19-001</td>\n",
       "      <td>1</td>\n",
       "    </tr>\n",
       "    <tr>\n",
       "      <th>1</th>\n",
       "      <td>41.000000</td>\n",
       "      <td>27.300000</td>\n",
       "      <td>40.000000</td>\n",
       "      <td>32.39</td>\n",
       "      <td>0.276634</td>\n",
       "      <td>-12.75</td>\n",
       "      <td>78.8350</td>\n",
       "      <td>63.453054</td>\n",
       "      <td>Baseline</td>\n",
       "      <td>19-001</td>\n",
       "      <td>1</td>\n",
       "    </tr>\n",
       "    <tr>\n",
       "      <th>2</th>\n",
       "      <td>41.000000</td>\n",
       "      <td>27.400000</td>\n",
       "      <td>40.000000</td>\n",
       "      <td>32.39</td>\n",
       "      <td>0.270231</td>\n",
       "      <td>-42.99</td>\n",
       "      <td>78.6900</td>\n",
       "      <td>63.496142</td>\n",
       "      <td>Baseline</td>\n",
       "      <td>19-001</td>\n",
       "      <td>1</td>\n",
       "    </tr>\n",
       "    <tr>\n",
       "      <th>3</th>\n",
       "      <td>41.000000</td>\n",
       "      <td>27.500000</td>\n",
       "      <td>40.000000</td>\n",
       "      <td>32.39</td>\n",
       "      <td>0.270231</td>\n",
       "      <td>18.39</td>\n",
       "      <td>78.5450</td>\n",
       "      <td>63.539358</td>\n",
       "      <td>Baseline</td>\n",
       "      <td>19-001</td>\n",
       "      <td>1</td>\n",
       "    </tr>\n",
       "    <tr>\n",
       "      <th>4</th>\n",
       "      <td>41.000000</td>\n",
       "      <td>27.600000</td>\n",
       "      <td>40.000000</td>\n",
       "      <td>32.34</td>\n",
       "      <td>0.268950</td>\n",
       "      <td>13.61</td>\n",
       "      <td>78.4000</td>\n",
       "      <td>63.582702</td>\n",
       "      <td>Baseline</td>\n",
       "      <td>19-001</td>\n",
       "      <td>1</td>\n",
       "    </tr>\n",
       "    <tr>\n",
       "      <th>...</th>\n",
       "      <td>...</td>\n",
       "      <td>...</td>\n",
       "      <td>...</td>\n",
       "      <td>...</td>\n",
       "      <td>...</td>\n",
       "      <td>...</td>\n",
       "      <td>...</td>\n",
       "      <td>...</td>\n",
       "      <td>...</td>\n",
       "      <td>...</td>\n",
       "      <td>...</td>\n",
       "    </tr>\n",
       "    <tr>\n",
       "      <th>279835</th>\n",
       "      <td>21.176471</td>\n",
       "      <td>-11.176471</td>\n",
       "      <td>64.823529</td>\n",
       "      <td>32.09</td>\n",
       "      <td>0.708502</td>\n",
       "      <td>0.85</td>\n",
       "      <td>92.8275</td>\n",
       "      <td>69.104605</td>\n",
       "      <td>Type</td>\n",
       "      <td>19-056</td>\n",
       "      <td>1</td>\n",
       "    </tr>\n",
       "    <tr>\n",
       "      <th>279836</th>\n",
       "      <td>24.235294</td>\n",
       "      <td>-12.235294</td>\n",
       "      <td>62.764706</td>\n",
       "      <td>32.09</td>\n",
       "      <td>0.694414</td>\n",
       "      <td>-1.00</td>\n",
       "      <td>92.8800</td>\n",
       "      <td>68.384649</td>\n",
       "      <td>Type</td>\n",
       "      <td>19-056</td>\n",
       "      <td>1</td>\n",
       "    </tr>\n",
       "    <tr>\n",
       "      <th>279837</th>\n",
       "      <td>27.294118</td>\n",
       "      <td>-13.294118</td>\n",
       "      <td>60.705882</td>\n",
       "      <td>32.09</td>\n",
       "      <td>0.672642</td>\n",
       "      <td>5.22</td>\n",
       "      <td>92.9400</td>\n",
       "      <td>67.874197</td>\n",
       "      <td>Type</td>\n",
       "      <td>19-056</td>\n",
       "      <td>1</td>\n",
       "    </tr>\n",
       "    <tr>\n",
       "      <th>279838</th>\n",
       "      <td>30.352941</td>\n",
       "      <td>-14.352941</td>\n",
       "      <td>58.647059</td>\n",
       "      <td>32.09</td>\n",
       "      <td>0.664957</td>\n",
       "      <td>-1.47</td>\n",
       "      <td>93.0000</td>\n",
       "      <td>67.577995</td>\n",
       "      <td>Type</td>\n",
       "      <td>19-056</td>\n",
       "      <td>1</td>\n",
       "    </tr>\n",
       "    <tr>\n",
       "      <th>279839</th>\n",
       "      <td>33.411765</td>\n",
       "      <td>-15.411765</td>\n",
       "      <td>56.588235</td>\n",
       "      <td>32.09</td>\n",
       "      <td>0.648308</td>\n",
       "      <td>1.37</td>\n",
       "      <td>93.0600</td>\n",
       "      <td>67.498866</td>\n",
       "      <td>Type</td>\n",
       "      <td>19-056</td>\n",
       "      <td>1</td>\n",
       "    </tr>\n",
       "  </tbody>\n",
       "</table>\n",
       "<p>279840 rows × 11 columns</p>\n",
       "</div>"
      ],
      "text/plain": [
       "             ACC1       ACC2       ACC3   TEMP       EDA    BVP       HR  \\\n",
       "0       41.000000  27.200000  40.000000  32.39  0.275354  15.25  78.9800   \n",
       "1       41.000000  27.300000  40.000000  32.39  0.276634 -12.75  78.8350   \n",
       "2       41.000000  27.400000  40.000000  32.39  0.270231 -42.99  78.6900   \n",
       "3       41.000000  27.500000  40.000000  32.39  0.270231  18.39  78.5450   \n",
       "4       41.000000  27.600000  40.000000  32.34  0.268950  13.61  78.4000   \n",
       "...           ...        ...        ...    ...       ...    ...      ...   \n",
       "279835  21.176471 -11.176471  64.823529  32.09  0.708502   0.85  92.8275   \n",
       "279836  24.235294 -12.235294  62.764706  32.09  0.694414  -1.00  92.8800   \n",
       "279837  27.294118 -13.294118  60.705882  32.09  0.672642   5.22  92.9400   \n",
       "279838  30.352941 -14.352941  58.647059  32.09  0.664957  -1.47  93.0000   \n",
       "279839  33.411765 -15.411765  56.588235  32.09  0.648308   1.37  93.0600   \n",
       "\n",
       "        Magnitude  Activity Subject_ID  Round  \n",
       "0       63.410094  Baseline     19-001      1  \n",
       "1       63.453054  Baseline     19-001      1  \n",
       "2       63.496142  Baseline     19-001      1  \n",
       "3       63.539358  Baseline     19-001      1  \n",
       "4       63.582702  Baseline     19-001      1  \n",
       "...           ...       ...        ...    ...  \n",
       "279835  69.104605      Type     19-056      1  \n",
       "279836  68.384649      Type     19-056      1  \n",
       "279837  67.874197      Type     19-056      1  \n",
       "279838  67.577995      Type     19-056      1  \n",
       "279839  67.498866      Type     19-056      1  \n",
       "\n",
       "[279840 rows x 11 columns]"
      ]
     },
     "execution_count": 52,
     "metadata": {},
     "output_type": "execute_result"
    }
   ],
   "source": [
    "df = pd.read_csv('/Users/N1/Data-2020/10_code/csv/no_aw_no_28.csv') #read in the csv file\n",
    "df"
   ]
  },
  {
   "cell_type": "markdown",
   "metadata": {},
   "source": [
    "### Label Encode"
   ]
  },
  {
   "cell_type": "code",
   "execution_count": 53,
   "metadata": {},
   "outputs": [],
   "source": [
    "from sklearn.preprocessing import LabelEncoder\n",
    "le = LabelEncoder()\n",
    "df['Subject_ID'] = le.fit_transform(df['Subject_ID'])"
   ]
  },
  {
   "cell_type": "code",
   "execution_count": 54,
   "metadata": {},
   "outputs": [
    {
     "name": "stdout",
     "output_type": "stream",
     "text": [
      "{'Activity': 0, 'Baseline': 1, 'DB': 2, 'Type': 3}\n"
     ]
    }
   ],
   "source": [
    "le1 = LabelEncoder()\n",
    "df['Activity'] = le1.fit_transform(df['Activity'])\n",
    "\n",
    "activity_name_mapping = dict(zip(le1.classes_, le1.transform(le1.classes_)))\n",
    "print(activity_name_mapping)"
   ]
  },
  {
   "cell_type": "markdown",
   "metadata": {},
   "source": [
    "### Sliding Window"
   ]
  },
  {
   "cell_type": "code",
   "execution_count": 55,
   "metadata": {},
   "outputs": [],
   "source": [
    "activity_list = list(df['Activity'].unique()) \n",
    "sub_id_list = list(df['Subject_ID'].unique())\n",
    "round_list = list(df['Round'].unique())"
   ]
  },
  {
   "cell_type": "code",
   "execution_count": 56,
   "metadata": {},
   "outputs": [],
   "source": [
    "from window_slider import Slider\n",
    "\n",
    "def make_windows(df, bucket_size, overlap_count):\n",
    "    window_list = []\n",
    "    final = pd.DataFrame()\n",
    "    activity_list = list(df['Activity'].unique()) #list of the four activities\n",
    "    sub_id_list = list(df['Subject_ID'].unique()) #list of the subject ids\n",
    "    round_list = list(df['Round'].unique())\n",
    "    df_list = []\n",
    "\n",
    "\n",
    "    for i in sub_id_list:\n",
    "        df_subject = df[df['Subject_ID'] == i] #isolate a single subject id\n",
    "        for j in activity_list:\n",
    "            df_subject_activity = df_subject[df_subject['Activity'] == j] #isolate by activity\n",
    "            for k in round_list:\n",
    "                df_subject_activity_round = df_subject_activity[df_subject_activity['Round'] == k]\n",
    "                final_df = pd.DataFrame()\n",
    "                if df_subject_activity_round.empty:\n",
    "                      pass\n",
    "                else:\n",
    "                    df_flat = df_subject_activity_round[['ACC1', 'ACC2','ACC3','TEMP','EDA','BVP','HR','Magnitude', 'Subject_ID']].T.values #array of arrays, each row is every single reading in an array for a sensor in that isolation \n",
    "\n",
    "                    slider = Slider(bucket_size,overlap_count)\n",
    "                    slider.fit(df_flat)\n",
    "                    while True:\n",
    "                        window_data = slider.slide()\n",
    "\n",
    "                        if slider.reached_end_of_list(): break\n",
    "                        window_list.append(list(window_data))\n",
    "                    final_df = final.append(window_list)\n",
    "                    final_df.columns = [['ACC1', 'ACC2','ACC3','TEMP','EDA','BVP','HR','Magnitude', 'SID']]\n",
    "                    final_df.insert(9, \"Subject_ID\", [i]*len(final_df), True)\n",
    "                    final_df.insert(10, \"Activity\", [j]*len(final_df), True)\n",
    "                    final_df.insert(11, \"Round\", [k]*len(final_df), True)\n",
    "                    df_list.append(final_df)\n",
    "                    window_list = []\n",
    "\n",
    "    final = pd.DataFrame(columns = df_list[0].columns)\n",
    "\n",
    "    for l in df_list:\n",
    "        final = final.append(l)\n",
    "\n",
    "\n",
    "    final\n",
    "    final.columns = final.columns.map(''.join)\n",
    "    return final\n"
   ]
  },
  {
   "cell_type": "markdown",
   "metadata": {},
   "source": [
    "#### Please edit the cell below to change windows"
   ]
  },
  {
   "cell_type": "code",
   "execution_count": 57,
   "metadata": {},
   "outputs": [],
   "source": [
    "window_size = 80\n",
    "window_overlap = 40"
   ]
  },
  {
   "cell_type": "code",
   "execution_count": 58,
   "metadata": {},
   "outputs": [],
   "source": [
    "windowed = make_windows(df, window_size, window_overlap)"
   ]
  },
  {
   "cell_type": "code",
   "execution_count": 59,
   "metadata": {},
   "outputs": [],
   "source": [
    "windowed=windowed.assign(count=windowed.groupby(windowed.Activity.ne(windowed.Activity.shift()).cumsum()).cumcount().add(1))"
   ]
  },
  {
   "cell_type": "code",
   "execution_count": 60,
   "metadata": {},
   "outputs": [],
   "source": [
    "rep_arr = []\n",
    "for i in range(len(windowed)):\n",
    "    rep_arr.append(np.repeat(np.array(windowed['count'].iloc[i]),40))\n",
    "windowed['count'] = rep_arr"
   ]
  },
  {
   "cell_type": "code",
   "execution_count": 61,
   "metadata": {},
   "outputs": [
    {
     "data": {
      "text/html": [
       "<div>\n",
       "<style scoped>\n",
       "    .dataframe tbody tr th:only-of-type {\n",
       "        vertical-align: middle;\n",
       "    }\n",
       "\n",
       "    .dataframe tbody tr th {\n",
       "        vertical-align: top;\n",
       "    }\n",
       "\n",
       "    .dataframe thead th {\n",
       "        text-align: right;\n",
       "    }\n",
       "</style>\n",
       "<table border=\"1\" class=\"dataframe\">\n",
       "  <thead>\n",
       "    <tr style=\"text-align: right;\">\n",
       "      <th></th>\n",
       "      <th>ACC1</th>\n",
       "      <th>ACC2</th>\n",
       "      <th>ACC3</th>\n",
       "      <th>TEMP</th>\n",
       "      <th>EDA</th>\n",
       "      <th>BVP</th>\n",
       "      <th>HR</th>\n",
       "      <th>Magnitude</th>\n",
       "      <th>SID</th>\n",
       "      <th>Subject_ID</th>\n",
       "      <th>Activity</th>\n",
       "      <th>Round</th>\n",
       "      <th>count</th>\n",
       "    </tr>\n",
       "  </thead>\n",
       "  <tbody>\n",
       "    <tr>\n",
       "      <th>0</th>\n",
       "      <td>[41.0, 41.0, 41.0, 41.0, 41.0, 41.0, 41.0, 41....</td>\n",
       "      <td>[27.2, 27.3, 27.4, 27.5, 27.6, 27.7, 27.8, 27....</td>\n",
       "      <td>[40.0, 40.0, 40.0, 40.0, 40.0, 40.0, 40.0, 40....</td>\n",
       "      <td>[32.39, 32.39, 32.39, 32.39, 32.34, 32.34, 32....</td>\n",
       "      <td>[0.275354, 0.276634, 0.270231, 0.270231, 0.268...</td>\n",
       "      <td>[15.25, -12.75, -42.99, 18.39, 13.61, -9.66, -...</td>\n",
       "      <td>[78.98, 78.83500000000002, 78.69, 78.545, 78.4...</td>\n",
       "      <td>[63.410093833710725, 63.453053512025726, 63.49...</td>\n",
       "      <td>[0.0, 0.0, 0.0, 0.0, 0.0, 0.0, 0.0, 0.0, 0.0, ...</td>\n",
       "      <td>0</td>\n",
       "      <td>1</td>\n",
       "      <td>1</td>\n",
       "      <td>[1, 1, 1, 1, 1, 1, 1, 1, 1, 1, 1, 1, 1, 1, 1, ...</td>\n",
       "    </tr>\n",
       "    <tr>\n",
       "      <th>1</th>\n",
       "      <td>[39.0, 39.06521739130435, 39.130434782608695, ...</td>\n",
       "      <td>[29.0, 28.93478260869565, 28.869565217391305, ...</td>\n",
       "      <td>[38.0, 38.02173913043478, 38.04347826086956, 3...</td>\n",
       "      <td>[32.34, 32.34, 32.34, 32.34, 32.33, 32.33, 32....</td>\n",
       "      <td>[0.25998499999999997, 0.25998499999999997, 0.2...</td>\n",
       "      <td>[-18.83, -0.3, 11.03, 6.09, -15.3, 14.61, 6.75...</td>\n",
       "      <td>[73.52, 73.435, 73.35, 73.265, 73.18, 73.0925,...</td>\n",
       "      <td>[61.69278726074872, 61.7168170027034, 61.74098...</td>\n",
       "      <td>[0.0, 0.0, 0.0, 0.0, 0.0, 0.0, 0.0, 0.0, 0.0, ...</td>\n",
       "      <td>0</td>\n",
       "      <td>1</td>\n",
       "      <td>1</td>\n",
       "      <td>[2, 2, 2, 2, 2, 2, 2, 2, 2, 2, 2, 2, 2, 2, 2, ...</td>\n",
       "    </tr>\n",
       "    <tr>\n",
       "      <th>2</th>\n",
       "      <td>[41.60869565217392, 41.67391304347826, 41.7391...</td>\n",
       "      <td>[26.39130434782609, 26.32608695652174, 26.2608...</td>\n",
       "      <td>[38.869565217391305, 38.89130434782609, 38.913...</td>\n",
       "      <td>[32.34, 32.34, 32.34, 32.34, 32.33, 32.33, 32....</td>\n",
       "      <td>[0.265108, 0.263827, 0.266389, 0.265108, 0.266...</td>\n",
       "      <td>[-27.69, 30.51, 14.64, 1.97, -13.65, -48.52, 1...</td>\n",
       "      <td>[69.63, 69.515, 69.4, 69.285, 69.17, 69.04, 68...</td>\n",
       "      <td>[62.758486272725364, 62.78782873035957, 62.817...</td>\n",
       "      <td>[0.0, 0.0, 0.0, 0.0, 0.0, 0.0, 0.0, 0.0, 0.0, ...</td>\n",
       "      <td>0</td>\n",
       "      <td>1</td>\n",
       "      <td>1</td>\n",
       "      <td>[3, 3, 3, 3, 3, 3, 3, 3, 3, 3, 3, 3, 3, 3, 3, ...</td>\n",
       "    </tr>\n",
       "    <tr>\n",
       "      <th>3</th>\n",
       "      <td>[43.971428571428575, 44.14285714285715, 44.314...</td>\n",
       "      <td>[24.514285714285712, 24.42857142857143, 24.342...</td>\n",
       "      <td>[37.17142857142857, 37.142857142857146, 37.114...</td>\n",
       "      <td>[32.33, 32.33, 32.33, 32.33, 32.34, 32.34, 32....</td>\n",
       "      <td>[0.258704, 0.258704, 0.258704, 0.257424, 0.257...</td>\n",
       "      <td>[17.18, 2.41, -22.11, 5.12, 18.43, 5.34, -14.3...</td>\n",
       "      <td>[64.68, 64.555, 64.43, 64.305, 64.18, 64.0475,...</td>\n",
       "      <td>[62.579164557660036, 62.649331804179724, 62.72...</td>\n",
       "      <td>[0.0, 0.0, 0.0, 0.0, 0.0, 0.0, 0.0, 0.0, 0.0, ...</td>\n",
       "      <td>0</td>\n",
       "      <td>1</td>\n",
       "      <td>1</td>\n",
       "      <td>[4, 4, 4, 4, 4, 4, 4, 4, 4, 4, 4, 4, 4, 4, 4, ...</td>\n",
       "    </tr>\n",
       "    <tr>\n",
       "      <th>4</th>\n",
       "      <td>[45.54838709677418, 45.564516129032256, 45.580...</td>\n",
       "      <td>[25.64516129032258, 25.69354838709677, 25.7419...</td>\n",
       "      <td>[37.0, 37.0, 37.0, 37.0, 37.0, 37.0, 37.0, 37....</td>\n",
       "      <td>[32.34, 32.34, 32.34, 32.34, 32.33, 32.33, 32....</td>\n",
       "      <td>[0.253581, 0.253581, 0.253581, 0.252301, 0.252...</td>\n",
       "      <td>[-32.0, 15.14, 24.41, 3.88, -22.97, -0.34, 17....</td>\n",
       "      <td>[60.92, 60.8475, 60.77500000000001, 60.7025, 6...</td>\n",
       "      <td>[64.04162603123257, 64.07248675362091, 64.1033...</td>\n",
       "      <td>[0.0, 0.0, 0.0, 0.0, 0.0, 0.0, 0.0, 0.0, 0.0, ...</td>\n",
       "      <td>0</td>\n",
       "      <td>1</td>\n",
       "      <td>1</td>\n",
       "      <td>[5, 5, 5, 5, 5, 5, 5, 5, 5, 5, 5, 5, 5, 5, 5, ...</td>\n",
       "    </tr>\n",
       "    <tr>\n",
       "      <th>...</th>\n",
       "      <td>...</td>\n",
       "      <td>...</td>\n",
       "      <td>...</td>\n",
       "      <td>...</td>\n",
       "      <td>...</td>\n",
       "      <td>...</td>\n",
       "      <td>...</td>\n",
       "      <td>...</td>\n",
       "      <td>...</td>\n",
       "      <td>...</td>\n",
       "      <td>...</td>\n",
       "      <td>...</td>\n",
       "      <td>...</td>\n",
       "    </tr>\n",
       "    <tr>\n",
       "      <th>0</th>\n",
       "      <td>[55.0, 66.0, 64.48484848484848, 62.96969696969...</td>\n",
       "      <td>[-41.0, -20.0, -19.78787878787879, -19.5757575...</td>\n",
       "      <td>[8.0, 14.0, 14.93939393939394, 15.878787878787...</td>\n",
       "      <td>[32.21, 32.21, 32.21, 32.21, 32.23, 32.23, 32....</td>\n",
       "      <td>[0.349902, 0.320445, 0.307638, 0.314042, 0.319...</td>\n",
       "      <td>[44.06, 29.57, 50.55, 5.15, 27.56, 29.14, -11....</td>\n",
       "      <td>[98.63, 98.615, 98.6, 98.585, 98.57, 98.565, 9...</td>\n",
       "      <td>[69.06518659932803, 70.37044834303674, 69.0872...</td>\n",
       "      <td>[54.0, 54.0, 54.0, 54.0, 54.0, 54.0, 54.0, 54....</td>\n",
       "      <td>54</td>\n",
       "      <td>3</td>\n",
       "      <td>1</td>\n",
       "      <td>[1, 1, 1, 1, 1, 1, 1, 1, 1, 1, 1, 1, 1, 1, 1, ...</td>\n",
       "    </tr>\n",
       "    <tr>\n",
       "      <th>1</th>\n",
       "      <td>[14.344827586206891, 14.06896551724138, 13.793...</td>\n",
       "      <td>[-11.965517241379313, -11.79310344827586, -11....</td>\n",
       "      <td>[49.96551724137931, 50.793103448275865, 51.620...</td>\n",
       "      <td>[32.21, 32.21, 32.21, 32.21, 32.21, 32.21, 32....</td>\n",
       "      <td>[0.5432899999999999, 0.531763, 0.545851, 0.543...</td>\n",
       "      <td>[2.83, -80.79, 14.21, 42.24, -9.61, -17.43, 7....</td>\n",
       "      <td>[97.15, 97.08, 97.01, 96.94, 96.87, 96.8025, 9...</td>\n",
       "      <td>[53.34323382145407, 54.00881814643157, 54.6807...</td>\n",
       "      <td>[54.0, 54.0, 54.0, 54.0, 54.0, 54.0, 54.0, 54....</td>\n",
       "      <td>54</td>\n",
       "      <td>3</td>\n",
       "      <td>1</td>\n",
       "      <td>[2, 2, 2, 2, 2, 2, 2, 2, 2, 2, 2, 2, 2, 2, 2, ...</td>\n",
       "    </tr>\n",
       "    <tr>\n",
       "      <th>2</th>\n",
       "      <td>[16.53333333333333, 16.266666666666666, 16.0, ...</td>\n",
       "      <td>[2.2666666666666675, 3.1333333333333333, 4.0, ...</td>\n",
       "      <td>[69.2, 69.6, 70.0, 70.04545454545455, 70.09090...</td>\n",
       "      <td>[32.21, 32.21, 32.21, 32.21, 32.16, 32.16, 32....</td>\n",
       "      <td>[0.539447, 0.54457, 0.521517, 0.52536, 0.51895...</td>\n",
       "      <td>[-1.4, -3.26, -2.79, -4.55, 1.99, 1.45, -5.31,...</td>\n",
       "      <td>[94.62, 94.5775, 94.535, 94.4925, 94.45, 94.41...</td>\n",
       "      <td>[71.18376843697506, 71.5442675706602, 71.91661...</td>\n",
       "      <td>[54.0, 54.0, 54.0, 54.0, 54.0, 54.0, 54.0, 54....</td>\n",
       "      <td>54</td>\n",
       "      <td>3</td>\n",
       "      <td>1</td>\n",
       "      <td>[3, 3, 3, 3, 3, 3, 3, 3, 3, 3, 3, 3, 3, 3, 3, ...</td>\n",
       "    </tr>\n",
       "    <tr>\n",
       "      <th>3</th>\n",
       "      <td>[12.26315789473684, 12.342105263157894, 12.421...</td>\n",
       "      <td>[-6.0, -6.0, -6.0, -6.0, -6.0, -6.0, -6.0, -6....</td>\n",
       "      <td>[57.526315789473685, 56.684210526315795, 55.84...</td>\n",
       "      <td>[32.16, 32.16, 32.16, 32.16, 32.18, 32.18, 32....</td>\n",
       "      <td>[0.530482, 0.530482, 0.542009, 0.545851, 0.558...</td>\n",
       "      <td>[1.59, 1.72, 0.36, -1.73, 0.05, 3.58, -0.84, -...</td>\n",
       "      <td>[93.68, 93.64, 93.6, 93.56, 93.52, 93.4575, 93...</td>\n",
       "      <td>[59.12412409382059, 58.321756534920645, 57.520...</td>\n",
       "      <td>[54.0, 54.0, 54.0, 54.0, 54.0, 54.0, 54.0, 54....</td>\n",
       "      <td>54</td>\n",
       "      <td>3</td>\n",
       "      <td>1</td>\n",
       "      <td>[4, 4, 4, 4, 4, 4, 4, 4, 4, 4, 4, 4, 4, 4, 4, ...</td>\n",
       "    </tr>\n",
       "    <tr>\n",
       "      <th>4</th>\n",
       "      <td>[16.16, 16.28, 16.4, 16.52, 16.64, 16.75999999...</td>\n",
       "      <td>[-8.879999999999997, -9.04, -9.2, -9.36, -9.52...</td>\n",
       "      <td>[43.32, 43.56, 43.8, 44.04, 44.28, 44.52, 44.7...</td>\n",
       "      <td>[32.15, 32.15, 32.15, 32.15, 32.15, 32.15, 32....</td>\n",
       "      <td>[0.531763, 0.5189560000000001, 0.521517, 0.520...</td>\n",
       "      <td>[-1.31, 1.69, -2.65, -3.59, 6.38, -6.17, 2.61,...</td>\n",
       "      <td>[91.7, 91.6875, 91.675, 91.6625, 91.65, 91.632...</td>\n",
       "      <td>[47.08101953016735, 47.37334271507554, 47.6659...</td>\n",
       "      <td>[54.0, 54.0, 54.0, 54.0, 54.0, 54.0, 54.0, 54....</td>\n",
       "      <td>54</td>\n",
       "      <td>3</td>\n",
       "      <td>1</td>\n",
       "      <td>[5, 5, 5, 5, 5, 5, 5, 5, 5, 5, 5, 5, 5, 5, 5, ...</td>\n",
       "    </tr>\n",
       "  </tbody>\n",
       "</table>\n",
       "<p>6572 rows × 13 columns</p>\n",
       "</div>"
      ],
      "text/plain": [
       "                                                 ACC1  \\\n",
       "0   [41.0, 41.0, 41.0, 41.0, 41.0, 41.0, 41.0, 41....   \n",
       "1   [39.0, 39.06521739130435, 39.130434782608695, ...   \n",
       "2   [41.60869565217392, 41.67391304347826, 41.7391...   \n",
       "3   [43.971428571428575, 44.14285714285715, 44.314...   \n",
       "4   [45.54838709677418, 45.564516129032256, 45.580...   \n",
       "..                                                ...   \n",
       "0   [55.0, 66.0, 64.48484848484848, 62.96969696969...   \n",
       "1   [14.344827586206891, 14.06896551724138, 13.793...   \n",
       "2   [16.53333333333333, 16.266666666666666, 16.0, ...   \n",
       "3   [12.26315789473684, 12.342105263157894, 12.421...   \n",
       "4   [16.16, 16.28, 16.4, 16.52, 16.64, 16.75999999...   \n",
       "\n",
       "                                                 ACC2  \\\n",
       "0   [27.2, 27.3, 27.4, 27.5, 27.6, 27.7, 27.8, 27....   \n",
       "1   [29.0, 28.93478260869565, 28.869565217391305, ...   \n",
       "2   [26.39130434782609, 26.32608695652174, 26.2608...   \n",
       "3   [24.514285714285712, 24.42857142857143, 24.342...   \n",
       "4   [25.64516129032258, 25.69354838709677, 25.7419...   \n",
       "..                                                ...   \n",
       "0   [-41.0, -20.0, -19.78787878787879, -19.5757575...   \n",
       "1   [-11.965517241379313, -11.79310344827586, -11....   \n",
       "2   [2.2666666666666675, 3.1333333333333333, 4.0, ...   \n",
       "3   [-6.0, -6.0, -6.0, -6.0, -6.0, -6.0, -6.0, -6....   \n",
       "4   [-8.879999999999997, -9.04, -9.2, -9.36, -9.52...   \n",
       "\n",
       "                                                 ACC3  \\\n",
       "0   [40.0, 40.0, 40.0, 40.0, 40.0, 40.0, 40.0, 40....   \n",
       "1   [38.0, 38.02173913043478, 38.04347826086956, 3...   \n",
       "2   [38.869565217391305, 38.89130434782609, 38.913...   \n",
       "3   [37.17142857142857, 37.142857142857146, 37.114...   \n",
       "4   [37.0, 37.0, 37.0, 37.0, 37.0, 37.0, 37.0, 37....   \n",
       "..                                                ...   \n",
       "0   [8.0, 14.0, 14.93939393939394, 15.878787878787...   \n",
       "1   [49.96551724137931, 50.793103448275865, 51.620...   \n",
       "2   [69.2, 69.6, 70.0, 70.04545454545455, 70.09090...   \n",
       "3   [57.526315789473685, 56.684210526315795, 55.84...   \n",
       "4   [43.32, 43.56, 43.8, 44.04, 44.28, 44.52, 44.7...   \n",
       "\n",
       "                                                 TEMP  \\\n",
       "0   [32.39, 32.39, 32.39, 32.39, 32.34, 32.34, 32....   \n",
       "1   [32.34, 32.34, 32.34, 32.34, 32.33, 32.33, 32....   \n",
       "2   [32.34, 32.34, 32.34, 32.34, 32.33, 32.33, 32....   \n",
       "3   [32.33, 32.33, 32.33, 32.33, 32.34, 32.34, 32....   \n",
       "4   [32.34, 32.34, 32.34, 32.34, 32.33, 32.33, 32....   \n",
       "..                                                ...   \n",
       "0   [32.21, 32.21, 32.21, 32.21, 32.23, 32.23, 32....   \n",
       "1   [32.21, 32.21, 32.21, 32.21, 32.21, 32.21, 32....   \n",
       "2   [32.21, 32.21, 32.21, 32.21, 32.16, 32.16, 32....   \n",
       "3   [32.16, 32.16, 32.16, 32.16, 32.18, 32.18, 32....   \n",
       "4   [32.15, 32.15, 32.15, 32.15, 32.15, 32.15, 32....   \n",
       "\n",
       "                                                  EDA  \\\n",
       "0   [0.275354, 0.276634, 0.270231, 0.270231, 0.268...   \n",
       "1   [0.25998499999999997, 0.25998499999999997, 0.2...   \n",
       "2   [0.265108, 0.263827, 0.266389, 0.265108, 0.266...   \n",
       "3   [0.258704, 0.258704, 0.258704, 0.257424, 0.257...   \n",
       "4   [0.253581, 0.253581, 0.253581, 0.252301, 0.252...   \n",
       "..                                                ...   \n",
       "0   [0.349902, 0.320445, 0.307638, 0.314042, 0.319...   \n",
       "1   [0.5432899999999999, 0.531763, 0.545851, 0.543...   \n",
       "2   [0.539447, 0.54457, 0.521517, 0.52536, 0.51895...   \n",
       "3   [0.530482, 0.530482, 0.542009, 0.545851, 0.558...   \n",
       "4   [0.531763, 0.5189560000000001, 0.521517, 0.520...   \n",
       "\n",
       "                                                  BVP  \\\n",
       "0   [15.25, -12.75, -42.99, 18.39, 13.61, -9.66, -...   \n",
       "1   [-18.83, -0.3, 11.03, 6.09, -15.3, 14.61, 6.75...   \n",
       "2   [-27.69, 30.51, 14.64, 1.97, -13.65, -48.52, 1...   \n",
       "3   [17.18, 2.41, -22.11, 5.12, 18.43, 5.34, -14.3...   \n",
       "4   [-32.0, 15.14, 24.41, 3.88, -22.97, -0.34, 17....   \n",
       "..                                                ...   \n",
       "0   [44.06, 29.57, 50.55, 5.15, 27.56, 29.14, -11....   \n",
       "1   [2.83, -80.79, 14.21, 42.24, -9.61, -17.43, 7....   \n",
       "2   [-1.4, -3.26, -2.79, -4.55, 1.99, 1.45, -5.31,...   \n",
       "3   [1.59, 1.72, 0.36, -1.73, 0.05, 3.58, -0.84, -...   \n",
       "4   [-1.31, 1.69, -2.65, -3.59, 6.38, -6.17, 2.61,...   \n",
       "\n",
       "                                                   HR  \\\n",
       "0   [78.98, 78.83500000000002, 78.69, 78.545, 78.4...   \n",
       "1   [73.52, 73.435, 73.35, 73.265, 73.18, 73.0925,...   \n",
       "2   [69.63, 69.515, 69.4, 69.285, 69.17, 69.04, 68...   \n",
       "3   [64.68, 64.555, 64.43, 64.305, 64.18, 64.0475,...   \n",
       "4   [60.92, 60.8475, 60.77500000000001, 60.7025, 6...   \n",
       "..                                                ...   \n",
       "0   [98.63, 98.615, 98.6, 98.585, 98.57, 98.565, 9...   \n",
       "1   [97.15, 97.08, 97.01, 96.94, 96.87, 96.8025, 9...   \n",
       "2   [94.62, 94.5775, 94.535, 94.4925, 94.45, 94.41...   \n",
       "3   [93.68, 93.64, 93.6, 93.56, 93.52, 93.4575, 93...   \n",
       "4   [91.7, 91.6875, 91.675, 91.6625, 91.65, 91.632...   \n",
       "\n",
       "                                            Magnitude  \\\n",
       "0   [63.410093833710725, 63.453053512025726, 63.49...   \n",
       "1   [61.69278726074872, 61.7168170027034, 61.74098...   \n",
       "2   [62.758486272725364, 62.78782873035957, 62.817...   \n",
       "3   [62.579164557660036, 62.649331804179724, 62.72...   \n",
       "4   [64.04162603123257, 64.07248675362091, 64.1033...   \n",
       "..                                                ...   \n",
       "0   [69.06518659932803, 70.37044834303674, 69.0872...   \n",
       "1   [53.34323382145407, 54.00881814643157, 54.6807...   \n",
       "2   [71.18376843697506, 71.5442675706602, 71.91661...   \n",
       "3   [59.12412409382059, 58.321756534920645, 57.520...   \n",
       "4   [47.08101953016735, 47.37334271507554, 47.6659...   \n",
       "\n",
       "                                                  SID Subject_ID Activity  \\\n",
       "0   [0.0, 0.0, 0.0, 0.0, 0.0, 0.0, 0.0, 0.0, 0.0, ...          0        1   \n",
       "1   [0.0, 0.0, 0.0, 0.0, 0.0, 0.0, 0.0, 0.0, 0.0, ...          0        1   \n",
       "2   [0.0, 0.0, 0.0, 0.0, 0.0, 0.0, 0.0, 0.0, 0.0, ...          0        1   \n",
       "3   [0.0, 0.0, 0.0, 0.0, 0.0, 0.0, 0.0, 0.0, 0.0, ...          0        1   \n",
       "4   [0.0, 0.0, 0.0, 0.0, 0.0, 0.0, 0.0, 0.0, 0.0, ...          0        1   \n",
       "..                                                ...        ...      ...   \n",
       "0   [54.0, 54.0, 54.0, 54.0, 54.0, 54.0, 54.0, 54....         54        3   \n",
       "1   [54.0, 54.0, 54.0, 54.0, 54.0, 54.0, 54.0, 54....         54        3   \n",
       "2   [54.0, 54.0, 54.0, 54.0, 54.0, 54.0, 54.0, 54....         54        3   \n",
       "3   [54.0, 54.0, 54.0, 54.0, 54.0, 54.0, 54.0, 54....         54        3   \n",
       "4   [54.0, 54.0, 54.0, 54.0, 54.0, 54.0, 54.0, 54....         54        3   \n",
       "\n",
       "   Round                                              count  \n",
       "0      1  [1, 1, 1, 1, 1, 1, 1, 1, 1, 1, 1, 1, 1, 1, 1, ...  \n",
       "1      1  [2, 2, 2, 2, 2, 2, 2, 2, 2, 2, 2, 2, 2, 2, 2, ...  \n",
       "2      1  [3, 3, 3, 3, 3, 3, 3, 3, 3, 3, 3, 3, 3, 3, 3, ...  \n",
       "3      1  [4, 4, 4, 4, 4, 4, 4, 4, 4, 4, 4, 4, 4, 4, 4, ...  \n",
       "4      1  [5, 5, 5, 5, 5, 5, 5, 5, 5, 5, 5, 5, 5, 5, 5, ...  \n",
       "..   ...                                                ...  \n",
       "0      1  [1, 1, 1, 1, 1, 1, 1, 1, 1, 1, 1, 1, 1, 1, 1, ...  \n",
       "1      1  [2, 2, 2, 2, 2, 2, 2, 2, 2, 2, 2, 2, 2, 2, 2, ...  \n",
       "2      1  [3, 3, 3, 3, 3, 3, 3, 3, 3, 3, 3, 3, 3, 3, 3, ...  \n",
       "3      1  [4, 4, 4, 4, 4, 4, 4, 4, 4, 4, 4, 4, 4, 4, 4, ...  \n",
       "4      1  [5, 5, 5, 5, 5, 5, 5, 5, 5, 5, 5, 5, 5, 5, 5, ...  \n",
       "\n",
       "[6572 rows x 13 columns]"
      ]
     },
     "execution_count": 61,
     "metadata": {},
     "output_type": "execute_result"
    }
   ],
   "source": [
    "windowed "
   ]
  },
  {
   "cell_type": "code",
   "execution_count": 62,
   "metadata": {
    "scrolled": true
   },
   "outputs": [
    {
     "data": {
      "text/plain": [
       "0    3074\n",
       "1    2438\n",
       "3     530\n",
       "2     530\n",
       "Name: Activity, dtype: int64"
      ]
     },
     "execution_count": 62,
     "metadata": {},
     "output_type": "execute_result"
    }
   ],
   "source": [
    "windowed['Activity'].value_counts()"
   ]
  },
  {
   "cell_type": "markdown",
   "metadata": {},
   "source": [
    "### Split Train Test"
   ]
  },
  {
   "cell_type": "code",
   "execution_count": 63,
   "metadata": {},
   "outputs": [
    {
     "name": "stdout",
     "output_type": "stream",
     "text": [
      "(5394, 13) (1178, 13)\n"
     ]
    }
   ],
   "source": [
    "ID_list = list(windowed['Subject_ID'].unique())\n",
    "random.shuffle(ID_list)\n",
    "train = pd.DataFrame()\n",
    "test = pd.DataFrame()\n",
    "\n",
    "#change size of train/test split\n",
    "train = windowed[windowed['Subject_ID'].isin(ID_list[:45])]\n",
    "test = windowed[windowed['Subject_ID'].isin(ID_list[45:])]\n",
    "\n",
    "train = train.sample(frac=1).reset_index(drop=True)\n",
    "print(train.shape, test.shape)"
   ]
  },
  {
   "cell_type": "code",
   "execution_count": 64,
   "metadata": {},
   "outputs": [],
   "source": [
    "X_train = train[['TEMP', 'EDA', 'HR', 'BVP', 'Magnitude', 'ACC1', 'ACC2', 'ACC3', 'count']]\n",
    "X_test = test[['TEMP', 'EDA', 'HR', 'BVP', 'Magnitude', 'ACC1', 'ACC2', 'ACC3', 'count']]"
   ]
  },
  {
   "cell_type": "code",
   "execution_count": null,
   "metadata": {},
   "outputs": [],
   "source": [
    "X_train = X_train.apply(pd.Series.explode).reset_index()"
   ]
  },
  {
   "cell_type": "code",
   "execution_count": null,
   "metadata": {},
   "outputs": [],
   "source": [
    "X_test = X_test.apply(pd.Series.explode).reset_index()\n",
    "\n",
    "X_test = X_test.drop(['index'], axis = 1)\n",
    "X_train = X_train.drop(['index'], axis = 1)\n",
    "#X_val = X_val.drop(['index'], axis = 1)\n",
    "print(X_train.shape, X_test.shape, X_train.shape[0] + X_test.shape[0])"
   ]
  },
  {
   "cell_type": "code",
   "execution_count": null,
   "metadata": {},
   "outputs": [],
   "source": [
    "y_train = train['Activity'].values\n",
    "y_test = test['Activity'].values\n",
    "print(y_train.shape, y_test.shape, y_train.shape[0] + y_test.shape[0])"
   ]
  },
  {
   "cell_type": "markdown",
   "metadata": {},
   "source": [
    "### One-Hot Encoding Subject_ID"
   ]
  },
  {
   "cell_type": "code",
   "execution_count": 147,
   "metadata": {},
   "outputs": [],
   "source": [
    "X_train['train'] =1\n",
    "X_test['train'] = 0"
   ]
  },
  {
   "cell_type": "code",
   "execution_count": 148,
   "metadata": {},
   "outputs": [],
   "source": [
    "combined = pd.concat([X_train, X_test])"
   ]
  },
  {
   "cell_type": "code",
   "execution_count": 149,
   "metadata": {},
   "outputs": [],
   "source": [
    "combined_dum = pd.get_dummies(combined['SID'])"
   ]
  },
  {
   "cell_type": "code",
   "execution_count": 150,
   "metadata": {},
   "outputs": [],
   "source": [
    "combined = pd.concat([combined, combined_dum], axis =1)"
   ]
  },
  {
   "cell_type": "code",
   "execution_count": 151,
   "metadata": {},
   "outputs": [
    {
     "name": "stdout",
     "output_type": "stream",
     "text": [
      "(139200, 63) (27200, 63) 166400\n"
     ]
    },
    {
     "name": "stderr",
     "output_type": "stream",
     "text": [
      "/Users/N1/opt/anaconda3/lib/python3.7/site-packages/pandas/core/frame.py:3997: SettingWithCopyWarning: \n",
      "A value is trying to be set on a copy of a slice from a DataFrame\n",
      "\n",
      "See the caveats in the documentation: https://pandas.pydata.org/pandas-docs/stable/user_guide/indexing.html#returning-a-view-versus-a-copy\n",
      "  errors=errors,\n"
     ]
    }
   ],
   "source": [
    "X_train = combined[combined['train'] == 1]\n",
    "X_test = combined[combined['train'] == 0]\n",
    "\n",
    "X_train.drop([\"train\"], axis = 1, inplace = True)\n",
    "X_test.drop([\"train\"], axis = 1, inplace = True)\n",
    "X_train.drop([\"SID\"], axis = 1, inplace = True)\n",
    "X_test.drop([\"SID\"], axis = 1, inplace = True)\n",
    "print(X_train.shape, X_test.shape, X_train.shape[0] + X_test.shape[0])"
   ]
  },
  {
   "cell_type": "code",
   "execution_count": 152,
   "metadata": {},
   "outputs": [
    {
     "data": {
      "text/html": [
       "<div>\n",
       "<style scoped>\n",
       "    .dataframe tbody tr th:only-of-type {\n",
       "        vertical-align: middle;\n",
       "    }\n",
       "\n",
       "    .dataframe tbody tr th {\n",
       "        vertical-align: top;\n",
       "    }\n",
       "\n",
       "    .dataframe thead th {\n",
       "        text-align: right;\n",
       "    }\n",
       "</style>\n",
       "<table border=\"1\" class=\"dataframe\">\n",
       "  <thead>\n",
       "    <tr style=\"text-align: right;\">\n",
       "      <th></th>\n",
       "      <th>TEMP</th>\n",
       "      <th>EDA</th>\n",
       "      <th>HR</th>\n",
       "      <th>BVP</th>\n",
       "      <th>Magnitude</th>\n",
       "      <th>ACC1</th>\n",
       "      <th>ACC2</th>\n",
       "      <th>ACC3</th>\n",
       "      <th>0.0</th>\n",
       "      <th>1.0</th>\n",
       "      <th>...</th>\n",
       "      <th>45.0</th>\n",
       "      <th>46.0</th>\n",
       "      <th>47.0</th>\n",
       "      <th>48.0</th>\n",
       "      <th>49.0</th>\n",
       "      <th>50.0</th>\n",
       "      <th>51.0</th>\n",
       "      <th>52.0</th>\n",
       "      <th>53.0</th>\n",
       "      <th>54.0</th>\n",
       "    </tr>\n",
       "  </thead>\n",
       "  <tbody>\n",
       "    <tr>\n",
       "      <th>0</th>\n",
       "      <td>30.45</td>\n",
       "      <td>6.09218</td>\n",
       "      <td>90.77</td>\n",
       "      <td>9.2</td>\n",
       "      <td>58.0172</td>\n",
       "      <td>-41</td>\n",
       "      <td>-2</td>\n",
       "      <td>-41</td>\n",
       "      <td>0</td>\n",
       "      <td>0</td>\n",
       "      <td>...</td>\n",
       "      <td>0</td>\n",
       "      <td>0</td>\n",
       "      <td>0</td>\n",
       "      <td>0</td>\n",
       "      <td>0</td>\n",
       "      <td>0</td>\n",
       "      <td>0</td>\n",
       "      <td>0</td>\n",
       "      <td>0</td>\n",
       "      <td>0</td>\n",
       "    </tr>\n",
       "  </tbody>\n",
       "</table>\n",
       "<p>1 rows × 63 columns</p>\n",
       "</div>"
      ],
      "text/plain": [
       "    TEMP      EDA     HR  BVP Magnitude ACC1 ACC2 ACC3  0.0  1.0  ...  45.0  \\\n",
       "0  30.45  6.09218  90.77  9.2   58.0172  -41   -2  -41    0    0  ...     0   \n",
       "\n",
       "   46.0  47.0  48.0  49.0  50.0  51.0  52.0  53.0  54.0  \n",
       "0     0     0     0     0     0     0     0     0     0  \n",
       "\n",
       "[1 rows x 63 columns]"
      ]
     },
     "execution_count": 152,
     "metadata": {},
     "output_type": "execute_result"
    }
   ],
   "source": [
    "X_train.head(1)"
   ]
  },
  {
   "cell_type": "markdown",
   "metadata": {},
   "source": [
    "### Reshaping windows as arrays"
   ]
  },
  {
   "cell_type": "code",
   "execution_count": 33,
   "metadata": {},
   "outputs": [],
   "source": [
    "# Convert to transposed arrays\n",
    "X_test = X_test.T.values\n",
    "X_train = X_train.T.values"
   ]
  },
  {
   "cell_type": "code",
   "execution_count": 34,
   "metadata": {
    "scrolled": true
   },
   "outputs": [
    {
     "name": "stdout",
     "output_type": "stream",
     "text": [
      "(5456, 80, 9) (5456,) (1116, 80, 9) (1116,)\n"
     ]
    }
   ],
   "source": [
    "X_test = X_test.astype('float64')\n",
    "X_train = X_train.astype('float64')\n",
    "\n",
    "# Reshape to -1, window_size, # features\n",
    "X_train = X_train.reshape((-1, window_size, X_train.shape[0]))\n",
    "X_test = X_test.reshape((-1, window_size, X_test.shape[0])) \n",
    "\n",
    "print(X_train.shape,  y_train.shape, X_test.shape, y_test.shape)"
   ]
  },
  {
   "cell_type": "markdown",
   "metadata": {},
   "source": [
    "#### If using TF convert y_train and y_test to One-Hot"
   ]
  },
  {
   "cell_type": "code",
   "execution_count": 54,
   "metadata": {},
   "outputs": [],
   "source": [
    "from keras.utils import np_utils\n",
    "y_train_dummy = np_utils.to_categorical(y_train)\n",
    "y_test_dummy = np_utils.to_categorical(y_test)"
   ]
  },
  {
   "cell_type": "markdown",
   "metadata": {},
   "source": [
    "### Model"
   ]
  },
  {
   "cell_type": "code",
   "execution_count": 49,
   "metadata": {},
   "outputs": [],
   "source": [
    "import keras\n",
    "from keras.models import Sequential\n",
    "from keras.layers import Dense, Flatten, Dropout, LSTM, TimeDistributed, Conv1D, AveragePooling1D, Conv2D, MaxPooling2D, MaxPool2D, Lambda, GlobalAveragePooling1D, Reshape, MaxPooling1D\n",
    "from keras.layers import Flatten\n",
    "from keras.layers import Dropout\n",
    "from keras.layers import LSTM\n",
    "import tensorflow as tf\n",
    "import tensorflow.signal"
   ]
  },
  {
   "cell_type": "code",
   "execution_count": 37,
   "metadata": {},
   "outputs": [],
   "source": [
    "model = Sequential()\n",
    "model.add(Conv1D(filters=64, kernel_size=3, activation='relu'))\n",
    "model.add(Conv1D(filters=64, kernel_size=2, activation='relu'))\n",
    "model.add(AveragePooling1D(pool_size=2))\n",
    "model.add(Lambda(lambda v: tf.cast(tf.signal.fft(tf.cast(v,dtype=tf.complex64)),tf.float32)))\n",
    "model.add(Conv1D(160, 2, activation='relu'))\n",
    "model.add(Conv1D(160, 3, activation='relu'))\n",
    "model.add(GlobalAveragePooling1D())\n",
    "model.add(Dropout(0.5))\n",
    "model.add(Dense(4, activation='softmax')) #4 outputs are possible \n",
    "model.compile(loss='categorical_crossentropy', optimizer='adam', metrics=['accuracy'])"
   ]
  },
  {
   "cell_type": "code",
   "execution_count": 38,
   "metadata": {
    "scrolled": true
   },
   "outputs": [
    {
     "name": "stdout",
     "output_type": "stream",
     "text": [
      "Epoch 1/40\n",
      "86/86 [==============================] - 3s 38ms/step - loss: 4.9266 - accuracy: 0.4005 - val_loss: 1.2102 - val_accuracy: 0.4633\n",
      "Epoch 2/40\n",
      "86/86 [==============================] - 3s 33ms/step - loss: 1.2195 - accuracy: 0.4516 - val_loss: 1.2207 - val_accuracy: 0.4552\n",
      "Epoch 3/40\n",
      "86/86 [==============================] - 3s 32ms/step - loss: 1.1897 - accuracy: 0.4412 - val_loss: 1.2260 - val_accuracy: 0.4713\n",
      "Epoch 4/40\n",
      "86/86 [==============================] - 3s 35ms/step - loss: 1.1680 - accuracy: 0.4639 - val_loss: 1.1663 - val_accuracy: 0.4633\n",
      "Epoch 5/40\n",
      "86/86 [==============================] - 3s 37ms/step - loss: 1.1606 - accuracy: 0.4606 - val_loss: 1.1787 - val_accuracy: 0.4427\n",
      "Epoch 6/40\n",
      "86/86 [==============================] - 3s 35ms/step - loss: 1.1568 - accuracy: 0.4652 - val_loss: 1.1795 - val_accuracy: 0.4651\n",
      "Epoch 7/40\n",
      "86/86 [==============================] - 3s 34ms/step - loss: 1.1353 - accuracy: 0.4819 - val_loss: 1.1666 - val_accuracy: 0.4588\n",
      "Epoch 8/40\n",
      "86/86 [==============================] - 3s 36ms/step - loss: 1.1262 - accuracy: 0.4822 - val_loss: 1.1689 - val_accuracy: 0.4686\n",
      "Epoch 9/40\n",
      "86/86 [==============================] - 3s 38ms/step - loss: 1.1253 - accuracy: 0.4723 - val_loss: 1.1670 - val_accuracy: 0.4642\n",
      "Epoch 10/40\n",
      "86/86 [==============================] - 3s 36ms/step - loss: 1.1085 - accuracy: 0.4947 - val_loss: 1.1516 - val_accuracy: 0.4651\n",
      "Epoch 11/40\n",
      "86/86 [==============================] - 3s 35ms/step - loss: 1.1120 - accuracy: 0.4897 - val_loss: 1.1580 - val_accuracy: 0.4686\n",
      "Epoch 12/40\n",
      "86/86 [==============================] - 3s 34ms/step - loss: 1.0967 - accuracy: 0.4956 - val_loss: 1.1527 - val_accuracy: 0.4695\n",
      "Epoch 13/40\n",
      "86/86 [==============================] - 3s 35ms/step - loss: 1.0969 - accuracy: 0.4936 - val_loss: 1.1528 - val_accuracy: 0.4642\n",
      "Epoch 14/40\n",
      "86/86 [==============================] - 3s 33ms/step - loss: 1.0879 - accuracy: 0.5073 - val_loss: 1.1578 - val_accuracy: 0.4633\n",
      "Epoch 15/40\n",
      "86/86 [==============================] - 3s 34ms/step - loss: 1.0877 - accuracy: 0.4989 - val_loss: 1.1555 - val_accuracy: 0.4695\n",
      "Epoch 16/40\n",
      "86/86 [==============================] - 3s 33ms/step - loss: 1.0832 - accuracy: 0.5022 - val_loss: 1.1522 - val_accuracy: 0.4677\n",
      "Epoch 17/40\n",
      "86/86 [==============================] - 3s 34ms/step - loss: 1.0705 - accuracy: 0.5126 - val_loss: 1.1480 - val_accuracy: 0.4633\n",
      "Epoch 18/40\n",
      "86/86 [==============================] - 3s 35ms/step - loss: 1.0634 - accuracy: 0.5130 - val_loss: 1.1523 - val_accuracy: 0.4651\n",
      "Epoch 19/40\n",
      "86/86 [==============================] - 3s 38ms/step - loss: 1.0578 - accuracy: 0.5115 - val_loss: 1.1503 - val_accuracy: 0.4624\n",
      "Epoch 20/40\n",
      "86/86 [==============================] - 3s 33ms/step - loss: 1.0525 - accuracy: 0.5167 - val_loss: 1.1677 - val_accuracy: 0.4606\n",
      "Epoch 21/40\n",
      "86/86 [==============================] - 3s 33ms/step - loss: 1.0552 - accuracy: 0.5167 - val_loss: 1.1588 - val_accuracy: 0.4615\n",
      "Epoch 22/40\n",
      "86/86 [==============================] - 3s 34ms/step - loss: 1.0406 - accuracy: 0.5214 - val_loss: 1.1533 - val_accuracy: 0.4633\n",
      "Epoch 23/40\n",
      "86/86 [==============================] - 3s 35ms/step - loss: 1.0454 - accuracy: 0.5260 - val_loss: 1.1613 - val_accuracy: 0.4597\n",
      "Epoch 24/40\n",
      "86/86 [==============================] - 3s 33ms/step - loss: 1.0244 - accuracy: 0.5317 - val_loss: 1.1648 - val_accuracy: 0.4588\n",
      "Epoch 25/40\n",
      "86/86 [==============================] - 3s 38ms/step - loss: 1.0320 - accuracy: 0.5282 - val_loss: 1.1768 - val_accuracy: 0.4606\n",
      "Epoch 26/40\n",
      "86/86 [==============================] - 3s 35ms/step - loss: 1.0256 - accuracy: 0.5374 - val_loss: 1.1669 - val_accuracy: 0.4624\n",
      "Epoch 27/40\n",
      "86/86 [==============================] - 3s 34ms/step - loss: 1.0217 - accuracy: 0.5348 - val_loss: 1.1666 - val_accuracy: 0.4606\n",
      "Epoch 28/40\n",
      "86/86 [==============================] - 3s 35ms/step - loss: 1.0137 - accuracy: 0.5396 - val_loss: 1.1623 - val_accuracy: 0.4579\n",
      "Epoch 29/40\n",
      "86/86 [==============================] - 3s 34ms/step - loss: 1.0022 - accuracy: 0.5431 - val_loss: 1.1699 - val_accuracy: 0.4579\n",
      "Epoch 30/40\n",
      "86/86 [==============================] - 3s 36ms/step - loss: 1.0278 - accuracy: 0.5332 - val_loss: 1.1678 - val_accuracy: 0.4615\n",
      "Epoch 31/40\n",
      "86/86 [==============================] - 3s 36ms/step - loss: 1.0101 - accuracy: 0.5429 - val_loss: 1.1763 - val_accuracy: 0.4659\n",
      "Epoch 32/40\n",
      "86/86 [==============================] - 3s 37ms/step - loss: 0.9983 - accuracy: 0.5453 - val_loss: 1.1838 - val_accuracy: 0.4633\n",
      "Epoch 33/40\n",
      "86/86 [==============================] - 3s 36ms/step - loss: 0.9999 - accuracy: 0.5466 - val_loss: 1.1740 - val_accuracy: 0.4606\n",
      "Epoch 34/40\n",
      "86/86 [==============================] - 3s 38ms/step - loss: 1.0006 - accuracy: 0.5444 - val_loss: 1.1953 - val_accuracy: 0.4633\n",
      "Epoch 35/40\n",
      "86/86 [==============================] - 3s 40ms/step - loss: 0.9990 - accuracy: 0.5493 - val_loss: 1.1846 - val_accuracy: 0.4588\n",
      "Epoch 36/40\n",
      "86/86 [==============================] - 3s 36ms/step - loss: 0.9842 - accuracy: 0.5557 - val_loss: 1.2226 - val_accuracy: 0.4642\n",
      "Epoch 37/40\n",
      "86/86 [==============================] - 4s 41ms/step - loss: 0.9859 - accuracy: 0.5548 - val_loss: 1.2264 - val_accuracy: 0.4588\n",
      "Epoch 38/40\n",
      "86/86 [==============================] - 3s 39ms/step - loss: 0.9820 - accuracy: 0.5524 - val_loss: 1.2034 - val_accuracy: 0.4480\n",
      "Epoch 39/40\n",
      "86/86 [==============================] - 3s 34ms/step - loss: 0.9828 - accuracy: 0.5533 - val_loss: 1.1806 - val_accuracy: 0.4624\n",
      "Epoch 40/40\n",
      "86/86 [==============================] - 3s 34ms/step - loss: 0.9714 - accuracy: 0.5594 - val_loss: 1.2035 - val_accuracy: 0.4624\n"
     ]
    }
   ],
   "source": [
    "mFIT = model.fit(X_train, y_train_dummy, epochs = 40, validation_data = (X_test, y_test_dummy), batch_size = 64, verbose = 1)"
   ]
  },
  {
   "cell_type": "code",
   "execution_count": 56,
   "metadata": {},
   "outputs": [],
   "source": [
    "model = Sequential()\n",
    "model.add(Conv1D(filters=64, kernel_size=2, activation='relu'))\n",
    "model.add(Conv1D(filters=64, kernel_size=2, activation='relu'))\n",
    "model.add(MaxPooling1D(pool_size=2))\n",
    "model.add(Flatten())\n",
    "model.add(Dense(100, activation='relu'))\n",
    "model.add(Dense(4, activation='softmax')) #4 outputs are possible \n",
    "model.compile(loss='categorical_crossentropy', optimizer='adam', metrics=['accuracy'])"
   ]
  },
  {
   "cell_type": "code",
   "execution_count": 57,
   "metadata": {},
   "outputs": [
    {
     "name": "stdout",
     "output_type": "stream",
     "text": [
      "Epoch 1/10\n",
      "86/86 [==============================] - 1s 12ms/step - loss: 3.8230 - accuracy: 0.4012 - val_loss: 1.2194 - val_accuracy: 0.4821\n",
      "Epoch 2/10\n",
      "86/86 [==============================] - 1s 11ms/step - loss: 1.1934 - accuracy: 0.4666 - val_loss: 1.2199 - val_accuracy: 0.4704\n",
      "Epoch 3/10\n",
      "86/86 [==============================] - 1s 10ms/step - loss: 1.1255 - accuracy: 0.4809 - val_loss: 1.2047 - val_accuracy: 0.4785\n",
      "Epoch 4/10\n",
      "86/86 [==============================] - 1s 11ms/step - loss: 1.0866 - accuracy: 0.4962 - val_loss: 1.2183 - val_accuracy: 0.4758\n",
      "Epoch 5/10\n",
      "86/86 [==============================] - 1s 10ms/step - loss: 1.0586 - accuracy: 0.5174 - val_loss: 1.2100 - val_accuracy: 0.4704\n",
      "Epoch 6/10\n",
      "86/86 [==============================] - 1s 10ms/step - loss: 1.0317 - accuracy: 0.5354 - val_loss: 1.2228 - val_accuracy: 0.4776\n",
      "Epoch 7/10\n",
      "86/86 [==============================] - 1s 10ms/step - loss: 0.9953 - accuracy: 0.5510 - val_loss: 1.2220 - val_accuracy: 0.4552\n",
      "Epoch 8/10\n",
      "86/86 [==============================] - 1s 10ms/step - loss: 0.9651 - accuracy: 0.5673 - val_loss: 1.2229 - val_accuracy: 0.4185\n",
      "Epoch 9/10\n",
      "86/86 [==============================] - 1s 11ms/step - loss: 0.9383 - accuracy: 0.5805 - val_loss: 1.2375 - val_accuracy: 0.4803\n",
      "Epoch 10/10\n",
      "86/86 [==============================] - 1s 11ms/step - loss: 0.9060 - accuracy: 0.5981 - val_loss: 1.2523 - val_accuracy: 0.4158\n"
     ]
    }
   ],
   "source": [
    "mFIT = model.fit(X_train, y_train_dummy, epochs = 10, validation_data = (X_test, y_test_dummy), batch_size = 64, verbose = 1)"
   ]
  },
  {
   "cell_type": "raw",
   "metadata": {},
   "source": [
    "model.summary()"
   ]
  },
  {
   "cell_type": "code",
   "execution_count": 39,
   "metadata": {},
   "outputs": [
    {
     "data": {
      "image/png": "[encoded data removed]",
      "text/plain": [
       "<Figure size 720x432 with 1 Axes>"
      ]
     },
     "metadata": {
      "needs_background": "light"
     },
     "output_type": "display_data"
    }
   ],
   "source": [
    "import matplotlib.pyplot as plt\n",
    "plt.figure(figsize=(10, 6))\n",
    "plt.plot(mFIT.history['accuracy'], 'r', label='Accuracy of training data')\n",
    "plt.plot(mFIT.history['val_accuracy'], 'b', label='Accuracy of validation data')\n",
    "plt.plot(mFIT.history['loss'], 'r--', label='Loss of training data')\n",
    "plt.plot(mFIT.history['val_loss'], 'b--', label='Loss of validation data')\n",
    "plt.title('Model Accuracy and Loss')\n",
    "plt.ylabel('Accuracy and Loss')\n",
    "plt.xlabel('Training Epoch')\n",
    "plt.ylim(0)\n",
    "plt.legend()\n",
    "plt.show()"
   ]
  },
  {
   "cell_type": "code",
   "execution_count": 40,
   "metadata": {},
   "outputs": [],
   "source": [
    "y_pred = np.argmax(model.predict(X_test), axis=-1)"
   ]
  },
  {
   "cell_type": "code",
   "execution_count": 41,
   "metadata": {},
   "outputs": [
    {
     "data": {
      "text/plain": [
       "array([0, 1, 3])"
      ]
     },
     "execution_count": 41,
     "metadata": {},
     "output_type": "execute_result"
    }
   ],
   "source": [
    "pd.unique(y_pred)"
   ]
  },
  {
   "cell_type": "code",
   "execution_count": 42,
   "metadata": {},
   "outputs": [
    {
     "data": {
      "text/plain": [
       "array([0, 0, 0, ..., 0, 0, 0])"
      ]
     },
     "execution_count": 42,
     "metadata": {},
     "output_type": "execute_result"
    }
   ],
   "source": [
    "y_pred"
   ]
  },
  {
   "cell_type": "code",
   "execution_count": 43,
   "metadata": {},
   "outputs": [
    {
     "name": "stdout",
     "output_type": "stream",
     "text": [
      "[[0 1]\n",
      " [0 1]\n",
      " [0 1]\n",
      " ...\n",
      " [0 3]\n",
      " [0 3]\n",
      " [0 3]]\n"
     ]
    }
   ],
   "source": [
    "# col 1 = y_pred\n",
    "# col 2 = y_test ground truth labels\n",
    "print(np.concatenate((y_pred.reshape(-1, 1), y_test.reshape(-1,1)),1))"
   ]
  },
  {
   "cell_type": "code",
   "execution_count": 44,
   "metadata": {},
   "outputs": [
    {
     "data": {
      "text/plain": [
       "array([[504, 400,  85,  87],\n",
       "       [ 18,  12,   4,   3],\n",
       "       [  0,   0,   0,   0],\n",
       "       [  0,   2,   1,   0]])"
      ]
     },
     "execution_count": 44,
     "metadata": {},
     "output_type": "execute_result"
    }
   ],
   "source": [
    "from sklearn.metrics import confusion_matrix, accuracy_score, f1_score\n",
    "confusion_matrix(y_pred, y_test.astype(\"int\"))"
   ]
  },
  {
   "cell_type": "code",
   "execution_count": 45,
   "metadata": {},
   "outputs": [],
   "source": [
    "def plot_confusion_matrix(cm, classes,\n",
    "                          normalize=False,\n",
    "                          title='Confusion matrix',\n",
    "                          cmap=plt.cm.Blues):\n",
    "    \"\"\"\n",
    "    This function prints and plots the confusion matrix.\n",
    "    Normalization can be applied by setting `normalize=True`.\n",
    "    \"\"\"\n",
    "    import itertools\n",
    "    if normalize:\n",
    "        cm = cm.astype('float') / cm.sum(axis=1)[:, np.newaxis]\n",
    "        print(\"Normalized confusion matrix\")\n",
    "    else:\n",
    "        print('Confusion matrix, without normalization')\n",
    "\n",
    "    print(cm)\n",
    "\n",
    "    plt.imshow(cm, interpolation='nearest', cmap=cmap)\n",
    "    plt.title(title)\n",
    "    plt.colorbar()\n",
    "    tick_marks = np.arange(len(classes))\n",
    "    plt.xticks(tick_marks, classes, rotation=45)\n",
    "    plt.yticks(tick_marks, classes)\n",
    "\n",
    "    fmt = '.2f' if normalize else 'd'\n",
    "    thresh = cm.max() / 2.\n",
    "    for i, j in itertools.product(range(cm.shape[0]), range(cm.shape[1])):\n",
    "        plt.text(j, i, format(cm[i, j], fmt),\n",
    "                 horizontalalignment=\"center\",\n",
    "                 color=\"white\" if cm[i, j] > thresh else \"black\")\n",
    "\n",
    "    plt.ylabel('True label')\n",
    "    plt.xlabel('Predicted label')\n",
    "    plt.tight_layout()"
   ]
  },
  {
   "cell_type": "code",
   "execution_count": 46,
   "metadata": {},
   "outputs": [],
   "source": [
    "cnf_matrix = confusion_matrix(y_test.astype('int'), y_pred)"
   ]
  },
  {
   "cell_type": "code",
   "execution_count": 47,
   "metadata": {},
   "outputs": [
    {
     "name": "stdout",
     "output_type": "stream",
     "text": [
      "Confusion matrix, without normalization\n",
      "[[504  18   0   0]\n",
      " [400  12   0   2]\n",
      " [ 85   4   0   1]\n",
      " [ 87   3   0   0]]\n"
     ]
    },
    {
     "data": {
      "image/png": "[encoded data removed]",
      "text/plain": [
       "<Figure size 432x288 with 2 Axes>"
      ]
     },
     "metadata": {
      "needs_background": "light"
     },
     "output_type": "display_data"
    }
   ],
   "source": [
    "plot_confusion_matrix(cnf_matrix, classes = le1.classes_)"
   ]
  },
  {
   "cell_type": "code",
   "execution_count": 90,
   "metadata": {},
   "outputs": [
    {
     "data": {
      "text/plain": [
       "array([1, 1, 1, ..., 0, 0, 0])"
      ]
     },
     "execution_count": 90,
     "metadata": {},
     "output_type": "execute_result"
    }
   ],
   "source": [
    "y_pred"
   ]
  },
  {
   "cell_type": "code",
   "execution_count": null,
   "metadata": {},
   "outputs": [],
   "source": []
  }
 ],
 "metadata": {
  "kernelspec": {
   "display_name": "Python 3",
   "language": "python",
   "name": "python3"
  },
  "language_info": {
   "codemirror_mode": {
    "name": "ipython",
    "version": 3
   },
   "file_extension": ".py",
   "mimetype": "text/x-python",
   "name": "python",
   "nbconvert_exporter": "python",
   "pygments_lexer": "ipython3",
   "version": "3.7.7"
  }
 },
 "nbformat": 4,
 "nbformat_minor": 4
}
