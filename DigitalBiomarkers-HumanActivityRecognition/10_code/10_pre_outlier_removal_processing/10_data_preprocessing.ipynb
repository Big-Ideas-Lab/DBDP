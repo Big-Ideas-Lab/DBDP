{
 "cells": [
  {
   "cell_type": "markdown",
   "metadata": {},
   "source": [
    "# Data Resampling and Cleaning"
   ]
  },
  {
   "cell_type": "markdown",
   "metadata": {},
   "source": [
    "This file is composed of data resampling from the combined sensor data and cleaning the outcomes dataset. We use the cleaned outcomes dataset to select periods of time where activity occured in the combined sensor dataset. These time segments are then added to a new dataframe and files are output for each participant, and a file for all participants. "
   ]
  },
  {
   "cell_type": "markdown",
   "metadata": {},
   "source": [
    "__INPUT: .csv files containing the combined sensor data and the outcomes time dataset__(These files are output from 01_sensor_concat. (10_ACC_Combined.csv, 10_Temp_Combined.csv, 10_EDA_Combined.csv, 10_BVP_Combined.csv, 10_Outcomes.csv)"
   ]
  },
  {
   "cell_type": "markdown",
   "metadata": {},
   "source": [
    "__OUTPUT: Datasets for Individuals and Outcomes Dataset w/ End-Times__ (19-0_PATIENT_ID_HERE_aggregated.csv, 30_all_partic_aggregated_with_activity.csv, 20_Outcomes_w_end.csv)"
   ]
  },
  {
   "cell_type": "markdown",
   "metadata": {},
   "source": [
    "## Imports"
   ]
  },
  {
   "cell_type": "code",
   "execution_count": 4,
   "metadata": {},
   "outputs": [],
   "source": [
    "import pandas as pd\n",
    "import datetime \n",
    "from datetime import timedelta\n",
    "import os\n",
    "import matplotlib.pyplot as plt\n",
    "import seaborn as sns\n",
    "import re\n",
    "\n",
    "import warnings\n",
    "warnings.simplefilter(\"ignore\")"
   ]
  },
  {
   "cell_type": "markdown",
   "metadata": {},
   "source": [
    "## Read in Data"
   ]
  },
  {
   "cell_type": "code",
   "execution_count": 6,
   "metadata": {},
   "outputs": [],
   "source": [
    "ACC1 = pd.read_csv(\"10_ACC_Combined.csv\")\n",
    "TEMP1 = pd.read_csv(\"10_Temp_Combined.csv\")\n",
    "EDA1 = pd.read_csv(\"10_EDA_Combined.csv\")\n",
    "BVP1 = pd.read_csv(\"10_BVP_Combined.csv\")\n",
    "HR1 = pd.read_csv(\"10_HR_Combined.csv\")\n",
    "\n",
    "outcomes1 = pd.read_csv(\"10_Outcomes.csv\")"
   ]
  },
  {
   "cell_type": "code",
   "execution_count": 4,
   "metadata": {},
   "outputs": [],
   "source": [
    "ACC = ACC1.copy()\n",
    "TEMP = TEMP1.copy()\n",
    "EDA = EDA1.copy()\n",
    "BVP = BVP1.copy()\n",
    "HR = HR1.copy()\n",
    "outcomes = outcomes1.copy()"
   ]
  },
  {
   "cell_type": "markdown",
   "metadata": {},
   "source": [
    "## Pre-Processing "
   ]
  },
  {
   "cell_type": "markdown",
   "metadata": {},
   "source": [
    "Below we convert the Time column to date-time format, set time as the index, and drop Subject_ID."
   ]
  },
  {
   "cell_type": "code",
   "execution_count": 6,
   "metadata": {},
   "outputs": [],
   "source": [
    "# Convert to date time and set it as the index so interpolation can work\n",
    "\n",
    "ACC['Time'] = pd.to_datetime(ACC['Time'])\n",
    "ACC = ACC.set_index('Time')\n",
    "\n",
    "TEMP['Time'] = pd.to_datetime(TEMP['Time'])\n",
    "TEMP = TEMP.set_index('Time')\n",
    "\n",
    "EDA['Time'] = pd.to_datetime(EDA['Time'])\n",
    "EDA = EDA.set_index('Time')\n",
    "\n",
    "BVP['Time'] = pd.to_datetime(BVP['Time'])\n",
    "BVP = BVP.set_index('Time')\n",
    "\n",
    "HR['Time'] = pd.to_datetime(HR['Time'])\n",
    "HR = HR.set_index('Time')"
   ]
  },
  {
   "cell_type": "code",
   "execution_count": 7,
   "metadata": {},
   "outputs": [
    {
     "data": {
      "text/plain": [
       "False"
      ]
     },
     "execution_count": 7,
     "metadata": {},
     "output_type": "execute_result"
    }
   ],
   "source": [
    "ids = EDA['Subject_ID'].copy()\n",
    "ids.isnull().values.any()"
   ]
  },
  {
   "cell_type": "code",
   "execution_count": 8,
   "metadata": {},
   "outputs": [],
   "source": [
    "EDA = EDA.drop(['Subject_ID'], axis = 1)\n",
    "ACC = ACC.drop(['Subject_ID'], axis = 1)\n",
    "TEMP = TEMP.drop(['Subject_ID'], axis = 1)\n",
    "BVP = BVP.drop(['Subject_ID'], axis = 1)\n",
    "HR = HR.drop(['Subject_ID'], axis = 1)"
   ]
  },
  {
   "cell_type": "markdown",
   "metadata": {},
   "source": [
    "## Resampling & Interpolation"
   ]
  },
  {
   "cell_type": "markdown",
   "metadata": {},
   "source": [
    "Our raw sensor data was sampled at various frequencies: \n",
    "- Accelerometry 3-axis (32 Hz)\n",
    "- Skin Temperature (4 Hz)\n",
    "- Electrodermal Activity (4 Hz)\n",
    "- Blood Volume Pulse (64 Hz)\n",
    "\n",
    "In order to put our data into a machine learning model, we needed the same sampling rate for all sensors. Below, we downsampled all sensors to 4 Hz by interpolating these data points. "
   ]
  },
  {
   "cell_type": "code",
   "execution_count": 10,
   "metadata": {},
   "outputs": [],
   "source": [
    "EDA = EDA.resample('250L').interpolate()"
   ]
  },
  {
   "cell_type": "code",
   "execution_count": 11,
   "metadata": {},
   "outputs": [],
   "source": [
    "TEMP = TEMP.resample('250L').interpolate()"
   ]
  },
  {
   "cell_type": "code",
   "execution_count": 12,
   "metadata": {},
   "outputs": [],
   "source": [
    "BVP = BVP.resample('250L').interpolate()"
   ]
  },
  {
   "cell_type": "code",
   "execution_count": null,
   "metadata": {},
   "outputs": [],
   "source": [
    "HR = HR.resample('250L').interpolate()"
   ]
  },
  {
   "cell_type": "code",
   "execution_count": null,
   "metadata": {},
   "outputs": [],
   "source": [
    "ACC = ACC.drop_duplicates()"
   ]
  },
  {
   "cell_type": "code",
   "execution_count": null,
   "metadata": {},
   "outputs": [],
   "source": [
    "ACC = ACC.resample('250L').interpolate()"
   ]
  },
  {
   "cell_type": "code",
   "execution_count": 15,
   "metadata": {
    "scrolled": true
   },
   "outputs": [],
   "source": [
    "ids = ids.resample('250L').ffill()"
   ]
  },
  {
   "cell_type": "markdown",
   "metadata": {},
   "source": [
    "## Concatenate Resampled Data From Individual Sensors"
   ]
  },
  {
   "cell_type": "code",
   "execution_count": 18,
   "metadata": {},
   "outputs": [],
   "source": [
    "comb = pd.concat([ACC, TEMP, EDA, BVP, HR, ids], axis = 1)"
   ]
  },
  {
   "cell_type": "markdown",
   "metadata": {},
   "source": [
    "## Cleaning Outcomes Dataframe"
   ]
  },
  {
   "cell_type": "markdown",
   "metadata": {},
   "source": [
    "Now that we have a concatenated dataframe for all participants with all activities, we need to use the outcome file to select periods of time where specific activities were occuring and label them. \n",
    "\n",
    "Experimental Procedure for the 56 Participants\n",
    "1. seated rest to measure baseline __(4  min)__ <br>\n",
    "2. paced deep breathing __(1  min)__ <br>\n",
    "3. physical activity (walking to increase HR up to 50% of the recommended maximum) __(5  min)__ <br>\n",
    "4. seated rest (washout from physical activity) __(~2  min)__ <br>\n",
    "5. a typing task __(1  min)__ <br>"
   ]
  },
  {
   "cell_type": "markdown",
   "metadata": {},
   "source": [
    "### Convert all columns to datetime"
   ]
  },
  {
   "cell_type": "code",
   "execution_count": null,
   "metadata": {},
   "outputs": [],
   "source": [
    "for i in list(outcomes.columns[1:9]):\n",
    "    outcomes[i] = pd.to_datetime(outcomes[i])"
   ]
  },
  {
   "cell_type": "markdown",
   "metadata": {},
   "source": [
    "### Fix Extra Space"
   ]
  },
  {
   "cell_type": "code",
   "execution_count": 22,
   "metadata": {},
   "outputs": [],
   "source": [
    "outcomes = outcomes.rename(columns = {'Activity Start 1 ': 'Activity Start 1'})"
   ]
  },
  {
   "cell_type": "markdown",
   "metadata": {},
   "source": [
    "### Activity Segmentation"
   ]
  },
  {
   "cell_type": "markdown",
   "metadata": {},
   "source": [
    "Below, we generate end times for each activity so we can subset for the data between the start and end times."
   ]
  },
  {
   "cell_type": "code",
   "execution_count": 23,
   "metadata": {},
   "outputs": [],
   "source": [
    "outcomes['Baseline End 1'] = outcomes['Baseline Start 1'] + timedelta(minutes = 4)\n",
    "outcomes['Baseline End 2'] = outcomes['Baseline Start 2'] + timedelta(minutes = 4)\n",
    "outcomes['DB End 1'] = outcomes['DB Start 1'] + timedelta(minutes = 1)\n",
    "outcomes['DB End 2'] = outcomes['DB Start 2'] + timedelta(minutes = 1)\n",
    "outcomes['Type End 1'] = outcomes['Type Start 1'] + timedelta(minutes = 1)\n",
    "outcomes['Type End 2'] = outcomes['Type Start 2'] + timedelta(minutes = 1)\n",
    "outcomes['Activity End 1'] = outcomes['Activity Start 1'] + timedelta(minutes = 5)\n",
    "outcomes['Activity End 2'] = outcomes['Activity Start 2'] + timedelta(minutes = 5)"
   ]
  },
  {
   "cell_type": "markdown",
   "metadata": {},
   "source": [
    "### Write Out Updated Outcomes to CSV"
   ]
  },
  {
   "cell_type": "markdown",
   "metadata": {},
   "source": [
    "We save this write this dataframe to csv in case it is needed for later use. "
   ]
  },
  {
   "cell_type": "code",
   "execution_count": 25,
   "metadata": {},
   "outputs": [],
   "source": [
    "outcomes.to_csv('20_Outcomes_w_end.csv', index = False)"
   ]
  },
  {
   "cell_type": "markdown",
   "metadata": {},
   "source": [
    "## Clean & Segment Combined Sensor Dataset"
   ]
  },
  {
   "cell_type": "markdown",
   "metadata": {},
   "source": [
    "### Reset Index"
   ]
  },
  {
   "cell_type": "code",
   "execution_count": null,
   "metadata": {},
   "outputs": [],
   "source": [
    "comb = comb.reset_index()"
   ]
  },
  {
   "cell_type": "markdown",
   "metadata": {},
   "source": [
    "### Evaluate Existing Sensor Dataset"
   ]
  },
  {
   "cell_type": "markdown",
   "metadata": {},
   "source": [
    "The value counts are very disparate among subjects. Once the data is segmented, we should see an equal amount of data points for all subjects."
   ]
  },
  {
   "cell_type": "code",
   "execution_count": 27,
   "metadata": {},
   "outputs": [
    {
     "data": {
      "text/plain": [
       "19-015    1997756\n",
       "19-040    1920120\n",
       "19-006    1074288\n",
       "19-030     866768\n",
       "19-011     318648\n",
       "19-054     294888\n",
       "19-007     287452\n",
       "19-025     276156\n",
       "19-047     258428\n",
       "19-044     253480\n",
       "19-005     237060\n",
       "19-021     232516\n",
       "19-050     232148\n",
       "19-002     231264\n",
       "19-017     229320\n",
       "19-035     181748\n",
       "19-003     100500\n",
       "19-028      98668\n",
       "19-034      86512\n",
       "19-048      85572\n",
       "19-055      75140\n",
       "19-039      72960\n",
       "19-001      61528\n",
       "19-020      58352\n",
       "19-041      56756\n",
       "19-056      51320\n",
       "19-036      50656\n",
       "19-016      45464\n",
       "19-045      42752\n",
       "19-009      32092\n",
       "19-027      31960\n",
       "19-031      31208\n",
       "19-014      31172\n",
       "19-052      31004\n",
       "19-049      30932\n",
       "19-012      30600\n",
       "19-053      29108\n",
       "19-046      29096\n",
       "19-019      28884\n",
       "19-018      28588\n",
       "19-004      28476\n",
       "19-008      28004\n",
       "19-023      27852\n",
       "19-022      27628\n",
       "19-024      27468\n",
       "19-032      27248\n",
       "19-033      26792\n",
       "19-013      26404\n",
       "19-010      25832\n",
       "19-037      25804\n",
       "19-038      24796\n",
       "19-051      23800\n",
       "19-043      21680\n",
       "19-026      13176\n",
       "19-029      10932\n",
       "19-042       7098\n",
       "Name: Subject_ID, dtype: int64"
      ]
     },
     "execution_count": 27,
     "metadata": {},
     "output_type": "execute_result"
    }
   ],
   "source": [
    "comb['Subject_ID'].value_counts()"
   ]
  },
  {
   "cell_type": "markdown",
   "metadata": {},
   "source": [
    "This imbalance is because our resampling took second by second measures over multiple days for some participants, as shown in subject 19-015 below:"
   ]
  },
  {
   "cell_type": "code",
   "execution_count": 28,
   "metadata": {},
   "outputs": [
    {
     "data": {
      "text/html": [
       "<div>\n",
       "<style scoped>\n",
       "    .dataframe tbody tr th:only-of-type {\n",
       "        vertical-align: middle;\n",
       "    }\n",
       "\n",
       "    .dataframe tbody tr th {\n",
       "        vertical-align: top;\n",
       "    }\n",
       "\n",
       "    .dataframe thead th {\n",
       "        text-align: right;\n",
       "    }\n",
       "</style>\n",
       "<table border=\"1\" class=\"dataframe\">\n",
       "  <thead>\n",
       "    <tr style=\"text-align: right;\">\n",
       "      <th></th>\n",
       "      <th>Time</th>\n",
       "      <th>ACC1</th>\n",
       "      <th>ACC2</th>\n",
       "      <th>ACC3</th>\n",
       "      <th>TEMP</th>\n",
       "      <th>EDA</th>\n",
       "      <th>BVP</th>\n",
       "      <th>HR</th>\n",
       "      <th>Subject_ID</th>\n",
       "    </tr>\n",
       "  </thead>\n",
       "  <tbody>\n",
       "    <tr>\n",
       "      <th>2513320</th>\n",
       "      <td>2019-07-24 18:22:15.000</td>\n",
       "      <td>2.006549</td>\n",
       "      <td>-62.943078</td>\n",
       "      <td>9.976828</td>\n",
       "      <td>24.790000</td>\n",
       "      <td>0.000000e+00</td>\n",
       "      <td>-0.000000</td>\n",
       "      <td>58.054587</td>\n",
       "      <td>19-015</td>\n",
       "    </tr>\n",
       "    <tr>\n",
       "      <th>2513321</th>\n",
       "      <td>2019-07-24 18:22:15.250</td>\n",
       "      <td>2.006003</td>\n",
       "      <td>-62.947821</td>\n",
       "      <td>9.978759</td>\n",
       "      <td>24.790000</td>\n",
       "      <td>3.842000e-03</td>\n",
       "      <td>-0.050000</td>\n",
       "      <td>58.053222</td>\n",
       "      <td>19-015</td>\n",
       "    </tr>\n",
       "    <tr>\n",
       "      <th>2513322</th>\n",
       "      <td>2019-07-24 18:22:15.500</td>\n",
       "      <td>2.005457</td>\n",
       "      <td>-62.952565</td>\n",
       "      <td>9.980690</td>\n",
       "      <td>24.790000</td>\n",
       "      <td>2.177200e-02</td>\n",
       "      <td>6.250000</td>\n",
       "      <td>58.051857</td>\n",
       "      <td>19-015</td>\n",
       "    </tr>\n",
       "    <tr>\n",
       "      <th>2513323</th>\n",
       "      <td>2019-07-24 18:22:15.750</td>\n",
       "      <td>2.004911</td>\n",
       "      <td>-62.957308</td>\n",
       "      <td>9.982621</td>\n",
       "      <td>24.790000</td>\n",
       "      <td>2.689500e-02</td>\n",
       "      <td>28.670000</td>\n",
       "      <td>58.050493</td>\n",
       "      <td>19-015</td>\n",
       "    </tr>\n",
       "    <tr>\n",
       "      <th>2513324</th>\n",
       "      <td>2019-07-24 18:22:16.000</td>\n",
       "      <td>2.004366</td>\n",
       "      <td>-62.962052</td>\n",
       "      <td>9.984552</td>\n",
       "      <td>24.790000</td>\n",
       "      <td>2.561400e-02</td>\n",
       "      <td>121.190000</td>\n",
       "      <td>58.049128</td>\n",
       "      <td>19-015</td>\n",
       "    </tr>\n",
       "    <tr>\n",
       "      <th>...</th>\n",
       "      <td>...</td>\n",
       "      <td>...</td>\n",
       "      <td>...</td>\n",
       "      <td>...</td>\n",
       "      <td>...</td>\n",
       "      <td>...</td>\n",
       "      <td>...</td>\n",
       "      <td>...</td>\n",
       "      <td>...</td>\n",
       "    </tr>\n",
       "    <tr>\n",
       "      <th>4511071</th>\n",
       "      <td>2019-07-30 13:06:12.750</td>\n",
       "      <td>-72.998734</td>\n",
       "      <td>-33.000060</td>\n",
       "      <td>9.999265</td>\n",
       "      <td>23.590014</td>\n",
       "      <td>2.894725e-08</td>\n",
       "      <td>-0.000131</td>\n",
       "      <td>114.999438</td>\n",
       "      <td>19-015</td>\n",
       "    </tr>\n",
       "    <tr>\n",
       "      <th>4511072</th>\n",
       "      <td>2019-07-30 13:06:13.000</td>\n",
       "      <td>-72.998787</td>\n",
       "      <td>-33.000058</td>\n",
       "      <td>9.999295</td>\n",
       "      <td>23.590011</td>\n",
       "      <td>2.315780e-08</td>\n",
       "      <td>-0.000105</td>\n",
       "      <td>114.999451</td>\n",
       "      <td>19-015</td>\n",
       "    </tr>\n",
       "    <tr>\n",
       "      <th>4511073</th>\n",
       "      <td>2019-07-30 13:06:13.250</td>\n",
       "      <td>-72.998840</td>\n",
       "      <td>-33.000055</td>\n",
       "      <td>9.999326</td>\n",
       "      <td>23.590008</td>\n",
       "      <td>1.736835e-08</td>\n",
       "      <td>-0.000079</td>\n",
       "      <td>114.999463</td>\n",
       "      <td>19-015</td>\n",
       "    </tr>\n",
       "    <tr>\n",
       "      <th>4511074</th>\n",
       "      <td>2019-07-30 13:06:13.500</td>\n",
       "      <td>-72.998892</td>\n",
       "      <td>-33.000053</td>\n",
       "      <td>9.999357</td>\n",
       "      <td>23.590006</td>\n",
       "      <td>1.157890e-08</td>\n",
       "      <td>-0.000053</td>\n",
       "      <td>114.999476</td>\n",
       "      <td>19-015</td>\n",
       "    </tr>\n",
       "    <tr>\n",
       "      <th>4511075</th>\n",
       "      <td>2019-07-30 13:06:13.750</td>\n",
       "      <td>-72.998945</td>\n",
       "      <td>-33.000050</td>\n",
       "      <td>9.999387</td>\n",
       "      <td>23.590003</td>\n",
       "      <td>5.789449e-09</td>\n",
       "      <td>-0.000026</td>\n",
       "      <td>114.999488</td>\n",
       "      <td>19-015</td>\n",
       "    </tr>\n",
       "  </tbody>\n",
       "</table>\n",
       "<p>1997756 rows × 9 columns</p>\n",
       "</div>"
      ],
      "text/plain": [
       "                           Time       ACC1       ACC2      ACC3       TEMP  \\\n",
       "2513320 2019-07-24 18:22:15.000   2.006549 -62.943078  9.976828  24.790000   \n",
       "2513321 2019-07-24 18:22:15.250   2.006003 -62.947821  9.978759  24.790000   \n",
       "2513322 2019-07-24 18:22:15.500   2.005457 -62.952565  9.980690  24.790000   \n",
       "2513323 2019-07-24 18:22:15.750   2.004911 -62.957308  9.982621  24.790000   \n",
       "2513324 2019-07-24 18:22:16.000   2.004366 -62.962052  9.984552  24.790000   \n",
       "...                         ...        ...        ...       ...        ...   \n",
       "4511071 2019-07-30 13:06:12.750 -72.998734 -33.000060  9.999265  23.590014   \n",
       "4511072 2019-07-30 13:06:13.000 -72.998787 -33.000058  9.999295  23.590011   \n",
       "4511073 2019-07-30 13:06:13.250 -72.998840 -33.000055  9.999326  23.590008   \n",
       "4511074 2019-07-30 13:06:13.500 -72.998892 -33.000053  9.999357  23.590006   \n",
       "4511075 2019-07-30 13:06:13.750 -72.998945 -33.000050  9.999387  23.590003   \n",
       "\n",
       "                  EDA         BVP          HR Subject_ID  \n",
       "2513320  0.000000e+00   -0.000000   58.054587     19-015  \n",
       "2513321  3.842000e-03   -0.050000   58.053222     19-015  \n",
       "2513322  2.177200e-02    6.250000   58.051857     19-015  \n",
       "2513323  2.689500e-02   28.670000   58.050493     19-015  \n",
       "2513324  2.561400e-02  121.190000   58.049128     19-015  \n",
       "...               ...         ...         ...        ...  \n",
       "4511071  2.894725e-08   -0.000131  114.999438     19-015  \n",
       "4511072  2.315780e-08   -0.000105  114.999451     19-015  \n",
       "4511073  1.736835e-08   -0.000079  114.999463     19-015  \n",
       "4511074  1.157890e-08   -0.000053  114.999476     19-015  \n",
       "4511075  5.789449e-09   -0.000026  114.999488     19-015  \n",
       "\n",
       "[1997756 rows x 9 columns]"
      ]
     },
     "execution_count": 28,
     "metadata": {},
     "output_type": "execute_result"
    }
   ],
   "source": [
    "comb.loc[comb['Subject_ID'] =='19-015']"
   ]
  },
  {
   "cell_type": "markdown",
   "metadata": {},
   "source": [
    "### Filtering Combined Dataset for Activity Time Segments"
   ]
  },
  {
   "cell_type": "markdown",
   "metadata": {},
   "source": [
    "Below we create a new dataframe 'comb_filter,' where we append our segmented times and label each activity with the activity type and the round number for that activity."
   ]
  },
  {
   "cell_type": "code",
   "execution_count": 29,
   "metadata": {},
   "outputs": [],
   "source": [
    "comb_filter = pd.DataFrame(columns = comb.columns)"
   ]
  },
  {
   "cell_type": "code",
   "execution_count": 30,
   "metadata": {},
   "outputs": [],
   "source": [
    "for subject in outcomes['Subject ID']:\n",
    "    #Baseline 1\n",
    "    baseline_start1 = outcomes.loc[outcomes['Subject ID'] == subject, 'Baseline Start 1'].item()\n",
    "    baseline_end1 = outcomes.loc[outcomes['Subject ID'] == subject, 'Baseline End 1'].item()\n",
    "    keep = comb[comb['Subject_ID'] == subject]\n",
    "    keep = keep.loc[(keep['Time']>=baseline_start1) & (keep['Time']<=baseline_end1)]\n",
    "    keep['Activity'] = 'Baseline 1'\n",
    "    comb_filter = comb_filter.append(keep)\n",
    "    \n",
    "    #Baseline 2\n",
    "    baseline_start2 = outcomes.loc[outcomes['Subject ID'] == subject, 'Baseline Start 2'].item()\n",
    "    baseline_end2 = outcomes.loc[outcomes['Subject ID'] == subject, 'Baseline End 2'].item()\n",
    "    keep = comb[comb['Subject_ID'] == subject]\n",
    "    keep = keep.loc[(keep['Time']>=baseline_start2) & (keep['Time']<=baseline_end2)]\n",
    "    keep['Activity'] = 'Baseline 2'\n",
    "    comb_filter = comb_filter.append(keep)\n",
    "    \n",
    "    #DB 1\n",
    "    db_start1 = outcomes.loc[outcomes['Subject ID'] == subject, 'DB Start 1'].item()\n",
    "    db_end1 = outcomes.loc[outcomes['Subject ID'] == subject, 'DB End 1'].item()\n",
    "    keep = comb[comb['Subject_ID'] == subject]\n",
    "    keep = keep.loc[(keep['Time']>=db_start1) & (keep['Time']<=db_end1)]\n",
    "    keep['Activity'] = 'DB 1'\n",
    "    comb_filter = comb_filter.append(keep)\n",
    "    \n",
    "    #DB 2\n",
    "    db_start2 = outcomes.loc[outcomes['Subject ID'] == subject, 'DB Start 2'].item()\n",
    "    db_end2 = outcomes.loc[outcomes['Subject ID'] == subject, 'DB End 2'].item()\n",
    "    keep = comb[comb['Subject_ID'] == subject]\n",
    "    keep = keep.loc[(keep['Time']>=db_start2) & (keep['Time']<=db_end2)]\n",
    "    keep['Activity'] = 'DB 2'\n",
    "    comb_filter = comb_filter.append(keep)\n",
    "    \n",
    "    #Activity 1\n",
    "    activity_start1 = outcomes.loc[outcomes['Subject ID'] == subject, 'Activity Start 1'].item()\n",
    "    activity_end1 = outcomes.loc[outcomes['Subject ID'] == subject, 'Activity End 1'].item()\n",
    "    keep = comb[comb['Subject_ID'] == subject]\n",
    "    keep = keep.loc[(keep['Time']>=activity_start1) & (keep['Time']<=activity_end1)]\n",
    "    keep['Activity'] = 'Activity 1'\n",
    "    comb_filter = comb_filter.append(keep)\n",
    "    \n",
    "    #Activity 2\n",
    "    activity_start2 = outcomes.loc[outcomes['Subject ID'] == subject, 'Activity Start 2'].item()\n",
    "    activity_end2 = outcomes.loc[outcomes['Subject ID'] == subject, 'Activity End 2'].item()\n",
    "    keep = comb[comb['Subject_ID'] == subject]\n",
    "    keep = keep.loc[(keep['Time']>=activity_start2) & (keep['Time']<=activity_end2)]\n",
    "    keep['Activity'] = 'Activity 2'\n",
    "    comb_filter = comb_filter.append(keep)\n",
    "    \n",
    "    #Type 1\n",
    "    type_start1 = outcomes.loc[outcomes['Subject ID'] == subject, 'Type Start 1'].item()\n",
    "    type_end1 = outcomes.loc[outcomes['Subject ID'] == subject, 'Type End 1'].item()\n",
    "    keep = comb[comb['Subject_ID'] == subject]\n",
    "    keep = keep.loc[(keep['Time']>=type_start1) & (keep['Time']<=type_end1)]\n",
    "    keep['Activity'] = 'Type 1'\n",
    "    comb_filter = comb_filter.append(keep)\n",
    "    \n",
    "    #Type 2\n",
    "    type_start2 = outcomes.loc[outcomes['Subject ID'] == subject, 'Type Start 2'].item()\n",
    "    type_end2 = outcomes.loc[outcomes['Subject ID'] == subject, 'Type End 2'].item()\n",
    "    keep = comb[comb['Subject_ID'] == subject]\n",
    "    keep = keep.loc[(keep['Time']>=type_start2) & (keep['Time']<=type_end2)]\n",
    "    keep['Activity'] = 'Type 2'\n",
    "    comb_filter = comb_filter.append(keep)   "
   ]
  },
  {
   "cell_type": "code",
   "execution_count": 32,
   "metadata": {
    "scrolled": true
   },
   "outputs": [
    {
     "data": {
      "text/plain": [
       "19-030    5288\n",
       "19-004    5288\n",
       "19-011    5288\n",
       "19-051    5288\n",
       "19-016    5288\n",
       "19-019    5288\n",
       "19-023    5288\n",
       "19-035    5288\n",
       "19-029    5288\n",
       "19-022    5288\n",
       "19-046    5288\n",
       "19-054    5288\n",
       "19-040    5288\n",
       "19-053    5288\n",
       "19-032    5288\n",
       "19-039    5288\n",
       "19-003    5288\n",
       "19-024    5288\n",
       "19-013    5288\n",
       "19-006    5288\n",
       "19-005    5288\n",
       "19-008    5288\n",
       "19-031    5288\n",
       "19-052    5288\n",
       "19-036    5288\n",
       "19-012    5288\n",
       "19-045    5288\n",
       "19-033    5288\n",
       "19-047    5288\n",
       "19-001    5288\n",
       "19-050    5288\n",
       "19-021    5288\n",
       "19-010    5288\n",
       "19-007    5288\n",
       "19-041    5288\n",
       "19-027    5288\n",
       "19-034    5288\n",
       "19-055    5288\n",
       "19-048    5288\n",
       "19-026    5288\n",
       "19-018    5288\n",
       "19-042    5288\n",
       "19-014    5288\n",
       "19-043    5288\n",
       "19-017    5288\n",
       "19-044    5288\n",
       "19-025    5288\n",
       "19-015    5288\n",
       "19-037    5288\n",
       "19-020    5288\n",
       "19-056    5288\n",
       "19-038    5288\n",
       "19-049    5288\n",
       "19-002    5288\n",
       "19-009    5288\n",
       "19-028    2665\n",
       "Name: Subject_ID, dtype: int64"
      ]
     },
     "execution_count": 32,
     "metadata": {},
     "output_type": "execute_result"
    }
   ],
   "source": [
    "comb_filter['Subject_ID'].value_counts()"
   ]
  },
  {
   "cell_type": "markdown",
   "metadata": {},
   "source": [
    "Much better, we now have 5288 data values for each subject, meaning that all of the sensors are sampled at 4 Hz, and that we have succesfully segmented activity data for each individual."
   ]
  },
  {
   "cell_type": "markdown",
   "metadata": {},
   "source": [
    "## Create Individual Datasets from Filtered & Combined Sensor Data"
   ]
  },
  {
   "cell_type": "markdown",
   "metadata": {},
   "source": [
    "We create a list of unique Subject ID's to be used to create and name individual csv files."
   ]
  },
  {
   "cell_type": "code",
   "execution_count": null,
   "metadata": {},
   "outputs": [],
   "source": [
    "sub_name = list(comb_filter['Subject_ID'].unique())"
   ]
  },
  {
   "cell_type": "markdown",
   "metadata": {},
   "source": [
    "Below we save both, files for individual participants with the segmented activity periods, and a csv with all participants and their activity segments. "
   ]
  },
  {
   "cell_type": "code",
   "execution_count": 33,
   "metadata": {},
   "outputs": [],
   "source": [
    "# Each individual participant\n",
    "for i in range(len(sub_name)):\n",
    "    df = comb_filter[comb_filter['Subject_ID'] == sub_name[i]].to_csv(f'./10_Individual Subjects Activity/{sub_name[i]}_aggregated_with_activity.csv', index = False)"
   ]
  },
  {
   "cell_type": "code",
   "execution_count": 34,
   "metadata": {},
   "outputs": [],
   "source": [
    "#All participants with activity\n",
    "comb_filter.to_csv(\"../20_exploratory_data_analysis/30_all_partic_aggregated_with_activity.csv\", index = False)\n",
    "comb_filter.to_csv(\"../10_code/30_end_pre_processing/31_remove_outliers/30_all_partic_aggregated_with_activity.csv\", index = False)"
   ]
  }
 ],
 "metadata": {
  "kernelspec": {
   "display_name": "Python 3",
   "language": "python",
   "name": "python3"
  },
  "language_info": {
   "codemirror_mode": {
    "name": "ipython",
    "version": 3
   },
   "file_extension": ".py",
   "mimetype": "text/x-python",
   "name": "python",
   "nbconvert_exporter": "python",
   "pygments_lexer": "ipython3",
   "version": "3.7.6"
  }
 },
 "nbformat": 4,
 "nbformat_minor": 4
}
